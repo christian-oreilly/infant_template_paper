{
 "cells": [
  {
   "cell_type": "code",
   "execution_count": 1,
   "metadata": {},
   "outputs": [],
   "source": [
    "#%matplotlib inline\n",
    "#%load_ext autoreload\n",
    "#%autoreload 2"
   ]
  },
  {
   "cell_type": "code",
   "execution_count": 1,
   "metadata": {},
   "outputs": [
    {
     "data": {
      "text/html": [
       "<style>.container { width:100% !important; }</style>"
      ],
      "text/plain": [
       "<IPython.core.display.HTML object>"
      ]
     },
     "metadata": {},
     "output_type": "display_data"
    }
   ],
   "source": [
    "from IPython.core.display import display, HTML\n",
    "display(HTML(\"<style>.container { width:100% !important; }</style>\"))"
   ]
  },
  {
   "cell_type": "code",
   "execution_count": 2,
   "metadata": {},
   "outputs": [
    {
     "name": "stderr",
     "output_type": "stream",
     "text": [
      "/home/christian/anaconda3/lib/python3.7/site-packages/statsmodels/tools/_testing.py:19: FutureWarning: pandas.util.testing is deprecated. Use the functions in the public API at pandas.testing instead.\n",
      "  import pandas.util.testing as tm\n"
     ]
    }
   ],
   "source": [
    "# Matlab-like way to work with matrices\n",
    "import numpy as np\n",
    "from numpy import genfromtxt\n",
    "from tqdm.notebook import tqdm\n",
    "import scipy\n",
    "\n",
    "# R-like way to work with dataframes\n",
    "import pandas as pd\n",
    "\n",
    "# Equivalent of brainstorm, EEGLAB, ...\n",
    "import mne\n",
    "from mne.io import read_raw_eeglab\n",
    "from mne.viz import plot_topomap\n",
    "from mne.channels import make_eeg_layout\n",
    "from mne.preprocessing import compute_proj_eog\n",
    "from mne.viz import circular_layout, plot_connectivity_circle\n",
    "from mne.connectivity import spectral_connectivity\n",
    "\n",
    "# Plotting libraries\n",
    "import matplotlib.pylab as plt   # <= Similar to Matlab\n",
    "import seaborn as sns            # <= Easy, nice-looking plotting  \n",
    "\n",
    "from eegip.utils import loadmat # load_montage, \n",
    "from eegip.preprocessing import preprocess, channel_rejection, add_bad_segment_annot, \\\n",
    "    get_events, get_epochs, remove_rejected_ica_components, get_evoked\n",
    "from eegip.dataset import DatasetMng\n",
    "from eegip.path import get_path\n",
    "from eegip import Analysis\n",
    "from eegip.sources import SourcesBIDS\n",
    "\n",
    "from sklearn.decomposition import PCA, FastICA\n",
    "from mne.preprocessing import ICA\n",
    "\n",
    "from warnings import warn\n",
    "#from eegip.config import eegip_config\n",
    "#from eegip.plotting import plot_mean_and_CI\n",
    "\n",
    "# Others...\n",
    "import xarray as xr\n",
    "from pathlib import Path\n",
    "import re\n",
    "import os\n",
    "from glob import glob"
   ]
  },
  {
   "cell_type": "code",
   "execution_count": 3,
   "metadata": {},
   "outputs": [],
   "source": [
    "dataset_name=\"eegip_london\"\n",
    "config =  {\"atlas\":{\"vol_labels\":[]}}\n",
    "\n",
    "template_check_path = Path(\"/home/christian/template_check/\")\n",
    "dataset_mng = DatasetMng(config=[config], dataset_name=dataset_name)\n",
    "recording_names = sorted([name for name in dataset_mng.dataset.recordings if \"m12\" not in name])"
   ]
  },
  {
   "cell_type": "markdown",
   "metadata": {},
   "source": [
    "# Compute scalp stats"
   ]
  },
  {
   "cell_type": "code",
   "execution_count": 5,
   "metadata": {
    "scrolled": true
   },
   "outputs": [
    {
     "data": {
      "application/vnd.jupyter.widget-view+json": {
       "model_id": "74e149b47c794c9fa7ba9637e5ced9cb",
       "version_major": 2,
       "version_minor": 0
      },
      "text/plain": [
       "HBox(children=(FloatProgress(value=0.0, max=105.0), HTML(value='')))"
      ]
     },
     "metadata": {},
     "output_type": "display_data"
    },
    {
     "name": "stdout",
     "output_type": "stream",
     "text": [
      "Opening raw data file /home/christian/synchedout/eegip/eegip/tests/test_artifacts/derivatives/eegip_london_preprocessed/sub-s601/ses-m06/eeg/sub-s601_ses-m06_eeg.fif...\n",
      "    Range : 0 ... 81499 =      0.000 ...   162.998 secs\n",
      "Ready.\n",
      "116 matching events found\n",
      "No baseline correction applied\n",
      "Not setting metadata\n",
      "0 projection items activated\n",
      "Loading data for 116 events and 500 original time points ...\n",
      "61 bad epochs dropped\n",
      "Overwriting existing file.\n"
     ]
    },
    {
     "name": "stderr",
     "output_type": "stream",
     "text": [
      "/home/christian/synchedout/eegip/eegip/recording.py:209: RuntimeWarning: This filename (/home/christian/synchedout/eegip/eegip/tests/test_artifacts/derivatives/eegip_london_preprocessed/sub-s601/ses-m06/eeg/sub-s601_ses-m06_eeg.fif) does not conform to MNE naming conventions. All raw files should end with raw.fif, raw_sss.fif, raw_tsss.fif, raw.fif.gz, raw_sss.fif.gz, raw_tsss.fif.gz or _meg.fif\n",
      "  self._preprocessed_raw = mne.io.read_raw_fif(self.get_path(\"preprocessed_raw\"), verbose=self.verbose)\n"
     ]
    },
    {
     "name": "stdout",
     "output_type": "stream",
     "text": [
      "Opening raw data file /home/christian/synchedout/eegip/eegip/tests/test_artifacts/derivatives/eegip_london_preprocessed/sub-s602/ses-m06/eeg/sub-s602_ses-m06_eeg.fif...\n",
      "    Range : 0 ... 240999 =      0.000 ...   481.998 secs\n",
      "Ready.\n",
      "374 matching events found\n",
      "No baseline correction applied\n",
      "Not setting metadata\n",
      "0 projection items activated\n",
      "Loading data for 374 events and 500 original time points ...\n"
     ]
    },
    {
     "name": "stderr",
     "output_type": "stream",
     "text": [
      "/home/christian/synchedout/eegip/eegip/recording.py:209: RuntimeWarning: This filename (/home/christian/synchedout/eegip/eegip/tests/test_artifacts/derivatives/eegip_london_preprocessed/sub-s602/ses-m06/eeg/sub-s602_ses-m06_eeg.fif) does not conform to MNE naming conventions. All raw files should end with raw.fif, raw_sss.fif, raw_tsss.fif, raw.fif.gz, raw_sss.fif.gz, raw_tsss.fif.gz or _meg.fif\n",
      "  self._preprocessed_raw = mne.io.read_raw_fif(self.get_path(\"preprocessed_raw\"), verbose=self.verbose)\n"
     ]
    },
    {
     "name": "stdout",
     "output_type": "stream",
     "text": [
      "146 bad epochs dropped\n",
      "Overwriting existing file.\n",
      "Opening raw data file /home/christian/synchedout/eegip/eegip/tests/test_artifacts/derivatives/eegip_london_preprocessed/sub-s603/ses-m06/eeg/sub-s603_ses-m06_eeg.fif...\n",
      "    Range : 0 ... 390999 =      0.000 ...   781.998 secs\n",
      "Ready.\n",
      "581 matching events found\n",
      "No baseline correction applied\n",
      "Not setting metadata\n",
      "0 projection items activated\n",
      "Loading data for 581 events and 500 original time points ...\n"
     ]
    },
    {
     "name": "stderr",
     "output_type": "stream",
     "text": [
      "/home/christian/synchedout/eegip/eegip/recording.py:209: RuntimeWarning: This filename (/home/christian/synchedout/eegip/eegip/tests/test_artifacts/derivatives/eegip_london_preprocessed/sub-s603/ses-m06/eeg/sub-s603_ses-m06_eeg.fif) does not conform to MNE naming conventions. All raw files should end with raw.fif, raw_sss.fif, raw_tsss.fif, raw.fif.gz, raw_sss.fif.gz, raw_tsss.fif.gz or _meg.fif\n",
      "  self._preprocessed_raw = mne.io.read_raw_fif(self.get_path(\"preprocessed_raw\"), verbose=self.verbose)\n"
     ]
    },
    {
     "name": "stdout",
     "output_type": "stream",
     "text": [
      "338 bad epochs dropped\n",
      "Overwriting existing file.\n",
      "Opening raw data file /home/christian/synchedout/eegip/eegip/tests/test_artifacts/derivatives/eegip_london_preprocessed/sub-s604/ses-m06/eeg/sub-s604_ses-m06_eeg.fif...\n",
      "    Range : 0 ... 194999 =      0.000 ...   389.998 secs\n",
      "Ready.\n",
      "292 matching events found\n",
      "No baseline correction applied\n",
      "Not setting metadata\n",
      "0 projection items activated\n",
      "Loading data for 292 events and 500 original time points ...\n"
     ]
    },
    {
     "name": "stderr",
     "output_type": "stream",
     "text": [
      "/home/christian/synchedout/eegip/eegip/recording.py:209: RuntimeWarning: This filename (/home/christian/synchedout/eegip/eegip/tests/test_artifacts/derivatives/eegip_london_preprocessed/sub-s604/ses-m06/eeg/sub-s604_ses-m06_eeg.fif) does not conform to MNE naming conventions. All raw files should end with raw.fif, raw_sss.fif, raw_tsss.fif, raw.fif.gz, raw_sss.fif.gz, raw_tsss.fif.gz or _meg.fif\n",
      "  self._preprocessed_raw = mne.io.read_raw_fif(self.get_path(\"preprocessed_raw\"), verbose=self.verbose)\n"
     ]
    },
    {
     "name": "stdout",
     "output_type": "stream",
     "text": [
      "188 bad epochs dropped\n",
      "Overwriting existing file.\n",
      "Opening raw data file /home/christian/synchedout/eegip/eegip/tests/test_artifacts/derivatives/eegip_london_preprocessed/sub-s605/ses-m06/eeg/sub-s605_ses-m06_eeg.fif...\n",
      "    Range : 0 ... 136499 =      0.000 ...   272.998 secs\n",
      "Ready.\n",
      "200 matching events found\n",
      "No baseline correction applied\n",
      "Not setting metadata\n",
      "0 projection items activated\n",
      "Loading data for 200 events and 500 original time points ...\n"
     ]
    },
    {
     "name": "stderr",
     "output_type": "stream",
     "text": [
      "/home/christian/synchedout/eegip/eegip/recording.py:209: RuntimeWarning: This filename (/home/christian/synchedout/eegip/eegip/tests/test_artifacts/derivatives/eegip_london_preprocessed/sub-s605/ses-m06/eeg/sub-s605_ses-m06_eeg.fif) does not conform to MNE naming conventions. All raw files should end with raw.fif, raw_sss.fif, raw_tsss.fif, raw.fif.gz, raw_sss.fif.gz, raw_tsss.fif.gz or _meg.fif\n",
      "  self._preprocessed_raw = mne.io.read_raw_fif(self.get_path(\"preprocessed_raw\"), verbose=self.verbose)\n"
     ]
    },
    {
     "name": "stdout",
     "output_type": "stream",
     "text": [
      "93 bad epochs dropped\n",
      "Overwriting existing file.\n",
      "Opening raw data file /home/christian/synchedout/eegip/eegip/tests/test_artifacts/derivatives/eegip_london_preprocessed/sub-s606/ses-m06/eeg/sub-s606_ses-m06_eeg.fif...\n",
      "    Range : 0 ... 164499 =      0.000 ...   328.998 secs\n",
      "Ready.\n",
      "217 matching events found\n",
      "No baseline correction applied\n",
      "Not setting metadata\n",
      "0 projection items activated\n",
      "Loading data for 217 events and 500 original time points ...\n"
     ]
    },
    {
     "name": "stderr",
     "output_type": "stream",
     "text": [
      "/home/christian/synchedout/eegip/eegip/recording.py:209: RuntimeWarning: This filename (/home/christian/synchedout/eegip/eegip/tests/test_artifacts/derivatives/eegip_london_preprocessed/sub-s606/ses-m06/eeg/sub-s606_ses-m06_eeg.fif) does not conform to MNE naming conventions. All raw files should end with raw.fif, raw_sss.fif, raw_tsss.fif, raw.fif.gz, raw_sss.fif.gz, raw_tsss.fif.gz or _meg.fif\n",
      "  self._preprocessed_raw = mne.io.read_raw_fif(self.get_path(\"preprocessed_raw\"), verbose=self.verbose)\n"
     ]
    },
    {
     "name": "stdout",
     "output_type": "stream",
     "text": [
      "136 bad epochs dropped\n",
      "Overwriting existing file.\n",
      "Opening raw data file /home/christian/synchedout/eegip/eegip/tests/test_artifacts/derivatives/eegip_london_preprocessed/sub-s607/ses-m06/eeg/sub-s607_ses-m06_eeg.fif...\n",
      "    Range : 0 ... 231499 =      0.000 ...   462.998 secs\n",
      "Ready.\n",
      "362 matching events found\n",
      "No baseline correction applied\n",
      "Not setting metadata\n",
      "0 projection items activated\n",
      "Loading data for 362 events and 500 original time points ...\n"
     ]
    },
    {
     "name": "stderr",
     "output_type": "stream",
     "text": [
      "/home/christian/synchedout/eegip/eegip/recording.py:209: RuntimeWarning: This filename (/home/christian/synchedout/eegip/eegip/tests/test_artifacts/derivatives/eegip_london_preprocessed/sub-s607/ses-m06/eeg/sub-s607_ses-m06_eeg.fif) does not conform to MNE naming conventions. All raw files should end with raw.fif, raw_sss.fif, raw_tsss.fif, raw.fif.gz, raw_sss.fif.gz, raw_tsss.fif.gz or _meg.fif\n",
      "  self._preprocessed_raw = mne.io.read_raw_fif(self.get_path(\"preprocessed_raw\"), verbose=self.verbose)\n"
     ]
    },
    {
     "name": "stdout",
     "output_type": "stream",
     "text": [
      "185 bad epochs dropped\n",
      "Overwriting existing file.\n",
      "Opening raw data file /home/christian/synchedout/eegip/eegip/tests/test_artifacts/derivatives/eegip_london_preprocessed/sub-s608/ses-m06/eeg/sub-s608_ses-m06_eeg.fif...\n",
      "    Range : 0 ... 245499 =      0.000 ...   490.998 secs\n",
      "Ready.\n",
      "382 matching events found\n",
      "No baseline correction applied\n",
      "Not setting metadata\n",
      "0 projection items activated\n",
      "Loading data for 382 events and 500 original time points ...\n"
     ]
    },
    {
     "name": "stderr",
     "output_type": "stream",
     "text": [
      "/home/christian/synchedout/eegip/eegip/recording.py:209: RuntimeWarning: This filename (/home/christian/synchedout/eegip/eegip/tests/test_artifacts/derivatives/eegip_london_preprocessed/sub-s608/ses-m06/eeg/sub-s608_ses-m06_eeg.fif) does not conform to MNE naming conventions. All raw files should end with raw.fif, raw_sss.fif, raw_tsss.fif, raw.fif.gz, raw_sss.fif.gz, raw_tsss.fif.gz or _meg.fif\n",
      "  self._preprocessed_raw = mne.io.read_raw_fif(self.get_path(\"preprocessed_raw\"), verbose=self.verbose)\n"
     ]
    },
    {
     "name": "stdout",
     "output_type": "stream",
     "text": [
      "172 bad epochs dropped\n",
      "Overwriting existing file.\n",
      "Opening raw data file /home/christian/synchedout/eegip/eegip/tests/test_artifacts/derivatives/eegip_london_preprocessed/sub-s609/ses-m06/eeg/sub-s609_ses-m06_eeg.fif...\n",
      "    Range : 0 ... 226999 =      0.000 ...   453.998 secs\n",
      "Ready.\n",
      "343 matching events found\n",
      "No baseline correction applied\n",
      "Not setting metadata\n",
      "0 projection items activated\n",
      "Loading data for 343 events and 500 original time points ...\n"
     ]
    },
    {
     "name": "stderr",
     "output_type": "stream",
     "text": [
      "/home/christian/synchedout/eegip/eegip/recording.py:209: RuntimeWarning: This filename (/home/christian/synchedout/eegip/eegip/tests/test_artifacts/derivatives/eegip_london_preprocessed/sub-s609/ses-m06/eeg/sub-s609_ses-m06_eeg.fif) does not conform to MNE naming conventions. All raw files should end with raw.fif, raw_sss.fif, raw_tsss.fif, raw.fif.gz, raw_sss.fif.gz, raw_tsss.fif.gz or _meg.fif\n",
      "  self._preprocessed_raw = mne.io.read_raw_fif(self.get_path(\"preprocessed_raw\"), verbose=self.verbose)\n"
     ]
    },
    {
     "name": "stdout",
     "output_type": "stream",
     "text": [
      "134 bad epochs dropped\n",
      "Overwriting existing file.\n",
      "Opening raw data file /home/christian/synchedout/eegip/eegip/tests/test_artifacts/derivatives/eegip_london_preprocessed/sub-s610/ses-m06/eeg/sub-s610_ses-m06_eeg.fif...\n",
      "    Range : 0 ... 244499 =      0.000 ...   488.998 secs\n",
      "Ready.\n",
      "370 matching events found\n",
      "No baseline correction applied\n",
      "Not setting metadata\n",
      "0 projection items activated\n",
      "Loading data for 370 events and 500 original time points ...\n"
     ]
    },
    {
     "name": "stderr",
     "output_type": "stream",
     "text": [
      "/home/christian/synchedout/eegip/eegip/recording.py:209: RuntimeWarning: This filename (/home/christian/synchedout/eegip/eegip/tests/test_artifacts/derivatives/eegip_london_preprocessed/sub-s610/ses-m06/eeg/sub-s610_ses-m06_eeg.fif) does not conform to MNE naming conventions. All raw files should end with raw.fif, raw_sss.fif, raw_tsss.fif, raw.fif.gz, raw_sss.fif.gz, raw_tsss.fif.gz or _meg.fif\n",
      "  self._preprocessed_raw = mne.io.read_raw_fif(self.get_path(\"preprocessed_raw\"), verbose=self.verbose)\n"
     ]
    },
    {
     "name": "stdout",
     "output_type": "stream",
     "text": [
      "195 bad epochs dropped\n",
      "Overwriting existing file.\n",
      "Opening raw data file /home/christian/synchedout/eegip/eegip/tests/test_artifacts/derivatives/eegip_london_preprocessed/sub-s611/ses-m06/eeg/sub-s611_ses-m06_eeg.fif...\n",
      "    Range : 0 ... 163999 =      0.000 ...   327.998 secs\n",
      "Ready.\n",
      "239 matching events found\n",
      "No baseline correction applied\n",
      "Not setting metadata\n",
      "0 projection items activated\n",
      "Loading data for 239 events and 500 original time points ...\n"
     ]
    },
    {
     "name": "stderr",
     "output_type": "stream",
     "text": [
      "/home/christian/synchedout/eegip/eegip/recording.py:209: RuntimeWarning: This filename (/home/christian/synchedout/eegip/eegip/tests/test_artifacts/derivatives/eegip_london_preprocessed/sub-s611/ses-m06/eeg/sub-s611_ses-m06_eeg.fif) does not conform to MNE naming conventions. All raw files should end with raw.fif, raw_sss.fif, raw_tsss.fif, raw.fif.gz, raw_sss.fif.gz, raw_tsss.fif.gz or _meg.fif\n",
      "  self._preprocessed_raw = mne.io.read_raw_fif(self.get_path(\"preprocessed_raw\"), verbose=self.verbose)\n"
     ]
    },
    {
     "name": "stdout",
     "output_type": "stream",
     "text": [
      "70 bad epochs dropped\n",
      "Overwriting existing file.\n",
      "Opening raw data file /home/christian/synchedout/eegip/eegip/tests/test_artifacts/derivatives/eegip_london_preprocessed/sub-s612/ses-m06/eeg/sub-s612_ses-m06_eeg.fif...\n",
      "    Range : 0 ... 225999 =      0.000 ...   451.998 secs\n",
      "Ready.\n",
      "379 matching events found\n",
      "No baseline correction applied\n",
      "Not setting metadata\n",
      "0 projection items activated\n",
      "Loading data for 379 events and 500 original time points ...\n"
     ]
    },
    {
     "name": "stderr",
     "output_type": "stream",
     "text": [
      "/home/christian/synchedout/eegip/eegip/recording.py:209: RuntimeWarning: This filename (/home/christian/synchedout/eegip/eegip/tests/test_artifacts/derivatives/eegip_london_preprocessed/sub-s612/ses-m06/eeg/sub-s612_ses-m06_eeg.fif) does not conform to MNE naming conventions. All raw files should end with raw.fif, raw_sss.fif, raw_tsss.fif, raw.fif.gz, raw_sss.fif.gz, raw_tsss.fif.gz or _meg.fif\n",
      "  self._preprocessed_raw = mne.io.read_raw_fif(self.get_path(\"preprocessed_raw\"), verbose=self.verbose)\n"
     ]
    },
    {
     "name": "stdout",
     "output_type": "stream",
     "text": [
      "171 bad epochs dropped\n",
      "Overwriting existing file.\n",
      "Opening raw data file /home/christian/synchedout/eegip/eegip/tests/test_artifacts/derivatives/eegip_london_preprocessed/sub-s613/ses-m06/eeg/sub-s613_ses-m06_eeg.fif...\n",
      "    Range : 0 ... 276999 =      0.000 ...   553.998 secs\n",
      "Ready.\n",
      "474 matching events found\n",
      "No baseline correction applied\n",
      "Not setting metadata\n",
      "0 projection items activated\n",
      "Loading data for 474 events and 500 original time points ...\n"
     ]
    },
    {
     "name": "stderr",
     "output_type": "stream",
     "text": [
      "/home/christian/synchedout/eegip/eegip/recording.py:209: RuntimeWarning: This filename (/home/christian/synchedout/eegip/eegip/tests/test_artifacts/derivatives/eegip_london_preprocessed/sub-s613/ses-m06/eeg/sub-s613_ses-m06_eeg.fif) does not conform to MNE naming conventions. All raw files should end with raw.fif, raw_sss.fif, raw_tsss.fif, raw.fif.gz, raw_sss.fif.gz, raw_tsss.fif.gz or _meg.fif\n",
      "  self._preprocessed_raw = mne.io.read_raw_fif(self.get_path(\"preprocessed_raw\"), verbose=self.verbose)\n"
     ]
    },
    {
     "name": "stdout",
     "output_type": "stream",
     "text": [
      "154 bad epochs dropped\n",
      "Overwriting existing file.\n",
      "Opening raw data file /home/christian/synchedout/eegip/eegip/tests/test_artifacts/derivatives/eegip_london_preprocessed/sub-s614/ses-m06/eeg/sub-s614_ses-m06_eeg.fif...\n",
      "    Range : 0 ... 73999 =      0.000 ...   147.998 secs\n",
      "Ready.\n",
      "98 matching events found\n",
      "No baseline correction applied\n",
      "Not setting metadata\n",
      "0 projection items activated\n",
      "Loading data for 98 events and 500 original time points ...\n",
      "88 bad epochs dropped\n",
      "Overwriting existing file.\n",
      "Opening raw data file /home/christian/synchedout/eegip/eegip/tests/test_artifacts/derivatives/eegip_london_preprocessed/sub-s615/ses-m06/eeg/sub-s615_ses-m06_eeg.fif...\n",
      "    Range : 0 ... 256999 =      0.000 ...   513.998 secs\n",
      "Ready.\n",
      "421 matching events found\n",
      "No baseline correction applied\n",
      "Not setting metadata\n",
      "0 projection items activated\n",
      "Loading data for 421 events and 500 original time points ...\n"
     ]
    },
    {
     "name": "stderr",
     "output_type": "stream",
     "text": [
      "/home/christian/synchedout/eegip/eegip/recording.py:209: RuntimeWarning: This filename (/home/christian/synchedout/eegip/eegip/tests/test_artifacts/derivatives/eegip_london_preprocessed/sub-s614/ses-m06/eeg/sub-s614_ses-m06_eeg.fif) does not conform to MNE naming conventions. All raw files should end with raw.fif, raw_sss.fif, raw_tsss.fif, raw.fif.gz, raw_sss.fif.gz, raw_tsss.fif.gz or _meg.fif\n",
      "  self._preprocessed_raw = mne.io.read_raw_fif(self.get_path(\"preprocessed_raw\"), verbose=self.verbose)\n",
      "/home/christian/synchedout/eegip/eegip/recording.py:209: RuntimeWarning: This filename (/home/christian/synchedout/eegip/eegip/tests/test_artifacts/derivatives/eegip_london_preprocessed/sub-s615/ses-m06/eeg/sub-s615_ses-m06_eeg.fif) does not conform to MNE naming conventions. All raw files should end with raw.fif, raw_sss.fif, raw_tsss.fif, raw.fif.gz, raw_sss.fif.gz, raw_tsss.fif.gz or _meg.fif\n",
      "  self._preprocessed_raw = mne.io.read_raw_fif(self.get_path(\"preprocessed_raw\"), verbose=self.verbose)\n"
     ]
    },
    {
     "name": "stdout",
     "output_type": "stream",
     "text": [
      "215 bad epochs dropped\n",
      "Overwriting existing file.\n",
      "Opening raw data file /home/christian/synchedout/eegip/eegip/tests/test_artifacts/derivatives/eegip_london_preprocessed/sub-s616/ses-m06/eeg/sub-s616_ses-m06_eeg.fif...\n",
      "    Range : 0 ... 287499 =      0.000 ...   574.998 secs\n",
      "Ready.\n",
      "444 matching events found\n",
      "No baseline correction applied\n",
      "Not setting metadata\n",
      "0 projection items activated\n",
      "Loading data for 444 events and 500 original time points ...\n"
     ]
    },
    {
     "name": "stderr",
     "output_type": "stream",
     "text": [
      "/home/christian/synchedout/eegip/eegip/recording.py:209: RuntimeWarning: This filename (/home/christian/synchedout/eegip/eegip/tests/test_artifacts/derivatives/eegip_london_preprocessed/sub-s616/ses-m06/eeg/sub-s616_ses-m06_eeg.fif) does not conform to MNE naming conventions. All raw files should end with raw.fif, raw_sss.fif, raw_tsss.fif, raw.fif.gz, raw_sss.fif.gz, raw_tsss.fif.gz or _meg.fif\n",
      "  self._preprocessed_raw = mne.io.read_raw_fif(self.get_path(\"preprocessed_raw\"), verbose=self.verbose)\n"
     ]
    },
    {
     "name": "stdout",
     "output_type": "stream",
     "text": [
      "80 bad epochs dropped\n",
      "Overwriting existing file.\n",
      "Opening raw data file /home/christian/synchedout/eegip/eegip/tests/test_artifacts/derivatives/eegip_london_preprocessed/sub-s617/ses-m06/eeg/sub-s617_ses-m06_eeg.fif...\n",
      "    Range : 0 ... 284499 =      0.000 ...   568.998 secs\n",
      "Ready.\n",
      "389 matching events found\n",
      "No baseline correction applied\n",
      "Not setting metadata\n",
      "0 projection items activated\n",
      "Loading data for 389 events and 500 original time points ...\n"
     ]
    },
    {
     "name": "stderr",
     "output_type": "stream",
     "text": [
      "/home/christian/synchedout/eegip/eegip/recording.py:209: RuntimeWarning: This filename (/home/christian/synchedout/eegip/eegip/tests/test_artifacts/derivatives/eegip_london_preprocessed/sub-s617/ses-m06/eeg/sub-s617_ses-m06_eeg.fif) does not conform to MNE naming conventions. All raw files should end with raw.fif, raw_sss.fif, raw_tsss.fif, raw.fif.gz, raw_sss.fif.gz, raw_tsss.fif.gz or _meg.fif\n",
      "  self._preprocessed_raw = mne.io.read_raw_fif(self.get_path(\"preprocessed_raw\"), verbose=self.verbose)\n"
     ]
    },
    {
     "name": "stdout",
     "output_type": "stream",
     "text": [
      "102 bad epochs dropped\n",
      "Overwriting existing file.\n",
      "Opening raw data file /home/christian/synchedout/eegip/eegip/tests/test_artifacts/derivatives/eegip_london_preprocessed/sub-s618/ses-m06/eeg/sub-s618_ses-m06_eeg.fif...\n",
      "    Range : 0 ... 196499 =      0.000 ...   392.998 secs\n",
      "Ready.\n",
      "313 matching events found\n",
      "No baseline correction applied\n",
      "Not setting metadata\n",
      "0 projection items activated\n",
      "Loading data for 313 events and 500 original time points ...\n"
     ]
    },
    {
     "name": "stderr",
     "output_type": "stream",
     "text": [
      "/home/christian/synchedout/eegip/eegip/recording.py:209: RuntimeWarning: This filename (/home/christian/synchedout/eegip/eegip/tests/test_artifacts/derivatives/eegip_london_preprocessed/sub-s618/ses-m06/eeg/sub-s618_ses-m06_eeg.fif) does not conform to MNE naming conventions. All raw files should end with raw.fif, raw_sss.fif, raw_tsss.fif, raw.fif.gz, raw_sss.fif.gz, raw_tsss.fif.gz or _meg.fif\n",
      "  self._preprocessed_raw = mne.io.read_raw_fif(self.get_path(\"preprocessed_raw\"), verbose=self.verbose)\n"
     ]
    },
    {
     "name": "stdout",
     "output_type": "stream",
     "text": [
      "223 bad epochs dropped\n",
      "Overwriting existing file.\n",
      "Opening raw data file /home/christian/synchedout/eegip/eegip/tests/test_artifacts/derivatives/eegip_london_preprocessed/sub-s619/ses-m06/eeg/sub-s619_ses-m06_eeg.fif...\n",
      "    Range : 0 ... 192499 =      0.000 ...   384.998 secs\n",
      "Ready.\n",
      "303 matching events found\n",
      "No baseline correction applied\n",
      "Not setting metadata\n",
      "0 projection items activated\n",
      "Loading data for 303 events and 500 original time points ...\n"
     ]
    },
    {
     "name": "stderr",
     "output_type": "stream",
     "text": [
      "/home/christian/synchedout/eegip/eegip/recording.py:209: RuntimeWarning: This filename (/home/christian/synchedout/eegip/eegip/tests/test_artifacts/derivatives/eegip_london_preprocessed/sub-s619/ses-m06/eeg/sub-s619_ses-m06_eeg.fif) does not conform to MNE naming conventions. All raw files should end with raw.fif, raw_sss.fif, raw_tsss.fif, raw.fif.gz, raw_sss.fif.gz, raw_tsss.fif.gz or _meg.fif\n",
      "  self._preprocessed_raw = mne.io.read_raw_fif(self.get_path(\"preprocessed_raw\"), verbose=self.verbose)\n"
     ]
    },
    {
     "name": "stdout",
     "output_type": "stream",
     "text": [
      "183 bad epochs dropped\n",
      "Overwriting existing file.\n",
      "Opening raw data file /home/christian/synchedout/eegip/eegip/tests/test_artifacts/derivatives/eegip_london_preprocessed/sub-s620/ses-m06/eeg/sub-s620_ses-m06_eeg.fif...\n",
      "    Range : 0 ... 242999 =      0.000 ...   485.998 secs\n",
      "Ready.\n",
      "399 matching events found\n",
      "No baseline correction applied\n",
      "Not setting metadata\n",
      "0 projection items activated\n",
      "Loading data for 399 events and 500 original time points ...\n"
     ]
    },
    {
     "name": "stderr",
     "output_type": "stream",
     "text": [
      "/home/christian/synchedout/eegip/eegip/recording.py:209: RuntimeWarning: This filename (/home/christian/synchedout/eegip/eegip/tests/test_artifacts/derivatives/eegip_london_preprocessed/sub-s620/ses-m06/eeg/sub-s620_ses-m06_eeg.fif) does not conform to MNE naming conventions. All raw files should end with raw.fif, raw_sss.fif, raw_tsss.fif, raw.fif.gz, raw_sss.fif.gz, raw_tsss.fif.gz or _meg.fif\n",
      "  self._preprocessed_raw = mne.io.read_raw_fif(self.get_path(\"preprocessed_raw\"), verbose=self.verbose)\n"
     ]
    },
    {
     "name": "stdout",
     "output_type": "stream",
     "text": [
      "167 bad epochs dropped\n",
      "Overwriting existing file.\n",
      "Opening raw data file /home/christian/synchedout/eegip/eegip/tests/test_artifacts/derivatives/eegip_london_preprocessed/sub-s621/ses-m06/eeg/sub-s621_ses-m06_eeg.fif...\n",
      "    Range : 0 ... 277999 =      0.000 ...   555.998 secs\n",
      "Ready.\n",
      "437 matching events found\n",
      "No baseline correction applied\n",
      "Not setting metadata\n",
      "0 projection items activated\n",
      "Loading data for 437 events and 500 original time points ...\n"
     ]
    },
    {
     "name": "stderr",
     "output_type": "stream",
     "text": [
      "/home/christian/synchedout/eegip/eegip/recording.py:209: RuntimeWarning: This filename (/home/christian/synchedout/eegip/eegip/tests/test_artifacts/derivatives/eegip_london_preprocessed/sub-s621/ses-m06/eeg/sub-s621_ses-m06_eeg.fif) does not conform to MNE naming conventions. All raw files should end with raw.fif, raw_sss.fif, raw_tsss.fif, raw.fif.gz, raw_sss.fif.gz, raw_tsss.fif.gz or _meg.fif\n",
      "  self._preprocessed_raw = mne.io.read_raw_fif(self.get_path(\"preprocessed_raw\"), verbose=self.verbose)\n"
     ]
    },
    {
     "name": "stdout",
     "output_type": "stream",
     "text": [
      "251 bad epochs dropped\n",
      "Overwriting existing file.\n",
      "Opening raw data file /home/christian/synchedout/eegip/eegip/tests/test_artifacts/derivatives/eegip_london_preprocessed/sub-s622/ses-m06/eeg/sub-s622_ses-m06_eeg.fif...\n",
      "    Range : 0 ... 188499 =      0.000 ...   376.998 secs\n",
      "Ready.\n",
      "300 matching events found\n",
      "No baseline correction applied\n",
      "Not setting metadata\n",
      "0 projection items activated\n",
      "Loading data for 300 events and 500 original time points ...\n"
     ]
    },
    {
     "name": "stderr",
     "output_type": "stream",
     "text": [
      "/home/christian/synchedout/eegip/eegip/recording.py:209: RuntimeWarning: This filename (/home/christian/synchedout/eegip/eegip/tests/test_artifacts/derivatives/eegip_london_preprocessed/sub-s622/ses-m06/eeg/sub-s622_ses-m06_eeg.fif) does not conform to MNE naming conventions. All raw files should end with raw.fif, raw_sss.fif, raw_tsss.fif, raw.fif.gz, raw_sss.fif.gz, raw_tsss.fif.gz or _meg.fif\n",
      "  self._preprocessed_raw = mne.io.read_raw_fif(self.get_path(\"preprocessed_raw\"), verbose=self.verbose)\n"
     ]
    },
    {
     "name": "stdout",
     "output_type": "stream",
     "text": [
      "151 bad epochs dropped\n",
      "Overwriting existing file.\n",
      "Opening raw data file /home/christian/synchedout/eegip/eegip/tests/test_artifacts/derivatives/eegip_london_preprocessed/sub-s623/ses-m06/eeg/sub-s623_ses-m06_eeg.fif...\n"
     ]
    },
    {
     "name": "stderr",
     "output_type": "stream",
     "text": [
      "/home/christian/synchedout/eegip/eegip/recording.py:209: RuntimeWarning: This filename (/home/christian/synchedout/eegip/eegip/tests/test_artifacts/derivatives/eegip_london_preprocessed/sub-s623/ses-m06/eeg/sub-s623_ses-m06_eeg.fif) does not conform to MNE naming conventions. All raw files should end with raw.fif, raw_sss.fif, raw_tsss.fif, raw.fif.gz, raw_sss.fif.gz, raw_tsss.fif.gz or _meg.fif\n",
      "  self._preprocessed_raw = mne.io.read_raw_fif(self.get_path(\"preprocessed_raw\"), verbose=self.verbose)\n"
     ]
    },
    {
     "name": "stdout",
     "output_type": "stream",
     "text": [
      "    Range : 0 ... 362499 =      0.000 ...   724.998 secs\n",
      "Ready.\n",
      "582 matching events found\n",
      "No baseline correction applied\n",
      "Not setting metadata\n",
      "0 projection items activated\n",
      "Loading data for 582 events and 500 original time points ...\n",
      "185 bad epochs dropped\n",
      "Overwriting existing file.\n",
      "Opening raw data file /home/christian/synchedout/eegip/eegip/tests/test_artifacts/derivatives/eegip_london_preprocessed/sub-s624/ses-m06/eeg/sub-s624_ses-m06_eeg.fif...\n"
     ]
    },
    {
     "name": "stderr",
     "output_type": "stream",
     "text": [
      "/home/christian/synchedout/eegip/eegip/recording.py:209: RuntimeWarning: This filename (/home/christian/synchedout/eegip/eegip/tests/test_artifacts/derivatives/eegip_london_preprocessed/sub-s624/ses-m06/eeg/sub-s624_ses-m06_eeg.fif) does not conform to MNE naming conventions. All raw files should end with raw.fif, raw_sss.fif, raw_tsss.fif, raw.fif.gz, raw_sss.fif.gz, raw_tsss.fif.gz or _meg.fif\n",
      "  self._preprocessed_raw = mne.io.read_raw_fif(self.get_path(\"preprocessed_raw\"), verbose=self.verbose)\n"
     ]
    },
    {
     "name": "stdout",
     "output_type": "stream",
     "text": [
      "    Range : 0 ... 252499 =      0.000 ...   504.998 secs\n",
      "Ready.\n",
      "369 matching events found\n",
      "No baseline correction applied\n",
      "Not setting metadata\n",
      "0 projection items activated\n",
      "Loading data for 369 events and 500 original time points ...\n",
      "205 bad epochs dropped\n",
      "Overwriting existing file.\n",
      "Opening raw data file /home/christian/synchedout/eegip/eegip/tests/test_artifacts/derivatives/eegip_london_preprocessed/sub-s625/ses-m06/eeg/sub-s625_ses-m06_eeg.fif...\n"
     ]
    },
    {
     "name": "stderr",
     "output_type": "stream",
     "text": [
      "/home/christian/synchedout/eegip/eegip/recording.py:209: RuntimeWarning: This filename (/home/christian/synchedout/eegip/eegip/tests/test_artifacts/derivatives/eegip_london_preprocessed/sub-s625/ses-m06/eeg/sub-s625_ses-m06_eeg.fif) does not conform to MNE naming conventions. All raw files should end with raw.fif, raw_sss.fif, raw_tsss.fif, raw.fif.gz, raw_sss.fif.gz, raw_tsss.fif.gz or _meg.fif\n",
      "  self._preprocessed_raw = mne.io.read_raw_fif(self.get_path(\"preprocessed_raw\"), verbose=self.verbose)\n"
     ]
    },
    {
     "name": "stdout",
     "output_type": "stream",
     "text": [
      "    Range : 0 ... 203999 =      0.000 ...   407.998 secs\n",
      "Ready.\n",
      "320 matching events found\n",
      "No baseline correction applied\n",
      "Not setting metadata\n",
      "0 projection items activated\n",
      "Loading data for 320 events and 500 original time points ...\n",
      "129 bad epochs dropped\n",
      "Overwriting existing file.\n",
      "Opening raw data file /home/christian/synchedout/eegip/eegip/tests/test_artifacts/derivatives/eegip_london_preprocessed/sub-s626/ses-m06/eeg/sub-s626_ses-m06_eeg.fif...\n"
     ]
    },
    {
     "name": "stderr",
     "output_type": "stream",
     "text": [
      "/home/christian/synchedout/eegip/eegip/recording.py:209: RuntimeWarning: This filename (/home/christian/synchedout/eegip/eegip/tests/test_artifacts/derivatives/eegip_london_preprocessed/sub-s626/ses-m06/eeg/sub-s626_ses-m06_eeg.fif) does not conform to MNE naming conventions. All raw files should end with raw.fif, raw_sss.fif, raw_tsss.fif, raw.fif.gz, raw_sss.fif.gz, raw_tsss.fif.gz or _meg.fif\n",
      "  self._preprocessed_raw = mne.io.read_raw_fif(self.get_path(\"preprocessed_raw\"), verbose=self.verbose)\n"
     ]
    },
    {
     "name": "stdout",
     "output_type": "stream",
     "text": [
      "    Range : 0 ... 46499 =      0.000 ...    92.998 secs\n",
      "Ready.\n",
      "84 matching events found\n",
      "No baseline correction applied\n",
      "Not setting metadata\n",
      "0 projection items activated\n",
      "Loading data for 84 events and 500 original time points ...\n",
      "30 bad epochs dropped\n",
      "Overwriting existing file.\n",
      "Opening raw data file /home/christian/synchedout/eegip/eegip/tests/test_artifacts/derivatives/eegip_london_preprocessed/sub-s627/ses-m06/eeg/sub-s627_ses-m06_eeg.fif...\n"
     ]
    },
    {
     "name": "stderr",
     "output_type": "stream",
     "text": [
      "/home/christian/synchedout/eegip/eegip/recording.py:209: RuntimeWarning: This filename (/home/christian/synchedout/eegip/eegip/tests/test_artifacts/derivatives/eegip_london_preprocessed/sub-s627/ses-m06/eeg/sub-s627_ses-m06_eeg.fif) does not conform to MNE naming conventions. All raw files should end with raw.fif, raw_sss.fif, raw_tsss.fif, raw.fif.gz, raw_sss.fif.gz, raw_tsss.fif.gz or _meg.fif\n",
      "  self._preprocessed_raw = mne.io.read_raw_fif(self.get_path(\"preprocessed_raw\"), verbose=self.verbose)\n"
     ]
    },
    {
     "name": "stdout",
     "output_type": "stream",
     "text": [
      "    Range : 0 ... 234999 =      0.000 ...   469.998 secs\n",
      "Ready.\n",
      "350 matching events found\n",
      "No baseline correction applied\n",
      "Not setting metadata\n",
      "0 projection items activated\n",
      "Loading data for 350 events and 500 original time points ...\n",
      "244 bad epochs dropped\n",
      "Overwriting existing file.\n",
      "Opening raw data file /home/christian/synchedout/eegip/eegip/tests/test_artifacts/derivatives/eegip_london_preprocessed/sub-s628/ses-m06/eeg/sub-s628_ses-m06_eeg.fif...\n"
     ]
    },
    {
     "name": "stderr",
     "output_type": "stream",
     "text": [
      "/home/christian/synchedout/eegip/eegip/recording.py:209: RuntimeWarning: This filename (/home/christian/synchedout/eegip/eegip/tests/test_artifacts/derivatives/eegip_london_preprocessed/sub-s628/ses-m06/eeg/sub-s628_ses-m06_eeg.fif) does not conform to MNE naming conventions. All raw files should end with raw.fif, raw_sss.fif, raw_tsss.fif, raw.fif.gz, raw_sss.fif.gz, raw_tsss.fif.gz or _meg.fif\n",
      "  self._preprocessed_raw = mne.io.read_raw_fif(self.get_path(\"preprocessed_raw\"), verbose=self.verbose)\n"
     ]
    },
    {
     "name": "stdout",
     "output_type": "stream",
     "text": [
      "    Range : 0 ... 201499 =      0.000 ...   402.998 secs\n",
      "Ready.\n",
      "319 matching events found\n",
      "No baseline correction applied\n",
      "Not setting metadata\n",
      "0 projection items activated\n",
      "Loading data for 319 events and 500 original time points ...\n",
      "124 bad epochs dropped\n",
      "Overwriting existing file.\n",
      "Opening raw data file /home/christian/synchedout/eegip/eegip/tests/test_artifacts/derivatives/eegip_london_preprocessed/sub-s629/ses-m06/eeg/sub-s629_ses-m06_eeg.fif...\n"
     ]
    },
    {
     "name": "stderr",
     "output_type": "stream",
     "text": [
      "/home/christian/synchedout/eegip/eegip/recording.py:209: RuntimeWarning: This filename (/home/christian/synchedout/eegip/eegip/tests/test_artifacts/derivatives/eegip_london_preprocessed/sub-s629/ses-m06/eeg/sub-s629_ses-m06_eeg.fif) does not conform to MNE naming conventions. All raw files should end with raw.fif, raw_sss.fif, raw_tsss.fif, raw.fif.gz, raw_sss.fif.gz, raw_tsss.fif.gz or _meg.fif\n",
      "  self._preprocessed_raw = mne.io.read_raw_fif(self.get_path(\"preprocessed_raw\"), verbose=self.verbose)\n"
     ]
    },
    {
     "name": "stdout",
     "output_type": "stream",
     "text": [
      "    Range : 0 ... 72499 =      0.000 ...   144.998 secs\n",
      "Ready.\n",
      "90 matching events found\n",
      "No baseline correction applied\n",
      "Not setting metadata\n",
      "0 projection items activated\n",
      "Loading data for 90 events and 500 original time points ...\n",
      "63 bad epochs dropped\n",
      "Overwriting existing file.\n",
      "Opening raw data file /home/christian/synchedout/eegip/eegip/tests/test_artifacts/derivatives/eegip_london_preprocessed/sub-s630/ses-m06/eeg/sub-s630_ses-m06_eeg.fif...\n"
     ]
    },
    {
     "name": "stderr",
     "output_type": "stream",
     "text": [
      "/home/christian/synchedout/eegip/eegip/recording.py:209: RuntimeWarning: This filename (/home/christian/synchedout/eegip/eegip/tests/test_artifacts/derivatives/eegip_london_preprocessed/sub-s630/ses-m06/eeg/sub-s630_ses-m06_eeg.fif) does not conform to MNE naming conventions. All raw files should end with raw.fif, raw_sss.fif, raw_tsss.fif, raw.fif.gz, raw_sss.fif.gz, raw_tsss.fif.gz or _meg.fif\n",
      "  self._preprocessed_raw = mne.io.read_raw_fif(self.get_path(\"preprocessed_raw\"), verbose=self.verbose)\n"
     ]
    },
    {
     "name": "stdout",
     "output_type": "stream",
     "text": [
      "    Range : 0 ... 248999 =      0.000 ...   497.998 secs\n",
      "Ready.\n",
      "372 matching events found\n",
      "No baseline correction applied\n",
      "Not setting metadata\n",
      "0 projection items activated\n",
      "Loading data for 372 events and 500 original time points ...\n",
      "143 bad epochs dropped\n",
      "Overwriting existing file.\n",
      "Opening raw data file /home/christian/synchedout/eegip/eegip/tests/test_artifacts/derivatives/eegip_london_preprocessed/sub-s631/ses-m06/eeg/sub-s631_ses-m06_eeg.fif...\n"
     ]
    },
    {
     "name": "stderr",
     "output_type": "stream",
     "text": [
      "/home/christian/synchedout/eegip/eegip/recording.py:209: RuntimeWarning: This filename (/home/christian/synchedout/eegip/eegip/tests/test_artifacts/derivatives/eegip_london_preprocessed/sub-s631/ses-m06/eeg/sub-s631_ses-m06_eeg.fif) does not conform to MNE naming conventions. All raw files should end with raw.fif, raw_sss.fif, raw_tsss.fif, raw.fif.gz, raw_sss.fif.gz, raw_tsss.fif.gz or _meg.fif\n",
      "  self._preprocessed_raw = mne.io.read_raw_fif(self.get_path(\"preprocessed_raw\"), verbose=self.verbose)\n"
     ]
    },
    {
     "name": "stdout",
     "output_type": "stream",
     "text": [
      "    Range : 0 ... 136499 =      0.000 ...   272.998 secs\n",
      "Ready.\n",
      "168 matching events found\n",
      "No baseline correction applied\n",
      "Not setting metadata\n",
      "0 projection items activated\n",
      "Loading data for 168 events and 500 original time points ...\n",
      "137 bad epochs dropped\n",
      "Overwriting existing file.\n",
      "Opening raw data file /home/christian/synchedout/eegip/eegip/tests/test_artifacts/derivatives/eegip_london_preprocessed/sub-s632/ses-m06/eeg/sub-s632_ses-m06_eeg.fif...\n"
     ]
    },
    {
     "name": "stderr",
     "output_type": "stream",
     "text": [
      "/home/christian/synchedout/eegip/eegip/recording.py:209: RuntimeWarning: This filename (/home/christian/synchedout/eegip/eegip/tests/test_artifacts/derivatives/eegip_london_preprocessed/sub-s632/ses-m06/eeg/sub-s632_ses-m06_eeg.fif) does not conform to MNE naming conventions. All raw files should end with raw.fif, raw_sss.fif, raw_tsss.fif, raw.fif.gz, raw_sss.fif.gz, raw_tsss.fif.gz or _meg.fif\n",
      "  self._preprocessed_raw = mne.io.read_raw_fif(self.get_path(\"preprocessed_raw\"), verbose=self.verbose)\n"
     ]
    },
    {
     "name": "stdout",
     "output_type": "stream",
     "text": [
      "    Range : 0 ... 267499 =      0.000 ...   534.998 secs\n",
      "Ready.\n",
      "404 matching events found\n",
      "No baseline correction applied\n",
      "Not setting metadata\n",
      "0 projection items activated\n",
      "Loading data for 404 events and 500 original time points ...\n",
      "181 bad epochs dropped\n",
      "Overwriting existing file.\n",
      "Opening raw data file /home/christian/synchedout/eegip/eegip/tests/test_artifacts/derivatives/eegip_london_preprocessed/sub-s633/ses-m06/eeg/sub-s633_ses-m06_eeg.fif...\n"
     ]
    },
    {
     "name": "stderr",
     "output_type": "stream",
     "text": [
      "/home/christian/synchedout/eegip/eegip/recording.py:209: RuntimeWarning: This filename (/home/christian/synchedout/eegip/eegip/tests/test_artifacts/derivatives/eegip_london_preprocessed/sub-s633/ses-m06/eeg/sub-s633_ses-m06_eeg.fif) does not conform to MNE naming conventions. All raw files should end with raw.fif, raw_sss.fif, raw_tsss.fif, raw.fif.gz, raw_sss.fif.gz, raw_tsss.fif.gz or _meg.fif\n",
      "  self._preprocessed_raw = mne.io.read_raw_fif(self.get_path(\"preprocessed_raw\"), verbose=self.verbose)\n"
     ]
    },
    {
     "name": "stdout",
     "output_type": "stream",
     "text": [
      "    Range : 0 ... 446499 =      0.000 ...   892.998 secs\n",
      "Ready.\n",
      "722 matching events found\n",
      "No baseline correction applied\n",
      "Not setting metadata\n",
      "0 projection items activated\n",
      "Loading data for 722 events and 500 original time points ...\n",
      "387 bad epochs dropped\n",
      "Overwriting existing file.\n",
      "Opening raw data file /home/christian/synchedout/eegip/eegip/tests/test_artifacts/derivatives/eegip_london_preprocessed/sub-s634/ses-m06/eeg/sub-s634_ses-m06_eeg.fif...\n"
     ]
    },
    {
     "name": "stderr",
     "output_type": "stream",
     "text": [
      "/home/christian/synchedout/eegip/eegip/recording.py:209: RuntimeWarning: This filename (/home/christian/synchedout/eegip/eegip/tests/test_artifacts/derivatives/eegip_london_preprocessed/sub-s634/ses-m06/eeg/sub-s634_ses-m06_eeg.fif) does not conform to MNE naming conventions. All raw files should end with raw.fif, raw_sss.fif, raw_tsss.fif, raw.fif.gz, raw_sss.fif.gz, raw_tsss.fif.gz or _meg.fif\n",
      "  self._preprocessed_raw = mne.io.read_raw_fif(self.get_path(\"preprocessed_raw\"), verbose=self.verbose)\n"
     ]
    },
    {
     "name": "stdout",
     "output_type": "stream",
     "text": [
      "    Range : 0 ... 232999 =      0.000 ...   465.998 secs\n",
      "Ready.\n",
      "345 matching events found\n",
      "No baseline correction applied\n",
      "Not setting metadata\n",
      "0 projection items activated\n",
      "Loading data for 345 events and 500 original time points ...\n",
      "102 bad epochs dropped\n",
      "Overwriting existing file.\n",
      "Opening raw data file /home/christian/synchedout/eegip/eegip/tests/test_artifacts/derivatives/eegip_london_preprocessed/sub-s636/ses-m06/eeg/sub-s636_ses-m06_eeg.fif...\n"
     ]
    },
    {
     "name": "stderr",
     "output_type": "stream",
     "text": [
      "/home/christian/synchedout/eegip/eegip/recording.py:209: RuntimeWarning: This filename (/home/christian/synchedout/eegip/eegip/tests/test_artifacts/derivatives/eegip_london_preprocessed/sub-s636/ses-m06/eeg/sub-s636_ses-m06_eeg.fif) does not conform to MNE naming conventions. All raw files should end with raw.fif, raw_sss.fif, raw_tsss.fif, raw.fif.gz, raw_sss.fif.gz, raw_tsss.fif.gz or _meg.fif\n",
      "  self._preprocessed_raw = mne.io.read_raw_fif(self.get_path(\"preprocessed_raw\"), verbose=self.verbose)\n"
     ]
    },
    {
     "name": "stdout",
     "output_type": "stream",
     "text": [
      "    Range : 0 ... 199999 =      0.000 ...   399.998 secs\n",
      "Ready.\n",
      "321 matching events found\n",
      "No baseline correction applied\n",
      "Not setting metadata\n",
      "0 projection items activated\n",
      "Loading data for 321 events and 500 original time points ...\n",
      "171 bad epochs dropped\n",
      "Overwriting existing file.\n",
      "Opening raw data file /home/christian/synchedout/eegip/eegip/tests/test_artifacts/derivatives/eegip_london_preprocessed/sub-s637/ses-m06/eeg/sub-s637_ses-m06_eeg.fif...\n"
     ]
    },
    {
     "name": "stderr",
     "output_type": "stream",
     "text": [
      "/home/christian/synchedout/eegip/eegip/recording.py:209: RuntimeWarning: This filename (/home/christian/synchedout/eegip/eegip/tests/test_artifacts/derivatives/eegip_london_preprocessed/sub-s637/ses-m06/eeg/sub-s637_ses-m06_eeg.fif) does not conform to MNE naming conventions. All raw files should end with raw.fif, raw_sss.fif, raw_tsss.fif, raw.fif.gz, raw_sss.fif.gz, raw_tsss.fif.gz or _meg.fif\n",
      "  self._preprocessed_raw = mne.io.read_raw_fif(self.get_path(\"preprocessed_raw\"), verbose=self.verbose)\n"
     ]
    },
    {
     "name": "stdout",
     "output_type": "stream",
     "text": [
      "    Range : 0 ... 206999 =      0.000 ...   413.998 secs\n",
      "Ready.\n",
      "296 matching events found\n",
      "No baseline correction applied\n",
      "Not setting metadata\n",
      "0 projection items activated\n",
      "Loading data for 296 events and 500 original time points ...\n",
      "66 bad epochs dropped\n",
      "Overwriting existing file.\n",
      "Opening raw data file /home/christian/synchedout/eegip/eegip/tests/test_artifacts/derivatives/eegip_london_preprocessed/sub-s638/ses-m06/eeg/sub-s638_ses-m06_eeg.fif...\n"
     ]
    },
    {
     "name": "stderr",
     "output_type": "stream",
     "text": [
      "/home/christian/synchedout/eegip/eegip/recording.py:209: RuntimeWarning: This filename (/home/christian/synchedout/eegip/eegip/tests/test_artifacts/derivatives/eegip_london_preprocessed/sub-s638/ses-m06/eeg/sub-s638_ses-m06_eeg.fif) does not conform to MNE naming conventions. All raw files should end with raw.fif, raw_sss.fif, raw_tsss.fif, raw.fif.gz, raw_sss.fif.gz, raw_tsss.fif.gz or _meg.fif\n",
      "  self._preprocessed_raw = mne.io.read_raw_fif(self.get_path(\"preprocessed_raw\"), verbose=self.verbose)\n"
     ]
    },
    {
     "name": "stdout",
     "output_type": "stream",
     "text": [
      "    Range : 0 ... 267499 =      0.000 ...   534.998 secs\n",
      "Ready.\n",
      "397 matching events found\n",
      "No baseline correction applied\n",
      "Not setting metadata\n",
      "0 projection items activated\n",
      "Loading data for 397 events and 500 original time points ...\n",
      "152 bad epochs dropped\n",
      "Overwriting existing file.\n",
      "Opening raw data file /home/christian/synchedout/eegip/eegip/tests/test_artifacts/derivatives/eegip_london_preprocessed/sub-s639/ses-m06/eeg/sub-s639_ses-m06_eeg.fif...\n"
     ]
    },
    {
     "name": "stderr",
     "output_type": "stream",
     "text": [
      "/home/christian/synchedout/eegip/eegip/recording.py:209: RuntimeWarning: This filename (/home/christian/synchedout/eegip/eegip/tests/test_artifacts/derivatives/eegip_london_preprocessed/sub-s639/ses-m06/eeg/sub-s639_ses-m06_eeg.fif) does not conform to MNE naming conventions. All raw files should end with raw.fif, raw_sss.fif, raw_tsss.fif, raw.fif.gz, raw_sss.fif.gz, raw_tsss.fif.gz or _meg.fif\n",
      "  self._preprocessed_raw = mne.io.read_raw_fif(self.get_path(\"preprocessed_raw\"), verbose=self.verbose)\n"
     ]
    },
    {
     "name": "stdout",
     "output_type": "stream",
     "text": [
      "    Range : 0 ... 179499 =      0.000 ...   358.998 secs\n",
      "Ready.\n",
      "280 matching events found\n",
      "No baseline correction applied\n",
      "Not setting metadata\n",
      "0 projection items activated\n",
      "Loading data for 280 events and 500 original time points ...\n",
      "91 bad epochs dropped\n",
      "Overwriting existing file.\n",
      "Opening raw data file /home/christian/synchedout/eegip/eegip/tests/test_artifacts/derivatives/eegip_london_preprocessed/sub-s640/ses-m06/eeg/sub-s640_ses-m06_eeg.fif...\n"
     ]
    },
    {
     "name": "stderr",
     "output_type": "stream",
     "text": [
      "/home/christian/synchedout/eegip/eegip/recording.py:209: RuntimeWarning: This filename (/home/christian/synchedout/eegip/eegip/tests/test_artifacts/derivatives/eegip_london_preprocessed/sub-s640/ses-m06/eeg/sub-s640_ses-m06_eeg.fif) does not conform to MNE naming conventions. All raw files should end with raw.fif, raw_sss.fif, raw_tsss.fif, raw.fif.gz, raw_sss.fif.gz, raw_tsss.fif.gz or _meg.fif\n",
      "  self._preprocessed_raw = mne.io.read_raw_fif(self.get_path(\"preprocessed_raw\"), verbose=self.verbose)\n"
     ]
    },
    {
     "name": "stdout",
     "output_type": "stream",
     "text": [
      "    Range : 0 ... 181499 =      0.000 ...   362.998 secs\n",
      "Ready.\n",
      "243 matching events found\n",
      "No baseline correction applied\n",
      "Not setting metadata\n",
      "0 projection items activated\n",
      "Loading data for 243 events and 500 original time points ...\n",
      "127 bad epochs dropped\n",
      "Overwriting existing file.\n",
      "Opening raw data file /home/christian/synchedout/eegip/eegip/tests/test_artifacts/derivatives/eegip_london_preprocessed/sub-s641/ses-m06/eeg/sub-s641_ses-m06_eeg.fif...\n"
     ]
    },
    {
     "name": "stderr",
     "output_type": "stream",
     "text": [
      "/home/christian/synchedout/eegip/eegip/recording.py:209: RuntimeWarning: This filename (/home/christian/synchedout/eegip/eegip/tests/test_artifacts/derivatives/eegip_london_preprocessed/sub-s641/ses-m06/eeg/sub-s641_ses-m06_eeg.fif) does not conform to MNE naming conventions. All raw files should end with raw.fif, raw_sss.fif, raw_tsss.fif, raw.fif.gz, raw_sss.fif.gz, raw_tsss.fif.gz or _meg.fif\n",
      "  self._preprocessed_raw = mne.io.read_raw_fif(self.get_path(\"preprocessed_raw\"), verbose=self.verbose)\n"
     ]
    },
    {
     "name": "stdout",
     "output_type": "stream",
     "text": [
      "    Range : 0 ... 271999 =      0.000 ...   543.998 secs\n",
      "Ready.\n",
      "336 matching events found\n",
      "No baseline correction applied\n",
      "Not setting metadata\n",
      "0 projection items activated\n",
      "Loading data for 336 events and 500 original time points ...\n",
      "229 bad epochs dropped\n",
      "Overwriting existing file.\n",
      "Opening raw data file /home/christian/synchedout/eegip/eegip/tests/test_artifacts/derivatives/eegip_london_preprocessed/sub-s642/ses-m06/eeg/sub-s642_ses-m06_eeg.fif...\n"
     ]
    },
    {
     "name": "stderr",
     "output_type": "stream",
     "text": [
      "/home/christian/synchedout/eegip/eegip/recording.py:209: RuntimeWarning: This filename (/home/christian/synchedout/eegip/eegip/tests/test_artifacts/derivatives/eegip_london_preprocessed/sub-s642/ses-m06/eeg/sub-s642_ses-m06_eeg.fif) does not conform to MNE naming conventions. All raw files should end with raw.fif, raw_sss.fif, raw_tsss.fif, raw.fif.gz, raw_sss.fif.gz, raw_tsss.fif.gz or _meg.fif\n",
      "  self._preprocessed_raw = mne.io.read_raw_fif(self.get_path(\"preprocessed_raw\"), verbose=self.verbose)\n"
     ]
    },
    {
     "name": "stdout",
     "output_type": "stream",
     "text": [
      "    Range : 0 ... 298999 =      0.000 ...   597.998 secs\n",
      "Ready.\n",
      "463 matching events found\n",
      "No baseline correction applied\n",
      "Not setting metadata\n",
      "0 projection items activated\n",
      "Loading data for 463 events and 500 original time points ...\n",
      "224 bad epochs dropped\n",
      "Overwriting existing file.\n",
      "Opening raw data file /home/christian/synchedout/eegip/eegip/tests/test_artifacts/derivatives/eegip_london_preprocessed/sub-s643/ses-m06/eeg/sub-s643_ses-m06_eeg.fif...\n"
     ]
    },
    {
     "name": "stderr",
     "output_type": "stream",
     "text": [
      "/home/christian/synchedout/eegip/eegip/recording.py:209: RuntimeWarning: This filename (/home/christian/synchedout/eegip/eegip/tests/test_artifacts/derivatives/eegip_london_preprocessed/sub-s643/ses-m06/eeg/sub-s643_ses-m06_eeg.fif) does not conform to MNE naming conventions. All raw files should end with raw.fif, raw_sss.fif, raw_tsss.fif, raw.fif.gz, raw_sss.fif.gz, raw_tsss.fif.gz or _meg.fif\n",
      "  self._preprocessed_raw = mne.io.read_raw_fif(self.get_path(\"preprocessed_raw\"), verbose=self.verbose)\n"
     ]
    },
    {
     "name": "stdout",
     "output_type": "stream",
     "text": [
      "    Range : 0 ... 236999 =      0.000 ...   473.998 secs\n",
      "Ready.\n",
      "390 matching events found\n",
      "No baseline correction applied\n",
      "Not setting metadata\n",
      "0 projection items activated\n",
      "Loading data for 390 events and 500 original time points ...\n",
      "99 bad epochs dropped\n",
      "Overwriting existing file.\n",
      "Opening raw data file /home/christian/synchedout/eegip/eegip/tests/test_artifacts/derivatives/eegip_london_preprocessed/sub-s645/ses-m06/eeg/sub-s645_ses-m06_eeg.fif...\n"
     ]
    },
    {
     "name": "stderr",
     "output_type": "stream",
     "text": [
      "/home/christian/synchedout/eegip/eegip/recording.py:209: RuntimeWarning: This filename (/home/christian/synchedout/eegip/eegip/tests/test_artifacts/derivatives/eegip_london_preprocessed/sub-s645/ses-m06/eeg/sub-s645_ses-m06_eeg.fif) does not conform to MNE naming conventions. All raw files should end with raw.fif, raw_sss.fif, raw_tsss.fif, raw.fif.gz, raw_sss.fif.gz, raw_tsss.fif.gz or _meg.fif\n",
      "  self._preprocessed_raw = mne.io.read_raw_fif(self.get_path(\"preprocessed_raw\"), verbose=self.verbose)\n"
     ]
    },
    {
     "name": "stdout",
     "output_type": "stream",
     "text": [
      "    Range : 0 ... 220499 =      0.000 ...   440.998 secs\n",
      "Ready.\n",
      "317 matching events found\n",
      "No baseline correction applied\n",
      "Not setting metadata\n",
      "0 projection items activated\n",
      "Loading data for 317 events and 500 original time points ...\n",
      "162 bad epochs dropped\n",
      "Overwriting existing file.\n",
      "Opening raw data file /home/christian/synchedout/eegip/eegip/tests/test_artifacts/derivatives/eegip_london_preprocessed/sub-s646/ses-m06/eeg/sub-s646_ses-m06_eeg.fif...\n"
     ]
    },
    {
     "name": "stderr",
     "output_type": "stream",
     "text": [
      "/home/christian/synchedout/eegip/eegip/recording.py:209: RuntimeWarning: This filename (/home/christian/synchedout/eegip/eegip/tests/test_artifacts/derivatives/eegip_london_preprocessed/sub-s646/ses-m06/eeg/sub-s646_ses-m06_eeg.fif) does not conform to MNE naming conventions. All raw files should end with raw.fif, raw_sss.fif, raw_tsss.fif, raw.fif.gz, raw_sss.fif.gz, raw_tsss.fif.gz or _meg.fif\n",
      "  self._preprocessed_raw = mne.io.read_raw_fif(self.get_path(\"preprocessed_raw\"), verbose=self.verbose)\n"
     ]
    },
    {
     "name": "stdout",
     "output_type": "stream",
     "text": [
      "    Range : 0 ... 196999 =      0.000 ...   393.998 secs\n",
      "Ready.\n",
      "318 matching events found\n",
      "No baseline correction applied\n",
      "Not setting metadata\n",
      "0 projection items activated\n",
      "Loading data for 318 events and 500 original time points ...\n",
      "155 bad epochs dropped\n",
      "Overwriting existing file.\n",
      "Opening raw data file /home/christian/synchedout/eegip/eegip/tests/test_artifacts/derivatives/eegip_london_preprocessed/sub-s647/ses-m06/eeg/sub-s647_ses-m06_eeg.fif...\n"
     ]
    },
    {
     "name": "stderr",
     "output_type": "stream",
     "text": [
      "/home/christian/synchedout/eegip/eegip/recording.py:209: RuntimeWarning: This filename (/home/christian/synchedout/eegip/eegip/tests/test_artifacts/derivatives/eegip_london_preprocessed/sub-s647/ses-m06/eeg/sub-s647_ses-m06_eeg.fif) does not conform to MNE naming conventions. All raw files should end with raw.fif, raw_sss.fif, raw_tsss.fif, raw.fif.gz, raw_sss.fif.gz, raw_tsss.fif.gz or _meg.fif\n",
      "  self._preprocessed_raw = mne.io.read_raw_fif(self.get_path(\"preprocessed_raw\"), verbose=self.verbose)\n"
     ]
    },
    {
     "name": "stdout",
     "output_type": "stream",
     "text": [
      "    Range : 0 ... 193499 =      0.000 ...   386.998 secs\n",
      "Ready.\n",
      "262 matching events found\n",
      "No baseline correction applied\n",
      "Not setting metadata\n",
      "0 projection items activated\n",
      "Loading data for 262 events and 500 original time points ...\n",
      "41 bad epochs dropped\n",
      "Overwriting existing file.\n",
      "Opening raw data file /home/christian/synchedout/eegip/eegip/tests/test_artifacts/derivatives/eegip_london_preprocessed/sub-s648/ses-m06/eeg/sub-s648_ses-m06_eeg.fif...\n"
     ]
    },
    {
     "name": "stderr",
     "output_type": "stream",
     "text": [
      "/home/christian/synchedout/eegip/eegip/recording.py:209: RuntimeWarning: This filename (/home/christian/synchedout/eegip/eegip/tests/test_artifacts/derivatives/eegip_london_preprocessed/sub-s648/ses-m06/eeg/sub-s648_ses-m06_eeg.fif) does not conform to MNE naming conventions. All raw files should end with raw.fif, raw_sss.fif, raw_tsss.fif, raw.fif.gz, raw_sss.fif.gz, raw_tsss.fif.gz or _meg.fif\n",
      "  self._preprocessed_raw = mne.io.read_raw_fif(self.get_path(\"preprocessed_raw\"), verbose=self.verbose)\n"
     ]
    },
    {
     "name": "stdout",
     "output_type": "stream",
     "text": [
      "    Range : 0 ... 204999 =      0.000 ...   409.998 secs\n",
      "Ready.\n",
      "332 matching events found\n",
      "No baseline correction applied\n",
      "Not setting metadata\n",
      "0 projection items activated\n",
      "Loading data for 332 events and 500 original time points ...\n",
      "131 bad epochs dropped\n",
      "Overwriting existing file.\n",
      "Opening raw data file /home/christian/synchedout/eegip/eegip/tests/test_artifacts/derivatives/eegip_london_preprocessed/sub-s649/ses-m06/eeg/sub-s649_ses-m06_eeg.fif...\n"
     ]
    },
    {
     "name": "stderr",
     "output_type": "stream",
     "text": [
      "/home/christian/synchedout/eegip/eegip/recording.py:209: RuntimeWarning: This filename (/home/christian/synchedout/eegip/eegip/tests/test_artifacts/derivatives/eegip_london_preprocessed/sub-s649/ses-m06/eeg/sub-s649_ses-m06_eeg.fif) does not conform to MNE naming conventions. All raw files should end with raw.fif, raw_sss.fif, raw_tsss.fif, raw.fif.gz, raw_sss.fif.gz, raw_tsss.fif.gz or _meg.fif\n",
      "  self._preprocessed_raw = mne.io.read_raw_fif(self.get_path(\"preprocessed_raw\"), verbose=self.verbose)\n"
     ]
    },
    {
     "name": "stdout",
     "output_type": "stream",
     "text": [
      "    Range : 0 ... 270999 =      0.000 ...   541.998 secs\n",
      "Ready.\n",
      "412 matching events found\n",
      "No baseline correction applied\n",
      "Not setting metadata\n",
      "0 projection items activated\n",
      "Loading data for 412 events and 500 original time points ...\n",
      "123 bad epochs dropped\n",
      "Overwriting existing file.\n",
      "Opening raw data file /home/christian/synchedout/eegip/eegip/tests/test_artifacts/derivatives/eegip_london_preprocessed/sub-s650/ses-m06/eeg/sub-s650_ses-m06_eeg.fif...\n"
     ]
    },
    {
     "name": "stderr",
     "output_type": "stream",
     "text": [
      "/home/christian/synchedout/eegip/eegip/recording.py:209: RuntimeWarning: This filename (/home/christian/synchedout/eegip/eegip/tests/test_artifacts/derivatives/eegip_london_preprocessed/sub-s650/ses-m06/eeg/sub-s650_ses-m06_eeg.fif) does not conform to MNE naming conventions. All raw files should end with raw.fif, raw_sss.fif, raw_tsss.fif, raw.fif.gz, raw_sss.fif.gz, raw_tsss.fif.gz or _meg.fif\n",
      "  self._preprocessed_raw = mne.io.read_raw_fif(self.get_path(\"preprocessed_raw\"), verbose=self.verbose)\n"
     ]
    },
    {
     "name": "stdout",
     "output_type": "stream",
     "text": [
      "    Range : 0 ... 207499 =      0.000 ...   414.998 secs\n",
      "Ready.\n",
      "334 matching events found\n",
      "No baseline correction applied\n",
      "Not setting metadata\n",
      "0 projection items activated\n",
      "Loading data for 334 events and 500 original time points ...\n",
      "45 bad epochs dropped\n",
      "Overwriting existing file.\n",
      "Opening raw data file /home/christian/synchedout/eegip/eegip/tests/test_artifacts/derivatives/eegip_london_preprocessed/sub-s651/ses-m06/eeg/sub-s651_ses-m06_eeg.fif...\n"
     ]
    },
    {
     "name": "stderr",
     "output_type": "stream",
     "text": [
      "/home/christian/synchedout/eegip/eegip/recording.py:209: RuntimeWarning: This filename (/home/christian/synchedout/eegip/eegip/tests/test_artifacts/derivatives/eegip_london_preprocessed/sub-s651/ses-m06/eeg/sub-s651_ses-m06_eeg.fif) does not conform to MNE naming conventions. All raw files should end with raw.fif, raw_sss.fif, raw_tsss.fif, raw.fif.gz, raw_sss.fif.gz, raw_tsss.fif.gz or _meg.fif\n",
      "  self._preprocessed_raw = mne.io.read_raw_fif(self.get_path(\"preprocessed_raw\"), verbose=self.verbose)\n"
     ]
    },
    {
     "name": "stdout",
     "output_type": "stream",
     "text": [
      "    Range : 0 ... 231499 =      0.000 ...   462.998 secs\n",
      "Ready.\n",
      "339 matching events found\n",
      "No baseline correction applied\n",
      "Not setting metadata\n",
      "0 projection items activated\n",
      "Loading data for 339 events and 500 original time points ...\n",
      "108 bad epochs dropped\n",
      "Overwriting existing file.\n",
      "Opening raw data file /home/christian/synchedout/eegip/eegip/tests/test_artifacts/derivatives/eegip_london_preprocessed/sub-s652/ses-m06/eeg/sub-s652_ses-m06_eeg.fif...\n"
     ]
    },
    {
     "name": "stderr",
     "output_type": "stream",
     "text": [
      "/home/christian/synchedout/eegip/eegip/recording.py:209: RuntimeWarning: This filename (/home/christian/synchedout/eegip/eegip/tests/test_artifacts/derivatives/eegip_london_preprocessed/sub-s652/ses-m06/eeg/sub-s652_ses-m06_eeg.fif) does not conform to MNE naming conventions. All raw files should end with raw.fif, raw_sss.fif, raw_tsss.fif, raw.fif.gz, raw_sss.fif.gz, raw_tsss.fif.gz or _meg.fif\n",
      "  self._preprocessed_raw = mne.io.read_raw_fif(self.get_path(\"preprocessed_raw\"), verbose=self.verbose)\n"
     ]
    },
    {
     "name": "stdout",
     "output_type": "stream",
     "text": [
      "    Range : 0 ... 154999 =      0.000 ...   309.998 secs\n",
      "Ready.\n",
      "201 matching events found\n",
      "No baseline correction applied\n",
      "Not setting metadata\n",
      "0 projection items activated\n",
      "Loading data for 201 events and 500 original time points ...\n",
      "91 bad epochs dropped\n",
      "Overwriting existing file.\n",
      "Opening raw data file /home/christian/synchedout/eegip/eegip/tests/test_artifacts/derivatives/eegip_london_preprocessed/sub-s653/ses-m06/eeg/sub-s653_ses-m06_eeg.fif...\n"
     ]
    },
    {
     "name": "stderr",
     "output_type": "stream",
     "text": [
      "/home/christian/synchedout/eegip/eegip/recording.py:209: RuntimeWarning: This filename (/home/christian/synchedout/eegip/eegip/tests/test_artifacts/derivatives/eegip_london_preprocessed/sub-s653/ses-m06/eeg/sub-s653_ses-m06_eeg.fif) does not conform to MNE naming conventions. All raw files should end with raw.fif, raw_sss.fif, raw_tsss.fif, raw.fif.gz, raw_sss.fif.gz, raw_tsss.fif.gz or _meg.fif\n",
      "  self._preprocessed_raw = mne.io.read_raw_fif(self.get_path(\"preprocessed_raw\"), verbose=self.verbose)\n"
     ]
    },
    {
     "name": "stdout",
     "output_type": "stream",
     "text": [
      "    Range : 0 ... 347499 =      0.000 ...   694.998 secs\n",
      "Ready.\n",
      "591 matching events found\n",
      "No baseline correction applied\n",
      "Not setting metadata\n",
      "0 projection items activated\n",
      "Loading data for 591 events and 500 original time points ...\n",
      "241 bad epochs dropped\n",
      "Overwriting existing file.\n",
      "Opening raw data file /home/christian/synchedout/eegip/eegip/tests/test_artifacts/derivatives/eegip_london_preprocessed/sub-s654/ses-m06/eeg/sub-s654_ses-m06_eeg.fif...\n"
     ]
    },
    {
     "name": "stderr",
     "output_type": "stream",
     "text": [
      "/home/christian/synchedout/eegip/eegip/recording.py:209: RuntimeWarning: This filename (/home/christian/synchedout/eegip/eegip/tests/test_artifacts/derivatives/eegip_london_preprocessed/sub-s654/ses-m06/eeg/sub-s654_ses-m06_eeg.fif) does not conform to MNE naming conventions. All raw files should end with raw.fif, raw_sss.fif, raw_tsss.fif, raw.fif.gz, raw_sss.fif.gz, raw_tsss.fif.gz or _meg.fif\n",
      "  self._preprocessed_raw = mne.io.read_raw_fif(self.get_path(\"preprocessed_raw\"), verbose=self.verbose)\n"
     ]
    },
    {
     "name": "stdout",
     "output_type": "stream",
     "text": [
      "    Range : 0 ... 275999 =      0.000 ...   551.998 secs\n",
      "Ready.\n",
      "460 matching events found\n",
      "No baseline correction applied\n",
      "Not setting metadata\n",
      "0 projection items activated\n",
      "Loading data for 460 events and 500 original time points ...\n",
      "164 bad epochs dropped\n",
      "Overwriting existing file.\n",
      "Opening raw data file /home/christian/synchedout/eegip/eegip/tests/test_artifacts/derivatives/eegip_london_preprocessed/sub-s655/ses-m06/eeg/sub-s655_ses-m06_eeg.fif...\n"
     ]
    },
    {
     "name": "stderr",
     "output_type": "stream",
     "text": [
      "/home/christian/synchedout/eegip/eegip/recording.py:209: RuntimeWarning: This filename (/home/christian/synchedout/eegip/eegip/tests/test_artifacts/derivatives/eegip_london_preprocessed/sub-s655/ses-m06/eeg/sub-s655_ses-m06_eeg.fif) does not conform to MNE naming conventions. All raw files should end with raw.fif, raw_sss.fif, raw_tsss.fif, raw.fif.gz, raw_sss.fif.gz, raw_tsss.fif.gz or _meg.fif\n",
      "  self._preprocessed_raw = mne.io.read_raw_fif(self.get_path(\"preprocessed_raw\"), verbose=self.verbose)\n"
     ]
    },
    {
     "name": "stdout",
     "output_type": "stream",
     "text": [
      "    Range : 0 ... 261999 =      0.000 ...   523.998 secs\n",
      "Ready.\n",
      "394 matching events found\n",
      "No baseline correction applied\n",
      "Not setting metadata\n",
      "0 projection items activated\n",
      "Loading data for 394 events and 500 original time points ...\n",
      "185 bad epochs dropped\n",
      "Overwriting existing file.\n",
      "Opening raw data file /home/christian/synchedout/eegip/eegip/tests/test_artifacts/derivatives/eegip_london_preprocessed/sub-s656/ses-m06/eeg/sub-s656_ses-m06_eeg.fif...\n"
     ]
    },
    {
     "name": "stderr",
     "output_type": "stream",
     "text": [
      "/home/christian/synchedout/eegip/eegip/recording.py:209: RuntimeWarning: This filename (/home/christian/synchedout/eegip/eegip/tests/test_artifacts/derivatives/eegip_london_preprocessed/sub-s656/ses-m06/eeg/sub-s656_ses-m06_eeg.fif) does not conform to MNE naming conventions. All raw files should end with raw.fif, raw_sss.fif, raw_tsss.fif, raw.fif.gz, raw_sss.fif.gz, raw_tsss.fif.gz or _meg.fif\n",
      "  self._preprocessed_raw = mne.io.read_raw_fif(self.get_path(\"preprocessed_raw\"), verbose=self.verbose)\n"
     ]
    },
    {
     "name": "stdout",
     "output_type": "stream",
     "text": [
      "    Range : 0 ... 446499 =      0.000 ...   892.998 secs\n",
      "Ready.\n",
      "648 matching events found\n",
      "No baseline correction applied\n",
      "Not setting metadata\n",
      "0 projection items activated\n",
      "Loading data for 648 events and 500 original time points ...\n",
      "304 bad epochs dropped\n",
      "Overwriting existing file.\n",
      "Opening raw data file /home/christian/synchedout/eegip/eegip/tests/test_artifacts/derivatives/eegip_london_preprocessed/sub-s702/ses-m06/eeg/sub-s702_ses-m06_eeg.fif...\n"
     ]
    },
    {
     "name": "stderr",
     "output_type": "stream",
     "text": [
      "/home/christian/synchedout/eegip/eegip/recording.py:209: RuntimeWarning: This filename (/home/christian/synchedout/eegip/eegip/tests/test_artifacts/derivatives/eegip_london_preprocessed/sub-s702/ses-m06/eeg/sub-s702_ses-m06_eeg.fif) does not conform to MNE naming conventions. All raw files should end with raw.fif, raw_sss.fif, raw_tsss.fif, raw.fif.gz, raw_sss.fif.gz, raw_tsss.fif.gz or _meg.fif\n",
      "  self._preprocessed_raw = mne.io.read_raw_fif(self.get_path(\"preprocessed_raw\"), verbose=self.verbose)\n"
     ]
    },
    {
     "name": "stdout",
     "output_type": "stream",
     "text": [
      "    Range : 0 ... 196999 =      0.000 ...   393.998 secs\n",
      "Ready.\n",
      "326 matching events found\n",
      "No baseline correction applied\n",
      "Not setting metadata\n",
      "0 projection items activated\n",
      "Loading data for 326 events and 500 original time points ...\n",
      "170 bad epochs dropped\n",
      "Overwriting existing file.\n",
      "Opening raw data file /home/christian/synchedout/eegip/eegip/tests/test_artifacts/derivatives/eegip_london_preprocessed/sub-s703/ses-m06/eeg/sub-s703_ses-m06_eeg.fif...\n"
     ]
    },
    {
     "name": "stderr",
     "output_type": "stream",
     "text": [
      "/home/christian/synchedout/eegip/eegip/recording.py:209: RuntimeWarning: This filename (/home/christian/synchedout/eegip/eegip/tests/test_artifacts/derivatives/eegip_london_preprocessed/sub-s703/ses-m06/eeg/sub-s703_ses-m06_eeg.fif) does not conform to MNE naming conventions. All raw files should end with raw.fif, raw_sss.fif, raw_tsss.fif, raw.fif.gz, raw_sss.fif.gz, raw_tsss.fif.gz or _meg.fif\n",
      "  self._preprocessed_raw = mne.io.read_raw_fif(self.get_path(\"preprocessed_raw\"), verbose=self.verbose)\n"
     ]
    },
    {
     "name": "stdout",
     "output_type": "stream",
     "text": [
      "    Range : 0 ... 260499 =      0.000 ...   520.998 secs\n",
      "Ready.\n",
      "443 matching events found\n",
      "No baseline correction applied\n",
      "Not setting metadata\n",
      "0 projection items activated\n",
      "Loading data for 443 events and 500 original time points ...\n",
      "158 bad epochs dropped\n",
      "Overwriting existing file.\n",
      "Opening raw data file /home/christian/synchedout/eegip/eegip/tests/test_artifacts/derivatives/eegip_london_preprocessed/sub-s704/ses-m06/eeg/sub-s704_ses-m06_eeg.fif...\n"
     ]
    },
    {
     "name": "stderr",
     "output_type": "stream",
     "text": [
      "/home/christian/synchedout/eegip/eegip/recording.py:209: RuntimeWarning: This filename (/home/christian/synchedout/eegip/eegip/tests/test_artifacts/derivatives/eegip_london_preprocessed/sub-s704/ses-m06/eeg/sub-s704_ses-m06_eeg.fif) does not conform to MNE naming conventions. All raw files should end with raw.fif, raw_sss.fif, raw_tsss.fif, raw.fif.gz, raw_sss.fif.gz, raw_tsss.fif.gz or _meg.fif\n",
      "  self._preprocessed_raw = mne.io.read_raw_fif(self.get_path(\"preprocessed_raw\"), verbose=self.verbose)\n"
     ]
    },
    {
     "name": "stdout",
     "output_type": "stream",
     "text": [
      "    Range : 0 ... 136499 =      0.000 ...   272.998 secs\n",
      "Ready.\n",
      "212 matching events found\n",
      "No baseline correction applied\n",
      "Not setting metadata\n",
      "0 projection items activated\n",
      "Loading data for 212 events and 500 original time points ...\n",
      "160 bad epochs dropped\n",
      "Overwriting existing file.\n",
      "Opening raw data file /home/christian/synchedout/eegip/eegip/tests/test_artifacts/derivatives/eegip_london_preprocessed/sub-s705/ses-m06/eeg/sub-s705_ses-m06_eeg.fif...\n"
     ]
    },
    {
     "name": "stderr",
     "output_type": "stream",
     "text": [
      "/home/christian/synchedout/eegip/eegip/recording.py:209: RuntimeWarning: This filename (/home/christian/synchedout/eegip/eegip/tests/test_artifacts/derivatives/eegip_london_preprocessed/sub-s705/ses-m06/eeg/sub-s705_ses-m06_eeg.fif) does not conform to MNE naming conventions. All raw files should end with raw.fif, raw_sss.fif, raw_tsss.fif, raw.fif.gz, raw_sss.fif.gz, raw_tsss.fif.gz or _meg.fif\n",
      "  self._preprocessed_raw = mne.io.read_raw_fif(self.get_path(\"preprocessed_raw\"), verbose=self.verbose)\n"
     ]
    },
    {
     "name": "stdout",
     "output_type": "stream",
     "text": [
      "    Range : 0 ... 227499 =      0.000 ...   454.998 secs\n",
      "Ready.\n",
      "382 matching events found\n",
      "No baseline correction applied\n",
      "Not setting metadata\n",
      "0 projection items activated\n",
      "Loading data for 382 events and 500 original time points ...\n",
      "192 bad epochs dropped\n",
      "Overwriting existing file.\n",
      "Opening raw data file /home/christian/synchedout/eegip/eegip/tests/test_artifacts/derivatives/eegip_london_preprocessed/sub-s706/ses-m06/eeg/sub-s706_ses-m06_eeg.fif...\n"
     ]
    },
    {
     "name": "stderr",
     "output_type": "stream",
     "text": [
      "/home/christian/synchedout/eegip/eegip/recording.py:209: RuntimeWarning: This filename (/home/christian/synchedout/eegip/eegip/tests/test_artifacts/derivatives/eegip_london_preprocessed/sub-s706/ses-m06/eeg/sub-s706_ses-m06_eeg.fif) does not conform to MNE naming conventions. All raw files should end with raw.fif, raw_sss.fif, raw_tsss.fif, raw.fif.gz, raw_sss.fif.gz, raw_tsss.fif.gz or _meg.fif\n",
      "  self._preprocessed_raw = mne.io.read_raw_fif(self.get_path(\"preprocessed_raw\"), verbose=self.verbose)\n"
     ]
    },
    {
     "name": "stdout",
     "output_type": "stream",
     "text": [
      "    Range : 0 ... 266999 =      0.000 ...   533.998 secs\n",
      "Ready.\n",
      "421 matching events found\n",
      "No baseline correction applied\n",
      "Not setting metadata\n",
      "0 projection items activated\n",
      "Loading data for 421 events and 500 original time points ...\n",
      "112 bad epochs dropped\n",
      "Overwriting existing file.\n",
      "Opening raw data file /home/christian/synchedout/eegip/eegip/tests/test_artifacts/derivatives/eegip_london_preprocessed/sub-s707/ses-m06/eeg/sub-s707_ses-m06_eeg.fif...\n"
     ]
    },
    {
     "name": "stderr",
     "output_type": "stream",
     "text": [
      "/home/christian/synchedout/eegip/eegip/recording.py:209: RuntimeWarning: This filename (/home/christian/synchedout/eegip/eegip/tests/test_artifacts/derivatives/eegip_london_preprocessed/sub-s707/ses-m06/eeg/sub-s707_ses-m06_eeg.fif) does not conform to MNE naming conventions. All raw files should end with raw.fif, raw_sss.fif, raw_tsss.fif, raw.fif.gz, raw_sss.fif.gz, raw_tsss.fif.gz or _meg.fif\n",
      "  self._preprocessed_raw = mne.io.read_raw_fif(self.get_path(\"preprocessed_raw\"), verbose=self.verbose)\n"
     ]
    },
    {
     "name": "stdout",
     "output_type": "stream",
     "text": [
      "    Range : 0 ... 193999 =      0.000 ...   387.998 secs\n",
      "Ready.\n",
      "306 matching events found\n",
      "No baseline correction applied\n",
      "Not setting metadata\n",
      "0 projection items activated\n",
      "Loading data for 306 events and 500 original time points ...\n",
      "169 bad epochs dropped\n",
      "Overwriting existing file.\n",
      "Opening raw data file /home/christian/synchedout/eegip/eegip/tests/test_artifacts/derivatives/eegip_london_preprocessed/sub-s709/ses-m06/eeg/sub-s709_ses-m06_eeg.fif...\n"
     ]
    },
    {
     "name": "stderr",
     "output_type": "stream",
     "text": [
      "/home/christian/synchedout/eegip/eegip/recording.py:209: RuntimeWarning: This filename (/home/christian/synchedout/eegip/eegip/tests/test_artifacts/derivatives/eegip_london_preprocessed/sub-s709/ses-m06/eeg/sub-s709_ses-m06_eeg.fif) does not conform to MNE naming conventions. All raw files should end with raw.fif, raw_sss.fif, raw_tsss.fif, raw.fif.gz, raw_sss.fif.gz, raw_tsss.fif.gz or _meg.fif\n",
      "  self._preprocessed_raw = mne.io.read_raw_fif(self.get_path(\"preprocessed_raw\"), verbose=self.verbose)\n"
     ]
    },
    {
     "name": "stdout",
     "output_type": "stream",
     "text": [
      "    Range : 0 ... 288499 =      0.000 ...   576.998 secs\n",
      "Ready.\n",
      "436 matching events found\n",
      "No baseline correction applied\n",
      "Not setting metadata\n",
      "0 projection items activated\n",
      "Loading data for 436 events and 500 original time points ...\n",
      "198 bad epochs dropped\n",
      "Overwriting existing file.\n",
      "Opening raw data file /home/christian/synchedout/eegip/eegip/tests/test_artifacts/derivatives/eegip_london_preprocessed/sub-s710/ses-m06/eeg/sub-s710_ses-m06_eeg.fif...\n"
     ]
    },
    {
     "name": "stderr",
     "output_type": "stream",
     "text": [
      "/home/christian/synchedout/eegip/eegip/recording.py:209: RuntimeWarning: This filename (/home/christian/synchedout/eegip/eegip/tests/test_artifacts/derivatives/eegip_london_preprocessed/sub-s710/ses-m06/eeg/sub-s710_ses-m06_eeg.fif) does not conform to MNE naming conventions. All raw files should end with raw.fif, raw_sss.fif, raw_tsss.fif, raw.fif.gz, raw_sss.fif.gz, raw_tsss.fif.gz or _meg.fif\n",
      "  self._preprocessed_raw = mne.io.read_raw_fif(self.get_path(\"preprocessed_raw\"), verbose=self.verbose)\n"
     ]
    },
    {
     "name": "stdout",
     "output_type": "stream",
     "text": [
      "    Range : 0 ... 268999 =      0.000 ...   537.998 secs\n",
      "Ready.\n",
      "429 matching events found\n",
      "No baseline correction applied\n",
      "Not setting metadata\n",
      "0 projection items activated\n",
      "Loading data for 429 events and 500 original time points ...\n",
      "239 bad epochs dropped\n",
      "Overwriting existing file.\n",
      "Opening raw data file /home/christian/synchedout/eegip/eegip/tests/test_artifacts/derivatives/eegip_london_preprocessed/sub-s711/ses-m06/eeg/sub-s711_ses-m06_eeg.fif...\n"
     ]
    },
    {
     "name": "stderr",
     "output_type": "stream",
     "text": [
      "/home/christian/synchedout/eegip/eegip/recording.py:209: RuntimeWarning: This filename (/home/christian/synchedout/eegip/eegip/tests/test_artifacts/derivatives/eegip_london_preprocessed/sub-s711/ses-m06/eeg/sub-s711_ses-m06_eeg.fif) does not conform to MNE naming conventions. All raw files should end with raw.fif, raw_sss.fif, raw_tsss.fif, raw.fif.gz, raw_sss.fif.gz, raw_tsss.fif.gz or _meg.fif\n",
      "  self._preprocessed_raw = mne.io.read_raw_fif(self.get_path(\"preprocessed_raw\"), verbose=self.verbose)\n"
     ]
    },
    {
     "name": "stdout",
     "output_type": "stream",
     "text": [
      "    Range : 0 ... 269499 =      0.000 ...   538.998 secs\n",
      "Ready.\n",
      "419 matching events found\n",
      "No baseline correction applied\n",
      "Not setting metadata\n",
      "0 projection items activated\n",
      "Loading data for 419 events and 500 original time points ...\n",
      "242 bad epochs dropped\n",
      "Overwriting existing file.\n",
      "Opening raw data file /home/christian/synchedout/eegip/eegip/tests/test_artifacts/derivatives/eegip_london_preprocessed/sub-s712/ses-m06/eeg/sub-s712_ses-m06_eeg.fif...\n"
     ]
    },
    {
     "name": "stderr",
     "output_type": "stream",
     "text": [
      "/home/christian/synchedout/eegip/eegip/recording.py:209: RuntimeWarning: This filename (/home/christian/synchedout/eegip/eegip/tests/test_artifacts/derivatives/eegip_london_preprocessed/sub-s712/ses-m06/eeg/sub-s712_ses-m06_eeg.fif) does not conform to MNE naming conventions. All raw files should end with raw.fif, raw_sss.fif, raw_tsss.fif, raw.fif.gz, raw_sss.fif.gz, raw_tsss.fif.gz or _meg.fif\n",
      "  self._preprocessed_raw = mne.io.read_raw_fif(self.get_path(\"preprocessed_raw\"), verbose=self.verbose)\n"
     ]
    },
    {
     "name": "stdout",
     "output_type": "stream",
     "text": [
      "    Range : 0 ... 446999 =      0.000 ...   893.998 secs\n",
      "Ready.\n",
      "770 matching events found\n",
      "No baseline correction applied\n",
      "Not setting metadata\n",
      "0 projection items activated\n",
      "Loading data for 770 events and 500 original time points ...\n",
      "135 bad epochs dropped\n",
      "Overwriting existing file.\n",
      "Opening raw data file /home/christian/synchedout/eegip/eegip/tests/test_artifacts/derivatives/eegip_london_preprocessed/sub-s713/ses-m06/eeg/sub-s713_ses-m06_eeg.fif...\n"
     ]
    },
    {
     "name": "stderr",
     "output_type": "stream",
     "text": [
      "/home/christian/synchedout/eegip/eegip/recording.py:209: RuntimeWarning: This filename (/home/christian/synchedout/eegip/eegip/tests/test_artifacts/derivatives/eegip_london_preprocessed/sub-s713/ses-m06/eeg/sub-s713_ses-m06_eeg.fif) does not conform to MNE naming conventions. All raw files should end with raw.fif, raw_sss.fif, raw_tsss.fif, raw.fif.gz, raw_sss.fif.gz, raw_tsss.fif.gz or _meg.fif\n",
      "  self._preprocessed_raw = mne.io.read_raw_fif(self.get_path(\"preprocessed_raw\"), verbose=self.verbose)\n"
     ]
    },
    {
     "name": "stdout",
     "output_type": "stream",
     "text": [
      "    Range : 0 ... 205999 =      0.000 ...   411.998 secs\n",
      "Ready.\n",
      "334 matching events found\n",
      "No baseline correction applied\n",
      "Not setting metadata\n",
      "0 projection items activated\n",
      "Loading data for 334 events and 500 original time points ...\n",
      "56 bad epochs dropped\n",
      "Overwriting existing file.\n",
      "Opening raw data file /home/christian/synchedout/eegip/eegip/tests/test_artifacts/derivatives/eegip_london_preprocessed/sub-s714/ses-m06/eeg/sub-s714_ses-m06_eeg.fif...\n"
     ]
    },
    {
     "name": "stderr",
     "output_type": "stream",
     "text": [
      "/home/christian/synchedout/eegip/eegip/recording.py:209: RuntimeWarning: This filename (/home/christian/synchedout/eegip/eegip/tests/test_artifacts/derivatives/eegip_london_preprocessed/sub-s714/ses-m06/eeg/sub-s714_ses-m06_eeg.fif) does not conform to MNE naming conventions. All raw files should end with raw.fif, raw_sss.fif, raw_tsss.fif, raw.fif.gz, raw_sss.fif.gz, raw_tsss.fif.gz or _meg.fif\n",
      "  self._preprocessed_raw = mne.io.read_raw_fif(self.get_path(\"preprocessed_raw\"), verbose=self.verbose)\n"
     ]
    },
    {
     "name": "stdout",
     "output_type": "stream",
     "text": [
      "    Range : 0 ... 63499 =      0.000 ...   126.998 secs\n",
      "Ready.\n",
      "71 matching events found\n",
      "No baseline correction applied\n",
      "Not setting metadata\n",
      "0 projection items activated\n",
      "Loading data for 71 events and 500 original time points ...\n",
      "38 bad epochs dropped\n",
      "Overwriting existing file.\n",
      "Opening raw data file /home/christian/synchedout/eegip/eegip/tests/test_artifacts/derivatives/eegip_london_preprocessed/sub-s715/ses-m06/eeg/sub-s715_ses-m06_eeg.fif...\n"
     ]
    },
    {
     "name": "stderr",
     "output_type": "stream",
     "text": [
      "/home/christian/synchedout/eegip/eegip/recording.py:209: RuntimeWarning: This filename (/home/christian/synchedout/eegip/eegip/tests/test_artifacts/derivatives/eegip_london_preprocessed/sub-s715/ses-m06/eeg/sub-s715_ses-m06_eeg.fif) does not conform to MNE naming conventions. All raw files should end with raw.fif, raw_sss.fif, raw_tsss.fif, raw.fif.gz, raw_sss.fif.gz, raw_tsss.fif.gz or _meg.fif\n",
      "  self._preprocessed_raw = mne.io.read_raw_fif(self.get_path(\"preprocessed_raw\"), verbose=self.verbose)\n"
     ]
    },
    {
     "name": "stdout",
     "output_type": "stream",
     "text": [
      "    Range : 0 ... 209999 =      0.000 ...   419.998 secs\n",
      "Ready.\n",
      "343 matching events found\n",
      "No baseline correction applied\n",
      "Not setting metadata\n",
      "0 projection items activated\n",
      "Loading data for 343 events and 500 original time points ...\n",
      "147 bad epochs dropped\n",
      "Overwriting existing file.\n",
      "Opening raw data file /home/christian/synchedout/eegip/eegip/tests/test_artifacts/derivatives/eegip_london_preprocessed/sub-s716/ses-m06/eeg/sub-s716_ses-m06_eeg.fif...\n"
     ]
    },
    {
     "name": "stderr",
     "output_type": "stream",
     "text": [
      "/home/christian/synchedout/eegip/eegip/recording.py:209: RuntimeWarning: This filename (/home/christian/synchedout/eegip/eegip/tests/test_artifacts/derivatives/eegip_london_preprocessed/sub-s716/ses-m06/eeg/sub-s716_ses-m06_eeg.fif) does not conform to MNE naming conventions. All raw files should end with raw.fif, raw_sss.fif, raw_tsss.fif, raw.fif.gz, raw_sss.fif.gz, raw_tsss.fif.gz or _meg.fif\n",
      "  self._preprocessed_raw = mne.io.read_raw_fif(self.get_path(\"preprocessed_raw\"), verbose=self.verbose)\n"
     ]
    },
    {
     "name": "stdout",
     "output_type": "stream",
     "text": [
      "    Range : 0 ... 256999 =      0.000 ...   513.998 secs\n",
      "Ready.\n",
      "374 matching events found\n",
      "No baseline correction applied\n",
      "Not setting metadata\n",
      "0 projection items activated\n",
      "Loading data for 374 events and 500 original time points ...\n",
      "137 bad epochs dropped\n",
      "Overwriting existing file.\n",
      "Opening raw data file /home/christian/synchedout/eegip/eegip/tests/test_artifacts/derivatives/eegip_london_preprocessed/sub-s717/ses-m06/eeg/sub-s717_ses-m06_eeg.fif...\n"
     ]
    },
    {
     "name": "stderr",
     "output_type": "stream",
     "text": [
      "/home/christian/synchedout/eegip/eegip/recording.py:209: RuntimeWarning: This filename (/home/christian/synchedout/eegip/eegip/tests/test_artifacts/derivatives/eegip_london_preprocessed/sub-s717/ses-m06/eeg/sub-s717_ses-m06_eeg.fif) does not conform to MNE naming conventions. All raw files should end with raw.fif, raw_sss.fif, raw_tsss.fif, raw.fif.gz, raw_sss.fif.gz, raw_tsss.fif.gz or _meg.fif\n",
      "  self._preprocessed_raw = mne.io.read_raw_fif(self.get_path(\"preprocessed_raw\"), verbose=self.verbose)\n"
     ]
    },
    {
     "name": "stdout",
     "output_type": "stream",
     "text": [
      "    Range : 0 ... 213999 =      0.000 ...   427.998 secs\n",
      "Ready.\n",
      "305 matching events found\n",
      "No baseline correction applied\n",
      "Not setting metadata\n",
      "0 projection items activated\n",
      "Loading data for 305 events and 500 original time points ...\n",
      "168 bad epochs dropped\n",
      "Overwriting existing file.\n",
      "Opening raw data file /home/christian/synchedout/eegip/eegip/tests/test_artifacts/derivatives/eegip_london_preprocessed/sub-s719/ses-m06/eeg/sub-s719_ses-m06_eeg.fif...\n"
     ]
    },
    {
     "name": "stderr",
     "output_type": "stream",
     "text": [
      "/home/christian/synchedout/eegip/eegip/recording.py:209: RuntimeWarning: This filename (/home/christian/synchedout/eegip/eegip/tests/test_artifacts/derivatives/eegip_london_preprocessed/sub-s719/ses-m06/eeg/sub-s719_ses-m06_eeg.fif) does not conform to MNE naming conventions. All raw files should end with raw.fif, raw_sss.fif, raw_tsss.fif, raw.fif.gz, raw_sss.fif.gz, raw_tsss.fif.gz or _meg.fif\n",
      "  self._preprocessed_raw = mne.io.read_raw_fif(self.get_path(\"preprocessed_raw\"), verbose=self.verbose)\n"
     ]
    },
    {
     "name": "stdout",
     "output_type": "stream",
     "text": [
      "    Range : 0 ... 194499 =      0.000 ...   388.998 secs\n",
      "Ready.\n",
      "266 matching events found\n",
      "No baseline correction applied\n",
      "Not setting metadata\n",
      "0 projection items activated\n",
      "Loading data for 266 events and 500 original time points ...\n",
      "127 bad epochs dropped\n",
      "Overwriting existing file.\n",
      "Opening raw data file /home/christian/synchedout/eegip/eegip/tests/test_artifacts/derivatives/eegip_london_preprocessed/sub-s720/ses-m06/eeg/sub-s720_ses-m06_eeg.fif...\n"
     ]
    },
    {
     "name": "stderr",
     "output_type": "stream",
     "text": [
      "/home/christian/synchedout/eegip/eegip/recording.py:209: RuntimeWarning: This filename (/home/christian/synchedout/eegip/eegip/tests/test_artifacts/derivatives/eegip_london_preprocessed/sub-s720/ses-m06/eeg/sub-s720_ses-m06_eeg.fif) does not conform to MNE naming conventions. All raw files should end with raw.fif, raw_sss.fif, raw_tsss.fif, raw.fif.gz, raw_sss.fif.gz, raw_tsss.fif.gz or _meg.fif\n",
      "  self._preprocessed_raw = mne.io.read_raw_fif(self.get_path(\"preprocessed_raw\"), verbose=self.verbose)\n"
     ]
    },
    {
     "name": "stdout",
     "output_type": "stream",
     "text": [
      "    Range : 0 ... 241999 =      0.000 ...   483.998 secs\n",
      "Ready.\n",
      "391 matching events found\n",
      "No baseline correction applied\n",
      "Not setting metadata\n",
      "0 projection items activated\n",
      "Loading data for 391 events and 500 original time points ...\n",
      "195 bad epochs dropped\n",
      "Overwriting existing file.\n",
      "Opening raw data file /home/christian/synchedout/eegip/eegip/tests/test_artifacts/derivatives/eegip_london_preprocessed/sub-s721/ses-m06/eeg/sub-s721_ses-m06_eeg.fif...\n"
     ]
    },
    {
     "name": "stderr",
     "output_type": "stream",
     "text": [
      "/home/christian/synchedout/eegip/eegip/recording.py:209: RuntimeWarning: This filename (/home/christian/synchedout/eegip/eegip/tests/test_artifacts/derivatives/eegip_london_preprocessed/sub-s721/ses-m06/eeg/sub-s721_ses-m06_eeg.fif) does not conform to MNE naming conventions. All raw files should end with raw.fif, raw_sss.fif, raw_tsss.fif, raw.fif.gz, raw_sss.fif.gz, raw_tsss.fif.gz or _meg.fif\n",
      "  self._preprocessed_raw = mne.io.read_raw_fif(self.get_path(\"preprocessed_raw\"), verbose=self.verbose)\n"
     ]
    },
    {
     "name": "stdout",
     "output_type": "stream",
     "text": [
      "    Range : 0 ... 253499 =      0.000 ...   506.998 secs\n",
      "Ready.\n",
      "388 matching events found\n",
      "No baseline correction applied\n",
      "Not setting metadata\n",
      "0 projection items activated\n",
      "Loading data for 388 events and 500 original time points ...\n",
      "166 bad epochs dropped\n",
      "Overwriting existing file.\n",
      "Opening raw data file /home/christian/synchedout/eegip/eegip/tests/test_artifacts/derivatives/eegip_london_preprocessed/sub-s722/ses-m06/eeg/sub-s722_ses-m06_eeg.fif...\n"
     ]
    },
    {
     "name": "stderr",
     "output_type": "stream",
     "text": [
      "/home/christian/synchedout/eegip/eegip/recording.py:209: RuntimeWarning: This filename (/home/christian/synchedout/eegip/eegip/tests/test_artifacts/derivatives/eegip_london_preprocessed/sub-s722/ses-m06/eeg/sub-s722_ses-m06_eeg.fif) does not conform to MNE naming conventions. All raw files should end with raw.fif, raw_sss.fif, raw_tsss.fif, raw.fif.gz, raw_sss.fif.gz, raw_tsss.fif.gz or _meg.fif\n",
      "  self._preprocessed_raw = mne.io.read_raw_fif(self.get_path(\"preprocessed_raw\"), verbose=self.verbose)\n"
     ]
    },
    {
     "name": "stdout",
     "output_type": "stream",
     "text": [
      "    Range : 0 ... 338999 =      0.000 ...   677.998 secs\n",
      "Ready.\n",
      "569 matching events found\n",
      "No baseline correction applied\n",
      "Not setting metadata\n",
      "0 projection items activated\n",
      "Loading data for 569 events and 500 original time points ...\n",
      "203 bad epochs dropped\n",
      "Overwriting existing file.\n",
      "Opening raw data file /home/christian/synchedout/eegip/eegip/tests/test_artifacts/derivatives/eegip_london_preprocessed/sub-s723/ses-m06/eeg/sub-s723_ses-m06_eeg.fif...\n"
     ]
    },
    {
     "name": "stderr",
     "output_type": "stream",
     "text": [
      "/home/christian/synchedout/eegip/eegip/recording.py:209: RuntimeWarning: This filename (/home/christian/synchedout/eegip/eegip/tests/test_artifacts/derivatives/eegip_london_preprocessed/sub-s723/ses-m06/eeg/sub-s723_ses-m06_eeg.fif) does not conform to MNE naming conventions. All raw files should end with raw.fif, raw_sss.fif, raw_tsss.fif, raw.fif.gz, raw_sss.fif.gz, raw_tsss.fif.gz or _meg.fif\n",
      "  self._preprocessed_raw = mne.io.read_raw_fif(self.get_path(\"preprocessed_raw\"), verbose=self.verbose)\n"
     ]
    },
    {
     "name": "stdout",
     "output_type": "stream",
     "text": [
      "    Range : 0 ... 269999 =      0.000 ...   539.998 secs\n",
      "Ready.\n",
      "393 matching events found\n",
      "No baseline correction applied\n",
      "Not setting metadata\n",
      "0 projection items activated\n",
      "Loading data for 393 events and 500 original time points ...\n",
      "254 bad epochs dropped\n",
      "Overwriting existing file.\n",
      "Opening raw data file /home/christian/synchedout/eegip/eegip/tests/test_artifacts/derivatives/eegip_london_preprocessed/sub-s724/ses-m06/eeg/sub-s724_ses-m06_eeg.fif...\n"
     ]
    },
    {
     "name": "stderr",
     "output_type": "stream",
     "text": [
      "/home/christian/synchedout/eegip/eegip/recording.py:209: RuntimeWarning: This filename (/home/christian/synchedout/eegip/eegip/tests/test_artifacts/derivatives/eegip_london_preprocessed/sub-s724/ses-m06/eeg/sub-s724_ses-m06_eeg.fif) does not conform to MNE naming conventions. All raw files should end with raw.fif, raw_sss.fif, raw_tsss.fif, raw.fif.gz, raw_sss.fif.gz, raw_tsss.fif.gz or _meg.fif\n",
      "  self._preprocessed_raw = mne.io.read_raw_fif(self.get_path(\"preprocessed_raw\"), verbose=self.verbose)\n"
     ]
    },
    {
     "name": "stdout",
     "output_type": "stream",
     "text": [
      "    Range : 0 ... 176499 =      0.000 ...   352.998 secs\n",
      "Ready.\n",
      "317 matching events found\n",
      "No baseline correction applied\n",
      "Not setting metadata\n",
      "0 projection items activated\n",
      "Loading data for 317 events and 500 original time points ...\n",
      "135 bad epochs dropped\n",
      "Overwriting existing file.\n",
      "Opening raw data file /home/christian/synchedout/eegip/eegip/tests/test_artifacts/derivatives/eegip_london_preprocessed/sub-s725/ses-m06/eeg/sub-s725_ses-m06_eeg.fif...\n"
     ]
    },
    {
     "name": "stderr",
     "output_type": "stream",
     "text": [
      "/home/christian/synchedout/eegip/eegip/recording.py:209: RuntimeWarning: This filename (/home/christian/synchedout/eegip/eegip/tests/test_artifacts/derivatives/eegip_london_preprocessed/sub-s725/ses-m06/eeg/sub-s725_ses-m06_eeg.fif) does not conform to MNE naming conventions. All raw files should end with raw.fif, raw_sss.fif, raw_tsss.fif, raw.fif.gz, raw_sss.fif.gz, raw_tsss.fif.gz or _meg.fif\n",
      "  self._preprocessed_raw = mne.io.read_raw_fif(self.get_path(\"preprocessed_raw\"), verbose=self.verbose)\n"
     ]
    },
    {
     "name": "stdout",
     "output_type": "stream",
     "text": [
      "    Range : 0 ... 204999 =      0.000 ...   409.998 secs\n",
      "Ready.\n",
      "330 matching events found\n",
      "No baseline correction applied\n",
      "Not setting metadata\n",
      "0 projection items activated\n",
      "Loading data for 330 events and 500 original time points ...\n",
      "86 bad epochs dropped\n",
      "Overwriting existing file.\n",
      "Opening raw data file /home/christian/synchedout/eegip/eegip/tests/test_artifacts/derivatives/eegip_london_preprocessed/sub-s726/ses-m06/eeg/sub-s726_ses-m06_eeg.fif...\n"
     ]
    },
    {
     "name": "stderr",
     "output_type": "stream",
     "text": [
      "/home/christian/synchedout/eegip/eegip/recording.py:209: RuntimeWarning: This filename (/home/christian/synchedout/eegip/eegip/tests/test_artifacts/derivatives/eegip_london_preprocessed/sub-s726/ses-m06/eeg/sub-s726_ses-m06_eeg.fif) does not conform to MNE naming conventions. All raw files should end with raw.fif, raw_sss.fif, raw_tsss.fif, raw.fif.gz, raw_sss.fif.gz, raw_tsss.fif.gz or _meg.fif\n",
      "  self._preprocessed_raw = mne.io.read_raw_fif(self.get_path(\"preprocessed_raw\"), verbose=self.verbose)\n"
     ]
    },
    {
     "name": "stdout",
     "output_type": "stream",
     "text": [
      "    Range : 0 ... 254499 =      0.000 ...   508.998 secs\n",
      "Ready.\n",
      "379 matching events found\n",
      "No baseline correction applied\n",
      "Not setting metadata\n",
      "0 projection items activated\n",
      "Loading data for 379 events and 500 original time points ...\n",
      "229 bad epochs dropped\n",
      "Overwriting existing file.\n",
      "Opening raw data file /home/christian/synchedout/eegip/eegip/tests/test_artifacts/derivatives/eegip_london_preprocessed/sub-s727/ses-m06/eeg/sub-s727_ses-m06_eeg.fif...\n"
     ]
    },
    {
     "name": "stderr",
     "output_type": "stream",
     "text": [
      "/home/christian/synchedout/eegip/eegip/recording.py:209: RuntimeWarning: This filename (/home/christian/synchedout/eegip/eegip/tests/test_artifacts/derivatives/eegip_london_preprocessed/sub-s727/ses-m06/eeg/sub-s727_ses-m06_eeg.fif) does not conform to MNE naming conventions. All raw files should end with raw.fif, raw_sss.fif, raw_tsss.fif, raw.fif.gz, raw_sss.fif.gz, raw_tsss.fif.gz or _meg.fif\n",
      "  self._preprocessed_raw = mne.io.read_raw_fif(self.get_path(\"preprocessed_raw\"), verbose=self.verbose)\n"
     ]
    },
    {
     "name": "stdout",
     "output_type": "stream",
     "text": [
      "    Range : 0 ... 67999 =      0.000 ...   135.998 secs\n",
      "Ready.\n",
      "78 matching events found\n",
      "No baseline correction applied\n",
      "Not setting metadata\n",
      "0 projection items activated\n",
      "Loading data for 78 events and 500 original time points ...\n",
      "48 bad epochs dropped\n",
      "Overwriting existing file.\n",
      "Opening raw data file /home/christian/synchedout/eegip/eegip/tests/test_artifacts/derivatives/eegip_london_preprocessed/sub-s728/ses-m06/eeg/sub-s728_ses-m06_eeg.fif...\n"
     ]
    },
    {
     "name": "stderr",
     "output_type": "stream",
     "text": [
      "/home/christian/synchedout/eegip/eegip/recording.py:209: RuntimeWarning: This filename (/home/christian/synchedout/eegip/eegip/tests/test_artifacts/derivatives/eegip_london_preprocessed/sub-s728/ses-m06/eeg/sub-s728_ses-m06_eeg.fif) does not conform to MNE naming conventions. All raw files should end with raw.fif, raw_sss.fif, raw_tsss.fif, raw.fif.gz, raw_sss.fif.gz, raw_tsss.fif.gz or _meg.fif\n",
      "  self._preprocessed_raw = mne.io.read_raw_fif(self.get_path(\"preprocessed_raw\"), verbose=self.verbose)\n"
     ]
    },
    {
     "name": "stdout",
     "output_type": "stream",
     "text": [
      "    Range : 0 ... 232999 =      0.000 ...   465.998 secs\n",
      "Ready.\n",
      "373 matching events found\n",
      "No baseline correction applied\n",
      "Not setting metadata\n",
      "0 projection items activated\n",
      "Loading data for 373 events and 500 original time points ...\n",
      "120 bad epochs dropped\n",
      "Overwriting existing file.\n",
      "Opening raw data file /home/christian/synchedout/eegip/eegip/tests/test_artifacts/derivatives/eegip_london_preprocessed/sub-s729/ses-m06/eeg/sub-s729_ses-m06_eeg.fif...\n"
     ]
    },
    {
     "name": "stderr",
     "output_type": "stream",
     "text": [
      "/home/christian/synchedout/eegip/eegip/recording.py:209: RuntimeWarning: This filename (/home/christian/synchedout/eegip/eegip/tests/test_artifacts/derivatives/eegip_london_preprocessed/sub-s729/ses-m06/eeg/sub-s729_ses-m06_eeg.fif) does not conform to MNE naming conventions. All raw files should end with raw.fif, raw_sss.fif, raw_tsss.fif, raw.fif.gz, raw_sss.fif.gz, raw_tsss.fif.gz or _meg.fif\n",
      "  self._preprocessed_raw = mne.io.read_raw_fif(self.get_path(\"preprocessed_raw\"), verbose=self.verbose)\n"
     ]
    },
    {
     "name": "stdout",
     "output_type": "stream",
     "text": [
      "    Range : 0 ... 197499 =      0.000 ...   394.998 secs\n",
      "Ready.\n",
      "276 matching events found\n",
      "No baseline correction applied\n",
      "Not setting metadata\n",
      "0 projection items activated\n",
      "Loading data for 276 events and 500 original time points ...\n",
      "212 bad epochs dropped\n",
      "Overwriting existing file.\n",
      "Opening raw data file /home/christian/synchedout/eegip/eegip/tests/test_artifacts/derivatives/eegip_london_preprocessed/sub-s730/ses-m06/eeg/sub-s730_ses-m06_eeg.fif...\n"
     ]
    },
    {
     "name": "stderr",
     "output_type": "stream",
     "text": [
      "/home/christian/synchedout/eegip/eegip/recording.py:209: RuntimeWarning: This filename (/home/christian/synchedout/eegip/eegip/tests/test_artifacts/derivatives/eegip_london_preprocessed/sub-s730/ses-m06/eeg/sub-s730_ses-m06_eeg.fif) does not conform to MNE naming conventions. All raw files should end with raw.fif, raw_sss.fif, raw_tsss.fif, raw.fif.gz, raw_sss.fif.gz, raw_tsss.fif.gz or _meg.fif\n",
      "  self._preprocessed_raw = mne.io.read_raw_fif(self.get_path(\"preprocessed_raw\"), verbose=self.verbose)\n"
     ]
    },
    {
     "name": "stdout",
     "output_type": "stream",
     "text": [
      "    Range : 0 ... 142499 =      0.000 ...   284.998 secs\n",
      "Ready.\n",
      "178 matching events found\n",
      "No baseline correction applied\n",
      "Not setting metadata\n",
      "0 projection items activated\n",
      "Loading data for 178 events and 500 original time points ...\n",
      "74 bad epochs dropped\n",
      "Overwriting existing file.\n",
      "Opening raw data file /home/christian/synchedout/eegip/eegip/tests/test_artifacts/derivatives/eegip_london_preprocessed/sub-s731/ses-m06/eeg/sub-s731_ses-m06_eeg.fif...\n",
      "    Range : 0 ... 141999 =      0.000 ...   283.998 secs\n",
      "Ready.\n",
      "180 matching events found\n",
      "No baseline correction applied\n",
      "Not setting metadata\n",
      "0 projection items activated\n",
      "Loading data for 180 events and 500 original time points ...\n"
     ]
    },
    {
     "name": "stderr",
     "output_type": "stream",
     "text": [
      "/home/christian/synchedout/eegip/eegip/recording.py:209: RuntimeWarning: This filename (/home/christian/synchedout/eegip/eegip/tests/test_artifacts/derivatives/eegip_london_preprocessed/sub-s731/ses-m06/eeg/sub-s731_ses-m06_eeg.fif) does not conform to MNE naming conventions. All raw files should end with raw.fif, raw_sss.fif, raw_tsss.fif, raw.fif.gz, raw_sss.fif.gz, raw_tsss.fif.gz or _meg.fif\n",
      "  self._preprocessed_raw = mne.io.read_raw_fif(self.get_path(\"preprocessed_raw\"), verbose=self.verbose)\n"
     ]
    },
    {
     "name": "stdout",
     "output_type": "stream",
     "text": [
      "120 bad epochs dropped\n",
      "Overwriting existing file.\n",
      "Opening raw data file /home/christian/synchedout/eegip/eegip/tests/test_artifacts/derivatives/eegip_london_preprocessed/sub-s732/ses-m06/eeg/sub-s732_ses-m06_eeg.fif...\n"
     ]
    },
    {
     "name": "stderr",
     "output_type": "stream",
     "text": [
      "/home/christian/synchedout/eegip/eegip/recording.py:209: RuntimeWarning: This filename (/home/christian/synchedout/eegip/eegip/tests/test_artifacts/derivatives/eegip_london_preprocessed/sub-s732/ses-m06/eeg/sub-s732_ses-m06_eeg.fif) does not conform to MNE naming conventions. All raw files should end with raw.fif, raw_sss.fif, raw_tsss.fif, raw.fif.gz, raw_sss.fif.gz, raw_tsss.fif.gz or _meg.fif\n",
      "  self._preprocessed_raw = mne.io.read_raw_fif(self.get_path(\"preprocessed_raw\"), verbose=self.verbose)\n"
     ]
    },
    {
     "name": "stdout",
     "output_type": "stream",
     "text": [
      "    Range : 0 ... 281499 =      0.000 ...   562.998 secs\n",
      "Ready.\n",
      "475 matching events found\n",
      "No baseline correction applied\n",
      "Not setting metadata\n",
      "0 projection items activated\n",
      "Loading data for 475 events and 500 original time points ...\n",
      "321 bad epochs dropped\n",
      "Overwriting existing file.\n",
      "Opening raw data file /home/christian/synchedout/eegip/eegip/tests/test_artifacts/derivatives/eegip_london_preprocessed/sub-s733/ses-m06/eeg/sub-s733_ses-m06_eeg.fif...\n"
     ]
    },
    {
     "name": "stderr",
     "output_type": "stream",
     "text": [
      "/home/christian/synchedout/eegip/eegip/recording.py:209: RuntimeWarning: This filename (/home/christian/synchedout/eegip/eegip/tests/test_artifacts/derivatives/eegip_london_preprocessed/sub-s733/ses-m06/eeg/sub-s733_ses-m06_eeg.fif) does not conform to MNE naming conventions. All raw files should end with raw.fif, raw_sss.fif, raw_tsss.fif, raw.fif.gz, raw_sss.fif.gz, raw_tsss.fif.gz or _meg.fif\n",
      "  self._preprocessed_raw = mne.io.read_raw_fif(self.get_path(\"preprocessed_raw\"), verbose=self.verbose)\n"
     ]
    },
    {
     "name": "stdout",
     "output_type": "stream",
     "text": [
      "    Range : 0 ... 262499 =      0.000 ...   524.998 secs\n",
      "Ready.\n",
      "399 matching events found\n",
      "No baseline correction applied\n",
      "Not setting metadata\n",
      "0 projection items activated\n",
      "Loading data for 399 events and 500 original time points ...\n",
      "83 bad epochs dropped\n",
      "Overwriting existing file.\n",
      "Opening raw data file /home/christian/synchedout/eegip/eegip/tests/test_artifacts/derivatives/eegip_london_preprocessed/sub-s734/ses-m06/eeg/sub-s734_ses-m06_eeg.fif...\n"
     ]
    },
    {
     "name": "stderr",
     "output_type": "stream",
     "text": [
      "/home/christian/synchedout/eegip/eegip/recording.py:209: RuntimeWarning: This filename (/home/christian/synchedout/eegip/eegip/tests/test_artifacts/derivatives/eegip_london_preprocessed/sub-s734/ses-m06/eeg/sub-s734_ses-m06_eeg.fif) does not conform to MNE naming conventions. All raw files should end with raw.fif, raw_sss.fif, raw_tsss.fif, raw.fif.gz, raw_sss.fif.gz, raw_tsss.fif.gz or _meg.fif\n",
      "  self._preprocessed_raw = mne.io.read_raw_fif(self.get_path(\"preprocessed_raw\"), verbose=self.verbose)\n"
     ]
    },
    {
     "name": "stdout",
     "output_type": "stream",
     "text": [
      "    Range : 0 ... 157999 =      0.000 ...   315.998 secs\n",
      "Ready.\n",
      "245 matching events found\n",
      "No baseline correction applied\n",
      "Not setting metadata\n",
      "0 projection items activated\n",
      "Loading data for 245 events and 500 original time points ...\n",
      "123 bad epochs dropped\n",
      "Overwriting existing file.\n",
      "Opening raw data file /home/christian/synchedout/eegip/eegip/tests/test_artifacts/derivatives/eegip_london_preprocessed/sub-s735/ses-m06/eeg/sub-s735_ses-m06_eeg.fif...\n"
     ]
    },
    {
     "name": "stderr",
     "output_type": "stream",
     "text": [
      "/home/christian/synchedout/eegip/eegip/recording.py:209: RuntimeWarning: This filename (/home/christian/synchedout/eegip/eegip/tests/test_artifacts/derivatives/eegip_london_preprocessed/sub-s735/ses-m06/eeg/sub-s735_ses-m06_eeg.fif) does not conform to MNE naming conventions. All raw files should end with raw.fif, raw_sss.fif, raw_tsss.fif, raw.fif.gz, raw_sss.fif.gz, raw_tsss.fif.gz or _meg.fif\n",
      "  self._preprocessed_raw = mne.io.read_raw_fif(self.get_path(\"preprocessed_raw\"), verbose=self.verbose)\n"
     ]
    },
    {
     "name": "stdout",
     "output_type": "stream",
     "text": [
      "    Range : 0 ... 136999 =      0.000 ...   273.998 secs\n",
      "Ready.\n",
      "207 matching events found\n",
      "No baseline correction applied\n",
      "Not setting metadata\n",
      "0 projection items activated\n",
      "Loading data for 207 events and 500 original time points ...\n",
      "143 bad epochs dropped\n",
      "Overwriting existing file.\n",
      "Opening raw data file /home/christian/synchedout/eegip/eegip/tests/test_artifacts/derivatives/eegip_london_preprocessed/sub-s736/ses-m06/eeg/sub-s736_ses-m06_eeg.fif...\n"
     ]
    },
    {
     "name": "stderr",
     "output_type": "stream",
     "text": [
      "/home/christian/synchedout/eegip/eegip/recording.py:209: RuntimeWarning: This filename (/home/christian/synchedout/eegip/eegip/tests/test_artifacts/derivatives/eegip_london_preprocessed/sub-s736/ses-m06/eeg/sub-s736_ses-m06_eeg.fif) does not conform to MNE naming conventions. All raw files should end with raw.fif, raw_sss.fif, raw_tsss.fif, raw.fif.gz, raw_sss.fif.gz, raw_tsss.fif.gz or _meg.fif\n",
      "  self._preprocessed_raw = mne.io.read_raw_fif(self.get_path(\"preprocessed_raw\"), verbose=self.verbose)\n"
     ]
    },
    {
     "name": "stdout",
     "output_type": "stream",
     "text": [
      "    Range : 0 ... 207999 =      0.000 ...   415.998 secs\n",
      "Ready.\n",
      "336 matching events found\n",
      "No baseline correction applied\n",
      "Not setting metadata\n",
      "0 projection items activated\n",
      "Loading data for 336 events and 500 original time points ...\n",
      "113 bad epochs dropped\n",
      "Overwriting existing file.\n",
      "Opening raw data file /home/christian/synchedout/eegip/eegip/tests/test_artifacts/derivatives/eegip_london_preprocessed/sub-s737/ses-m06/eeg/sub-s737_ses-m06_eeg.fif...\n"
     ]
    },
    {
     "name": "stderr",
     "output_type": "stream",
     "text": [
      "/home/christian/synchedout/eegip/eegip/recording.py:209: RuntimeWarning: This filename (/home/christian/synchedout/eegip/eegip/tests/test_artifacts/derivatives/eegip_london_preprocessed/sub-s737/ses-m06/eeg/sub-s737_ses-m06_eeg.fif) does not conform to MNE naming conventions. All raw files should end with raw.fif, raw_sss.fif, raw_tsss.fif, raw.fif.gz, raw_sss.fif.gz, raw_tsss.fif.gz or _meg.fif\n",
      "  self._preprocessed_raw = mne.io.read_raw_fif(self.get_path(\"preprocessed_raw\"), verbose=self.verbose)\n"
     ]
    },
    {
     "name": "stdout",
     "output_type": "stream",
     "text": [
      "    Range : 0 ... 201999 =      0.000 ...   403.998 secs\n",
      "Ready.\n",
      "324 matching events found\n",
      "No baseline correction applied\n",
      "Not setting metadata\n",
      "0 projection items activated\n",
      "Loading data for 324 events and 500 original time points ...\n",
      "200 bad epochs dropped\n",
      "Overwriting existing file.\n",
      "Opening raw data file /home/christian/synchedout/eegip/eegip/tests/test_artifacts/derivatives/eegip_london_preprocessed/sub-s738/ses-m06/eeg/sub-s738_ses-m06_eeg.fif...\n"
     ]
    },
    {
     "name": "stderr",
     "output_type": "stream",
     "text": [
      "/home/christian/synchedout/eegip/eegip/recording.py:209: RuntimeWarning: This filename (/home/christian/synchedout/eegip/eegip/tests/test_artifacts/derivatives/eegip_london_preprocessed/sub-s738/ses-m06/eeg/sub-s738_ses-m06_eeg.fif) does not conform to MNE naming conventions. All raw files should end with raw.fif, raw_sss.fif, raw_tsss.fif, raw.fif.gz, raw_sss.fif.gz, raw_tsss.fif.gz or _meg.fif\n",
      "  self._preprocessed_raw = mne.io.read_raw_fif(self.get_path(\"preprocessed_raw\"), verbose=self.verbose)\n"
     ]
    },
    {
     "name": "stdout",
     "output_type": "stream",
     "text": [
      "    Range : 0 ... 196499 =      0.000 ...   392.998 secs\n",
      "Ready.\n",
      "315 matching events found\n",
      "No baseline correction applied\n",
      "Not setting metadata\n",
      "0 projection items activated\n",
      "Loading data for 315 events and 500 original time points ...\n",
      "162 bad epochs dropped\n",
      "Overwriting existing file.\n",
      "Opening raw data file /home/christian/synchedout/eegip/eegip/tests/test_artifacts/derivatives/eegip_london_preprocessed/sub-s739/ses-m06/eeg/sub-s739_ses-m06_eeg.fif...\n"
     ]
    },
    {
     "name": "stderr",
     "output_type": "stream",
     "text": [
      "/home/christian/synchedout/eegip/eegip/recording.py:209: RuntimeWarning: This filename (/home/christian/synchedout/eegip/eegip/tests/test_artifacts/derivatives/eegip_london_preprocessed/sub-s739/ses-m06/eeg/sub-s739_ses-m06_eeg.fif) does not conform to MNE naming conventions. All raw files should end with raw.fif, raw_sss.fif, raw_tsss.fif, raw.fif.gz, raw_sss.fif.gz, raw_tsss.fif.gz or _meg.fif\n",
      "  self._preprocessed_raw = mne.io.read_raw_fif(self.get_path(\"preprocessed_raw\"), verbose=self.verbose)\n"
     ]
    },
    {
     "name": "stdout",
     "output_type": "stream",
     "text": [
      "    Range : 0 ... 226499 =      0.000 ...   452.998 secs\n",
      "Ready.\n",
      "326 matching events found\n",
      "No baseline correction applied\n",
      "Not setting metadata\n",
      "0 projection items activated\n",
      "Loading data for 326 events and 500 original time points ...\n",
      "167 bad epochs dropped\n",
      "Overwriting existing file.\n",
      "Opening raw data file /home/christian/synchedout/eegip/eegip/tests/test_artifacts/derivatives/eegip_london_preprocessed/sub-s740/ses-m06/eeg/sub-s740_ses-m06_eeg.fif...\n"
     ]
    },
    {
     "name": "stderr",
     "output_type": "stream",
     "text": [
      "/home/christian/synchedout/eegip/eegip/recording.py:209: RuntimeWarning: This filename (/home/christian/synchedout/eegip/eegip/tests/test_artifacts/derivatives/eegip_london_preprocessed/sub-s740/ses-m06/eeg/sub-s740_ses-m06_eeg.fif) does not conform to MNE naming conventions. All raw files should end with raw.fif, raw_sss.fif, raw_tsss.fif, raw.fif.gz, raw_sss.fif.gz, raw_tsss.fif.gz or _meg.fif\n",
      "  self._preprocessed_raw = mne.io.read_raw_fif(self.get_path(\"preprocessed_raw\"), verbose=self.verbose)\n"
     ]
    },
    {
     "name": "stdout",
     "output_type": "stream",
     "text": [
      "    Range : 0 ... 257499 =      0.000 ...   514.998 secs\n",
      "Ready.\n",
      "387 matching events found\n",
      "No baseline correction applied\n",
      "Not setting metadata\n",
      "0 projection items activated\n",
      "Loading data for 387 events and 500 original time points ...\n",
      "123 bad epochs dropped\n",
      "Overwriting existing file.\n",
      "Opening raw data file /home/christian/synchedout/eegip/eegip/tests/test_artifacts/derivatives/eegip_london_preprocessed/sub-s741/ses-m06/eeg/sub-s741_ses-m06_eeg.fif...\n"
     ]
    },
    {
     "name": "stderr",
     "output_type": "stream",
     "text": [
      "/home/christian/synchedout/eegip/eegip/recording.py:209: RuntimeWarning: This filename (/home/christian/synchedout/eegip/eegip/tests/test_artifacts/derivatives/eegip_london_preprocessed/sub-s741/ses-m06/eeg/sub-s741_ses-m06_eeg.fif) does not conform to MNE naming conventions. All raw files should end with raw.fif, raw_sss.fif, raw_tsss.fif, raw.fif.gz, raw_sss.fif.gz, raw_tsss.fif.gz or _meg.fif\n",
      "  self._preprocessed_raw = mne.io.read_raw_fif(self.get_path(\"preprocessed_raw\"), verbose=self.verbose)\n"
     ]
    },
    {
     "name": "stdout",
     "output_type": "stream",
     "text": [
      "    Range : 0 ... 232999 =      0.000 ...   465.998 secs\n",
      "Ready.\n",
      "262 matching events found\n",
      "No baseline correction applied\n",
      "Not setting metadata\n",
      "0 projection items activated\n",
      "Loading data for 262 events and 500 original time points ...\n",
      "101 bad epochs dropped\n",
      "Overwriting existing file.\n",
      "Opening raw data file /home/christian/synchedout/eegip/eegip/tests/test_artifacts/derivatives/eegip_london_preprocessed/sub-s742/ses-m06/eeg/sub-s742_ses-m06_eeg.fif...\n"
     ]
    },
    {
     "name": "stderr",
     "output_type": "stream",
     "text": [
      "/home/christian/synchedout/eegip/eegip/recording.py:209: RuntimeWarning: This filename (/home/christian/synchedout/eegip/eegip/tests/test_artifacts/derivatives/eegip_london_preprocessed/sub-s742/ses-m06/eeg/sub-s742_ses-m06_eeg.fif) does not conform to MNE naming conventions. All raw files should end with raw.fif, raw_sss.fif, raw_tsss.fif, raw.fif.gz, raw_sss.fif.gz, raw_tsss.fif.gz or _meg.fif\n",
      "  self._preprocessed_raw = mne.io.read_raw_fif(self.get_path(\"preprocessed_raw\"), verbose=self.verbose)\n"
     ]
    },
    {
     "name": "stdout",
     "output_type": "stream",
     "text": [
      "    Range : 0 ... 252999 =      0.000 ...   505.998 secs\n",
      "Ready.\n",
      "419 matching events found\n",
      "No baseline correction applied\n",
      "Not setting metadata\n",
      "0 projection items activated\n",
      "Loading data for 419 events and 500 original time points ...\n",
      "202 bad epochs dropped\n",
      "Overwriting existing file.\n",
      "Opening raw data file /home/christian/synchedout/eegip/eegip/tests/test_artifacts/derivatives/eegip_london_preprocessed/sub-s743/ses-m06/eeg/sub-s743_ses-m06_eeg.fif...\n"
     ]
    },
    {
     "name": "stderr",
     "output_type": "stream",
     "text": [
      "/home/christian/synchedout/eegip/eegip/recording.py:209: RuntimeWarning: This filename (/home/christian/synchedout/eegip/eegip/tests/test_artifacts/derivatives/eegip_london_preprocessed/sub-s743/ses-m06/eeg/sub-s743_ses-m06_eeg.fif) does not conform to MNE naming conventions. All raw files should end with raw.fif, raw_sss.fif, raw_tsss.fif, raw.fif.gz, raw_sss.fif.gz, raw_tsss.fif.gz or _meg.fif\n",
      "  self._preprocessed_raw = mne.io.read_raw_fif(self.get_path(\"preprocessed_raw\"), verbose=self.verbose)\n"
     ]
    },
    {
     "name": "stdout",
     "output_type": "stream",
     "text": [
      "    Range : 0 ... 217999 =      0.000 ...   435.998 secs\n",
      "Ready.\n",
      "350 matching events found\n",
      "No baseline correction applied\n",
      "Not setting metadata\n",
      "0 projection items activated\n",
      "Loading data for 350 events and 500 original time points ...\n",
      "155 bad epochs dropped\n",
      "Overwriting existing file.\n",
      "Opening raw data file /home/christian/synchedout/eegip/eegip/tests/test_artifacts/derivatives/eegip_london_preprocessed/sub-s745/ses-m06/eeg/sub-s745_ses-m06_eeg.fif...\n"
     ]
    },
    {
     "name": "stderr",
     "output_type": "stream",
     "text": [
      "/home/christian/synchedout/eegip/eegip/recording.py:209: RuntimeWarning: This filename (/home/christian/synchedout/eegip/eegip/tests/test_artifacts/derivatives/eegip_london_preprocessed/sub-s745/ses-m06/eeg/sub-s745_ses-m06_eeg.fif) does not conform to MNE naming conventions. All raw files should end with raw.fif, raw_sss.fif, raw_tsss.fif, raw.fif.gz, raw_sss.fif.gz, raw_tsss.fif.gz or _meg.fif\n",
      "  self._preprocessed_raw = mne.io.read_raw_fif(self.get_path(\"preprocessed_raw\"), verbose=self.verbose)\n"
     ]
    },
    {
     "name": "stdout",
     "output_type": "stream",
     "text": [
      "    Range : 0 ... 208999 =      0.000 ...   417.998 secs\n",
      "Ready.\n",
      "337 matching events found\n",
      "No baseline correction applied\n",
      "Not setting metadata\n",
      "0 projection items activated\n",
      "Loading data for 337 events and 500 original time points ...\n",
      "139 bad epochs dropped\n",
      "Overwriting existing file.\n",
      "Opening raw data file /home/christian/synchedout/eegip/eegip/tests/test_artifacts/derivatives/eegip_london_preprocessed/sub-s746/ses-m06/eeg/sub-s746_ses-m06_eeg.fif...\n"
     ]
    },
    {
     "name": "stderr",
     "output_type": "stream",
     "text": [
      "/home/christian/synchedout/eegip/eegip/recording.py:209: RuntimeWarning: This filename (/home/christian/synchedout/eegip/eegip/tests/test_artifacts/derivatives/eegip_london_preprocessed/sub-s746/ses-m06/eeg/sub-s746_ses-m06_eeg.fif) does not conform to MNE naming conventions. All raw files should end with raw.fif, raw_sss.fif, raw_tsss.fif, raw.fif.gz, raw_sss.fif.gz, raw_tsss.fif.gz or _meg.fif\n",
      "  self._preprocessed_raw = mne.io.read_raw_fif(self.get_path(\"preprocessed_raw\"), verbose=self.verbose)\n"
     ]
    },
    {
     "name": "stdout",
     "output_type": "stream",
     "text": [
      "    Range : 0 ... 264499 =      0.000 ...   528.998 secs\n",
      "Ready.\n",
      "402 matching events found\n",
      "No baseline correction applied\n",
      "Not setting metadata\n",
      "0 projection items activated\n",
      "Loading data for 402 events and 500 original time points ...\n",
      "190 bad epochs dropped\n",
      "Overwriting existing file.\n",
      "Opening raw data file /home/christian/synchedout/eegip/eegip/tests/test_artifacts/derivatives/eegip_london_preprocessed/sub-s747/ses-m06/eeg/sub-s747_ses-m06_eeg.fif...\n"
     ]
    },
    {
     "name": "stderr",
     "output_type": "stream",
     "text": [
      "/home/christian/synchedout/eegip/eegip/recording.py:209: RuntimeWarning: This filename (/home/christian/synchedout/eegip/eegip/tests/test_artifacts/derivatives/eegip_london_preprocessed/sub-s747/ses-m06/eeg/sub-s747_ses-m06_eeg.fif) does not conform to MNE naming conventions. All raw files should end with raw.fif, raw_sss.fif, raw_tsss.fif, raw.fif.gz, raw_sss.fif.gz, raw_tsss.fif.gz or _meg.fif\n",
      "  self._preprocessed_raw = mne.io.read_raw_fif(self.get_path(\"preprocessed_raw\"), verbose=self.verbose)\n"
     ]
    },
    {
     "name": "stdout",
     "output_type": "stream",
     "text": [
      "    Range : 0 ... 236499 =      0.000 ...   472.998 secs\n",
      "Ready.\n",
      "348 matching events found\n",
      "No baseline correction applied\n",
      "Not setting metadata\n",
      "0 projection items activated\n",
      "Loading data for 348 events and 500 original time points ...\n",
      "159 bad epochs dropped\n",
      "Overwriting existing file.\n",
      "Opening raw data file /home/christian/synchedout/eegip/eegip/tests/test_artifacts/derivatives/eegip_london_preprocessed/sub-s748/ses-m06/eeg/sub-s748_ses-m06_eeg.fif...\n"
     ]
    },
    {
     "name": "stderr",
     "output_type": "stream",
     "text": [
      "/home/christian/synchedout/eegip/eegip/recording.py:209: RuntimeWarning: This filename (/home/christian/synchedout/eegip/eegip/tests/test_artifacts/derivatives/eegip_london_preprocessed/sub-s748/ses-m06/eeg/sub-s748_ses-m06_eeg.fif) does not conform to MNE naming conventions. All raw files should end with raw.fif, raw_sss.fif, raw_tsss.fif, raw.fif.gz, raw_sss.fif.gz, raw_tsss.fif.gz or _meg.fif\n",
      "  self._preprocessed_raw = mne.io.read_raw_fif(self.get_path(\"preprocessed_raw\"), verbose=self.verbose)\n"
     ]
    },
    {
     "name": "stdout",
     "output_type": "stream",
     "text": [
      "    Range : 0 ... 287499 =      0.000 ...   574.998 secs\n",
      "Ready.\n",
      "440 matching events found\n",
      "No baseline correction applied\n",
      "Not setting metadata\n",
      "0 projection items activated\n",
      "Loading data for 440 events and 500 original time points ...\n",
      "159 bad epochs dropped\n",
      "Overwriting existing file.\n",
      "Opening raw data file /home/christian/synchedout/eegip/eegip/tests/test_artifacts/derivatives/eegip_london_preprocessed/sub-s749/ses-m06/eeg/sub-s749_ses-m06_eeg.fif...\n"
     ]
    },
    {
     "name": "stderr",
     "output_type": "stream",
     "text": [
      "/home/christian/synchedout/eegip/eegip/recording.py:209: RuntimeWarning: This filename (/home/christian/synchedout/eegip/eegip/tests/test_artifacts/derivatives/eegip_london_preprocessed/sub-s749/ses-m06/eeg/sub-s749_ses-m06_eeg.fif) does not conform to MNE naming conventions. All raw files should end with raw.fif, raw_sss.fif, raw_tsss.fif, raw.fif.gz, raw_sss.fif.gz, raw_tsss.fif.gz or _meg.fif\n",
      "  self._preprocessed_raw = mne.io.read_raw_fif(self.get_path(\"preprocessed_raw\"), verbose=self.verbose)\n"
     ]
    },
    {
     "name": "stdout",
     "output_type": "stream",
     "text": [
      "    Range : 0 ... 254499 =      0.000 ...   508.998 secs\n",
      "Ready.\n",
      "419 matching events found\n",
      "No baseline correction applied\n",
      "Not setting metadata\n",
      "0 projection items activated\n",
      "Loading data for 419 events and 500 original time points ...\n",
      "138 bad epochs dropped\n",
      "Overwriting existing file.\n",
      "Opening raw data file /home/christian/synchedout/eegip/eegip/tests/test_artifacts/derivatives/eegip_london_preprocessed/sub-s750/ses-m06/eeg/sub-s750_ses-m06_eeg.fif...\n"
     ]
    },
    {
     "name": "stderr",
     "output_type": "stream",
     "text": [
      "/home/christian/synchedout/eegip/eegip/recording.py:209: RuntimeWarning: This filename (/home/christian/synchedout/eegip/eegip/tests/test_artifacts/derivatives/eegip_london_preprocessed/sub-s750/ses-m06/eeg/sub-s750_ses-m06_eeg.fif) does not conform to MNE naming conventions. All raw files should end with raw.fif, raw_sss.fif, raw_tsss.fif, raw.fif.gz, raw_sss.fif.gz, raw_tsss.fif.gz or _meg.fif\n",
      "  self._preprocessed_raw = mne.io.read_raw_fif(self.get_path(\"preprocessed_raw\"), verbose=self.verbose)\n"
     ]
    },
    {
     "name": "stdout",
     "output_type": "stream",
     "text": [
      "    Range : 0 ... 228499 =      0.000 ...   456.998 secs\n",
      "Ready.\n",
      "374 matching events found\n",
      "No baseline correction applied\n",
      "Not setting metadata\n",
      "0 projection items activated\n",
      "Loading data for 374 events and 500 original time points ...\n",
      "95 bad epochs dropped\n",
      "Overwriting existing file.\n",
      "\n"
     ]
    }
   ],
   "source": [
    "for recording_name in tqdm(recording_names):\n",
    "    recording = dataset_mng.dataset.recordings[recording_name]\n",
    "\n",
    "    try:\n",
    "        recording.get_artifact(\"events\", recompute=True)                \n",
    "        recording.get_artifact(\"epochs\", recompute=True)\n",
    "    except FileNotFoundError as e:\n",
    "        continue\n",
    "\n",
    "    data = recording.epochs.get_data()\n",
    "    \n",
    "    data = xr.DataArray(data, dims=('epochs', 'channels', 'times'),\n",
    "                     coords={'epochs': np.arange(data.shape[0]), \n",
    "                             'channels': recording.epochs.ch_names,\n",
    "                             'times': recording.epochs.times})\n",
    "\n",
    "    data -= data.mean(\"times\")  # De-meaning time series\n",
    "    \n",
    "    inv_event_id = {val:key for key, val in recording.epochs.event_id.items()}\n",
    "    event_strs = np.array([inv_event_id[id_] for id_ in recording.epochs.events[:, 2]])\n",
    "\n",
    "    recording.flush()\n",
    "        \n",
    "    for event_str in np.unique(event_strs):\n",
    "        epochs_no = np.where(event_strs == event_str)[0] \n",
    "\n",
    "        file_path = template_check_path / \"{}_{}_{}_mean.netcdf\".format(recording_name, event_str, \"scalp\")\n",
    "        data.sel(epochs=epochs_no).mean(\"epochs\").to_netcdf(file_path, mode= 'w')\n",
    "\n",
    "        file_path = template_check_path / \"{}_{}_{}_std.netcdf\".format(recording_name, event_str, \"scalp\")\n",
    "        data.sel(epochs=epochs_no).std(\"epochs\").to_netcdf(file_path, mode= 'w')"
   ]
  },
  {
   "cell_type": "markdown",
   "metadata": {},
   "source": [
    "# Compute ICA stats"
   ]
  },
  {
   "cell_type": "code",
   "execution_count": 6,
   "metadata": {},
   "outputs": [
    {
     "data": {
      "application/vnd.jupyter.widget-view+json": {
       "model_id": "37e2fc914a474893ac27ed751568d2f4",
       "version_major": 2,
       "version_minor": 0
      },
      "text/plain": [
       "HBox(children=(FloatProgress(value=0.0, max=105.0), HTML(value='')))"
      ]
     },
     "metadata": {},
     "output_type": "display_data"
    },
    {
     "name": "stdout",
     "output_type": "stream",
     "text": [
      "Opening raw data file /home/christian/synchedout/eegip/eegip/tests/test_artifacts/derivatives/eegip_london_preprocessed/sub-s601/ses-m06/eeg/sub-s601_ses-m06_eeg.fif...\n",
      "    Range : 0 ... 81499 =      0.000 ...   162.998 secs\n",
      "Ready.\n",
      "116 matching events found\n",
      "No baseline correction applied\n",
      "Not setting metadata\n",
      "0 projection items activated\n",
      "Loading data for 116 events and 500 original time points ...\n",
      "61 bad epochs dropped\n",
      "Overwriting existing file.\n"
     ]
    },
    {
     "name": "stderr",
     "output_type": "stream",
     "text": [
      "/home/christian/synchedout/eegip/eegip/recording.py:209: RuntimeWarning: This filename (/home/christian/synchedout/eegip/eegip/tests/test_artifacts/derivatives/eegip_london_preprocessed/sub-s601/ses-m06/eeg/sub-s601_ses-m06_eeg.fif) does not conform to MNE naming conventions. All raw files should end with raw.fif, raw_sss.fif, raw_tsss.fif, raw.fif.gz, raw_sss.fif.gz, raw_tsss.fif.gz or _meg.fif\n",
      "  self._preprocessed_raw = mne.io.read_raw_fif(self.get_path(\"preprocessed_raw\"), verbose=self.verbose)\n"
     ]
    },
    {
     "name": "stdout",
     "output_type": "stream",
     "text": [
      "Reading /home/christian/synchedout/eegip/eegip/tests/test_artifacts/derivatives/eegip_london_preprocessed/sub-s601/ses-m06/mod/sub-s601_ses-m06_epo.fif ...\n",
      "    Found the data of interest:\n",
      "        t =    -200.00 ...     798.00 ms\n",
      "        0 CTF compensation matrices available\n",
      "55 matching events found\n",
      "No baseline correction applied\n",
      "Not setting metadata\n",
      "0 projection items activated\n",
      "Reading /home/christian/synchedout/eegip/eegip/tests/test_artifacts/derivatives/eegip_london_preprocessed/sub-s601/ses-m06/mod/sub-s601_ses-m06_epo.fif ...\n",
      "    Found the data of interest:\n",
      "        t =    -200.00 ...     798.00 ms\n",
      "        0 CTF compensation matrices available\n",
      "55 matching events found\n",
      "No baseline correction applied\n",
      "Not setting metadata\n",
      "0 projection items activated\n",
      "Reading /home/christian/synchedout/eegip/eegip/tests/test_artifacts/derivatives/eegip_london_preprocessed/sub-s601/ses-m06/mod/sub-s601_ses-m06_epo.fif ...\n",
      "    Found the data of interest:\n",
      "        t =    -200.00 ...     798.00 ms\n",
      "        0 CTF compensation matrices available\n",
      "55 matching events found\n",
      "No baseline correction applied\n",
      "Not setting metadata\n",
      "0 projection items activated\n",
      "Opening raw data file /home/christian/synchedout/eegip/eegip/tests/test_artifacts/derivatives/eegip_london_preprocessed/sub-s602/ses-m06/eeg/sub-s602_ses-m06_eeg.fif...\n",
      "    Range : 0 ... 240999 =      0.000 ...   481.998 secs\n",
      "Ready.\n",
      "374 matching events found\n",
      "No baseline correction applied\n",
      "Not setting metadata\n",
      "0 projection items activated\n",
      "Loading data for 374 events and 500 original time points ...\n"
     ]
    },
    {
     "name": "stderr",
     "output_type": "stream",
     "text": [
      "/home/christian/synchedout/eegip/eegip/recording.py:209: RuntimeWarning: This filename (/home/christian/synchedout/eegip/eegip/tests/test_artifacts/derivatives/eegip_london_preprocessed/sub-s602/ses-m06/eeg/sub-s602_ses-m06_eeg.fif) does not conform to MNE naming conventions. All raw files should end with raw.fif, raw_sss.fif, raw_tsss.fif, raw.fif.gz, raw_sss.fif.gz, raw_tsss.fif.gz or _meg.fif\n",
      "  self._preprocessed_raw = mne.io.read_raw_fif(self.get_path(\"preprocessed_raw\"), verbose=self.verbose)\n"
     ]
    },
    {
     "name": "stdout",
     "output_type": "stream",
     "text": [
      "146 bad epochs dropped\n",
      "Overwriting existing file.\n",
      "Reading /home/christian/synchedout/eegip/eegip/tests/test_artifacts/derivatives/eegip_london_preprocessed/sub-s602/ses-m06/mod/sub-s602_ses-m06_epo.fif ...\n",
      "    Found the data of interest:\n",
      "        t =    -200.00 ...     798.00 ms\n",
      "        0 CTF compensation matrices available\n",
      "228 matching events found\n",
      "No baseline correction applied\n",
      "Not setting metadata\n",
      "0 projection items activated\n",
      "Reading /home/christian/synchedout/eegip/eegip/tests/test_artifacts/derivatives/eegip_london_preprocessed/sub-s602/ses-m06/mod/sub-s602_ses-m06_epo.fif ...\n",
      "    Found the data of interest:\n",
      "        t =    -200.00 ...     798.00 ms\n",
      "        0 CTF compensation matrices available\n",
      "228 matching events found\n",
      "No baseline correction applied\n",
      "Not setting metadata\n",
      "0 projection items activated\n",
      "Reading /home/christian/synchedout/eegip/eegip/tests/test_artifacts/derivatives/eegip_london_preprocessed/sub-s602/ses-m06/mod/sub-s602_ses-m06_epo.fif ...\n",
      "    Found the data of interest:\n",
      "        t =    -200.00 ...     798.00 ms\n",
      "        0 CTF compensation matrices available\n",
      "228 matching events found\n",
      "No baseline correction applied\n",
      "Not setting metadata\n",
      "0 projection items activated\n",
      "Opening raw data file /home/christian/synchedout/eegip/eegip/tests/test_artifacts/derivatives/eegip_london_preprocessed/sub-s603/ses-m06/eeg/sub-s603_ses-m06_eeg.fif...\n",
      "    Range : 0 ... 390999 =      0.000 ...   781.998 secs\n",
      "Ready.\n",
      "581 matching events found\n",
      "No baseline correction applied\n",
      "Not setting metadata\n",
      "0 projection items activated\n",
      "Loading data for 581 events and 500 original time points ...\n"
     ]
    },
    {
     "name": "stderr",
     "output_type": "stream",
     "text": [
      "/home/christian/synchedout/eegip/eegip/recording.py:209: RuntimeWarning: This filename (/home/christian/synchedout/eegip/eegip/tests/test_artifacts/derivatives/eegip_london_preprocessed/sub-s603/ses-m06/eeg/sub-s603_ses-m06_eeg.fif) does not conform to MNE naming conventions. All raw files should end with raw.fif, raw_sss.fif, raw_tsss.fif, raw.fif.gz, raw_sss.fif.gz, raw_tsss.fif.gz or _meg.fif\n",
      "  self._preprocessed_raw = mne.io.read_raw_fif(self.get_path(\"preprocessed_raw\"), verbose=self.verbose)\n"
     ]
    },
    {
     "name": "stdout",
     "output_type": "stream",
     "text": [
      "338 bad epochs dropped\n",
      "Overwriting existing file.\n",
      "Reading /home/christian/synchedout/eegip/eegip/tests/test_artifacts/derivatives/eegip_london_preprocessed/sub-s603/ses-m06/mod/sub-s603_ses-m06_epo.fif ...\n",
      "    Found the data of interest:\n",
      "        t =    -200.00 ...     798.00 ms\n",
      "        0 CTF compensation matrices available\n",
      "243 matching events found\n",
      "No baseline correction applied\n",
      "Not setting metadata\n",
      "0 projection items activated\n",
      "Reading /home/christian/synchedout/eegip/eegip/tests/test_artifacts/derivatives/eegip_london_preprocessed/sub-s603/ses-m06/mod/sub-s603_ses-m06_epo.fif ...\n",
      "    Found the data of interest:\n",
      "        t =    -200.00 ...     798.00 ms\n",
      "        0 CTF compensation matrices available\n",
      "243 matching events found\n",
      "No baseline correction applied\n",
      "Not setting metadata\n",
      "0 projection items activated\n",
      "Reading /home/christian/synchedout/eegip/eegip/tests/test_artifacts/derivatives/eegip_london_preprocessed/sub-s603/ses-m06/mod/sub-s603_ses-m06_epo.fif ...\n",
      "    Found the data of interest:\n",
      "        t =    -200.00 ...     798.00 ms\n",
      "        0 CTF compensation matrices available\n",
      "243 matching events found\n",
      "No baseline correction applied\n",
      "Not setting metadata\n",
      "0 projection items activated\n",
      "Opening raw data file /home/christian/synchedout/eegip/eegip/tests/test_artifacts/derivatives/eegip_london_preprocessed/sub-s604/ses-m06/eeg/sub-s604_ses-m06_eeg.fif...\n",
      "    Range : 0 ... 194999 =      0.000 ...   389.998 secs\n",
      "Ready.\n",
      "292 matching events found\n",
      "No baseline correction applied\n",
      "Not setting metadata\n",
      "0 projection items activated\n",
      "Loading data for 292 events and 500 original time points ...\n"
     ]
    },
    {
     "name": "stderr",
     "output_type": "stream",
     "text": [
      "/home/christian/synchedout/eegip/eegip/recording.py:209: RuntimeWarning: This filename (/home/christian/synchedout/eegip/eegip/tests/test_artifacts/derivatives/eegip_london_preprocessed/sub-s604/ses-m06/eeg/sub-s604_ses-m06_eeg.fif) does not conform to MNE naming conventions. All raw files should end with raw.fif, raw_sss.fif, raw_tsss.fif, raw.fif.gz, raw_sss.fif.gz, raw_tsss.fif.gz or _meg.fif\n",
      "  self._preprocessed_raw = mne.io.read_raw_fif(self.get_path(\"preprocessed_raw\"), verbose=self.verbose)\n"
     ]
    },
    {
     "name": "stdout",
     "output_type": "stream",
     "text": [
      "188 bad epochs dropped\n",
      "Overwriting existing file.\n",
      "Reading /home/christian/synchedout/eegip/eegip/tests/test_artifacts/derivatives/eegip_london_preprocessed/sub-s604/ses-m06/mod/sub-s604_ses-m06_epo.fif ...\n",
      "    Found the data of interest:\n",
      "        t =    -200.00 ...     798.00 ms\n",
      "        0 CTF compensation matrices available\n",
      "104 matching events found\n",
      "No baseline correction applied\n",
      "Not setting metadata\n",
      "0 projection items activated\n",
      "Reading /home/christian/synchedout/eegip/eegip/tests/test_artifacts/derivatives/eegip_london_preprocessed/sub-s604/ses-m06/mod/sub-s604_ses-m06_epo.fif ...\n",
      "    Found the data of interest:\n",
      "        t =    -200.00 ...     798.00 ms\n",
      "        0 CTF compensation matrices available\n",
      "104 matching events found\n",
      "No baseline correction applied\n",
      "Not setting metadata\n",
      "0 projection items activated\n",
      "Reading /home/christian/synchedout/eegip/eegip/tests/test_artifacts/derivatives/eegip_london_preprocessed/sub-s604/ses-m06/mod/sub-s604_ses-m06_epo.fif ...\n",
      "    Found the data of interest:\n",
      "        t =    -200.00 ...     798.00 ms\n",
      "        0 CTF compensation matrices available\n",
      "104 matching events found\n",
      "No baseline correction applied\n",
      "Not setting metadata\n",
      "0 projection items activated\n",
      "Opening raw data file /home/christian/synchedout/eegip/eegip/tests/test_artifacts/derivatives/eegip_london_preprocessed/sub-s605/ses-m06/eeg/sub-s605_ses-m06_eeg.fif...\n",
      "    Range : 0 ... 136499 =      0.000 ...   272.998 secs\n",
      "Ready.\n",
      "200 matching events found\n",
      "No baseline correction applied\n",
      "Not setting metadata\n",
      "0 projection items activated\n",
      "Loading data for 200 events and 500 original time points ...\n"
     ]
    },
    {
     "name": "stderr",
     "output_type": "stream",
     "text": [
      "/home/christian/synchedout/eegip/eegip/recording.py:209: RuntimeWarning: This filename (/home/christian/synchedout/eegip/eegip/tests/test_artifacts/derivatives/eegip_london_preprocessed/sub-s605/ses-m06/eeg/sub-s605_ses-m06_eeg.fif) does not conform to MNE naming conventions. All raw files should end with raw.fif, raw_sss.fif, raw_tsss.fif, raw.fif.gz, raw_sss.fif.gz, raw_tsss.fif.gz or _meg.fif\n",
      "  self._preprocessed_raw = mne.io.read_raw_fif(self.get_path(\"preprocessed_raw\"), verbose=self.verbose)\n"
     ]
    },
    {
     "name": "stdout",
     "output_type": "stream",
     "text": [
      "93 bad epochs dropped\n",
      "Overwriting existing file.\n",
      "Reading /home/christian/synchedout/eegip/eegip/tests/test_artifacts/derivatives/eegip_london_preprocessed/sub-s605/ses-m06/mod/sub-s605_ses-m06_epo.fif ...\n",
      "    Found the data of interest:\n",
      "        t =    -200.00 ...     798.00 ms\n",
      "        0 CTF compensation matrices available\n",
      "107 matching events found\n",
      "No baseline correction applied\n",
      "Not setting metadata\n",
      "0 projection items activated\n",
      "Reading /home/christian/synchedout/eegip/eegip/tests/test_artifacts/derivatives/eegip_london_preprocessed/sub-s605/ses-m06/mod/sub-s605_ses-m06_epo.fif ...\n",
      "    Found the data of interest:\n",
      "        t =    -200.00 ...     798.00 ms\n",
      "        0 CTF compensation matrices available\n",
      "107 matching events found\n",
      "No baseline correction applied\n",
      "Not setting metadata\n",
      "0 projection items activated\n",
      "Reading /home/christian/synchedout/eegip/eegip/tests/test_artifacts/derivatives/eegip_london_preprocessed/sub-s605/ses-m06/mod/sub-s605_ses-m06_epo.fif ...\n",
      "    Found the data of interest:\n",
      "        t =    -200.00 ...     798.00 ms\n",
      "        0 CTF compensation matrices available\n",
      "107 matching events found\n",
      "No baseline correction applied\n",
      "Not setting metadata\n",
      "0 projection items activated\n",
      "Opening raw data file /home/christian/synchedout/eegip/eegip/tests/test_artifacts/derivatives/eegip_london_preprocessed/sub-s606/ses-m06/eeg/sub-s606_ses-m06_eeg.fif...\n",
      "    Range : 0 ... 164499 =      0.000 ...   328.998 secs\n",
      "Ready.\n",
      "217 matching events found\n",
      "No baseline correction applied\n",
      "Not setting metadata\n",
      "0 projection items activated\n",
      "Loading data for 217 events and 500 original time points ...\n",
      "136 bad epochs dropped\n",
      "Overwriting existing file.\n"
     ]
    },
    {
     "name": "stderr",
     "output_type": "stream",
     "text": [
      "/home/christian/synchedout/eegip/eegip/recording.py:209: RuntimeWarning: This filename (/home/christian/synchedout/eegip/eegip/tests/test_artifacts/derivatives/eegip_london_preprocessed/sub-s606/ses-m06/eeg/sub-s606_ses-m06_eeg.fif) does not conform to MNE naming conventions. All raw files should end with raw.fif, raw_sss.fif, raw_tsss.fif, raw.fif.gz, raw_sss.fif.gz, raw_tsss.fif.gz or _meg.fif\n",
      "  self._preprocessed_raw = mne.io.read_raw_fif(self.get_path(\"preprocessed_raw\"), verbose=self.verbose)\n"
     ]
    },
    {
     "name": "stdout",
     "output_type": "stream",
     "text": [
      "Reading /home/christian/synchedout/eegip/eegip/tests/test_artifacts/derivatives/eegip_london_preprocessed/sub-s606/ses-m06/mod/sub-s606_ses-m06_epo.fif ...\n",
      "    Found the data of interest:\n",
      "        t =    -200.00 ...     798.00 ms\n",
      "        0 CTF compensation matrices available\n",
      "81 matching events found\n",
      "No baseline correction applied\n",
      "Not setting metadata\n",
      "0 projection items activated\n",
      "Reading /home/christian/synchedout/eegip/eegip/tests/test_artifacts/derivatives/eegip_london_preprocessed/sub-s606/ses-m06/mod/sub-s606_ses-m06_epo.fif ...\n",
      "    Found the data of interest:\n",
      "        t =    -200.00 ...     798.00 ms\n",
      "        0 CTF compensation matrices available\n",
      "81 matching events found\n",
      "No baseline correction applied\n",
      "Not setting metadata\n",
      "0 projection items activated\n",
      "Reading /home/christian/synchedout/eegip/eegip/tests/test_artifacts/derivatives/eegip_london_preprocessed/sub-s606/ses-m06/mod/sub-s606_ses-m06_epo.fif ...\n",
      "    Found the data of interest:\n",
      "        t =    -200.00 ...     798.00 ms\n",
      "        0 CTF compensation matrices available\n",
      "81 matching events found\n",
      "No baseline correction applied\n",
      "Not setting metadata\n",
      "0 projection items activated\n",
      "Opening raw data file /home/christian/synchedout/eegip/eegip/tests/test_artifacts/derivatives/eegip_london_preprocessed/sub-s607/ses-m06/eeg/sub-s607_ses-m06_eeg.fif...\n",
      "    Range : 0 ... 231499 =      0.000 ...   462.998 secs\n",
      "Ready.\n",
      "362 matching events found\n",
      "No baseline correction applied\n",
      "Not setting metadata\n",
      "0 projection items activated\n",
      "Loading data for 362 events and 500 original time points ...\n"
     ]
    },
    {
     "name": "stderr",
     "output_type": "stream",
     "text": [
      "/home/christian/synchedout/eegip/eegip/recording.py:209: RuntimeWarning: This filename (/home/christian/synchedout/eegip/eegip/tests/test_artifacts/derivatives/eegip_london_preprocessed/sub-s607/ses-m06/eeg/sub-s607_ses-m06_eeg.fif) does not conform to MNE naming conventions. All raw files should end with raw.fif, raw_sss.fif, raw_tsss.fif, raw.fif.gz, raw_sss.fif.gz, raw_tsss.fif.gz or _meg.fif\n",
      "  self._preprocessed_raw = mne.io.read_raw_fif(self.get_path(\"preprocessed_raw\"), verbose=self.verbose)\n"
     ]
    },
    {
     "name": "stdout",
     "output_type": "stream",
     "text": [
      "185 bad epochs dropped\n",
      "Overwriting existing file.\n",
      "Reading /home/christian/synchedout/eegip/eegip/tests/test_artifacts/derivatives/eegip_london_preprocessed/sub-s607/ses-m06/mod/sub-s607_ses-m06_epo.fif ...\n",
      "    Found the data of interest:\n",
      "        t =    -200.00 ...     798.00 ms\n",
      "        0 CTF compensation matrices available\n",
      "177 matching events found\n",
      "No baseline correction applied\n",
      "Not setting metadata\n",
      "0 projection items activated\n",
      "Reading /home/christian/synchedout/eegip/eegip/tests/test_artifacts/derivatives/eegip_london_preprocessed/sub-s607/ses-m06/mod/sub-s607_ses-m06_epo.fif ...\n",
      "    Found the data of interest:\n",
      "        t =    -200.00 ...     798.00 ms\n",
      "        0 CTF compensation matrices available\n",
      "177 matching events found\n",
      "No baseline correction applied\n",
      "Not setting metadata\n",
      "0 projection items activated\n",
      "Reading /home/christian/synchedout/eegip/eegip/tests/test_artifacts/derivatives/eegip_london_preprocessed/sub-s607/ses-m06/mod/sub-s607_ses-m06_epo.fif ...\n",
      "    Found the data of interest:\n",
      "        t =    -200.00 ...     798.00 ms\n",
      "        0 CTF compensation matrices available\n",
      "177 matching events found\n",
      "No baseline correction applied\n",
      "Not setting metadata\n",
      "0 projection items activated\n",
      "Opening raw data file /home/christian/synchedout/eegip/eegip/tests/test_artifacts/derivatives/eegip_london_preprocessed/sub-s608/ses-m06/eeg/sub-s608_ses-m06_eeg.fif...\n",
      "    Range : 0 ... 245499 =      0.000 ...   490.998 secs\n",
      "Ready.\n",
      "382 matching events found\n",
      "No baseline correction applied\n",
      "Not setting metadata\n",
      "0 projection items activated\n",
      "Loading data for 382 events and 500 original time points ...\n"
     ]
    },
    {
     "name": "stderr",
     "output_type": "stream",
     "text": [
      "/home/christian/synchedout/eegip/eegip/recording.py:209: RuntimeWarning: This filename (/home/christian/synchedout/eegip/eegip/tests/test_artifacts/derivatives/eegip_london_preprocessed/sub-s608/ses-m06/eeg/sub-s608_ses-m06_eeg.fif) does not conform to MNE naming conventions. All raw files should end with raw.fif, raw_sss.fif, raw_tsss.fif, raw.fif.gz, raw_sss.fif.gz, raw_tsss.fif.gz or _meg.fif\n",
      "  self._preprocessed_raw = mne.io.read_raw_fif(self.get_path(\"preprocessed_raw\"), verbose=self.verbose)\n"
     ]
    },
    {
     "name": "stdout",
     "output_type": "stream",
     "text": [
      "172 bad epochs dropped\n",
      "Overwriting existing file.\n",
      "Reading /home/christian/synchedout/eegip/eegip/tests/test_artifacts/derivatives/eegip_london_preprocessed/sub-s608/ses-m06/mod/sub-s608_ses-m06_epo.fif ...\n",
      "    Found the data of interest:\n",
      "        t =    -200.00 ...     798.00 ms\n",
      "        0 CTF compensation matrices available\n",
      "210 matching events found\n",
      "No baseline correction applied\n",
      "Not setting metadata\n",
      "0 projection items activated\n",
      "Reading /home/christian/synchedout/eegip/eegip/tests/test_artifacts/derivatives/eegip_london_preprocessed/sub-s608/ses-m06/mod/sub-s608_ses-m06_epo.fif ...\n",
      "    Found the data of interest:\n",
      "        t =    -200.00 ...     798.00 ms\n",
      "        0 CTF compensation matrices available\n",
      "210 matching events found\n",
      "No baseline correction applied\n",
      "Not setting metadata\n",
      "0 projection items activated\n",
      "Reading /home/christian/synchedout/eegip/eegip/tests/test_artifacts/derivatives/eegip_london_preprocessed/sub-s608/ses-m06/mod/sub-s608_ses-m06_epo.fif ...\n",
      "    Found the data of interest:\n",
      "        t =    -200.00 ...     798.00 ms\n",
      "        0 CTF compensation matrices available\n",
      "210 matching events found\n",
      "No baseline correction applied\n",
      "Not setting metadata\n",
      "0 projection items activated\n",
      "Opening raw data file /home/christian/synchedout/eegip/eegip/tests/test_artifacts/derivatives/eegip_london_preprocessed/sub-s609/ses-m06/eeg/sub-s609_ses-m06_eeg.fif...\n",
      "    Range : 0 ... 226999 =      0.000 ...   453.998 secs\n",
      "Ready.\n",
      "343 matching events found\n",
      "No baseline correction applied\n",
      "Not setting metadata\n",
      "0 projection items activated\n",
      "Loading data for 343 events and 500 original time points ...\n"
     ]
    },
    {
     "name": "stderr",
     "output_type": "stream",
     "text": [
      "/home/christian/synchedout/eegip/eegip/recording.py:209: RuntimeWarning: This filename (/home/christian/synchedout/eegip/eegip/tests/test_artifacts/derivatives/eegip_london_preprocessed/sub-s609/ses-m06/eeg/sub-s609_ses-m06_eeg.fif) does not conform to MNE naming conventions. All raw files should end with raw.fif, raw_sss.fif, raw_tsss.fif, raw.fif.gz, raw_sss.fif.gz, raw_tsss.fif.gz or _meg.fif\n",
      "  self._preprocessed_raw = mne.io.read_raw_fif(self.get_path(\"preprocessed_raw\"), verbose=self.verbose)\n"
     ]
    },
    {
     "name": "stdout",
     "output_type": "stream",
     "text": [
      "134 bad epochs dropped\n",
      "Overwriting existing file.\n",
      "Reading /home/christian/synchedout/eegip/eegip/tests/test_artifacts/derivatives/eegip_london_preprocessed/sub-s609/ses-m06/mod/sub-s609_ses-m06_epo.fif ...\n",
      "    Found the data of interest:\n",
      "        t =    -200.00 ...     798.00 ms\n",
      "        0 CTF compensation matrices available\n",
      "209 matching events found\n",
      "No baseline correction applied\n",
      "Not setting metadata\n",
      "0 projection items activated\n",
      "Reading /home/christian/synchedout/eegip/eegip/tests/test_artifacts/derivatives/eegip_london_preprocessed/sub-s609/ses-m06/mod/sub-s609_ses-m06_epo.fif ...\n",
      "    Found the data of interest:\n",
      "        t =    -200.00 ...     798.00 ms\n",
      "        0 CTF compensation matrices available\n",
      "209 matching events found\n",
      "No baseline correction applied\n",
      "Not setting metadata\n",
      "0 projection items activated\n",
      "Reading /home/christian/synchedout/eegip/eegip/tests/test_artifacts/derivatives/eegip_london_preprocessed/sub-s609/ses-m06/mod/sub-s609_ses-m06_epo.fif ...\n",
      "    Found the data of interest:\n",
      "        t =    -200.00 ...     798.00 ms\n",
      "        0 CTF compensation matrices available\n",
      "209 matching events found\n",
      "No baseline correction applied\n",
      "Not setting metadata\n",
      "0 projection items activated\n",
      "Opening raw data file /home/christian/synchedout/eegip/eegip/tests/test_artifacts/derivatives/eegip_london_preprocessed/sub-s610/ses-m06/eeg/sub-s610_ses-m06_eeg.fif...\n",
      "    Range : 0 ... 244499 =      0.000 ...   488.998 secs\n",
      "Ready.\n",
      "370 matching events found\n",
      "No baseline correction applied\n",
      "Not setting metadata\n",
      "0 projection items activated\n",
      "Loading data for 370 events and 500 original time points ...\n"
     ]
    },
    {
     "name": "stderr",
     "output_type": "stream",
     "text": [
      "/home/christian/synchedout/eegip/eegip/recording.py:209: RuntimeWarning: This filename (/home/christian/synchedout/eegip/eegip/tests/test_artifacts/derivatives/eegip_london_preprocessed/sub-s610/ses-m06/eeg/sub-s610_ses-m06_eeg.fif) does not conform to MNE naming conventions. All raw files should end with raw.fif, raw_sss.fif, raw_tsss.fif, raw.fif.gz, raw_sss.fif.gz, raw_tsss.fif.gz or _meg.fif\n",
      "  self._preprocessed_raw = mne.io.read_raw_fif(self.get_path(\"preprocessed_raw\"), verbose=self.verbose)\n"
     ]
    },
    {
     "name": "stdout",
     "output_type": "stream",
     "text": [
      "195 bad epochs dropped\n",
      "Overwriting existing file.\n",
      "Reading /home/christian/synchedout/eegip/eegip/tests/test_artifacts/derivatives/eegip_london_preprocessed/sub-s610/ses-m06/mod/sub-s610_ses-m06_epo.fif ...\n",
      "    Found the data of interest:\n",
      "        t =    -200.00 ...     798.00 ms\n",
      "        0 CTF compensation matrices available\n",
      "175 matching events found\n",
      "No baseline correction applied\n",
      "Not setting metadata\n",
      "0 projection items activated\n",
      "Reading /home/christian/synchedout/eegip/eegip/tests/test_artifacts/derivatives/eegip_london_preprocessed/sub-s610/ses-m06/mod/sub-s610_ses-m06_epo.fif ...\n",
      "    Found the data of interest:\n",
      "        t =    -200.00 ...     798.00 ms\n",
      "        0 CTF compensation matrices available\n",
      "175 matching events found\n",
      "No baseline correction applied\n",
      "Not setting metadata\n",
      "0 projection items activated\n",
      "Reading /home/christian/synchedout/eegip/eegip/tests/test_artifacts/derivatives/eegip_london_preprocessed/sub-s610/ses-m06/mod/sub-s610_ses-m06_epo.fif ...\n",
      "    Found the data of interest:\n",
      "        t =    -200.00 ...     798.00 ms\n",
      "        0 CTF compensation matrices available\n",
      "175 matching events found\n",
      "No baseline correction applied\n",
      "Not setting metadata\n",
      "0 projection items activated\n",
      "Opening raw data file /home/christian/synchedout/eegip/eegip/tests/test_artifacts/derivatives/eegip_london_preprocessed/sub-s611/ses-m06/eeg/sub-s611_ses-m06_eeg.fif...\n",
      "    Range : 0 ... 163999 =      0.000 ...   327.998 secs\n",
      "Ready.\n",
      "239 matching events found\n",
      "No baseline correction applied\n",
      "Not setting metadata\n",
      "0 projection items activated\n",
      "Loading data for 239 events and 500 original time points ...\n"
     ]
    },
    {
     "name": "stderr",
     "output_type": "stream",
     "text": [
      "/home/christian/synchedout/eegip/eegip/recording.py:209: RuntimeWarning: This filename (/home/christian/synchedout/eegip/eegip/tests/test_artifacts/derivatives/eegip_london_preprocessed/sub-s611/ses-m06/eeg/sub-s611_ses-m06_eeg.fif) does not conform to MNE naming conventions. All raw files should end with raw.fif, raw_sss.fif, raw_tsss.fif, raw.fif.gz, raw_sss.fif.gz, raw_tsss.fif.gz or _meg.fif\n",
      "  self._preprocessed_raw = mne.io.read_raw_fif(self.get_path(\"preprocessed_raw\"), verbose=self.verbose)\n"
     ]
    },
    {
     "name": "stdout",
     "output_type": "stream",
     "text": [
      "70 bad epochs dropped\n",
      "Overwriting existing file.\n",
      "Reading /home/christian/synchedout/eegip/eegip/tests/test_artifacts/derivatives/eegip_london_preprocessed/sub-s611/ses-m06/mod/sub-s611_ses-m06_epo.fif ...\n",
      "    Found the data of interest:\n",
      "        t =    -200.00 ...     798.00 ms\n",
      "        0 CTF compensation matrices available\n",
      "169 matching events found\n",
      "No baseline correction applied\n",
      "Not setting metadata\n",
      "0 projection items activated\n",
      "Reading /home/christian/synchedout/eegip/eegip/tests/test_artifacts/derivatives/eegip_london_preprocessed/sub-s611/ses-m06/mod/sub-s611_ses-m06_epo.fif ...\n",
      "    Found the data of interest:\n",
      "        t =    -200.00 ...     798.00 ms\n",
      "        0 CTF compensation matrices available\n",
      "169 matching events found\n",
      "No baseline correction applied\n",
      "Not setting metadata\n",
      "0 projection items activated\n",
      "Reading /home/christian/synchedout/eegip/eegip/tests/test_artifacts/derivatives/eegip_london_preprocessed/sub-s611/ses-m06/mod/sub-s611_ses-m06_epo.fif ...\n",
      "    Found the data of interest:\n",
      "        t =    -200.00 ...     798.00 ms\n",
      "        0 CTF compensation matrices available\n",
      "169 matching events found\n",
      "No baseline correction applied\n",
      "Not setting metadata\n",
      "0 projection items activated\n",
      "Opening raw data file /home/christian/synchedout/eegip/eegip/tests/test_artifacts/derivatives/eegip_london_preprocessed/sub-s612/ses-m06/eeg/sub-s612_ses-m06_eeg.fif...\n",
      "    Range : 0 ... 225999 =      0.000 ...   451.998 secs\n",
      "Ready.\n",
      "379 matching events found\n",
      "No baseline correction applied\n",
      "Not setting metadata\n",
      "0 projection items activated\n",
      "Loading data for 379 events and 500 original time points ...\n"
     ]
    },
    {
     "name": "stderr",
     "output_type": "stream",
     "text": [
      "/home/christian/synchedout/eegip/eegip/recording.py:209: RuntimeWarning: This filename (/home/christian/synchedout/eegip/eegip/tests/test_artifacts/derivatives/eegip_london_preprocessed/sub-s612/ses-m06/eeg/sub-s612_ses-m06_eeg.fif) does not conform to MNE naming conventions. All raw files should end with raw.fif, raw_sss.fif, raw_tsss.fif, raw.fif.gz, raw_sss.fif.gz, raw_tsss.fif.gz or _meg.fif\n",
      "  self._preprocessed_raw = mne.io.read_raw_fif(self.get_path(\"preprocessed_raw\"), verbose=self.verbose)\n"
     ]
    },
    {
     "name": "stdout",
     "output_type": "stream",
     "text": [
      "171 bad epochs dropped\n",
      "Overwriting existing file.\n",
      "Reading /home/christian/synchedout/eegip/eegip/tests/test_artifacts/derivatives/eegip_london_preprocessed/sub-s612/ses-m06/mod/sub-s612_ses-m06_epo.fif ...\n",
      "    Found the data of interest:\n",
      "        t =    -200.00 ...     798.00 ms\n",
      "        0 CTF compensation matrices available\n",
      "208 matching events found\n",
      "No baseline correction applied\n",
      "Not setting metadata\n",
      "0 projection items activated\n",
      "Reading /home/christian/synchedout/eegip/eegip/tests/test_artifacts/derivatives/eegip_london_preprocessed/sub-s612/ses-m06/mod/sub-s612_ses-m06_epo.fif ...\n",
      "    Found the data of interest:\n",
      "        t =    -200.00 ...     798.00 ms\n",
      "        0 CTF compensation matrices available\n",
      "208 matching events found\n",
      "No baseline correction applied\n",
      "Not setting metadata\n",
      "0 projection items activated\n",
      "Reading /home/christian/synchedout/eegip/eegip/tests/test_artifacts/derivatives/eegip_london_preprocessed/sub-s612/ses-m06/mod/sub-s612_ses-m06_epo.fif ...\n",
      "    Found the data of interest:\n",
      "        t =    -200.00 ...     798.00 ms\n",
      "        0 CTF compensation matrices available\n",
      "208 matching events found\n",
      "No baseline correction applied\n",
      "Not setting metadata\n",
      "0 projection items activated\n",
      "Opening raw data file /home/christian/synchedout/eegip/eegip/tests/test_artifacts/derivatives/eegip_london_preprocessed/sub-s613/ses-m06/eeg/sub-s613_ses-m06_eeg.fif...\n",
      "    Range : 0 ... 276999 =      0.000 ...   553.998 secs\n",
      "Ready.\n",
      "474 matching events found\n",
      "No baseline correction applied\n",
      "Not setting metadata\n",
      "0 projection items activated\n",
      "Loading data for 474 events and 500 original time points ...\n"
     ]
    },
    {
     "name": "stderr",
     "output_type": "stream",
     "text": [
      "/home/christian/synchedout/eegip/eegip/recording.py:209: RuntimeWarning: This filename (/home/christian/synchedout/eegip/eegip/tests/test_artifacts/derivatives/eegip_london_preprocessed/sub-s613/ses-m06/eeg/sub-s613_ses-m06_eeg.fif) does not conform to MNE naming conventions. All raw files should end with raw.fif, raw_sss.fif, raw_tsss.fif, raw.fif.gz, raw_sss.fif.gz, raw_tsss.fif.gz or _meg.fif\n",
      "  self._preprocessed_raw = mne.io.read_raw_fif(self.get_path(\"preprocessed_raw\"), verbose=self.verbose)\n"
     ]
    },
    {
     "name": "stdout",
     "output_type": "stream",
     "text": [
      "154 bad epochs dropped\n",
      "Overwriting existing file.\n",
      "Reading /home/christian/synchedout/eegip/eegip/tests/test_artifacts/derivatives/eegip_london_preprocessed/sub-s613/ses-m06/mod/sub-s613_ses-m06_epo.fif ...\n",
      "    Found the data of interest:\n",
      "        t =    -200.00 ...     798.00 ms\n",
      "        0 CTF compensation matrices available\n",
      "320 matching events found\n",
      "No baseline correction applied\n",
      "Not setting metadata\n",
      "0 projection items activated\n",
      "Reading /home/christian/synchedout/eegip/eegip/tests/test_artifacts/derivatives/eegip_london_preprocessed/sub-s613/ses-m06/mod/sub-s613_ses-m06_epo.fif ...\n",
      "    Found the data of interest:\n",
      "        t =    -200.00 ...     798.00 ms\n",
      "        0 CTF compensation matrices available\n",
      "320 matching events found\n",
      "No baseline correction applied\n",
      "Not setting metadata\n",
      "0 projection items activated\n",
      "Reading /home/christian/synchedout/eegip/eegip/tests/test_artifacts/derivatives/eegip_london_preprocessed/sub-s613/ses-m06/mod/sub-s613_ses-m06_epo.fif ...\n",
      "    Found the data of interest:\n",
      "        t =    -200.00 ...     798.00 ms\n",
      "        0 CTF compensation matrices available\n",
      "320 matching events found\n",
      "No baseline correction applied\n",
      "Not setting metadata\n",
      "0 projection items activated\n",
      "Opening raw data file /home/christian/synchedout/eegip/eegip/tests/test_artifacts/derivatives/eegip_london_preprocessed/sub-s614/ses-m06/eeg/sub-s614_ses-m06_eeg.fif...\n",
      "    Range : 0 ... 73999 =      0.000 ...   147.998 secs\n",
      "Ready.\n",
      "98 matching events found\n",
      "No baseline correction applied\n",
      "Not setting metadata\n",
      "0 projection items activated\n",
      "Loading data for 98 events and 500 original time points ...\n",
      "88 bad epochs dropped\n",
      "Overwriting existing file.\n"
     ]
    },
    {
     "name": "stderr",
     "output_type": "stream",
     "text": [
      "/home/christian/synchedout/eegip/eegip/recording.py:209: RuntimeWarning: This filename (/home/christian/synchedout/eegip/eegip/tests/test_artifacts/derivatives/eegip_london_preprocessed/sub-s614/ses-m06/eeg/sub-s614_ses-m06_eeg.fif) does not conform to MNE naming conventions. All raw files should end with raw.fif, raw_sss.fif, raw_tsss.fif, raw.fif.gz, raw_sss.fif.gz, raw_tsss.fif.gz or _meg.fif\n",
      "  self._preprocessed_raw = mne.io.read_raw_fif(self.get_path(\"preprocessed_raw\"), verbose=self.verbose)\n"
     ]
    },
    {
     "name": "stdout",
     "output_type": "stream",
     "text": [
      "Reading /home/christian/synchedout/eegip/eegip/tests/test_artifacts/derivatives/eegip_london_preprocessed/sub-s614/ses-m06/mod/sub-s614_ses-m06_epo.fif ...\n",
      "    Found the data of interest:\n",
      "        t =    -200.00 ...     798.00 ms\n",
      "        0 CTF compensation matrices available\n",
      "10 matching events found\n",
      "No baseline correction applied\n",
      "Not setting metadata\n",
      "0 projection items activated\n",
      "Reading /home/christian/synchedout/eegip/eegip/tests/test_artifacts/derivatives/eegip_london_preprocessed/sub-s614/ses-m06/mod/sub-s614_ses-m06_epo.fif ...\n",
      "    Found the data of interest:\n",
      "        t =    -200.00 ...     798.00 ms\n",
      "        0 CTF compensation matrices available\n",
      "10 matching events found\n",
      "No baseline correction applied\n",
      "Not setting metadata\n",
      "0 projection items activated\n",
      "Opening raw data file /home/christian/synchedout/eegip/eegip/tests/test_artifacts/derivatives/eegip_london_preprocessed/sub-s615/ses-m06/eeg/sub-s615_ses-m06_eeg.fif...\n",
      "    Range : 0 ... 256999 =      0.000 ...   513.998 secs\n",
      "Ready.\n",
      "421 matching events found\n",
      "No baseline correction applied\n",
      "Not setting metadata\n",
      "0 projection items activated\n",
      "Loading data for 421 events and 500 original time points ...\n"
     ]
    },
    {
     "name": "stderr",
     "output_type": "stream",
     "text": [
      "/home/christian/synchedout/eegip/eegip/recording.py:209: RuntimeWarning: This filename (/home/christian/synchedout/eegip/eegip/tests/test_artifacts/derivatives/eegip_london_preprocessed/sub-s615/ses-m06/eeg/sub-s615_ses-m06_eeg.fif) does not conform to MNE naming conventions. All raw files should end with raw.fif, raw_sss.fif, raw_tsss.fif, raw.fif.gz, raw_sss.fif.gz, raw_tsss.fif.gz or _meg.fif\n",
      "  self._preprocessed_raw = mne.io.read_raw_fif(self.get_path(\"preprocessed_raw\"), verbose=self.verbose)\n"
     ]
    },
    {
     "name": "stdout",
     "output_type": "stream",
     "text": [
      "215 bad epochs dropped\n",
      "Overwriting existing file.\n",
      "Reading /home/christian/synchedout/eegip/eegip/tests/test_artifacts/derivatives/eegip_london_preprocessed/sub-s615/ses-m06/mod/sub-s615_ses-m06_epo.fif ...\n",
      "    Found the data of interest:\n",
      "        t =    -200.00 ...     798.00 ms\n",
      "        0 CTF compensation matrices available\n",
      "206 matching events found\n",
      "No baseline correction applied\n",
      "Not setting metadata\n",
      "0 projection items activated\n",
      "Reading /home/christian/synchedout/eegip/eegip/tests/test_artifacts/derivatives/eegip_london_preprocessed/sub-s615/ses-m06/mod/sub-s615_ses-m06_epo.fif ...\n",
      "    Found the data of interest:\n",
      "        t =    -200.00 ...     798.00 ms\n",
      "        0 CTF compensation matrices available\n",
      "206 matching events found\n",
      "No baseline correction applied\n",
      "Not setting metadata\n",
      "0 projection items activated\n",
      "Reading /home/christian/synchedout/eegip/eegip/tests/test_artifacts/derivatives/eegip_london_preprocessed/sub-s615/ses-m06/mod/sub-s615_ses-m06_epo.fif ...\n",
      "    Found the data of interest:\n",
      "        t =    -200.00 ...     798.00 ms\n",
      "        0 CTF compensation matrices available\n",
      "206 matching events found\n",
      "No baseline correction applied\n",
      "Not setting metadata\n",
      "0 projection items activated\n",
      "Opening raw data file /home/christian/synchedout/eegip/eegip/tests/test_artifacts/derivatives/eegip_london_preprocessed/sub-s616/ses-m06/eeg/sub-s616_ses-m06_eeg.fif...\n",
      "    Range : 0 ... 287499 =      0.000 ...   574.998 secs\n",
      "Ready.\n",
      "444 matching events found\n",
      "No baseline correction applied\n",
      "Not setting metadata\n",
      "0 projection items activated\n",
      "Loading data for 444 events and 500 original time points ...\n"
     ]
    },
    {
     "name": "stderr",
     "output_type": "stream",
     "text": [
      "/home/christian/synchedout/eegip/eegip/recording.py:209: RuntimeWarning: This filename (/home/christian/synchedout/eegip/eegip/tests/test_artifacts/derivatives/eegip_london_preprocessed/sub-s616/ses-m06/eeg/sub-s616_ses-m06_eeg.fif) does not conform to MNE naming conventions. All raw files should end with raw.fif, raw_sss.fif, raw_tsss.fif, raw.fif.gz, raw_sss.fif.gz, raw_tsss.fif.gz or _meg.fif\n",
      "  self._preprocessed_raw = mne.io.read_raw_fif(self.get_path(\"preprocessed_raw\"), verbose=self.verbose)\n"
     ]
    },
    {
     "name": "stdout",
     "output_type": "stream",
     "text": [
      "80 bad epochs dropped\n",
      "Overwriting existing file.\n",
      "Reading /home/christian/synchedout/eegip/eegip/tests/test_artifacts/derivatives/eegip_london_preprocessed/sub-s616/ses-m06/mod/sub-s616_ses-m06_epo.fif ...\n",
      "    Found the data of interest:\n",
      "        t =    -200.00 ...     798.00 ms\n",
      "        0 CTF compensation matrices available\n",
      "364 matching events found\n",
      "No baseline correction applied\n",
      "Not setting metadata\n",
      "0 projection items activated\n",
      "Reading /home/christian/synchedout/eegip/eegip/tests/test_artifacts/derivatives/eegip_london_preprocessed/sub-s616/ses-m06/mod/sub-s616_ses-m06_epo.fif ...\n",
      "    Found the data of interest:\n",
      "        t =    -200.00 ...     798.00 ms\n",
      "        0 CTF compensation matrices available\n",
      "364 matching events found\n",
      "No baseline correction applied\n",
      "Not setting metadata\n",
      "0 projection items activated\n",
      "Reading /home/christian/synchedout/eegip/eegip/tests/test_artifacts/derivatives/eegip_london_preprocessed/sub-s616/ses-m06/mod/sub-s616_ses-m06_epo.fif ...\n",
      "    Found the data of interest:\n",
      "        t =    -200.00 ...     798.00 ms\n",
      "        0 CTF compensation matrices available\n",
      "364 matching events found\n",
      "No baseline correction applied\n",
      "Not setting metadata\n",
      "0 projection items activated\n",
      "Opening raw data file /home/christian/synchedout/eegip/eegip/tests/test_artifacts/derivatives/eegip_london_preprocessed/sub-s617/ses-m06/eeg/sub-s617_ses-m06_eeg.fif...\n",
      "    Range : 0 ... 284499 =      0.000 ...   568.998 secs\n",
      "Ready.\n",
      "389 matching events found\n",
      "No baseline correction applied\n",
      "Not setting metadata\n",
      "0 projection items activated\n",
      "Loading data for 389 events and 500 original time points ...\n"
     ]
    },
    {
     "name": "stderr",
     "output_type": "stream",
     "text": [
      "/home/christian/synchedout/eegip/eegip/recording.py:209: RuntimeWarning: This filename (/home/christian/synchedout/eegip/eegip/tests/test_artifacts/derivatives/eegip_london_preprocessed/sub-s617/ses-m06/eeg/sub-s617_ses-m06_eeg.fif) does not conform to MNE naming conventions. All raw files should end with raw.fif, raw_sss.fif, raw_tsss.fif, raw.fif.gz, raw_sss.fif.gz, raw_tsss.fif.gz or _meg.fif\n",
      "  self._preprocessed_raw = mne.io.read_raw_fif(self.get_path(\"preprocessed_raw\"), verbose=self.verbose)\n"
     ]
    },
    {
     "name": "stdout",
     "output_type": "stream",
     "text": [
      "102 bad epochs dropped\n",
      "Overwriting existing file.\n",
      "Reading /home/christian/synchedout/eegip/eegip/tests/test_artifacts/derivatives/eegip_london_preprocessed/sub-s617/ses-m06/mod/sub-s617_ses-m06_epo.fif ...\n",
      "    Found the data of interest:\n",
      "        t =    -200.00 ...     798.00 ms\n",
      "        0 CTF compensation matrices available\n",
      "287 matching events found\n",
      "No baseline correction applied\n",
      "Not setting metadata\n",
      "0 projection items activated\n",
      "Reading /home/christian/synchedout/eegip/eegip/tests/test_artifacts/derivatives/eegip_london_preprocessed/sub-s617/ses-m06/mod/sub-s617_ses-m06_epo.fif ...\n",
      "    Found the data of interest:\n",
      "        t =    -200.00 ...     798.00 ms\n",
      "        0 CTF compensation matrices available\n",
      "287 matching events found\n",
      "No baseline correction applied\n",
      "Not setting metadata\n",
      "0 projection items activated\n",
      "Reading /home/christian/synchedout/eegip/eegip/tests/test_artifacts/derivatives/eegip_london_preprocessed/sub-s617/ses-m06/mod/sub-s617_ses-m06_epo.fif ...\n",
      "    Found the data of interest:\n",
      "        t =    -200.00 ...     798.00 ms\n",
      "        0 CTF compensation matrices available\n"
     ]
    },
    {
     "name": "stderr",
     "output_type": "stream",
     "text": [
      "/home/christian/anaconda3/lib/python3.7/site-packages/sklearn/decomposition/_fastica.py:119: ConvergenceWarning: FastICA did not converge. Consider increasing tolerance or the maximum number of iterations.\n",
      "  ConvergenceWarning)\n"
     ]
    },
    {
     "name": "stdout",
     "output_type": "stream",
     "text": [
      "287 matching events found\n",
      "No baseline correction applied\n",
      "Not setting metadata\n",
      "0 projection items activated\n",
      "Opening raw data file /home/christian/synchedout/eegip/eegip/tests/test_artifacts/derivatives/eegip_london_preprocessed/sub-s618/ses-m06/eeg/sub-s618_ses-m06_eeg.fif...\n",
      "    Range : 0 ... 196499 =      0.000 ...   392.998 secs\n",
      "Ready.\n",
      "313 matching events found\n",
      "No baseline correction applied\n",
      "Not setting metadata\n",
      "0 projection items activated\n",
      "Loading data for 313 events and 500 original time points ...\n"
     ]
    },
    {
     "name": "stderr",
     "output_type": "stream",
     "text": [
      "/home/christian/synchedout/eegip/eegip/recording.py:209: RuntimeWarning: This filename (/home/christian/synchedout/eegip/eegip/tests/test_artifacts/derivatives/eegip_london_preprocessed/sub-s618/ses-m06/eeg/sub-s618_ses-m06_eeg.fif) does not conform to MNE naming conventions. All raw files should end with raw.fif, raw_sss.fif, raw_tsss.fif, raw.fif.gz, raw_sss.fif.gz, raw_tsss.fif.gz or _meg.fif\n",
      "  self._preprocessed_raw = mne.io.read_raw_fif(self.get_path(\"preprocessed_raw\"), verbose=self.verbose)\n"
     ]
    },
    {
     "name": "stdout",
     "output_type": "stream",
     "text": [
      "223 bad epochs dropped\n",
      "Overwriting existing file.\n",
      "Reading /home/christian/synchedout/eegip/eegip/tests/test_artifacts/derivatives/eegip_london_preprocessed/sub-s618/ses-m06/mod/sub-s618_ses-m06_epo.fif ...\n",
      "    Found the data of interest:\n",
      "        t =    -200.00 ...     798.00 ms\n",
      "        0 CTF compensation matrices available\n",
      "90 matching events found\n",
      "No baseline correction applied\n",
      "Not setting metadata\n",
      "0 projection items activated\n",
      "Reading /home/christian/synchedout/eegip/eegip/tests/test_artifacts/derivatives/eegip_london_preprocessed/sub-s618/ses-m06/mod/sub-s618_ses-m06_epo.fif ...\n",
      "    Found the data of interest:\n",
      "        t =    -200.00 ...     798.00 ms\n",
      "        0 CTF compensation matrices available\n",
      "90 matching events found\n",
      "No baseline correction applied\n",
      "Not setting metadata\n",
      "0 projection items activated\n",
      "Reading /home/christian/synchedout/eegip/eegip/tests/test_artifacts/derivatives/eegip_london_preprocessed/sub-s618/ses-m06/mod/sub-s618_ses-m06_epo.fif ...\n",
      "    Found the data of interest:\n",
      "        t =    -200.00 ...     798.00 ms\n",
      "        0 CTF compensation matrices available\n",
      "90 matching events found\n",
      "No baseline correction applied\n",
      "Not setting metadata\n",
      "0 projection items activated\n",
      "Opening raw data file /home/christian/synchedout/eegip/eegip/tests/test_artifacts/derivatives/eegip_london_preprocessed/sub-s619/ses-m06/eeg/sub-s619_ses-m06_eeg.fif...\n",
      "    Range : 0 ... 192499 =      0.000 ...   384.998 secs\n",
      "Ready.\n",
      "303 matching events found\n",
      "No baseline correction applied\n",
      "Not setting metadata\n",
      "0 projection items activated\n",
      "Loading data for 303 events and 500 original time points ...\n"
     ]
    },
    {
     "name": "stderr",
     "output_type": "stream",
     "text": [
      "/home/christian/synchedout/eegip/eegip/recording.py:209: RuntimeWarning: This filename (/home/christian/synchedout/eegip/eegip/tests/test_artifacts/derivatives/eegip_london_preprocessed/sub-s619/ses-m06/eeg/sub-s619_ses-m06_eeg.fif) does not conform to MNE naming conventions. All raw files should end with raw.fif, raw_sss.fif, raw_tsss.fif, raw.fif.gz, raw_sss.fif.gz, raw_tsss.fif.gz or _meg.fif\n",
      "  self._preprocessed_raw = mne.io.read_raw_fif(self.get_path(\"preprocessed_raw\"), verbose=self.verbose)\n"
     ]
    },
    {
     "name": "stdout",
     "output_type": "stream",
     "text": [
      "183 bad epochs dropped\n",
      "Overwriting existing file.\n",
      "Reading /home/christian/synchedout/eegip/eegip/tests/test_artifacts/derivatives/eegip_london_preprocessed/sub-s619/ses-m06/mod/sub-s619_ses-m06_epo.fif ...\n",
      "    Found the data of interest:\n",
      "        t =    -200.00 ...     798.00 ms\n",
      "        0 CTF compensation matrices available\n",
      "120 matching events found\n",
      "No baseline correction applied\n",
      "Not setting metadata\n",
      "0 projection items activated\n",
      "Reading /home/christian/synchedout/eegip/eegip/tests/test_artifacts/derivatives/eegip_london_preprocessed/sub-s619/ses-m06/mod/sub-s619_ses-m06_epo.fif ...\n",
      "    Found the data of interest:\n",
      "        t =    -200.00 ...     798.00 ms\n",
      "        0 CTF compensation matrices available\n",
      "120 matching events found\n",
      "No baseline correction applied\n",
      "Not setting metadata\n",
      "0 projection items activated\n",
      "Reading /home/christian/synchedout/eegip/eegip/tests/test_artifacts/derivatives/eegip_london_preprocessed/sub-s619/ses-m06/mod/sub-s619_ses-m06_epo.fif ...\n",
      "    Found the data of interest:\n",
      "        t =    -200.00 ...     798.00 ms\n",
      "        0 CTF compensation matrices available\n",
      "120 matching events found\n",
      "No baseline correction applied\n",
      "Not setting metadata\n",
      "0 projection items activated\n",
      "Opening raw data file /home/christian/synchedout/eegip/eegip/tests/test_artifacts/derivatives/eegip_london_preprocessed/sub-s620/ses-m06/eeg/sub-s620_ses-m06_eeg.fif...\n",
      "    Range : 0 ... 242999 =      0.000 ...   485.998 secs\n",
      "Ready.\n",
      "399 matching events found\n",
      "No baseline correction applied\n",
      "Not setting metadata\n",
      "0 projection items activated\n",
      "Loading data for 399 events and 500 original time points ...\n"
     ]
    },
    {
     "name": "stderr",
     "output_type": "stream",
     "text": [
      "/home/christian/synchedout/eegip/eegip/recording.py:209: RuntimeWarning: This filename (/home/christian/synchedout/eegip/eegip/tests/test_artifacts/derivatives/eegip_london_preprocessed/sub-s620/ses-m06/eeg/sub-s620_ses-m06_eeg.fif) does not conform to MNE naming conventions. All raw files should end with raw.fif, raw_sss.fif, raw_tsss.fif, raw.fif.gz, raw_sss.fif.gz, raw_tsss.fif.gz or _meg.fif\n",
      "  self._preprocessed_raw = mne.io.read_raw_fif(self.get_path(\"preprocessed_raw\"), verbose=self.verbose)\n"
     ]
    },
    {
     "name": "stdout",
     "output_type": "stream",
     "text": [
      "167 bad epochs dropped\n",
      "Overwriting existing file.\n",
      "Reading /home/christian/synchedout/eegip/eegip/tests/test_artifacts/derivatives/eegip_london_preprocessed/sub-s620/ses-m06/mod/sub-s620_ses-m06_epo.fif ...\n",
      "    Found the data of interest:\n",
      "        t =    -200.00 ...     798.00 ms\n",
      "        0 CTF compensation matrices available\n",
      "232 matching events found\n",
      "No baseline correction applied\n",
      "Not setting metadata\n",
      "0 projection items activated\n",
      "Reading /home/christian/synchedout/eegip/eegip/tests/test_artifacts/derivatives/eegip_london_preprocessed/sub-s620/ses-m06/mod/sub-s620_ses-m06_epo.fif ...\n",
      "    Found the data of interest:\n",
      "        t =    -200.00 ...     798.00 ms\n",
      "        0 CTF compensation matrices available\n",
      "232 matching events found\n",
      "No baseline correction applied\n",
      "Not setting metadata\n",
      "0 projection items activated\n",
      "Reading /home/christian/synchedout/eegip/eegip/tests/test_artifacts/derivatives/eegip_london_preprocessed/sub-s620/ses-m06/mod/sub-s620_ses-m06_epo.fif ...\n",
      "    Found the data of interest:\n",
      "        t =    -200.00 ...     798.00 ms\n",
      "        0 CTF compensation matrices available\n",
      "232 matching events found\n",
      "No baseline correction applied\n",
      "Not setting metadata\n",
      "0 projection items activated\n",
      "Opening raw data file /home/christian/synchedout/eegip/eegip/tests/test_artifacts/derivatives/eegip_london_preprocessed/sub-s621/ses-m06/eeg/sub-s621_ses-m06_eeg.fif...\n",
      "    Range : 0 ... 277999 =      0.000 ...   555.998 secs\n",
      "Ready.\n",
      "437 matching events found\n",
      "No baseline correction applied\n",
      "Not setting metadata\n",
      "0 projection items activated\n",
      "Loading data for 437 events and 500 original time points ...\n"
     ]
    },
    {
     "name": "stderr",
     "output_type": "stream",
     "text": [
      "/home/christian/synchedout/eegip/eegip/recording.py:209: RuntimeWarning: This filename (/home/christian/synchedout/eegip/eegip/tests/test_artifacts/derivatives/eegip_london_preprocessed/sub-s621/ses-m06/eeg/sub-s621_ses-m06_eeg.fif) does not conform to MNE naming conventions. All raw files should end with raw.fif, raw_sss.fif, raw_tsss.fif, raw.fif.gz, raw_sss.fif.gz, raw_tsss.fif.gz or _meg.fif\n",
      "  self._preprocessed_raw = mne.io.read_raw_fif(self.get_path(\"preprocessed_raw\"), verbose=self.verbose)\n"
     ]
    },
    {
     "name": "stdout",
     "output_type": "stream",
     "text": [
      "251 bad epochs dropped\n",
      "Overwriting existing file.\n",
      "Reading /home/christian/synchedout/eegip/eegip/tests/test_artifacts/derivatives/eegip_london_preprocessed/sub-s621/ses-m06/mod/sub-s621_ses-m06_epo.fif ...\n",
      "    Found the data of interest:\n",
      "        t =    -200.00 ...     798.00 ms\n",
      "        0 CTF compensation matrices available\n",
      "186 matching events found\n",
      "No baseline correction applied\n",
      "Not setting metadata\n",
      "0 projection items activated\n",
      "Reading /home/christian/synchedout/eegip/eegip/tests/test_artifacts/derivatives/eegip_london_preprocessed/sub-s621/ses-m06/mod/sub-s621_ses-m06_epo.fif ...\n",
      "    Found the data of interest:\n",
      "        t =    -200.00 ...     798.00 ms\n",
      "        0 CTF compensation matrices available\n",
      "186 matching events found\n",
      "No baseline correction applied\n",
      "Not setting metadata\n",
      "0 projection items activated\n",
      "Reading /home/christian/synchedout/eegip/eegip/tests/test_artifacts/derivatives/eegip_london_preprocessed/sub-s621/ses-m06/mod/sub-s621_ses-m06_epo.fif ...\n",
      "    Found the data of interest:\n",
      "        t =    -200.00 ...     798.00 ms\n",
      "        0 CTF compensation matrices available\n",
      "186 matching events found\n",
      "No baseline correction applied\n",
      "Not setting metadata\n",
      "0 projection items activated\n",
      "Opening raw data file /home/christian/synchedout/eegip/eegip/tests/test_artifacts/derivatives/eegip_london_preprocessed/sub-s622/ses-m06/eeg/sub-s622_ses-m06_eeg.fif...\n",
      "    Range : 0 ... 188499 =      0.000 ...   376.998 secs\n",
      "Ready.\n",
      "300 matching events found\n",
      "No baseline correction applied\n",
      "Not setting metadata\n",
      "0 projection items activated\n",
      "Loading data for 300 events and 500 original time points ...\n"
     ]
    },
    {
     "name": "stderr",
     "output_type": "stream",
     "text": [
      "/home/christian/synchedout/eegip/eegip/recording.py:209: RuntimeWarning: This filename (/home/christian/synchedout/eegip/eegip/tests/test_artifacts/derivatives/eegip_london_preprocessed/sub-s622/ses-m06/eeg/sub-s622_ses-m06_eeg.fif) does not conform to MNE naming conventions. All raw files should end with raw.fif, raw_sss.fif, raw_tsss.fif, raw.fif.gz, raw_sss.fif.gz, raw_tsss.fif.gz or _meg.fif\n",
      "  self._preprocessed_raw = mne.io.read_raw_fif(self.get_path(\"preprocessed_raw\"), verbose=self.verbose)\n"
     ]
    },
    {
     "name": "stdout",
     "output_type": "stream",
     "text": [
      "151 bad epochs dropped\n",
      "Overwriting existing file.\n",
      "Reading /home/christian/synchedout/eegip/eegip/tests/test_artifacts/derivatives/eegip_london_preprocessed/sub-s622/ses-m06/mod/sub-s622_ses-m06_epo.fif ...\n",
      "    Found the data of interest:\n",
      "        t =    -200.00 ...     798.00 ms\n",
      "        0 CTF compensation matrices available\n",
      "149 matching events found\n",
      "No baseline correction applied\n",
      "Not setting metadata\n",
      "0 projection items activated\n",
      "Reading /home/christian/synchedout/eegip/eegip/tests/test_artifacts/derivatives/eegip_london_preprocessed/sub-s622/ses-m06/mod/sub-s622_ses-m06_epo.fif ...\n",
      "    Found the data of interest:\n",
      "        t =    -200.00 ...     798.00 ms\n",
      "        0 CTF compensation matrices available\n",
      "149 matching events found\n",
      "No baseline correction applied\n",
      "Not setting metadata\n",
      "0 projection items activated\n",
      "Reading /home/christian/synchedout/eegip/eegip/tests/test_artifacts/derivatives/eegip_london_preprocessed/sub-s622/ses-m06/mod/sub-s622_ses-m06_epo.fif ...\n",
      "    Found the data of interest:\n",
      "        t =    -200.00 ...     798.00 ms\n",
      "        0 CTF compensation matrices available\n",
      "149 matching events found\n",
      "No baseline correction applied\n",
      "Not setting metadata\n",
      "0 projection items activated\n",
      "Opening raw data file /home/christian/synchedout/eegip/eegip/tests/test_artifacts/derivatives/eegip_london_preprocessed/sub-s623/ses-m06/eeg/sub-s623_ses-m06_eeg.fif...\n"
     ]
    },
    {
     "name": "stderr",
     "output_type": "stream",
     "text": [
      "/home/christian/synchedout/eegip/eegip/recording.py:209: RuntimeWarning: This filename (/home/christian/synchedout/eegip/eegip/tests/test_artifacts/derivatives/eegip_london_preprocessed/sub-s623/ses-m06/eeg/sub-s623_ses-m06_eeg.fif) does not conform to MNE naming conventions. All raw files should end with raw.fif, raw_sss.fif, raw_tsss.fif, raw.fif.gz, raw_sss.fif.gz, raw_tsss.fif.gz or _meg.fif\n",
      "  self._preprocessed_raw = mne.io.read_raw_fif(self.get_path(\"preprocessed_raw\"), verbose=self.verbose)\n"
     ]
    },
    {
     "name": "stdout",
     "output_type": "stream",
     "text": [
      "    Range : 0 ... 362499 =      0.000 ...   724.998 secs\n",
      "Ready.\n",
      "582 matching events found\n",
      "No baseline correction applied\n",
      "Not setting metadata\n",
      "0 projection items activated\n",
      "Loading data for 582 events and 500 original time points ...\n",
      "185 bad epochs dropped\n",
      "Overwriting existing file.\n",
      "Reading /home/christian/synchedout/eegip/eegip/tests/test_artifacts/derivatives/eegip_london_preprocessed/sub-s623/ses-m06/mod/sub-s623_ses-m06_epo.fif ...\n",
      "    Found the data of interest:\n",
      "        t =    -200.00 ...     798.00 ms\n",
      "        0 CTF compensation matrices available\n",
      "397 matching events found\n",
      "No baseline correction applied\n",
      "Not setting metadata\n",
      "0 projection items activated\n",
      "Reading /home/christian/synchedout/eegip/eegip/tests/test_artifacts/derivatives/eegip_london_preprocessed/sub-s623/ses-m06/mod/sub-s623_ses-m06_epo.fif ...\n",
      "    Found the data of interest:\n",
      "        t =    -200.00 ...     798.00 ms\n",
      "        0 CTF compensation matrices available\n",
      "397 matching events found\n",
      "No baseline correction applied\n",
      "Not setting metadata\n",
      "0 projection items activated\n",
      "Reading /home/christian/synchedout/eegip/eegip/tests/test_artifacts/derivatives/eegip_london_preprocessed/sub-s623/ses-m06/mod/sub-s623_ses-m06_epo.fif ...\n",
      "    Found the data of interest:\n",
      "        t =    -200.00 ...     798.00 ms\n",
      "        0 CTF compensation matrices available\n",
      "397 matching events found\n",
      "No baseline correction applied\n",
      "Not setting metadata\n",
      "0 projection items activated\n",
      "Opening raw data file /home/christian/synchedout/eegip/eegip/tests/test_artifacts/derivatives/eegip_london_preprocessed/sub-s624/ses-m06/eeg/sub-s624_ses-m06_eeg.fif...\n"
     ]
    },
    {
     "name": "stderr",
     "output_type": "stream",
     "text": [
      "/home/christian/synchedout/eegip/eegip/recording.py:209: RuntimeWarning: This filename (/home/christian/synchedout/eegip/eegip/tests/test_artifacts/derivatives/eegip_london_preprocessed/sub-s624/ses-m06/eeg/sub-s624_ses-m06_eeg.fif) does not conform to MNE naming conventions. All raw files should end with raw.fif, raw_sss.fif, raw_tsss.fif, raw.fif.gz, raw_sss.fif.gz, raw_tsss.fif.gz or _meg.fif\n",
      "  self._preprocessed_raw = mne.io.read_raw_fif(self.get_path(\"preprocessed_raw\"), verbose=self.verbose)\n"
     ]
    },
    {
     "name": "stdout",
     "output_type": "stream",
     "text": [
      "    Range : 0 ... 252499 =      0.000 ...   504.998 secs\n",
      "Ready.\n",
      "369 matching events found\n",
      "No baseline correction applied\n",
      "Not setting metadata\n",
      "0 projection items activated\n",
      "Loading data for 369 events and 500 original time points ...\n",
      "205 bad epochs dropped\n",
      "Overwriting existing file.\n",
      "Reading /home/christian/synchedout/eegip/eegip/tests/test_artifacts/derivatives/eegip_london_preprocessed/sub-s624/ses-m06/mod/sub-s624_ses-m06_epo.fif ...\n",
      "    Found the data of interest:\n",
      "        t =    -200.00 ...     798.00 ms\n",
      "        0 CTF compensation matrices available\n",
      "164 matching events found\n",
      "No baseline correction applied\n",
      "Not setting metadata\n",
      "0 projection items activated\n",
      "Reading /home/christian/synchedout/eegip/eegip/tests/test_artifacts/derivatives/eegip_london_preprocessed/sub-s624/ses-m06/mod/sub-s624_ses-m06_epo.fif ...\n",
      "    Found the data of interest:\n",
      "        t =    -200.00 ...     798.00 ms\n",
      "        0 CTF compensation matrices available\n",
      "164 matching events found\n",
      "No baseline correction applied\n",
      "Not setting metadata\n",
      "0 projection items activated\n",
      "Reading /home/christian/synchedout/eegip/eegip/tests/test_artifacts/derivatives/eegip_london_preprocessed/sub-s624/ses-m06/mod/sub-s624_ses-m06_epo.fif ...\n",
      "    Found the data of interest:\n",
      "        t =    -200.00 ...     798.00 ms\n",
      "        0 CTF compensation matrices available\n",
      "164 matching events found\n",
      "No baseline correction applied\n",
      "Not setting metadata\n",
      "0 projection items activated\n",
      "Opening raw data file /home/christian/synchedout/eegip/eegip/tests/test_artifacts/derivatives/eegip_london_preprocessed/sub-s625/ses-m06/eeg/sub-s625_ses-m06_eeg.fif...\n"
     ]
    },
    {
     "name": "stderr",
     "output_type": "stream",
     "text": [
      "/home/christian/synchedout/eegip/eegip/recording.py:209: RuntimeWarning: This filename (/home/christian/synchedout/eegip/eegip/tests/test_artifacts/derivatives/eegip_london_preprocessed/sub-s625/ses-m06/eeg/sub-s625_ses-m06_eeg.fif) does not conform to MNE naming conventions. All raw files should end with raw.fif, raw_sss.fif, raw_tsss.fif, raw.fif.gz, raw_sss.fif.gz, raw_tsss.fif.gz or _meg.fif\n",
      "  self._preprocessed_raw = mne.io.read_raw_fif(self.get_path(\"preprocessed_raw\"), verbose=self.verbose)\n"
     ]
    },
    {
     "name": "stdout",
     "output_type": "stream",
     "text": [
      "    Range : 0 ... 203999 =      0.000 ...   407.998 secs\n",
      "Ready.\n",
      "320 matching events found\n",
      "No baseline correction applied\n",
      "Not setting metadata\n",
      "0 projection items activated\n",
      "Loading data for 320 events and 500 original time points ...\n",
      "129 bad epochs dropped\n",
      "Overwriting existing file.\n",
      "Reading /home/christian/synchedout/eegip/eegip/tests/test_artifacts/derivatives/eegip_london_preprocessed/sub-s625/ses-m06/mod/sub-s625_ses-m06_epo.fif ...\n",
      "    Found the data of interest:\n",
      "        t =    -200.00 ...     798.00 ms\n",
      "        0 CTF compensation matrices available\n",
      "191 matching events found\n",
      "No baseline correction applied\n",
      "Not setting metadata\n",
      "0 projection items activated\n",
      "Reading /home/christian/synchedout/eegip/eegip/tests/test_artifacts/derivatives/eegip_london_preprocessed/sub-s625/ses-m06/mod/sub-s625_ses-m06_epo.fif ...\n",
      "    Found the data of interest:\n",
      "        t =    -200.00 ...     798.00 ms\n",
      "        0 CTF compensation matrices available\n",
      "191 matching events found\n",
      "No baseline correction applied\n",
      "Not setting metadata\n",
      "0 projection items activated\n",
      "Reading /home/christian/synchedout/eegip/eegip/tests/test_artifacts/derivatives/eegip_london_preprocessed/sub-s625/ses-m06/mod/sub-s625_ses-m06_epo.fif ...\n",
      "    Found the data of interest:\n",
      "        t =    -200.00 ...     798.00 ms\n",
      "        0 CTF compensation matrices available\n",
      "191 matching events found\n",
      "No baseline correction applied\n",
      "Not setting metadata\n",
      "0 projection items activated\n",
      "Opening raw data file /home/christian/synchedout/eegip/eegip/tests/test_artifacts/derivatives/eegip_london_preprocessed/sub-s626/ses-m06/eeg/sub-s626_ses-m06_eeg.fif...\n",
      "    Range : 0 ... 46499 =      0.000 ...    92.998 secs\n",
      "Ready.\n",
      "84 matching events found\n",
      "No baseline correction applied\n",
      "Not setting metadata\n",
      "0 projection items activated\n",
      "Loading data for 84 events and 500 original time points ...\n"
     ]
    },
    {
     "name": "stderr",
     "output_type": "stream",
     "text": [
      "/home/christian/synchedout/eegip/eegip/recording.py:209: RuntimeWarning: This filename (/home/christian/synchedout/eegip/eegip/tests/test_artifacts/derivatives/eegip_london_preprocessed/sub-s626/ses-m06/eeg/sub-s626_ses-m06_eeg.fif) does not conform to MNE naming conventions. All raw files should end with raw.fif, raw_sss.fif, raw_tsss.fif, raw.fif.gz, raw_sss.fif.gz, raw_tsss.fif.gz or _meg.fif\n",
      "  self._preprocessed_raw = mne.io.read_raw_fif(self.get_path(\"preprocessed_raw\"), verbose=self.verbose)\n"
     ]
    },
    {
     "name": "stdout",
     "output_type": "stream",
     "text": [
      "30 bad epochs dropped\n",
      "Overwriting existing file.\n",
      "Reading /home/christian/synchedout/eegip/eegip/tests/test_artifacts/derivatives/eegip_london_preprocessed/sub-s626/ses-m06/mod/sub-s626_ses-m06_epo.fif ...\n",
      "    Found the data of interest:\n",
      "        t =    -200.00 ...     798.00 ms\n",
      "        0 CTF compensation matrices available\n",
      "54 matching events found\n",
      "No baseline correction applied\n",
      "Not setting metadata\n",
      "0 projection items activated\n",
      "Reading /home/christian/synchedout/eegip/eegip/tests/test_artifacts/derivatives/eegip_london_preprocessed/sub-s626/ses-m06/mod/sub-s626_ses-m06_epo.fif ...\n",
      "    Found the data of interest:\n",
      "        t =    -200.00 ...     798.00 ms\n",
      "        0 CTF compensation matrices available\n",
      "54 matching events found\n",
      "No baseline correction applied\n",
      "Not setting metadata\n",
      "0 projection items activated\n",
      "Reading /home/christian/synchedout/eegip/eegip/tests/test_artifacts/derivatives/eegip_london_preprocessed/sub-s626/ses-m06/mod/sub-s626_ses-m06_epo.fif ...\n",
      "    Found the data of interest:\n",
      "        t =    -200.00 ...     798.00 ms\n",
      "        0 CTF compensation matrices available\n",
      "54 matching events found\n",
      "No baseline correction applied\n",
      "Not setting metadata\n",
      "0 projection items activated\n",
      "Opening raw data file /home/christian/synchedout/eegip/eegip/tests/test_artifacts/derivatives/eegip_london_preprocessed/sub-s627/ses-m06/eeg/sub-s627_ses-m06_eeg.fif...\n"
     ]
    },
    {
     "name": "stderr",
     "output_type": "stream",
     "text": [
      "/home/christian/synchedout/eegip/eegip/recording.py:209: RuntimeWarning: This filename (/home/christian/synchedout/eegip/eegip/tests/test_artifacts/derivatives/eegip_london_preprocessed/sub-s627/ses-m06/eeg/sub-s627_ses-m06_eeg.fif) does not conform to MNE naming conventions. All raw files should end with raw.fif, raw_sss.fif, raw_tsss.fif, raw.fif.gz, raw_sss.fif.gz, raw_tsss.fif.gz or _meg.fif\n",
      "  self._preprocessed_raw = mne.io.read_raw_fif(self.get_path(\"preprocessed_raw\"), verbose=self.verbose)\n"
     ]
    },
    {
     "name": "stdout",
     "output_type": "stream",
     "text": [
      "    Range : 0 ... 234999 =      0.000 ...   469.998 secs\n",
      "Ready.\n",
      "350 matching events found\n",
      "No baseline correction applied\n",
      "Not setting metadata\n",
      "0 projection items activated\n",
      "Loading data for 350 events and 500 original time points ...\n",
      "244 bad epochs dropped\n",
      "Overwriting existing file.\n",
      "Reading /home/christian/synchedout/eegip/eegip/tests/test_artifacts/derivatives/eegip_london_preprocessed/sub-s627/ses-m06/mod/sub-s627_ses-m06_epo.fif ...\n",
      "    Found the data of interest:\n",
      "        t =    -200.00 ...     798.00 ms\n",
      "        0 CTF compensation matrices available\n",
      "106 matching events found\n",
      "No baseline correction applied\n",
      "Not setting metadata\n",
      "0 projection items activated\n",
      "Reading /home/christian/synchedout/eegip/eegip/tests/test_artifacts/derivatives/eegip_london_preprocessed/sub-s627/ses-m06/mod/sub-s627_ses-m06_epo.fif ...\n",
      "    Found the data of interest:\n",
      "        t =    -200.00 ...     798.00 ms\n",
      "        0 CTF compensation matrices available\n",
      "106 matching events found\n",
      "No baseline correction applied\n",
      "Not setting metadata\n",
      "0 projection items activated\n",
      "Reading /home/christian/synchedout/eegip/eegip/tests/test_artifacts/derivatives/eegip_london_preprocessed/sub-s627/ses-m06/mod/sub-s627_ses-m06_epo.fif ...\n",
      "    Found the data of interest:\n",
      "        t =    -200.00 ...     798.00 ms\n",
      "        0 CTF compensation matrices available\n",
      "106 matching events found\n",
      "No baseline correction applied\n",
      "Not setting metadata\n",
      "0 projection items activated\n",
      "Opening raw data file /home/christian/synchedout/eegip/eegip/tests/test_artifacts/derivatives/eegip_london_preprocessed/sub-s628/ses-m06/eeg/sub-s628_ses-m06_eeg.fif...\n",
      "    Range : 0 ... 201499 =      0.000 ...   402.998 secs\n",
      "Ready.\n",
      "319 matching events found\n",
      "No baseline correction applied\n",
      "Not setting metadata\n",
      "0 projection items activated\n",
      "Loading data for 319 events and 500 original time points ...\n"
     ]
    },
    {
     "name": "stderr",
     "output_type": "stream",
     "text": [
      "/home/christian/synchedout/eegip/eegip/recording.py:209: RuntimeWarning: This filename (/home/christian/synchedout/eegip/eegip/tests/test_artifacts/derivatives/eegip_london_preprocessed/sub-s628/ses-m06/eeg/sub-s628_ses-m06_eeg.fif) does not conform to MNE naming conventions. All raw files should end with raw.fif, raw_sss.fif, raw_tsss.fif, raw.fif.gz, raw_sss.fif.gz, raw_tsss.fif.gz or _meg.fif\n",
      "  self._preprocessed_raw = mne.io.read_raw_fif(self.get_path(\"preprocessed_raw\"), verbose=self.verbose)\n"
     ]
    },
    {
     "name": "stdout",
     "output_type": "stream",
     "text": [
      "124 bad epochs dropped\n",
      "Overwriting existing file.\n",
      "Reading /home/christian/synchedout/eegip/eegip/tests/test_artifacts/derivatives/eegip_london_preprocessed/sub-s628/ses-m06/mod/sub-s628_ses-m06_epo.fif ...\n",
      "    Found the data of interest:\n",
      "        t =    -200.00 ...     798.00 ms\n",
      "        0 CTF compensation matrices available\n",
      "195 matching events found\n",
      "No baseline correction applied\n",
      "Not setting metadata\n",
      "0 projection items activated\n",
      "Reading /home/christian/synchedout/eegip/eegip/tests/test_artifacts/derivatives/eegip_london_preprocessed/sub-s628/ses-m06/mod/sub-s628_ses-m06_epo.fif ...\n",
      "    Found the data of interest:\n",
      "        t =    -200.00 ...     798.00 ms\n",
      "        0 CTF compensation matrices available\n",
      "195 matching events found\n",
      "No baseline correction applied\n",
      "Not setting metadata\n",
      "0 projection items activated\n",
      "Reading /home/christian/synchedout/eegip/eegip/tests/test_artifacts/derivatives/eegip_london_preprocessed/sub-s628/ses-m06/mod/sub-s628_ses-m06_epo.fif ...\n",
      "    Found the data of interest:\n",
      "        t =    -200.00 ...     798.00 ms\n",
      "        0 CTF compensation matrices available\n",
      "195 matching events found\n",
      "No baseline correction applied\n",
      "Not setting metadata\n",
      "0 projection items activated\n",
      "Opening raw data file /home/christian/synchedout/eegip/eegip/tests/test_artifacts/derivatives/eegip_london_preprocessed/sub-s629/ses-m06/eeg/sub-s629_ses-m06_eeg.fif...\n",
      "    Range : 0 ... 72499 =      0.000 ...   144.998 secs\n",
      "Ready.\n",
      "90 matching events found\n",
      "No baseline correction applied\n",
      "Not setting metadata\n",
      "0 projection items activated\n",
      "Loading data for 90 events and 500 original time points ...\n",
      "63 bad epochs dropped\n",
      "Overwriting existing file.\n"
     ]
    },
    {
     "name": "stderr",
     "output_type": "stream",
     "text": [
      "/home/christian/synchedout/eegip/eegip/recording.py:209: RuntimeWarning: This filename (/home/christian/synchedout/eegip/eegip/tests/test_artifacts/derivatives/eegip_london_preprocessed/sub-s629/ses-m06/eeg/sub-s629_ses-m06_eeg.fif) does not conform to MNE naming conventions. All raw files should end with raw.fif, raw_sss.fif, raw_tsss.fif, raw.fif.gz, raw_sss.fif.gz, raw_tsss.fif.gz or _meg.fif\n",
      "  self._preprocessed_raw = mne.io.read_raw_fif(self.get_path(\"preprocessed_raw\"), verbose=self.verbose)\n"
     ]
    },
    {
     "name": "stdout",
     "output_type": "stream",
     "text": [
      "Reading /home/christian/synchedout/eegip/eegip/tests/test_artifacts/derivatives/eegip_london_preprocessed/sub-s629/ses-m06/mod/sub-s629_ses-m06_epo.fif ...\n",
      "    Found the data of interest:\n",
      "        t =    -200.00 ...     798.00 ms\n",
      "        0 CTF compensation matrices available\n",
      "27 matching events found\n",
      "No baseline correction applied\n",
      "Not setting metadata\n",
      "0 projection items activated\n",
      "Reading /home/christian/synchedout/eegip/eegip/tests/test_artifacts/derivatives/eegip_london_preprocessed/sub-s629/ses-m06/mod/sub-s629_ses-m06_epo.fif ...\n",
      "    Found the data of interest:\n",
      "        t =    -200.00 ...     798.00 ms\n",
      "        0 CTF compensation matrices available\n",
      "27 matching events found\n",
      "No baseline correction applied\n",
      "Not setting metadata\n",
      "0 projection items activated\n",
      "Reading /home/christian/synchedout/eegip/eegip/tests/test_artifacts/derivatives/eegip_london_preprocessed/sub-s629/ses-m06/mod/sub-s629_ses-m06_epo.fif ...\n",
      "    Found the data of interest:\n",
      "        t =    -200.00 ...     798.00 ms\n",
      "        0 CTF compensation matrices available\n",
      "27 matching events found\n",
      "No baseline correction applied\n",
      "Not setting metadata\n",
      "0 projection items activated\n",
      "Opening raw data file /home/christian/synchedout/eegip/eegip/tests/test_artifacts/derivatives/eegip_london_preprocessed/sub-s630/ses-m06/eeg/sub-s630_ses-m06_eeg.fif...\n",
      "    Range : 0 ... 248999 =      0.000 ...   497.998 secs\n",
      "Ready.\n",
      "372 matching events found\n",
      "No baseline correction applied\n",
      "Not setting metadata\n",
      "0 projection items activated\n",
      "Loading data for 372 events and 500 original time points ...\n"
     ]
    },
    {
     "name": "stderr",
     "output_type": "stream",
     "text": [
      "/home/christian/synchedout/eegip/eegip/recording.py:209: RuntimeWarning: This filename (/home/christian/synchedout/eegip/eegip/tests/test_artifacts/derivatives/eegip_london_preprocessed/sub-s630/ses-m06/eeg/sub-s630_ses-m06_eeg.fif) does not conform to MNE naming conventions. All raw files should end with raw.fif, raw_sss.fif, raw_tsss.fif, raw.fif.gz, raw_sss.fif.gz, raw_tsss.fif.gz or _meg.fif\n",
      "  self._preprocessed_raw = mne.io.read_raw_fif(self.get_path(\"preprocessed_raw\"), verbose=self.verbose)\n"
     ]
    },
    {
     "name": "stdout",
     "output_type": "stream",
     "text": [
      "143 bad epochs dropped\n",
      "Overwriting existing file.\n",
      "Reading /home/christian/synchedout/eegip/eegip/tests/test_artifacts/derivatives/eegip_london_preprocessed/sub-s630/ses-m06/mod/sub-s630_ses-m06_epo.fif ...\n",
      "    Found the data of interest:\n",
      "        t =    -200.00 ...     798.00 ms\n",
      "        0 CTF compensation matrices available\n",
      "229 matching events found\n",
      "No baseline correction applied\n",
      "Not setting metadata\n",
      "0 projection items activated\n",
      "Reading /home/christian/synchedout/eegip/eegip/tests/test_artifacts/derivatives/eegip_london_preprocessed/sub-s630/ses-m06/mod/sub-s630_ses-m06_epo.fif ...\n",
      "    Found the data of interest:\n",
      "        t =    -200.00 ...     798.00 ms\n",
      "        0 CTF compensation matrices available\n",
      "229 matching events found\n",
      "No baseline correction applied\n",
      "Not setting metadata\n",
      "0 projection items activated\n",
      "Reading /home/christian/synchedout/eegip/eegip/tests/test_artifacts/derivatives/eegip_london_preprocessed/sub-s630/ses-m06/mod/sub-s630_ses-m06_epo.fif ...\n",
      "    Found the data of interest:\n",
      "        t =    -200.00 ...     798.00 ms\n",
      "        0 CTF compensation matrices available\n",
      "229 matching events found\n",
      "No baseline correction applied\n",
      "Not setting metadata\n",
      "0 projection items activated\n",
      "Opening raw data file /home/christian/synchedout/eegip/eegip/tests/test_artifacts/derivatives/eegip_london_preprocessed/sub-s631/ses-m06/eeg/sub-s631_ses-m06_eeg.fif...\n",
      "    Range : 0 ... 136499 =      0.000 ...   272.998 secs\n",
      "Ready.\n",
      "168 matching events found\n",
      "No baseline correction applied\n",
      "Not setting metadata\n",
      "0 projection items activated\n",
      "Loading data for 168 events and 500 original time points ...\n",
      "137 bad epochs dropped\n",
      "Overwriting existing file.\n"
     ]
    },
    {
     "name": "stderr",
     "output_type": "stream",
     "text": [
      "/home/christian/synchedout/eegip/eegip/recording.py:209: RuntimeWarning: This filename (/home/christian/synchedout/eegip/eegip/tests/test_artifacts/derivatives/eegip_london_preprocessed/sub-s631/ses-m06/eeg/sub-s631_ses-m06_eeg.fif) does not conform to MNE naming conventions. All raw files should end with raw.fif, raw_sss.fif, raw_tsss.fif, raw.fif.gz, raw_sss.fif.gz, raw_tsss.fif.gz or _meg.fif\n",
      "  self._preprocessed_raw = mne.io.read_raw_fif(self.get_path(\"preprocessed_raw\"), verbose=self.verbose)\n"
     ]
    },
    {
     "name": "stdout",
     "output_type": "stream",
     "text": [
      "Reading /home/christian/synchedout/eegip/eegip/tests/test_artifacts/derivatives/eegip_london_preprocessed/sub-s631/ses-m06/mod/sub-s631_ses-m06_epo.fif ...\n",
      "    Found the data of interest:\n",
      "        t =    -200.00 ...     798.00 ms\n",
      "        0 CTF compensation matrices available\n",
      "31 matching events found\n",
      "No baseline correction applied\n",
      "Not setting metadata\n",
      "0 projection items activated\n",
      "Reading /home/christian/synchedout/eegip/eegip/tests/test_artifacts/derivatives/eegip_london_preprocessed/sub-s631/ses-m06/mod/sub-s631_ses-m06_epo.fif ...\n",
      "    Found the data of interest:\n",
      "        t =    -200.00 ...     798.00 ms\n",
      "        0 CTF compensation matrices available\n",
      "31 matching events found\n",
      "No baseline correction applied\n",
      "Not setting metadata\n",
      "0 projection items activated\n",
      "Reading /home/christian/synchedout/eegip/eegip/tests/test_artifacts/derivatives/eegip_london_preprocessed/sub-s631/ses-m06/mod/sub-s631_ses-m06_epo.fif ...\n",
      "    Found the data of interest:\n",
      "        t =    -200.00 ...     798.00 ms\n",
      "        0 CTF compensation matrices available\n",
      "31 matching events found\n",
      "No baseline correction applied\n",
      "Not setting metadata\n",
      "0 projection items activated\n",
      "Opening raw data file /home/christian/synchedout/eegip/eegip/tests/test_artifacts/derivatives/eegip_london_preprocessed/sub-s632/ses-m06/eeg/sub-s632_ses-m06_eeg.fif...\n",
      "    Range : 0 ... 267499 =      0.000 ...   534.998 secs\n",
      "Ready.\n",
      "404 matching events found\n",
      "No baseline correction applied\n",
      "Not setting metadata\n",
      "0 projection items activated\n",
      "Loading data for 404 events and 500 original time points ...\n"
     ]
    },
    {
     "name": "stderr",
     "output_type": "stream",
     "text": [
      "/home/christian/synchedout/eegip/eegip/recording.py:209: RuntimeWarning: This filename (/home/christian/synchedout/eegip/eegip/tests/test_artifacts/derivatives/eegip_london_preprocessed/sub-s632/ses-m06/eeg/sub-s632_ses-m06_eeg.fif) does not conform to MNE naming conventions. All raw files should end with raw.fif, raw_sss.fif, raw_tsss.fif, raw.fif.gz, raw_sss.fif.gz, raw_tsss.fif.gz or _meg.fif\n",
      "  self._preprocessed_raw = mne.io.read_raw_fif(self.get_path(\"preprocessed_raw\"), verbose=self.verbose)\n"
     ]
    },
    {
     "name": "stdout",
     "output_type": "stream",
     "text": [
      "181 bad epochs dropped\n",
      "Overwriting existing file.\n",
      "Reading /home/christian/synchedout/eegip/eegip/tests/test_artifacts/derivatives/eegip_london_preprocessed/sub-s632/ses-m06/mod/sub-s632_ses-m06_epo.fif ...\n",
      "    Found the data of interest:\n",
      "        t =    -200.00 ...     798.00 ms\n",
      "        0 CTF compensation matrices available\n",
      "223 matching events found\n",
      "No baseline correction applied\n",
      "Not setting metadata\n",
      "0 projection items activated\n",
      "Reading /home/christian/synchedout/eegip/eegip/tests/test_artifacts/derivatives/eegip_london_preprocessed/sub-s632/ses-m06/mod/sub-s632_ses-m06_epo.fif ...\n",
      "    Found the data of interest:\n",
      "        t =    -200.00 ...     798.00 ms\n",
      "        0 CTF compensation matrices available\n",
      "223 matching events found\n",
      "No baseline correction applied\n",
      "Not setting metadata\n",
      "0 projection items activated\n",
      "Reading /home/christian/synchedout/eegip/eegip/tests/test_artifacts/derivatives/eegip_london_preprocessed/sub-s632/ses-m06/mod/sub-s632_ses-m06_epo.fif ...\n",
      "    Found the data of interest:\n",
      "        t =    -200.00 ...     798.00 ms\n",
      "        0 CTF compensation matrices available\n",
      "223 matching events found\n",
      "No baseline correction applied\n",
      "Not setting metadata\n",
      "0 projection items activated\n",
      "Opening raw data file /home/christian/synchedout/eegip/eegip/tests/test_artifacts/derivatives/eegip_london_preprocessed/sub-s633/ses-m06/eeg/sub-s633_ses-m06_eeg.fif...\n",
      "    Range : 0 ... 446499 =      0.000 ...   892.998 secs\n",
      "Ready.\n",
      "722 matching events found\n",
      "No baseline correction applied\n",
      "Not setting metadata\n",
      "0 projection items activated\n",
      "Loading data for 722 events and 500 original time points ...\n"
     ]
    },
    {
     "name": "stderr",
     "output_type": "stream",
     "text": [
      "/home/christian/synchedout/eegip/eegip/recording.py:209: RuntimeWarning: This filename (/home/christian/synchedout/eegip/eegip/tests/test_artifacts/derivatives/eegip_london_preprocessed/sub-s633/ses-m06/eeg/sub-s633_ses-m06_eeg.fif) does not conform to MNE naming conventions. All raw files should end with raw.fif, raw_sss.fif, raw_tsss.fif, raw.fif.gz, raw_sss.fif.gz, raw_tsss.fif.gz or _meg.fif\n",
      "  self._preprocessed_raw = mne.io.read_raw_fif(self.get_path(\"preprocessed_raw\"), verbose=self.verbose)\n"
     ]
    },
    {
     "name": "stdout",
     "output_type": "stream",
     "text": [
      "387 bad epochs dropped\n",
      "Overwriting existing file.\n",
      "Reading /home/christian/synchedout/eegip/eegip/tests/test_artifacts/derivatives/eegip_london_preprocessed/sub-s633/ses-m06/mod/sub-s633_ses-m06_epo.fif ...\n",
      "    Found the data of interest:\n",
      "        t =    -200.00 ...     798.00 ms\n",
      "        0 CTF compensation matrices available\n",
      "335 matching events found\n",
      "No baseline correction applied\n",
      "Not setting metadata\n",
      "0 projection items activated\n",
      "Reading /home/christian/synchedout/eegip/eegip/tests/test_artifacts/derivatives/eegip_london_preprocessed/sub-s633/ses-m06/mod/sub-s633_ses-m06_epo.fif ...\n",
      "    Found the data of interest:\n",
      "        t =    -200.00 ...     798.00 ms\n",
      "        0 CTF compensation matrices available\n",
      "335 matching events found\n",
      "No baseline correction applied\n",
      "Not setting metadata\n",
      "0 projection items activated\n",
      "Reading /home/christian/synchedout/eegip/eegip/tests/test_artifacts/derivatives/eegip_london_preprocessed/sub-s633/ses-m06/mod/sub-s633_ses-m06_epo.fif ...\n",
      "    Found the data of interest:\n",
      "        t =    -200.00 ...     798.00 ms\n",
      "        0 CTF compensation matrices available\n",
      "335 matching events found\n",
      "No baseline correction applied\n",
      "Not setting metadata\n",
      "0 projection items activated\n",
      "Opening raw data file /home/christian/synchedout/eegip/eegip/tests/test_artifacts/derivatives/eegip_london_preprocessed/sub-s634/ses-m06/eeg/sub-s634_ses-m06_eeg.fif...\n"
     ]
    },
    {
     "name": "stderr",
     "output_type": "stream",
     "text": [
      "/home/christian/synchedout/eegip/eegip/recording.py:209: RuntimeWarning: This filename (/home/christian/synchedout/eegip/eegip/tests/test_artifacts/derivatives/eegip_london_preprocessed/sub-s634/ses-m06/eeg/sub-s634_ses-m06_eeg.fif) does not conform to MNE naming conventions. All raw files should end with raw.fif, raw_sss.fif, raw_tsss.fif, raw.fif.gz, raw_sss.fif.gz, raw_tsss.fif.gz or _meg.fif\n",
      "  self._preprocessed_raw = mne.io.read_raw_fif(self.get_path(\"preprocessed_raw\"), verbose=self.verbose)\n"
     ]
    },
    {
     "name": "stdout",
     "output_type": "stream",
     "text": [
      "    Range : 0 ... 232999 =      0.000 ...   465.998 secs\n",
      "Ready.\n",
      "345 matching events found\n",
      "No baseline correction applied\n",
      "Not setting metadata\n",
      "0 projection items activated\n",
      "Loading data for 345 events and 500 original time points ...\n",
      "102 bad epochs dropped\n",
      "Overwriting existing file.\n",
      "Reading /home/christian/synchedout/eegip/eegip/tests/test_artifacts/derivatives/eegip_london_preprocessed/sub-s634/ses-m06/mod/sub-s634_ses-m06_epo.fif ...\n",
      "    Found the data of interest:\n",
      "        t =    -200.00 ...     798.00 ms\n",
      "        0 CTF compensation matrices available\n",
      "243 matching events found\n",
      "No baseline correction applied\n",
      "Not setting metadata\n",
      "0 projection items activated\n",
      "Reading /home/christian/synchedout/eegip/eegip/tests/test_artifacts/derivatives/eegip_london_preprocessed/sub-s634/ses-m06/mod/sub-s634_ses-m06_epo.fif ...\n",
      "    Found the data of interest:\n",
      "        t =    -200.00 ...     798.00 ms\n",
      "        0 CTF compensation matrices available\n",
      "243 matching events found\n",
      "No baseline correction applied\n",
      "Not setting metadata\n",
      "0 projection items activated\n",
      "Reading /home/christian/synchedout/eegip/eegip/tests/test_artifacts/derivatives/eegip_london_preprocessed/sub-s634/ses-m06/mod/sub-s634_ses-m06_epo.fif ...\n",
      "    Found the data of interest:\n",
      "        t =    -200.00 ...     798.00 ms\n",
      "        0 CTF compensation matrices available\n",
      "243 matching events found\n",
      "No baseline correction applied\n",
      "Not setting metadata\n",
      "0 projection items activated\n",
      "Opening raw data file /home/christian/synchedout/eegip/eegip/tests/test_artifacts/derivatives/eegip_london_preprocessed/sub-s636/ses-m06/eeg/sub-s636_ses-m06_eeg.fif...\n"
     ]
    },
    {
     "name": "stderr",
     "output_type": "stream",
     "text": [
      "/home/christian/synchedout/eegip/eegip/recording.py:209: RuntimeWarning: This filename (/home/christian/synchedout/eegip/eegip/tests/test_artifacts/derivatives/eegip_london_preprocessed/sub-s636/ses-m06/eeg/sub-s636_ses-m06_eeg.fif) does not conform to MNE naming conventions. All raw files should end with raw.fif, raw_sss.fif, raw_tsss.fif, raw.fif.gz, raw_sss.fif.gz, raw_tsss.fif.gz or _meg.fif\n",
      "  self._preprocessed_raw = mne.io.read_raw_fif(self.get_path(\"preprocessed_raw\"), verbose=self.verbose)\n"
     ]
    },
    {
     "name": "stdout",
     "output_type": "stream",
     "text": [
      "    Range : 0 ... 199999 =      0.000 ...   399.998 secs\n",
      "Ready.\n",
      "321 matching events found\n",
      "No baseline correction applied\n",
      "Not setting metadata\n",
      "0 projection items activated\n",
      "Loading data for 321 events and 500 original time points ...\n",
      "171 bad epochs dropped\n",
      "Overwriting existing file.\n",
      "Reading /home/christian/synchedout/eegip/eegip/tests/test_artifacts/derivatives/eegip_london_preprocessed/sub-s636/ses-m06/mod/sub-s636_ses-m06_epo.fif ...\n",
      "    Found the data of interest:\n",
      "        t =    -200.00 ...     798.00 ms\n",
      "        0 CTF compensation matrices available\n",
      "150 matching events found\n",
      "No baseline correction applied\n",
      "Not setting metadata\n",
      "0 projection items activated\n",
      "Reading /home/christian/synchedout/eegip/eegip/tests/test_artifacts/derivatives/eegip_london_preprocessed/sub-s636/ses-m06/mod/sub-s636_ses-m06_epo.fif ...\n",
      "    Found the data of interest:\n",
      "        t =    -200.00 ...     798.00 ms\n",
      "        0 CTF compensation matrices available\n",
      "150 matching events found\n",
      "No baseline correction applied\n",
      "Not setting metadata\n",
      "0 projection items activated\n",
      "Reading /home/christian/synchedout/eegip/eegip/tests/test_artifacts/derivatives/eegip_london_preprocessed/sub-s636/ses-m06/mod/sub-s636_ses-m06_epo.fif ...\n",
      "    Found the data of interest:\n",
      "        t =    -200.00 ...     798.00 ms\n",
      "        0 CTF compensation matrices available\n",
      "150 matching events found\n",
      "No baseline correction applied\n",
      "Not setting metadata\n",
      "0 projection items activated\n",
      "Opening raw data file /home/christian/synchedout/eegip/eegip/tests/test_artifacts/derivatives/eegip_london_preprocessed/sub-s637/ses-m06/eeg/sub-s637_ses-m06_eeg.fif...\n"
     ]
    },
    {
     "name": "stderr",
     "output_type": "stream",
     "text": [
      "/home/christian/synchedout/eegip/eegip/recording.py:209: RuntimeWarning: This filename (/home/christian/synchedout/eegip/eegip/tests/test_artifacts/derivatives/eegip_london_preprocessed/sub-s637/ses-m06/eeg/sub-s637_ses-m06_eeg.fif) does not conform to MNE naming conventions. All raw files should end with raw.fif, raw_sss.fif, raw_tsss.fif, raw.fif.gz, raw_sss.fif.gz, raw_tsss.fif.gz or _meg.fif\n",
      "  self._preprocessed_raw = mne.io.read_raw_fif(self.get_path(\"preprocessed_raw\"), verbose=self.verbose)\n"
     ]
    },
    {
     "name": "stdout",
     "output_type": "stream",
     "text": [
      "    Range : 0 ... 206999 =      0.000 ...   413.998 secs\n",
      "Ready.\n",
      "296 matching events found\n",
      "No baseline correction applied\n",
      "Not setting metadata\n",
      "0 projection items activated\n",
      "Loading data for 296 events and 500 original time points ...\n",
      "66 bad epochs dropped\n",
      "Overwriting existing file.\n",
      "Reading /home/christian/synchedout/eegip/eegip/tests/test_artifacts/derivatives/eegip_london_preprocessed/sub-s637/ses-m06/mod/sub-s637_ses-m06_epo.fif ...\n",
      "    Found the data of interest:\n",
      "        t =    -200.00 ...     798.00 ms\n",
      "        0 CTF compensation matrices available\n",
      "230 matching events found\n",
      "No baseline correction applied\n",
      "Not setting metadata\n",
      "0 projection items activated\n",
      "Reading /home/christian/synchedout/eegip/eegip/tests/test_artifacts/derivatives/eegip_london_preprocessed/sub-s637/ses-m06/mod/sub-s637_ses-m06_epo.fif ...\n",
      "    Found the data of interest:\n",
      "        t =    -200.00 ...     798.00 ms\n",
      "        0 CTF compensation matrices available\n",
      "230 matching events found\n",
      "No baseline correction applied\n",
      "Not setting metadata\n",
      "0 projection items activated\n",
      "Reading /home/christian/synchedout/eegip/eegip/tests/test_artifacts/derivatives/eegip_london_preprocessed/sub-s637/ses-m06/mod/sub-s637_ses-m06_epo.fif ...\n",
      "    Found the data of interest:\n",
      "        t =    -200.00 ...     798.00 ms\n",
      "        0 CTF compensation matrices available\n",
      "230 matching events found\n",
      "No baseline correction applied\n",
      "Not setting metadata\n",
      "0 projection items activated\n",
      "Opening raw data file /home/christian/synchedout/eegip/eegip/tests/test_artifacts/derivatives/eegip_london_preprocessed/sub-s638/ses-m06/eeg/sub-s638_ses-m06_eeg.fif...\n",
      "    Range : 0 ... 267499 =      0.000 ...   534.998 secs\n",
      "Ready.\n",
      "397 matching events found\n",
      "No baseline correction applied\n",
      "Not setting metadata\n",
      "0 projection items activated\n",
      "Loading data for 397 events and 500 original time points ...\n"
     ]
    },
    {
     "name": "stderr",
     "output_type": "stream",
     "text": [
      "/home/christian/synchedout/eegip/eegip/recording.py:209: RuntimeWarning: This filename (/home/christian/synchedout/eegip/eegip/tests/test_artifacts/derivatives/eegip_london_preprocessed/sub-s638/ses-m06/eeg/sub-s638_ses-m06_eeg.fif) does not conform to MNE naming conventions. All raw files should end with raw.fif, raw_sss.fif, raw_tsss.fif, raw.fif.gz, raw_sss.fif.gz, raw_tsss.fif.gz or _meg.fif\n",
      "  self._preprocessed_raw = mne.io.read_raw_fif(self.get_path(\"preprocessed_raw\"), verbose=self.verbose)\n"
     ]
    },
    {
     "name": "stdout",
     "output_type": "stream",
     "text": [
      "152 bad epochs dropped\n",
      "Overwriting existing file.\n",
      "Reading /home/christian/synchedout/eegip/eegip/tests/test_artifacts/derivatives/eegip_london_preprocessed/sub-s638/ses-m06/mod/sub-s638_ses-m06_epo.fif ...\n",
      "    Found the data of interest:\n",
      "        t =    -200.00 ...     798.00 ms\n",
      "        0 CTF compensation matrices available\n",
      "245 matching events found\n",
      "No baseline correction applied\n",
      "Not setting metadata\n",
      "0 projection items activated\n",
      "Reading /home/christian/synchedout/eegip/eegip/tests/test_artifacts/derivatives/eegip_london_preprocessed/sub-s638/ses-m06/mod/sub-s638_ses-m06_epo.fif ...\n",
      "    Found the data of interest:\n",
      "        t =    -200.00 ...     798.00 ms\n",
      "        0 CTF compensation matrices available\n",
      "245 matching events found\n",
      "No baseline correction applied\n",
      "Not setting metadata\n",
      "0 projection items activated\n",
      "Reading /home/christian/synchedout/eegip/eegip/tests/test_artifacts/derivatives/eegip_london_preprocessed/sub-s638/ses-m06/mod/sub-s638_ses-m06_epo.fif ...\n",
      "    Found the data of interest:\n",
      "        t =    -200.00 ...     798.00 ms\n",
      "        0 CTF compensation matrices available\n",
      "245 matching events found\n",
      "No baseline correction applied\n",
      "Not setting metadata\n",
      "0 projection items activated\n",
      "Opening raw data file /home/christian/synchedout/eegip/eegip/tests/test_artifacts/derivatives/eegip_london_preprocessed/sub-s639/ses-m06/eeg/sub-s639_ses-m06_eeg.fif...\n",
      "    Range : 0 ... 179499 =      0.000 ...   358.998 secs\n",
      "Ready.\n",
      "280 matching events found\n",
      "No baseline correction applied\n",
      "Not setting metadata\n",
      "0 projection items activated\n",
      "Loading data for 280 events and 500 original time points ...\n"
     ]
    },
    {
     "name": "stderr",
     "output_type": "stream",
     "text": [
      "/home/christian/synchedout/eegip/eegip/recording.py:209: RuntimeWarning: This filename (/home/christian/synchedout/eegip/eegip/tests/test_artifacts/derivatives/eegip_london_preprocessed/sub-s639/ses-m06/eeg/sub-s639_ses-m06_eeg.fif) does not conform to MNE naming conventions. All raw files should end with raw.fif, raw_sss.fif, raw_tsss.fif, raw.fif.gz, raw_sss.fif.gz, raw_tsss.fif.gz or _meg.fif\n",
      "  self._preprocessed_raw = mne.io.read_raw_fif(self.get_path(\"preprocessed_raw\"), verbose=self.verbose)\n"
     ]
    },
    {
     "name": "stdout",
     "output_type": "stream",
     "text": [
      "91 bad epochs dropped\n",
      "Overwriting existing file.\n",
      "Reading /home/christian/synchedout/eegip/eegip/tests/test_artifacts/derivatives/eegip_london_preprocessed/sub-s639/ses-m06/mod/sub-s639_ses-m06_epo.fif ...\n",
      "    Found the data of interest:\n",
      "        t =    -200.00 ...     798.00 ms\n",
      "        0 CTF compensation matrices available\n",
      "189 matching events found\n",
      "No baseline correction applied\n",
      "Not setting metadata\n",
      "0 projection items activated\n",
      "Reading /home/christian/synchedout/eegip/eegip/tests/test_artifacts/derivatives/eegip_london_preprocessed/sub-s639/ses-m06/mod/sub-s639_ses-m06_epo.fif ...\n",
      "    Found the data of interest:\n",
      "        t =    -200.00 ...     798.00 ms\n",
      "        0 CTF compensation matrices available\n",
      "189 matching events found\n",
      "No baseline correction applied\n",
      "Not setting metadata\n",
      "0 projection items activated\n",
      "Reading /home/christian/synchedout/eegip/eegip/tests/test_artifacts/derivatives/eegip_london_preprocessed/sub-s639/ses-m06/mod/sub-s639_ses-m06_epo.fif ...\n",
      "    Found the data of interest:\n",
      "        t =    -200.00 ...     798.00 ms\n",
      "        0 CTF compensation matrices available\n",
      "189 matching events found\n",
      "No baseline correction applied\n",
      "Not setting metadata\n",
      "0 projection items activated\n",
      "Opening raw data file /home/christian/synchedout/eegip/eegip/tests/test_artifacts/derivatives/eegip_london_preprocessed/sub-s640/ses-m06/eeg/sub-s640_ses-m06_eeg.fif...\n",
      "    Range : 0 ... 181499 =      0.000 ...   362.998 secs\n",
      "Ready.\n",
      "243 matching events found\n",
      "No baseline correction applied\n",
      "Not setting metadata\n",
      "0 projection items activated\n",
      "Loading data for 243 events and 500 original time points ...\n"
     ]
    },
    {
     "name": "stderr",
     "output_type": "stream",
     "text": [
      "/home/christian/synchedout/eegip/eegip/recording.py:209: RuntimeWarning: This filename (/home/christian/synchedout/eegip/eegip/tests/test_artifacts/derivatives/eegip_london_preprocessed/sub-s640/ses-m06/eeg/sub-s640_ses-m06_eeg.fif) does not conform to MNE naming conventions. All raw files should end with raw.fif, raw_sss.fif, raw_tsss.fif, raw.fif.gz, raw_sss.fif.gz, raw_tsss.fif.gz or _meg.fif\n",
      "  self._preprocessed_raw = mne.io.read_raw_fif(self.get_path(\"preprocessed_raw\"), verbose=self.verbose)\n"
     ]
    },
    {
     "name": "stdout",
     "output_type": "stream",
     "text": [
      "127 bad epochs dropped\n",
      "Overwriting existing file.\n",
      "Reading /home/christian/synchedout/eegip/eegip/tests/test_artifacts/derivatives/eegip_london_preprocessed/sub-s640/ses-m06/mod/sub-s640_ses-m06_epo.fif ...\n",
      "    Found the data of interest:\n",
      "        t =    -200.00 ...     798.00 ms\n",
      "        0 CTF compensation matrices available\n",
      "116 matching events found\n",
      "No baseline correction applied\n",
      "Not setting metadata\n",
      "0 projection items activated\n",
      "Reading /home/christian/synchedout/eegip/eegip/tests/test_artifacts/derivatives/eegip_london_preprocessed/sub-s640/ses-m06/mod/sub-s640_ses-m06_epo.fif ...\n",
      "    Found the data of interest:\n",
      "        t =    -200.00 ...     798.00 ms\n",
      "        0 CTF compensation matrices available\n",
      "116 matching events found\n",
      "No baseline correction applied\n",
      "Not setting metadata\n",
      "0 projection items activated\n",
      "Reading /home/christian/synchedout/eegip/eegip/tests/test_artifacts/derivatives/eegip_london_preprocessed/sub-s640/ses-m06/mod/sub-s640_ses-m06_epo.fif ...\n",
      "    Found the data of interest:\n",
      "        t =    -200.00 ...     798.00 ms\n",
      "        0 CTF compensation matrices available\n",
      "116 matching events found\n",
      "No baseline correction applied\n",
      "Not setting metadata\n",
      "0 projection items activated\n",
      "Opening raw data file /home/christian/synchedout/eegip/eegip/tests/test_artifacts/derivatives/eegip_london_preprocessed/sub-s641/ses-m06/eeg/sub-s641_ses-m06_eeg.fif...\n",
      "    Range : 0 ... 271999 =      0.000 ...   543.998 secs\n",
      "Ready.\n",
      "336 matching events found\n",
      "No baseline correction applied\n",
      "Not setting metadata\n",
      "0 projection items activated\n",
      "Loading data for 336 events and 500 original time points ...\n"
     ]
    },
    {
     "name": "stderr",
     "output_type": "stream",
     "text": [
      "/home/christian/synchedout/eegip/eegip/recording.py:209: RuntimeWarning: This filename (/home/christian/synchedout/eegip/eegip/tests/test_artifacts/derivatives/eegip_london_preprocessed/sub-s641/ses-m06/eeg/sub-s641_ses-m06_eeg.fif) does not conform to MNE naming conventions. All raw files should end with raw.fif, raw_sss.fif, raw_tsss.fif, raw.fif.gz, raw_sss.fif.gz, raw_tsss.fif.gz or _meg.fif\n",
      "  self._preprocessed_raw = mne.io.read_raw_fif(self.get_path(\"preprocessed_raw\"), verbose=self.verbose)\n"
     ]
    },
    {
     "name": "stdout",
     "output_type": "stream",
     "text": [
      "229 bad epochs dropped\n",
      "Overwriting existing file.\n",
      "Reading /home/christian/synchedout/eegip/eegip/tests/test_artifacts/derivatives/eegip_london_preprocessed/sub-s641/ses-m06/mod/sub-s641_ses-m06_epo.fif ...\n",
      "    Found the data of interest:\n",
      "        t =    -200.00 ...     798.00 ms\n",
      "        0 CTF compensation matrices available\n",
      "107 matching events found\n",
      "No baseline correction applied\n",
      "Not setting metadata\n",
      "0 projection items activated\n",
      "Reading /home/christian/synchedout/eegip/eegip/tests/test_artifacts/derivatives/eegip_london_preprocessed/sub-s641/ses-m06/mod/sub-s641_ses-m06_epo.fif ...\n",
      "    Found the data of interest:\n",
      "        t =    -200.00 ...     798.00 ms\n",
      "        0 CTF compensation matrices available\n",
      "107 matching events found\n",
      "No baseline correction applied\n",
      "Not setting metadata\n",
      "0 projection items activated\n",
      "Reading /home/christian/synchedout/eegip/eegip/tests/test_artifacts/derivatives/eegip_london_preprocessed/sub-s641/ses-m06/mod/sub-s641_ses-m06_epo.fif ...\n",
      "    Found the data of interest:\n",
      "        t =    -200.00 ...     798.00 ms\n",
      "        0 CTF compensation matrices available\n",
      "107 matching events found\n",
      "No baseline correction applied\n",
      "Not setting metadata\n",
      "0 projection items activated\n",
      "Opening raw data file /home/christian/synchedout/eegip/eegip/tests/test_artifacts/derivatives/eegip_london_preprocessed/sub-s642/ses-m06/eeg/sub-s642_ses-m06_eeg.fif...\n",
      "    Range : 0 ... 298999 =      0.000 ...   597.998 secs\n",
      "Ready.\n",
      "463 matching events found\n",
      "No baseline correction applied\n",
      "Not setting metadata\n",
      "0 projection items activated\n",
      "Loading data for 463 events and 500 original time points ...\n"
     ]
    },
    {
     "name": "stderr",
     "output_type": "stream",
     "text": [
      "/home/christian/synchedout/eegip/eegip/recording.py:209: RuntimeWarning: This filename (/home/christian/synchedout/eegip/eegip/tests/test_artifacts/derivatives/eegip_london_preprocessed/sub-s642/ses-m06/eeg/sub-s642_ses-m06_eeg.fif) does not conform to MNE naming conventions. All raw files should end with raw.fif, raw_sss.fif, raw_tsss.fif, raw.fif.gz, raw_sss.fif.gz, raw_tsss.fif.gz or _meg.fif\n",
      "  self._preprocessed_raw = mne.io.read_raw_fif(self.get_path(\"preprocessed_raw\"), verbose=self.verbose)\n"
     ]
    },
    {
     "name": "stdout",
     "output_type": "stream",
     "text": [
      "224 bad epochs dropped\n",
      "Overwriting existing file.\n",
      "Reading /home/christian/synchedout/eegip/eegip/tests/test_artifacts/derivatives/eegip_london_preprocessed/sub-s642/ses-m06/mod/sub-s642_ses-m06_epo.fif ...\n",
      "    Found the data of interest:\n",
      "        t =    -200.00 ...     798.00 ms\n",
      "        0 CTF compensation matrices available\n",
      "239 matching events found\n",
      "No baseline correction applied\n",
      "Not setting metadata\n",
      "0 projection items activated\n",
      "Reading /home/christian/synchedout/eegip/eegip/tests/test_artifacts/derivatives/eegip_london_preprocessed/sub-s642/ses-m06/mod/sub-s642_ses-m06_epo.fif ...\n",
      "    Found the data of interest:\n",
      "        t =    -200.00 ...     798.00 ms\n",
      "        0 CTF compensation matrices available\n",
      "239 matching events found\n",
      "No baseline correction applied\n",
      "Not setting metadata\n",
      "0 projection items activated\n",
      "Reading /home/christian/synchedout/eegip/eegip/tests/test_artifacts/derivatives/eegip_london_preprocessed/sub-s642/ses-m06/mod/sub-s642_ses-m06_epo.fif ...\n",
      "    Found the data of interest:\n",
      "        t =    -200.00 ...     798.00 ms\n",
      "        0 CTF compensation matrices available\n",
      "239 matching events found\n",
      "No baseline correction applied\n",
      "Not setting metadata\n",
      "0 projection items activated\n",
      "Opening raw data file /home/christian/synchedout/eegip/eegip/tests/test_artifacts/derivatives/eegip_london_preprocessed/sub-s643/ses-m06/eeg/sub-s643_ses-m06_eeg.fif...\n",
      "    Range : 0 ... 236999 =      0.000 ...   473.998 secs\n",
      "Ready.\n",
      "390 matching events found\n",
      "No baseline correction applied\n",
      "Not setting metadata\n",
      "0 projection items activated\n",
      "Loading data for 390 events and 500 original time points ...\n"
     ]
    },
    {
     "name": "stderr",
     "output_type": "stream",
     "text": [
      "/home/christian/synchedout/eegip/eegip/recording.py:209: RuntimeWarning: This filename (/home/christian/synchedout/eegip/eegip/tests/test_artifacts/derivatives/eegip_london_preprocessed/sub-s643/ses-m06/eeg/sub-s643_ses-m06_eeg.fif) does not conform to MNE naming conventions. All raw files should end with raw.fif, raw_sss.fif, raw_tsss.fif, raw.fif.gz, raw_sss.fif.gz, raw_tsss.fif.gz or _meg.fif\n",
      "  self._preprocessed_raw = mne.io.read_raw_fif(self.get_path(\"preprocessed_raw\"), verbose=self.verbose)\n"
     ]
    },
    {
     "name": "stdout",
     "output_type": "stream",
     "text": [
      "99 bad epochs dropped\n",
      "Overwriting existing file.\n",
      "Reading /home/christian/synchedout/eegip/eegip/tests/test_artifacts/derivatives/eegip_london_preprocessed/sub-s643/ses-m06/mod/sub-s643_ses-m06_epo.fif ...\n",
      "    Found the data of interest:\n",
      "        t =    -200.00 ...     798.00 ms\n",
      "        0 CTF compensation matrices available\n",
      "291 matching events found\n",
      "No baseline correction applied\n",
      "Not setting metadata\n",
      "0 projection items activated\n",
      "Reading /home/christian/synchedout/eegip/eegip/tests/test_artifacts/derivatives/eegip_london_preprocessed/sub-s643/ses-m06/mod/sub-s643_ses-m06_epo.fif ...\n",
      "    Found the data of interest:\n",
      "        t =    -200.00 ...     798.00 ms\n",
      "        0 CTF compensation matrices available\n",
      "291 matching events found\n",
      "No baseline correction applied\n",
      "Not setting metadata\n",
      "0 projection items activated\n",
      "Reading /home/christian/synchedout/eegip/eegip/tests/test_artifacts/derivatives/eegip_london_preprocessed/sub-s643/ses-m06/mod/sub-s643_ses-m06_epo.fif ...\n",
      "    Found the data of interest:\n",
      "        t =    -200.00 ...     798.00 ms\n",
      "        0 CTF compensation matrices available\n",
      "291 matching events found\n",
      "No baseline correction applied\n",
      "Not setting metadata\n",
      "0 projection items activated\n",
      "Opening raw data file /home/christian/synchedout/eegip/eegip/tests/test_artifacts/derivatives/eegip_london_preprocessed/sub-s645/ses-m06/eeg/sub-s645_ses-m06_eeg.fif...\n"
     ]
    },
    {
     "name": "stderr",
     "output_type": "stream",
     "text": [
      "/home/christian/synchedout/eegip/eegip/recording.py:209: RuntimeWarning: This filename (/home/christian/synchedout/eegip/eegip/tests/test_artifacts/derivatives/eegip_london_preprocessed/sub-s645/ses-m06/eeg/sub-s645_ses-m06_eeg.fif) does not conform to MNE naming conventions. All raw files should end with raw.fif, raw_sss.fif, raw_tsss.fif, raw.fif.gz, raw_sss.fif.gz, raw_tsss.fif.gz or _meg.fif\n",
      "  self._preprocessed_raw = mne.io.read_raw_fif(self.get_path(\"preprocessed_raw\"), verbose=self.verbose)\n"
     ]
    },
    {
     "name": "stdout",
     "output_type": "stream",
     "text": [
      "    Range : 0 ... 220499 =      0.000 ...   440.998 secs\n",
      "Ready.\n",
      "317 matching events found\n",
      "No baseline correction applied\n",
      "Not setting metadata\n",
      "0 projection items activated\n",
      "Loading data for 317 events and 500 original time points ...\n",
      "162 bad epochs dropped\n",
      "Overwriting existing file.\n",
      "Reading /home/christian/synchedout/eegip/eegip/tests/test_artifacts/derivatives/eegip_london_preprocessed/sub-s645/ses-m06/mod/sub-s645_ses-m06_epo.fif ...\n",
      "    Found the data of interest:\n",
      "        t =    -200.00 ...     798.00 ms\n",
      "        0 CTF compensation matrices available\n",
      "155 matching events found\n",
      "No baseline correction applied\n",
      "Not setting metadata\n",
      "0 projection items activated\n",
      "Reading /home/christian/synchedout/eegip/eegip/tests/test_artifacts/derivatives/eegip_london_preprocessed/sub-s645/ses-m06/mod/sub-s645_ses-m06_epo.fif ...\n",
      "    Found the data of interest:\n",
      "        t =    -200.00 ...     798.00 ms\n",
      "        0 CTF compensation matrices available\n",
      "155 matching events found\n",
      "No baseline correction applied\n",
      "Not setting metadata\n",
      "0 projection items activated\n",
      "Reading /home/christian/synchedout/eegip/eegip/tests/test_artifacts/derivatives/eegip_london_preprocessed/sub-s645/ses-m06/mod/sub-s645_ses-m06_epo.fif ...\n",
      "    Found the data of interest:\n",
      "        t =    -200.00 ...     798.00 ms\n",
      "        0 CTF compensation matrices available\n",
      "155 matching events found\n",
      "No baseline correction applied\n",
      "Not setting metadata\n",
      "0 projection items activated\n",
      "Opening raw data file /home/christian/synchedout/eegip/eegip/tests/test_artifacts/derivatives/eegip_london_preprocessed/sub-s646/ses-m06/eeg/sub-s646_ses-m06_eeg.fif...\n",
      "    Range : 0 ... 196999 =      0.000 ...   393.998 secs\n",
      "Ready.\n",
      "318 matching events found\n",
      "No baseline correction applied\n",
      "Not setting metadata\n",
      "0 projection items activated\n",
      "Loading data for 318 events and 500 original time points ...\n"
     ]
    },
    {
     "name": "stderr",
     "output_type": "stream",
     "text": [
      "/home/christian/synchedout/eegip/eegip/recording.py:209: RuntimeWarning: This filename (/home/christian/synchedout/eegip/eegip/tests/test_artifacts/derivatives/eegip_london_preprocessed/sub-s646/ses-m06/eeg/sub-s646_ses-m06_eeg.fif) does not conform to MNE naming conventions. All raw files should end with raw.fif, raw_sss.fif, raw_tsss.fif, raw.fif.gz, raw_sss.fif.gz, raw_tsss.fif.gz or _meg.fif\n",
      "  self._preprocessed_raw = mne.io.read_raw_fif(self.get_path(\"preprocessed_raw\"), verbose=self.verbose)\n"
     ]
    },
    {
     "name": "stdout",
     "output_type": "stream",
     "text": [
      "155 bad epochs dropped\n",
      "Overwriting existing file.\n",
      "Reading /home/christian/synchedout/eegip/eegip/tests/test_artifacts/derivatives/eegip_london_preprocessed/sub-s646/ses-m06/mod/sub-s646_ses-m06_epo.fif ...\n",
      "    Found the data of interest:\n",
      "        t =    -200.00 ...     798.00 ms\n",
      "        0 CTF compensation matrices available\n",
      "163 matching events found\n",
      "No baseline correction applied\n",
      "Not setting metadata\n",
      "0 projection items activated\n",
      "Reading /home/christian/synchedout/eegip/eegip/tests/test_artifacts/derivatives/eegip_london_preprocessed/sub-s646/ses-m06/mod/sub-s646_ses-m06_epo.fif ...\n",
      "    Found the data of interest:\n",
      "        t =    -200.00 ...     798.00 ms\n",
      "        0 CTF compensation matrices available\n",
      "163 matching events found\n",
      "No baseline correction applied\n",
      "Not setting metadata\n",
      "0 projection items activated\n",
      "Reading /home/christian/synchedout/eegip/eegip/tests/test_artifacts/derivatives/eegip_london_preprocessed/sub-s646/ses-m06/mod/sub-s646_ses-m06_epo.fif ...\n",
      "    Found the data of interest:\n",
      "        t =    -200.00 ...     798.00 ms\n",
      "        0 CTF compensation matrices available\n",
      "163 matching events found\n",
      "No baseline correction applied\n",
      "Not setting metadata\n",
      "0 projection items activated\n",
      "Opening raw data file /home/christian/synchedout/eegip/eegip/tests/test_artifacts/derivatives/eegip_london_preprocessed/sub-s647/ses-m06/eeg/sub-s647_ses-m06_eeg.fif...\n",
      "    Range : 0 ... 193499 =      0.000 ...   386.998 secs\n",
      "Ready.\n",
      "262 matching events found\n",
      "No baseline correction applied\n",
      "Not setting metadata\n",
      "0 projection items activated\n",
      "Loading data for 262 events and 500 original time points ...\n"
     ]
    },
    {
     "name": "stderr",
     "output_type": "stream",
     "text": [
      "/home/christian/synchedout/eegip/eegip/recording.py:209: RuntimeWarning: This filename (/home/christian/synchedout/eegip/eegip/tests/test_artifacts/derivatives/eegip_london_preprocessed/sub-s647/ses-m06/eeg/sub-s647_ses-m06_eeg.fif) does not conform to MNE naming conventions. All raw files should end with raw.fif, raw_sss.fif, raw_tsss.fif, raw.fif.gz, raw_sss.fif.gz, raw_tsss.fif.gz or _meg.fif\n",
      "  self._preprocessed_raw = mne.io.read_raw_fif(self.get_path(\"preprocessed_raw\"), verbose=self.verbose)\n"
     ]
    },
    {
     "name": "stdout",
     "output_type": "stream",
     "text": [
      "41 bad epochs dropped\n",
      "Overwriting existing file.\n",
      "Reading /home/christian/synchedout/eegip/eegip/tests/test_artifacts/derivatives/eegip_london_preprocessed/sub-s647/ses-m06/mod/sub-s647_ses-m06_epo.fif ...\n",
      "    Found the data of interest:\n",
      "        t =    -200.00 ...     798.00 ms\n",
      "        0 CTF compensation matrices available\n",
      "221 matching events found\n",
      "No baseline correction applied\n",
      "Not setting metadata\n",
      "0 projection items activated\n",
      "Reading /home/christian/synchedout/eegip/eegip/tests/test_artifacts/derivatives/eegip_london_preprocessed/sub-s647/ses-m06/mod/sub-s647_ses-m06_epo.fif ...\n",
      "    Found the data of interest:\n",
      "        t =    -200.00 ...     798.00 ms\n",
      "        0 CTF compensation matrices available\n",
      "221 matching events found\n",
      "No baseline correction applied\n",
      "Not setting metadata\n",
      "0 projection items activated\n",
      "Reading /home/christian/synchedout/eegip/eegip/tests/test_artifacts/derivatives/eegip_london_preprocessed/sub-s647/ses-m06/mod/sub-s647_ses-m06_epo.fif ...\n",
      "    Found the data of interest:\n",
      "        t =    -200.00 ...     798.00 ms\n",
      "        0 CTF compensation matrices available\n",
      "221 matching events found\n",
      "No baseline correction applied\n",
      "Not setting metadata\n",
      "0 projection items activated\n",
      "Opening raw data file /home/christian/synchedout/eegip/eegip/tests/test_artifacts/derivatives/eegip_london_preprocessed/sub-s648/ses-m06/eeg/sub-s648_ses-m06_eeg.fif...\n",
      "    Range : 0 ... 204999 =      0.000 ...   409.998 secs\n",
      "Ready.\n",
      "332 matching events found\n",
      "No baseline correction applied\n",
      "Not setting metadata\n",
      "0 projection items activated\n",
      "Loading data for 332 events and 500 original time points ...\n"
     ]
    },
    {
     "name": "stderr",
     "output_type": "stream",
     "text": [
      "/home/christian/synchedout/eegip/eegip/recording.py:209: RuntimeWarning: This filename (/home/christian/synchedout/eegip/eegip/tests/test_artifacts/derivatives/eegip_london_preprocessed/sub-s648/ses-m06/eeg/sub-s648_ses-m06_eeg.fif) does not conform to MNE naming conventions. All raw files should end with raw.fif, raw_sss.fif, raw_tsss.fif, raw.fif.gz, raw_sss.fif.gz, raw_tsss.fif.gz or _meg.fif\n",
      "  self._preprocessed_raw = mne.io.read_raw_fif(self.get_path(\"preprocessed_raw\"), verbose=self.verbose)\n"
     ]
    },
    {
     "name": "stdout",
     "output_type": "stream",
     "text": [
      "131 bad epochs dropped\n",
      "Overwriting existing file.\n",
      "Reading /home/christian/synchedout/eegip/eegip/tests/test_artifacts/derivatives/eegip_london_preprocessed/sub-s648/ses-m06/mod/sub-s648_ses-m06_epo.fif ...\n",
      "    Found the data of interest:\n",
      "        t =    -200.00 ...     798.00 ms\n",
      "        0 CTF compensation matrices available\n",
      "201 matching events found\n",
      "No baseline correction applied\n",
      "Not setting metadata\n",
      "0 projection items activated\n",
      "Reading /home/christian/synchedout/eegip/eegip/tests/test_artifacts/derivatives/eegip_london_preprocessed/sub-s648/ses-m06/mod/sub-s648_ses-m06_epo.fif ...\n",
      "    Found the data of interest:\n",
      "        t =    -200.00 ...     798.00 ms\n",
      "        0 CTF compensation matrices available\n",
      "201 matching events found\n",
      "No baseline correction applied\n",
      "Not setting metadata\n",
      "0 projection items activated\n",
      "Reading /home/christian/synchedout/eegip/eegip/tests/test_artifacts/derivatives/eegip_london_preprocessed/sub-s648/ses-m06/mod/sub-s648_ses-m06_epo.fif ...\n",
      "    Found the data of interest:\n",
      "        t =    -200.00 ...     798.00 ms\n",
      "        0 CTF compensation matrices available\n",
      "201 matching events found\n",
      "No baseline correction applied\n",
      "Not setting metadata\n",
      "0 projection items activated\n",
      "Opening raw data file /home/christian/synchedout/eegip/eegip/tests/test_artifacts/derivatives/eegip_london_preprocessed/sub-s649/ses-m06/eeg/sub-s649_ses-m06_eeg.fif...\n",
      "    Range : 0 ... 270999 =      0.000 ...   541.998 secs\n",
      "Ready.\n",
      "412 matching events found\n",
      "No baseline correction applied\n",
      "Not setting metadata\n",
      "0 projection items activated\n",
      "Loading data for 412 events and 500 original time points ...\n"
     ]
    },
    {
     "name": "stderr",
     "output_type": "stream",
     "text": [
      "/home/christian/synchedout/eegip/eegip/recording.py:209: RuntimeWarning: This filename (/home/christian/synchedout/eegip/eegip/tests/test_artifacts/derivatives/eegip_london_preprocessed/sub-s649/ses-m06/eeg/sub-s649_ses-m06_eeg.fif) does not conform to MNE naming conventions. All raw files should end with raw.fif, raw_sss.fif, raw_tsss.fif, raw.fif.gz, raw_sss.fif.gz, raw_tsss.fif.gz or _meg.fif\n",
      "  self._preprocessed_raw = mne.io.read_raw_fif(self.get_path(\"preprocessed_raw\"), verbose=self.verbose)\n"
     ]
    },
    {
     "name": "stdout",
     "output_type": "stream",
     "text": [
      "123 bad epochs dropped\n",
      "Overwriting existing file.\n",
      "Reading /home/christian/synchedout/eegip/eegip/tests/test_artifacts/derivatives/eegip_london_preprocessed/sub-s649/ses-m06/mod/sub-s649_ses-m06_epo.fif ...\n",
      "    Found the data of interest:\n",
      "        t =    -200.00 ...     798.00 ms\n",
      "        0 CTF compensation matrices available\n",
      "289 matching events found\n",
      "No baseline correction applied\n",
      "Not setting metadata\n",
      "0 projection items activated\n",
      "Reading /home/christian/synchedout/eegip/eegip/tests/test_artifacts/derivatives/eegip_london_preprocessed/sub-s649/ses-m06/mod/sub-s649_ses-m06_epo.fif ...\n",
      "    Found the data of interest:\n",
      "        t =    -200.00 ...     798.00 ms\n",
      "        0 CTF compensation matrices available\n",
      "289 matching events found\n",
      "No baseline correction applied\n",
      "Not setting metadata\n",
      "0 projection items activated\n",
      "Reading /home/christian/synchedout/eegip/eegip/tests/test_artifacts/derivatives/eegip_london_preprocessed/sub-s649/ses-m06/mod/sub-s649_ses-m06_epo.fif ...\n",
      "    Found the data of interest:\n",
      "        t =    -200.00 ...     798.00 ms\n",
      "        0 CTF compensation matrices available\n",
      "289 matching events found\n",
      "No baseline correction applied\n",
      "Not setting metadata\n",
      "0 projection items activated\n",
      "Opening raw data file /home/christian/synchedout/eegip/eegip/tests/test_artifacts/derivatives/eegip_london_preprocessed/sub-s650/ses-m06/eeg/sub-s650_ses-m06_eeg.fif...\n"
     ]
    },
    {
     "name": "stderr",
     "output_type": "stream",
     "text": [
      "/home/christian/synchedout/eegip/eegip/recording.py:209: RuntimeWarning: This filename (/home/christian/synchedout/eegip/eegip/tests/test_artifacts/derivatives/eegip_london_preprocessed/sub-s650/ses-m06/eeg/sub-s650_ses-m06_eeg.fif) does not conform to MNE naming conventions. All raw files should end with raw.fif, raw_sss.fif, raw_tsss.fif, raw.fif.gz, raw_sss.fif.gz, raw_tsss.fif.gz or _meg.fif\n",
      "  self._preprocessed_raw = mne.io.read_raw_fif(self.get_path(\"preprocessed_raw\"), verbose=self.verbose)\n"
     ]
    },
    {
     "name": "stdout",
     "output_type": "stream",
     "text": [
      "    Range : 0 ... 207499 =      0.000 ...   414.998 secs\n",
      "Ready.\n",
      "334 matching events found\n",
      "No baseline correction applied\n",
      "Not setting metadata\n",
      "0 projection items activated\n",
      "Loading data for 334 events and 500 original time points ...\n",
      "45 bad epochs dropped\n",
      "Overwriting existing file.\n",
      "Reading /home/christian/synchedout/eegip/eegip/tests/test_artifacts/derivatives/eegip_london_preprocessed/sub-s650/ses-m06/mod/sub-s650_ses-m06_epo.fif ...\n",
      "    Found the data of interest:\n",
      "        t =    -200.00 ...     798.00 ms\n",
      "        0 CTF compensation matrices available\n",
      "289 matching events found\n",
      "No baseline correction applied\n",
      "Not setting metadata\n",
      "0 projection items activated\n",
      "Reading /home/christian/synchedout/eegip/eegip/tests/test_artifacts/derivatives/eegip_london_preprocessed/sub-s650/ses-m06/mod/sub-s650_ses-m06_epo.fif ...\n",
      "    Found the data of interest:\n",
      "        t =    -200.00 ...     798.00 ms\n",
      "        0 CTF compensation matrices available\n",
      "289 matching events found\n",
      "No baseline correction applied\n",
      "Not setting metadata\n",
      "0 projection items activated\n",
      "Reading /home/christian/synchedout/eegip/eegip/tests/test_artifacts/derivatives/eegip_london_preprocessed/sub-s650/ses-m06/mod/sub-s650_ses-m06_epo.fif ...\n",
      "    Found the data of interest:\n",
      "        t =    -200.00 ...     798.00 ms\n",
      "        0 CTF compensation matrices available\n",
      "289 matching events found\n",
      "No baseline correction applied\n",
      "Not setting metadata\n",
      "0 projection items activated\n",
      "Opening raw data file /home/christian/synchedout/eegip/eegip/tests/test_artifacts/derivatives/eegip_london_preprocessed/sub-s651/ses-m06/eeg/sub-s651_ses-m06_eeg.fif...\n"
     ]
    },
    {
     "name": "stderr",
     "output_type": "stream",
     "text": [
      "/home/christian/synchedout/eegip/eegip/recording.py:209: RuntimeWarning: This filename (/home/christian/synchedout/eegip/eegip/tests/test_artifacts/derivatives/eegip_london_preprocessed/sub-s651/ses-m06/eeg/sub-s651_ses-m06_eeg.fif) does not conform to MNE naming conventions. All raw files should end with raw.fif, raw_sss.fif, raw_tsss.fif, raw.fif.gz, raw_sss.fif.gz, raw_tsss.fif.gz or _meg.fif\n",
      "  self._preprocessed_raw = mne.io.read_raw_fif(self.get_path(\"preprocessed_raw\"), verbose=self.verbose)\n"
     ]
    },
    {
     "name": "stdout",
     "output_type": "stream",
     "text": [
      "    Range : 0 ... 231499 =      0.000 ...   462.998 secs\n",
      "Ready.\n",
      "339 matching events found\n",
      "No baseline correction applied\n",
      "Not setting metadata\n",
      "0 projection items activated\n",
      "Loading data for 339 events and 500 original time points ...\n",
      "108 bad epochs dropped\n",
      "Overwriting existing file.\n",
      "Reading /home/christian/synchedout/eegip/eegip/tests/test_artifacts/derivatives/eegip_london_preprocessed/sub-s651/ses-m06/mod/sub-s651_ses-m06_epo.fif ...\n",
      "    Found the data of interest:\n",
      "        t =    -200.00 ...     798.00 ms\n",
      "        0 CTF compensation matrices available\n",
      "231 matching events found\n",
      "No baseline correction applied\n",
      "Not setting metadata\n",
      "0 projection items activated\n",
      "Reading /home/christian/synchedout/eegip/eegip/tests/test_artifacts/derivatives/eegip_london_preprocessed/sub-s651/ses-m06/mod/sub-s651_ses-m06_epo.fif ...\n",
      "    Found the data of interest:\n",
      "        t =    -200.00 ...     798.00 ms\n",
      "        0 CTF compensation matrices available\n",
      "231 matching events found\n",
      "No baseline correction applied\n",
      "Not setting metadata\n",
      "0 projection items activated\n",
      "Reading /home/christian/synchedout/eegip/eegip/tests/test_artifacts/derivatives/eegip_london_preprocessed/sub-s651/ses-m06/mod/sub-s651_ses-m06_epo.fif ...\n",
      "    Found the data of interest:\n",
      "        t =    -200.00 ...     798.00 ms\n",
      "        0 CTF compensation matrices available\n",
      "231 matching events found\n",
      "No baseline correction applied\n",
      "Not setting metadata\n",
      "0 projection items activated\n",
      "Opening raw data file /home/christian/synchedout/eegip/eegip/tests/test_artifacts/derivatives/eegip_london_preprocessed/sub-s652/ses-m06/eeg/sub-s652_ses-m06_eeg.fif...\n",
      "    Range : 0 ... 154999 =      0.000 ...   309.998 secs\n",
      "Ready.\n",
      "201 matching events found\n",
      "No baseline correction applied\n",
      "Not setting metadata\n",
      "0 projection items activated\n",
      "Loading data for 201 events and 500 original time points ...\n"
     ]
    },
    {
     "name": "stderr",
     "output_type": "stream",
     "text": [
      "/home/christian/synchedout/eegip/eegip/recording.py:209: RuntimeWarning: This filename (/home/christian/synchedout/eegip/eegip/tests/test_artifacts/derivatives/eegip_london_preprocessed/sub-s652/ses-m06/eeg/sub-s652_ses-m06_eeg.fif) does not conform to MNE naming conventions. All raw files should end with raw.fif, raw_sss.fif, raw_tsss.fif, raw.fif.gz, raw_sss.fif.gz, raw_tsss.fif.gz or _meg.fif\n",
      "  self._preprocessed_raw = mne.io.read_raw_fif(self.get_path(\"preprocessed_raw\"), verbose=self.verbose)\n"
     ]
    },
    {
     "name": "stdout",
     "output_type": "stream",
     "text": [
      "91 bad epochs dropped\n",
      "Overwriting existing file.\n",
      "Reading /home/christian/synchedout/eegip/eegip/tests/test_artifacts/derivatives/eegip_london_preprocessed/sub-s652/ses-m06/mod/sub-s652_ses-m06_epo.fif ...\n",
      "    Found the data of interest:\n",
      "        t =    -200.00 ...     798.00 ms\n",
      "        0 CTF compensation matrices available\n",
      "110 matching events found\n",
      "No baseline correction applied\n",
      "Not setting metadata\n",
      "0 projection items activated\n",
      "Reading /home/christian/synchedout/eegip/eegip/tests/test_artifacts/derivatives/eegip_london_preprocessed/sub-s652/ses-m06/mod/sub-s652_ses-m06_epo.fif ...\n",
      "    Found the data of interest:\n",
      "        t =    -200.00 ...     798.00 ms\n",
      "        0 CTF compensation matrices available\n",
      "110 matching events found\n",
      "No baseline correction applied\n",
      "Not setting metadata\n",
      "0 projection items activated\n",
      "Reading /home/christian/synchedout/eegip/eegip/tests/test_artifacts/derivatives/eegip_london_preprocessed/sub-s652/ses-m06/mod/sub-s652_ses-m06_epo.fif ...\n",
      "    Found the data of interest:\n",
      "        t =    -200.00 ...     798.00 ms\n",
      "        0 CTF compensation matrices available\n",
      "110 matching events found\n",
      "No baseline correction applied\n",
      "Not setting metadata\n",
      "0 projection items activated\n",
      "Opening raw data file /home/christian/synchedout/eegip/eegip/tests/test_artifacts/derivatives/eegip_london_preprocessed/sub-s653/ses-m06/eeg/sub-s653_ses-m06_eeg.fif...\n",
      "    Range : 0 ... 347499 =      0.000 ...   694.998 secs\n",
      "Ready.\n"
     ]
    },
    {
     "name": "stderr",
     "output_type": "stream",
     "text": [
      "/home/christian/anaconda3/lib/python3.7/site-packages/sklearn/decomposition/_fastica.py:119: ConvergenceWarning: FastICA did not converge. Consider increasing tolerance or the maximum number of iterations.\n",
      "  ConvergenceWarning)\n",
      "/home/christian/synchedout/eegip/eegip/recording.py:209: RuntimeWarning: This filename (/home/christian/synchedout/eegip/eegip/tests/test_artifacts/derivatives/eegip_london_preprocessed/sub-s653/ses-m06/eeg/sub-s653_ses-m06_eeg.fif) does not conform to MNE naming conventions. All raw files should end with raw.fif, raw_sss.fif, raw_tsss.fif, raw.fif.gz, raw_sss.fif.gz, raw_tsss.fif.gz or _meg.fif\n",
      "  self._preprocessed_raw = mne.io.read_raw_fif(self.get_path(\"preprocessed_raw\"), verbose=self.verbose)\n"
     ]
    },
    {
     "name": "stdout",
     "output_type": "stream",
     "text": [
      "591 matching events found\n",
      "No baseline correction applied\n",
      "Not setting metadata\n",
      "0 projection items activated\n",
      "Loading data for 591 events and 500 original time points ...\n",
      "241 bad epochs dropped\n",
      "Overwriting existing file.\n",
      "Reading /home/christian/synchedout/eegip/eegip/tests/test_artifacts/derivatives/eegip_london_preprocessed/sub-s653/ses-m06/mod/sub-s653_ses-m06_epo.fif ...\n",
      "    Found the data of interest:\n",
      "        t =    -200.00 ...     798.00 ms\n",
      "        0 CTF compensation matrices available\n",
      "350 matching events found\n",
      "No baseline correction applied\n",
      "Not setting metadata\n",
      "0 projection items activated\n",
      "Reading /home/christian/synchedout/eegip/eegip/tests/test_artifacts/derivatives/eegip_london_preprocessed/sub-s653/ses-m06/mod/sub-s653_ses-m06_epo.fif ...\n",
      "    Found the data of interest:\n",
      "        t =    -200.00 ...     798.00 ms\n",
      "        0 CTF compensation matrices available\n",
      "350 matching events found\n",
      "No baseline correction applied\n",
      "Not setting metadata\n",
      "0 projection items activated\n",
      "Reading /home/christian/synchedout/eegip/eegip/tests/test_artifacts/derivatives/eegip_london_preprocessed/sub-s653/ses-m06/mod/sub-s653_ses-m06_epo.fif ...\n",
      "    Found the data of interest:\n",
      "        t =    -200.00 ...     798.00 ms\n",
      "        0 CTF compensation matrices available\n",
      "350 matching events found\n",
      "No baseline correction applied\n",
      "Not setting metadata\n",
      "0 projection items activated\n",
      "Opening raw data file /home/christian/synchedout/eegip/eegip/tests/test_artifacts/derivatives/eegip_london_preprocessed/sub-s654/ses-m06/eeg/sub-s654_ses-m06_eeg.fif...\n",
      "    Range : 0 ... 275999 =      0.000 ...   551.998 secs\n",
      "Ready.\n",
      "460 matching events found\n",
      "No baseline correction applied\n",
      "Not setting metadata\n",
      "0 projection items activated\n",
      "Loading data for 460 events and 500 original time points ...\n"
     ]
    },
    {
     "name": "stderr",
     "output_type": "stream",
     "text": [
      "/home/christian/synchedout/eegip/eegip/recording.py:209: RuntimeWarning: This filename (/home/christian/synchedout/eegip/eegip/tests/test_artifacts/derivatives/eegip_london_preprocessed/sub-s654/ses-m06/eeg/sub-s654_ses-m06_eeg.fif) does not conform to MNE naming conventions. All raw files should end with raw.fif, raw_sss.fif, raw_tsss.fif, raw.fif.gz, raw_sss.fif.gz, raw_tsss.fif.gz or _meg.fif\n",
      "  self._preprocessed_raw = mne.io.read_raw_fif(self.get_path(\"preprocessed_raw\"), verbose=self.verbose)\n"
     ]
    },
    {
     "name": "stdout",
     "output_type": "stream",
     "text": [
      "164 bad epochs dropped\n",
      "Overwriting existing file.\n",
      "Reading /home/christian/synchedout/eegip/eegip/tests/test_artifacts/derivatives/eegip_london_preprocessed/sub-s654/ses-m06/mod/sub-s654_ses-m06_epo.fif ...\n",
      "    Found the data of interest:\n",
      "        t =    -200.00 ...     798.00 ms\n",
      "        0 CTF compensation matrices available\n",
      "296 matching events found\n",
      "No baseline correction applied\n",
      "Not setting metadata\n",
      "0 projection items activated\n"
     ]
    },
    {
     "name": "stderr",
     "output_type": "stream",
     "text": [
      "/home/christian/anaconda3/lib/python3.7/site-packages/sklearn/decomposition/_fastica.py:119: ConvergenceWarning: FastICA did not converge. Consider increasing tolerance or the maximum number of iterations.\n",
      "  ConvergenceWarning)\n"
     ]
    },
    {
     "name": "stdout",
     "output_type": "stream",
     "text": [
      "Reading /home/christian/synchedout/eegip/eegip/tests/test_artifacts/derivatives/eegip_london_preprocessed/sub-s654/ses-m06/mod/sub-s654_ses-m06_epo.fif ...\n",
      "    Found the data of interest:\n",
      "        t =    -200.00 ...     798.00 ms\n",
      "        0 CTF compensation matrices available\n",
      "296 matching events found\n",
      "No baseline correction applied\n",
      "Not setting metadata\n",
      "0 projection items activated\n",
      "Reading /home/christian/synchedout/eegip/eegip/tests/test_artifacts/derivatives/eegip_london_preprocessed/sub-s654/ses-m06/mod/sub-s654_ses-m06_epo.fif ...\n",
      "    Found the data of interest:\n",
      "        t =    -200.00 ...     798.00 ms\n",
      "        0 CTF compensation matrices available\n",
      "296 matching events found\n",
      "No baseline correction applied\n",
      "Not setting metadata\n",
      "0 projection items activated\n",
      "Opening raw data file /home/christian/synchedout/eegip/eegip/tests/test_artifacts/derivatives/eegip_london_preprocessed/sub-s655/ses-m06/eeg/sub-s655_ses-m06_eeg.fif...\n",
      "    Range : 0 ... 261999 =      0.000 ...   523.998 secs\n",
      "Ready.\n",
      "394 matching events found\n",
      "No baseline correction applied\n",
      "Not setting metadata\n",
      "0 projection items activated\n",
      "Loading data for 394 events and 500 original time points ...\n"
     ]
    },
    {
     "name": "stderr",
     "output_type": "stream",
     "text": [
      "/home/christian/synchedout/eegip/eegip/recording.py:209: RuntimeWarning: This filename (/home/christian/synchedout/eegip/eegip/tests/test_artifacts/derivatives/eegip_london_preprocessed/sub-s655/ses-m06/eeg/sub-s655_ses-m06_eeg.fif) does not conform to MNE naming conventions. All raw files should end with raw.fif, raw_sss.fif, raw_tsss.fif, raw.fif.gz, raw_sss.fif.gz, raw_tsss.fif.gz or _meg.fif\n",
      "  self._preprocessed_raw = mne.io.read_raw_fif(self.get_path(\"preprocessed_raw\"), verbose=self.verbose)\n"
     ]
    },
    {
     "name": "stdout",
     "output_type": "stream",
     "text": [
      "185 bad epochs dropped\n",
      "Overwriting existing file.\n",
      "Reading /home/christian/synchedout/eegip/eegip/tests/test_artifacts/derivatives/eegip_london_preprocessed/sub-s655/ses-m06/mod/sub-s655_ses-m06_epo.fif ...\n",
      "    Found the data of interest:\n",
      "        t =    -200.00 ...     798.00 ms\n",
      "        0 CTF compensation matrices available\n",
      "209 matching events found\n",
      "No baseline correction applied\n",
      "Not setting metadata\n",
      "0 projection items activated\n",
      "Reading /home/christian/synchedout/eegip/eegip/tests/test_artifacts/derivatives/eegip_london_preprocessed/sub-s655/ses-m06/mod/sub-s655_ses-m06_epo.fif ...\n",
      "    Found the data of interest:\n",
      "        t =    -200.00 ...     798.00 ms\n",
      "        0 CTF compensation matrices available\n",
      "209 matching events found\n",
      "No baseline correction applied\n",
      "Not setting metadata\n",
      "0 projection items activated\n",
      "Reading /home/christian/synchedout/eegip/eegip/tests/test_artifacts/derivatives/eegip_london_preprocessed/sub-s655/ses-m06/mod/sub-s655_ses-m06_epo.fif ...\n",
      "    Found the data of interest:\n",
      "        t =    -200.00 ...     798.00 ms\n",
      "        0 CTF compensation matrices available\n",
      "209 matching events found\n",
      "No baseline correction applied\n",
      "Not setting metadata\n",
      "0 projection items activated\n",
      "Opening raw data file /home/christian/synchedout/eegip/eegip/tests/test_artifacts/derivatives/eegip_london_preprocessed/sub-s656/ses-m06/eeg/sub-s656_ses-m06_eeg.fif...\n",
      "    Range : 0 ... 446499 =      0.000 ...   892.998 secs\n",
      "Ready.\n",
      "648 matching events found\n",
      "No baseline correction applied\n",
      "Not setting metadata\n",
      "0 projection items activated\n",
      "Loading data for 648 events and 500 original time points ...\n"
     ]
    },
    {
     "name": "stderr",
     "output_type": "stream",
     "text": [
      "/home/christian/synchedout/eegip/eegip/recording.py:209: RuntimeWarning: This filename (/home/christian/synchedout/eegip/eegip/tests/test_artifacts/derivatives/eegip_london_preprocessed/sub-s656/ses-m06/eeg/sub-s656_ses-m06_eeg.fif) does not conform to MNE naming conventions. All raw files should end with raw.fif, raw_sss.fif, raw_tsss.fif, raw.fif.gz, raw_sss.fif.gz, raw_tsss.fif.gz or _meg.fif\n",
      "  self._preprocessed_raw = mne.io.read_raw_fif(self.get_path(\"preprocessed_raw\"), verbose=self.verbose)\n"
     ]
    },
    {
     "name": "stdout",
     "output_type": "stream",
     "text": [
      "304 bad epochs dropped\n",
      "Overwriting existing file.\n",
      "Reading /home/christian/synchedout/eegip/eegip/tests/test_artifacts/derivatives/eegip_london_preprocessed/sub-s656/ses-m06/mod/sub-s656_ses-m06_epo.fif ...\n",
      "    Found the data of interest:\n",
      "        t =    -200.00 ...     798.00 ms\n",
      "        0 CTF compensation matrices available\n",
      "344 matching events found\n",
      "No baseline correction applied\n",
      "Not setting metadata\n",
      "0 projection items activated\n",
      "Reading /home/christian/synchedout/eegip/eegip/tests/test_artifacts/derivatives/eegip_london_preprocessed/sub-s656/ses-m06/mod/sub-s656_ses-m06_epo.fif ...\n",
      "    Found the data of interest:\n",
      "        t =    -200.00 ...     798.00 ms\n",
      "        0 CTF compensation matrices available\n",
      "344 matching events found\n",
      "No baseline correction applied\n",
      "Not setting metadata\n",
      "0 projection items activated\n",
      "Reading /home/christian/synchedout/eegip/eegip/tests/test_artifacts/derivatives/eegip_london_preprocessed/sub-s656/ses-m06/mod/sub-s656_ses-m06_epo.fif ...\n",
      "    Found the data of interest:\n",
      "        t =    -200.00 ...     798.00 ms\n",
      "        0 CTF compensation matrices available\n",
      "344 matching events found\n",
      "No baseline correction applied\n",
      "Not setting metadata\n",
      "0 projection items activated\n",
      "Opening raw data file /home/christian/synchedout/eegip/eegip/tests/test_artifacts/derivatives/eegip_london_preprocessed/sub-s702/ses-m06/eeg/sub-s702_ses-m06_eeg.fif...\n",
      "    Range : 0 ... 196999 =      0.000 ...   393.998 secs\n",
      "Ready.\n",
      "326 matching events found\n",
      "No baseline correction applied\n",
      "Not setting metadata\n",
      "0 projection items activated\n",
      "Loading data for 326 events and 500 original time points ...\n"
     ]
    },
    {
     "name": "stderr",
     "output_type": "stream",
     "text": [
      "/home/christian/synchedout/eegip/eegip/recording.py:209: RuntimeWarning: This filename (/home/christian/synchedout/eegip/eegip/tests/test_artifacts/derivatives/eegip_london_preprocessed/sub-s702/ses-m06/eeg/sub-s702_ses-m06_eeg.fif) does not conform to MNE naming conventions. All raw files should end with raw.fif, raw_sss.fif, raw_tsss.fif, raw.fif.gz, raw_sss.fif.gz, raw_tsss.fif.gz or _meg.fif\n",
      "  self._preprocessed_raw = mne.io.read_raw_fif(self.get_path(\"preprocessed_raw\"), verbose=self.verbose)\n"
     ]
    },
    {
     "name": "stdout",
     "output_type": "stream",
     "text": [
      "170 bad epochs dropped\n",
      "Overwriting existing file.\n",
      "Reading /home/christian/synchedout/eegip/eegip/tests/test_artifacts/derivatives/eegip_london_preprocessed/sub-s702/ses-m06/mod/sub-s702_ses-m06_epo.fif ...\n",
      "    Found the data of interest:\n",
      "        t =    -200.00 ...     798.00 ms\n",
      "        0 CTF compensation matrices available\n",
      "156 matching events found\n",
      "No baseline correction applied\n",
      "Not setting metadata\n",
      "0 projection items activated\n",
      "Reading /home/christian/synchedout/eegip/eegip/tests/test_artifacts/derivatives/eegip_london_preprocessed/sub-s702/ses-m06/mod/sub-s702_ses-m06_epo.fif ...\n",
      "    Found the data of interest:\n",
      "        t =    -200.00 ...     798.00 ms\n",
      "        0 CTF compensation matrices available\n",
      "156 matching events found\n",
      "No baseline correction applied\n",
      "Not setting metadata\n",
      "0 projection items activated\n",
      "Reading /home/christian/synchedout/eegip/eegip/tests/test_artifacts/derivatives/eegip_london_preprocessed/sub-s702/ses-m06/mod/sub-s702_ses-m06_epo.fif ...\n",
      "    Found the data of interest:\n",
      "        t =    -200.00 ...     798.00 ms\n",
      "        0 CTF compensation matrices available\n",
      "156 matching events found\n",
      "No baseline correction applied\n",
      "Not setting metadata\n",
      "0 projection items activated\n"
     ]
    },
    {
     "name": "stderr",
     "output_type": "stream",
     "text": [
      "/home/christian/anaconda3/lib/python3.7/site-packages/sklearn/decomposition/_fastica.py:119: ConvergenceWarning: FastICA did not converge. Consider increasing tolerance or the maximum number of iterations.\n",
      "  ConvergenceWarning)\n"
     ]
    },
    {
     "name": "stdout",
     "output_type": "stream",
     "text": [
      "Opening raw data file /home/christian/synchedout/eegip/eegip/tests/test_artifacts/derivatives/eegip_london_preprocessed/sub-s703/ses-m06/eeg/sub-s703_ses-m06_eeg.fif...\n",
      "    Range : 0 ... 260499 =      0.000 ...   520.998 secs\n",
      "Ready.\n",
      "443 matching events found\n",
      "No baseline correction applied\n",
      "Not setting metadata\n",
      "0 projection items activated\n",
      "Loading data for 443 events and 500 original time points ...\n"
     ]
    },
    {
     "name": "stderr",
     "output_type": "stream",
     "text": [
      "/home/christian/synchedout/eegip/eegip/recording.py:209: RuntimeWarning: This filename (/home/christian/synchedout/eegip/eegip/tests/test_artifacts/derivatives/eegip_london_preprocessed/sub-s703/ses-m06/eeg/sub-s703_ses-m06_eeg.fif) does not conform to MNE naming conventions. All raw files should end with raw.fif, raw_sss.fif, raw_tsss.fif, raw.fif.gz, raw_sss.fif.gz, raw_tsss.fif.gz or _meg.fif\n",
      "  self._preprocessed_raw = mne.io.read_raw_fif(self.get_path(\"preprocessed_raw\"), verbose=self.verbose)\n"
     ]
    },
    {
     "name": "stdout",
     "output_type": "stream",
     "text": [
      "158 bad epochs dropped\n",
      "Overwriting existing file.\n",
      "Reading /home/christian/synchedout/eegip/eegip/tests/test_artifacts/derivatives/eegip_london_preprocessed/sub-s703/ses-m06/mod/sub-s703_ses-m06_epo.fif ...\n",
      "    Found the data of interest:\n",
      "        t =    -200.00 ...     798.00 ms\n",
      "        0 CTF compensation matrices available\n",
      "285 matching events found\n",
      "No baseline correction applied\n",
      "Not setting metadata\n",
      "0 projection items activated\n",
      "Reading /home/christian/synchedout/eegip/eegip/tests/test_artifacts/derivatives/eegip_london_preprocessed/sub-s703/ses-m06/mod/sub-s703_ses-m06_epo.fif ...\n",
      "    Found the data of interest:\n",
      "        t =    -200.00 ...     798.00 ms\n",
      "        0 CTF compensation matrices available\n",
      "285 matching events found\n",
      "No baseline correction applied\n",
      "Not setting metadata\n",
      "0 projection items activated\n",
      "Reading /home/christian/synchedout/eegip/eegip/tests/test_artifacts/derivatives/eegip_london_preprocessed/sub-s703/ses-m06/mod/sub-s703_ses-m06_epo.fif ...\n",
      "    Found the data of interest:\n",
      "        t =    -200.00 ...     798.00 ms\n",
      "        0 CTF compensation matrices available\n",
      "285 matching events found\n",
      "No baseline correction applied\n",
      "Not setting metadata\n",
      "0 projection items activated\n",
      "Opening raw data file /home/christian/synchedout/eegip/eegip/tests/test_artifacts/derivatives/eegip_london_preprocessed/sub-s704/ses-m06/eeg/sub-s704_ses-m06_eeg.fif...\n",
      "    Range : 0 ... 136499 =      0.000 ...   272.998 secs\n",
      "Ready.\n",
      "212 matching events found\n",
      "No baseline correction applied\n",
      "Not setting metadata\n",
      "0 projection items activated\n",
      "Loading data for 212 events and 500 original time points ...\n",
      "160 bad epochs dropped\n",
      "Overwriting existing file.\n"
     ]
    },
    {
     "name": "stderr",
     "output_type": "stream",
     "text": [
      "/home/christian/synchedout/eegip/eegip/recording.py:209: RuntimeWarning: This filename (/home/christian/synchedout/eegip/eegip/tests/test_artifacts/derivatives/eegip_london_preprocessed/sub-s704/ses-m06/eeg/sub-s704_ses-m06_eeg.fif) does not conform to MNE naming conventions. All raw files should end with raw.fif, raw_sss.fif, raw_tsss.fif, raw.fif.gz, raw_sss.fif.gz, raw_tsss.fif.gz or _meg.fif\n",
      "  self._preprocessed_raw = mne.io.read_raw_fif(self.get_path(\"preprocessed_raw\"), verbose=self.verbose)\n"
     ]
    },
    {
     "name": "stdout",
     "output_type": "stream",
     "text": [
      "Reading /home/christian/synchedout/eegip/eegip/tests/test_artifacts/derivatives/eegip_london_preprocessed/sub-s704/ses-m06/mod/sub-s704_ses-m06_epo.fif ...\n",
      "    Found the data of interest:\n",
      "        t =    -200.00 ...     798.00 ms\n",
      "        0 CTF compensation matrices available\n",
      "52 matching events found\n",
      "No baseline correction applied\n",
      "Not setting metadata\n",
      "0 projection items activated\n",
      "Reading /home/christian/synchedout/eegip/eegip/tests/test_artifacts/derivatives/eegip_london_preprocessed/sub-s704/ses-m06/mod/sub-s704_ses-m06_epo.fif ...\n",
      "    Found the data of interest:\n",
      "        t =    -200.00 ...     798.00 ms\n",
      "        0 CTF compensation matrices available\n",
      "52 matching events found\n",
      "No baseline correction applied\n",
      "Not setting metadata\n",
      "0 projection items activated\n",
      "Reading /home/christian/synchedout/eegip/eegip/tests/test_artifacts/derivatives/eegip_london_preprocessed/sub-s704/ses-m06/mod/sub-s704_ses-m06_epo.fif ...\n",
      "    Found the data of interest:\n",
      "        t =    -200.00 ...     798.00 ms\n",
      "        0 CTF compensation matrices available\n",
      "52 matching events found\n",
      "No baseline correction applied\n",
      "Not setting metadata\n",
      "0 projection items activated\n",
      "Opening raw data file /home/christian/synchedout/eegip/eegip/tests/test_artifacts/derivatives/eegip_london_preprocessed/sub-s705/ses-m06/eeg/sub-s705_ses-m06_eeg.fif...\n",
      "    Range : 0 ... 227499 =      0.000 ...   454.998 secs\n",
      "Ready.\n",
      "382 matching events found\n",
      "No baseline correction applied\n",
      "Not setting metadata\n",
      "0 projection items activated\n",
      "Loading data for 382 events and 500 original time points ...\n"
     ]
    },
    {
     "name": "stderr",
     "output_type": "stream",
     "text": [
      "/home/christian/synchedout/eegip/eegip/recording.py:209: RuntimeWarning: This filename (/home/christian/synchedout/eegip/eegip/tests/test_artifacts/derivatives/eegip_london_preprocessed/sub-s705/ses-m06/eeg/sub-s705_ses-m06_eeg.fif) does not conform to MNE naming conventions. All raw files should end with raw.fif, raw_sss.fif, raw_tsss.fif, raw.fif.gz, raw_sss.fif.gz, raw_tsss.fif.gz or _meg.fif\n",
      "  self._preprocessed_raw = mne.io.read_raw_fif(self.get_path(\"preprocessed_raw\"), verbose=self.verbose)\n"
     ]
    },
    {
     "name": "stdout",
     "output_type": "stream",
     "text": [
      "192 bad epochs dropped\n",
      "Overwriting existing file.\n",
      "Reading /home/christian/synchedout/eegip/eegip/tests/test_artifacts/derivatives/eegip_london_preprocessed/sub-s705/ses-m06/mod/sub-s705_ses-m06_epo.fif ...\n",
      "    Found the data of interest:\n",
      "        t =    -200.00 ...     798.00 ms\n",
      "        0 CTF compensation matrices available\n",
      "190 matching events found\n",
      "No baseline correction applied\n",
      "Not setting metadata\n",
      "0 projection items activated\n",
      "Reading /home/christian/synchedout/eegip/eegip/tests/test_artifacts/derivatives/eegip_london_preprocessed/sub-s705/ses-m06/mod/sub-s705_ses-m06_epo.fif ...\n",
      "    Found the data of interest:\n",
      "        t =    -200.00 ...     798.00 ms\n",
      "        0 CTF compensation matrices available\n",
      "190 matching events found\n",
      "No baseline correction applied\n",
      "Not setting metadata\n",
      "0 projection items activated\n",
      "Reading /home/christian/synchedout/eegip/eegip/tests/test_artifacts/derivatives/eegip_london_preprocessed/sub-s705/ses-m06/mod/sub-s705_ses-m06_epo.fif ...\n",
      "    Found the data of interest:\n",
      "        t =    -200.00 ...     798.00 ms\n",
      "        0 CTF compensation matrices available\n",
      "190 matching events found\n",
      "No baseline correction applied\n",
      "Not setting metadata\n",
      "0 projection items activated\n",
      "Opening raw data file /home/christian/synchedout/eegip/eegip/tests/test_artifacts/derivatives/eegip_london_preprocessed/sub-s706/ses-m06/eeg/sub-s706_ses-m06_eeg.fif...\n",
      "    Range : 0 ... 266999 =      0.000 ...   533.998 secs\n",
      "Ready.\n",
      "421 matching events found\n",
      "No baseline correction applied\n",
      "Not setting metadata\n",
      "0 projection items activated\n",
      "Loading data for 421 events and 500 original time points ...\n"
     ]
    },
    {
     "name": "stderr",
     "output_type": "stream",
     "text": [
      "/home/christian/synchedout/eegip/eegip/recording.py:209: RuntimeWarning: This filename (/home/christian/synchedout/eegip/eegip/tests/test_artifacts/derivatives/eegip_london_preprocessed/sub-s706/ses-m06/eeg/sub-s706_ses-m06_eeg.fif) does not conform to MNE naming conventions. All raw files should end with raw.fif, raw_sss.fif, raw_tsss.fif, raw.fif.gz, raw_sss.fif.gz, raw_tsss.fif.gz or _meg.fif\n",
      "  self._preprocessed_raw = mne.io.read_raw_fif(self.get_path(\"preprocessed_raw\"), verbose=self.verbose)\n"
     ]
    },
    {
     "name": "stdout",
     "output_type": "stream",
     "text": [
      "112 bad epochs dropped\n",
      "Overwriting existing file.\n",
      "Reading /home/christian/synchedout/eegip/eegip/tests/test_artifacts/derivatives/eegip_london_preprocessed/sub-s706/ses-m06/mod/sub-s706_ses-m06_epo.fif ...\n",
      "    Found the data of interest:\n",
      "        t =    -200.00 ...     798.00 ms\n",
      "        0 CTF compensation matrices available\n",
      "309 matching events found\n",
      "No baseline correction applied\n",
      "Not setting metadata\n",
      "0 projection items activated\n",
      "Reading /home/christian/synchedout/eegip/eegip/tests/test_artifacts/derivatives/eegip_london_preprocessed/sub-s706/ses-m06/mod/sub-s706_ses-m06_epo.fif ...\n",
      "    Found the data of interest:\n",
      "        t =    -200.00 ...     798.00 ms\n",
      "        0 CTF compensation matrices available\n",
      "309 matching events found\n",
      "No baseline correction applied\n",
      "Not setting metadata\n",
      "0 projection items activated\n",
      "Reading /home/christian/synchedout/eegip/eegip/tests/test_artifacts/derivatives/eegip_london_preprocessed/sub-s706/ses-m06/mod/sub-s706_ses-m06_epo.fif ...\n",
      "    Found the data of interest:\n",
      "        t =    -200.00 ...     798.00 ms\n",
      "        0 CTF compensation matrices available\n",
      "309 matching events found\n",
      "No baseline correction applied\n",
      "Not setting metadata\n",
      "0 projection items activated\n",
      "Opening raw data file /home/christian/synchedout/eegip/eegip/tests/test_artifacts/derivatives/eegip_london_preprocessed/sub-s707/ses-m06/eeg/sub-s707_ses-m06_eeg.fif...\n"
     ]
    },
    {
     "name": "stderr",
     "output_type": "stream",
     "text": [
      "/home/christian/synchedout/eegip/eegip/recording.py:209: RuntimeWarning: This filename (/home/christian/synchedout/eegip/eegip/tests/test_artifacts/derivatives/eegip_london_preprocessed/sub-s707/ses-m06/eeg/sub-s707_ses-m06_eeg.fif) does not conform to MNE naming conventions. All raw files should end with raw.fif, raw_sss.fif, raw_tsss.fif, raw.fif.gz, raw_sss.fif.gz, raw_tsss.fif.gz or _meg.fif\n",
      "  self._preprocessed_raw = mne.io.read_raw_fif(self.get_path(\"preprocessed_raw\"), verbose=self.verbose)\n"
     ]
    },
    {
     "name": "stdout",
     "output_type": "stream",
     "text": [
      "    Range : 0 ... 193999 =      0.000 ...   387.998 secs\n",
      "Ready.\n",
      "306 matching events found\n",
      "No baseline correction applied\n",
      "Not setting metadata\n",
      "0 projection items activated\n",
      "Loading data for 306 events and 500 original time points ...\n",
      "169 bad epochs dropped\n",
      "Overwriting existing file.\n",
      "Reading /home/christian/synchedout/eegip/eegip/tests/test_artifacts/derivatives/eegip_london_preprocessed/sub-s707/ses-m06/mod/sub-s707_ses-m06_epo.fif ...\n",
      "    Found the data of interest:\n",
      "        t =    -200.00 ...     798.00 ms\n",
      "        0 CTF compensation matrices available\n",
      "137 matching events found\n",
      "No baseline correction applied\n",
      "Not setting metadata\n",
      "0 projection items activated\n",
      "Reading /home/christian/synchedout/eegip/eegip/tests/test_artifacts/derivatives/eegip_london_preprocessed/sub-s707/ses-m06/mod/sub-s707_ses-m06_epo.fif ...\n",
      "    Found the data of interest:\n",
      "        t =    -200.00 ...     798.00 ms\n",
      "        0 CTF compensation matrices available\n",
      "137 matching events found\n",
      "No baseline correction applied\n",
      "Not setting metadata\n",
      "0 projection items activated\n",
      "Reading /home/christian/synchedout/eegip/eegip/tests/test_artifacts/derivatives/eegip_london_preprocessed/sub-s707/ses-m06/mod/sub-s707_ses-m06_epo.fif ...\n",
      "    Found the data of interest:\n",
      "        t =    -200.00 ...     798.00 ms\n",
      "        0 CTF compensation matrices available\n",
      "137 matching events found\n",
      "No baseline correction applied\n",
      "Not setting metadata\n",
      "0 projection items activated\n",
      "Opening raw data file /home/christian/synchedout/eegip/eegip/tests/test_artifacts/derivatives/eegip_london_preprocessed/sub-s709/ses-m06/eeg/sub-s709_ses-m06_eeg.fif...\n"
     ]
    },
    {
     "name": "stderr",
     "output_type": "stream",
     "text": [
      "/home/christian/synchedout/eegip/eegip/recording.py:209: RuntimeWarning: This filename (/home/christian/synchedout/eegip/eegip/tests/test_artifacts/derivatives/eegip_london_preprocessed/sub-s709/ses-m06/eeg/sub-s709_ses-m06_eeg.fif) does not conform to MNE naming conventions. All raw files should end with raw.fif, raw_sss.fif, raw_tsss.fif, raw.fif.gz, raw_sss.fif.gz, raw_tsss.fif.gz or _meg.fif\n",
      "  self._preprocessed_raw = mne.io.read_raw_fif(self.get_path(\"preprocessed_raw\"), verbose=self.verbose)\n"
     ]
    },
    {
     "name": "stdout",
     "output_type": "stream",
     "text": [
      "    Range : 0 ... 288499 =      0.000 ...   576.998 secs\n",
      "Ready.\n",
      "436 matching events found\n",
      "No baseline correction applied\n",
      "Not setting metadata\n",
      "0 projection items activated\n",
      "Loading data for 436 events and 500 original time points ...\n",
      "198 bad epochs dropped\n",
      "Overwriting existing file.\n",
      "Reading /home/christian/synchedout/eegip/eegip/tests/test_artifacts/derivatives/eegip_london_preprocessed/sub-s709/ses-m06/mod/sub-s709_ses-m06_epo.fif ...\n",
      "    Found the data of interest:\n",
      "        t =    -200.00 ...     798.00 ms\n",
      "        0 CTF compensation matrices available\n",
      "238 matching events found\n",
      "No baseline correction applied\n",
      "Not setting metadata\n",
      "0 projection items activated\n",
      "Reading /home/christian/synchedout/eegip/eegip/tests/test_artifacts/derivatives/eegip_london_preprocessed/sub-s709/ses-m06/mod/sub-s709_ses-m06_epo.fif ...\n",
      "    Found the data of interest:\n",
      "        t =    -200.00 ...     798.00 ms\n",
      "        0 CTF compensation matrices available\n",
      "238 matching events found\n",
      "No baseline correction applied\n",
      "Not setting metadata\n",
      "0 projection items activated\n",
      "Reading /home/christian/synchedout/eegip/eegip/tests/test_artifacts/derivatives/eegip_london_preprocessed/sub-s709/ses-m06/mod/sub-s709_ses-m06_epo.fif ...\n",
      "    Found the data of interest:\n",
      "        t =    -200.00 ...     798.00 ms\n",
      "        0 CTF compensation matrices available\n",
      "238 matching events found\n",
      "No baseline correction applied\n",
      "Not setting metadata\n",
      "0 projection items activated\n",
      "Opening raw data file /home/christian/synchedout/eegip/eegip/tests/test_artifacts/derivatives/eegip_london_preprocessed/sub-s710/ses-m06/eeg/sub-s710_ses-m06_eeg.fif...\n",
      "    Range : 0 ... 268999 =      0.000 ...   537.998 secs\n",
      "Ready.\n",
      "429 matching events found\n",
      "No baseline correction applied\n",
      "Not setting metadata\n",
      "0 projection items activated\n",
      "Loading data for 429 events and 500 original time points ...\n"
     ]
    },
    {
     "name": "stderr",
     "output_type": "stream",
     "text": [
      "/home/christian/synchedout/eegip/eegip/recording.py:209: RuntimeWarning: This filename (/home/christian/synchedout/eegip/eegip/tests/test_artifacts/derivatives/eegip_london_preprocessed/sub-s710/ses-m06/eeg/sub-s710_ses-m06_eeg.fif) does not conform to MNE naming conventions. All raw files should end with raw.fif, raw_sss.fif, raw_tsss.fif, raw.fif.gz, raw_sss.fif.gz, raw_tsss.fif.gz or _meg.fif\n",
      "  self._preprocessed_raw = mne.io.read_raw_fif(self.get_path(\"preprocessed_raw\"), verbose=self.verbose)\n"
     ]
    },
    {
     "name": "stdout",
     "output_type": "stream",
     "text": [
      "239 bad epochs dropped\n",
      "Overwriting existing file.\n",
      "Reading /home/christian/synchedout/eegip/eegip/tests/test_artifacts/derivatives/eegip_london_preprocessed/sub-s710/ses-m06/mod/sub-s710_ses-m06_epo.fif ...\n",
      "    Found the data of interest:\n",
      "        t =    -200.00 ...     798.00 ms\n",
      "        0 CTF compensation matrices available\n",
      "190 matching events found\n",
      "No baseline correction applied\n",
      "Not setting metadata\n",
      "0 projection items activated\n",
      "Reading /home/christian/synchedout/eegip/eegip/tests/test_artifacts/derivatives/eegip_london_preprocessed/sub-s710/ses-m06/mod/sub-s710_ses-m06_epo.fif ...\n",
      "    Found the data of interest:\n",
      "        t =    -200.00 ...     798.00 ms\n",
      "        0 CTF compensation matrices available\n",
      "190 matching events found\n",
      "No baseline correction applied\n",
      "Not setting metadata\n",
      "0 projection items activated\n",
      "Reading /home/christian/synchedout/eegip/eegip/tests/test_artifacts/derivatives/eegip_london_preprocessed/sub-s710/ses-m06/mod/sub-s710_ses-m06_epo.fif ...\n",
      "    Found the data of interest:\n",
      "        t =    -200.00 ...     798.00 ms\n",
      "        0 CTF compensation matrices available\n",
      "190 matching events found\n",
      "No baseline correction applied\n",
      "Not setting metadata\n",
      "0 projection items activated\n",
      "Opening raw data file /home/christian/synchedout/eegip/eegip/tests/test_artifacts/derivatives/eegip_london_preprocessed/sub-s711/ses-m06/eeg/sub-s711_ses-m06_eeg.fif...\n",
      "    Range : 0 ... 269499 =      0.000 ...   538.998 secs\n",
      "Ready.\n",
      "419 matching events found\n",
      "No baseline correction applied\n",
      "Not setting metadata\n",
      "0 projection items activated\n",
      "Loading data for 419 events and 500 original time points ...\n"
     ]
    },
    {
     "name": "stderr",
     "output_type": "stream",
     "text": [
      "/home/christian/synchedout/eegip/eegip/recording.py:209: RuntimeWarning: This filename (/home/christian/synchedout/eegip/eegip/tests/test_artifacts/derivatives/eegip_london_preprocessed/sub-s711/ses-m06/eeg/sub-s711_ses-m06_eeg.fif) does not conform to MNE naming conventions. All raw files should end with raw.fif, raw_sss.fif, raw_tsss.fif, raw.fif.gz, raw_sss.fif.gz, raw_tsss.fif.gz or _meg.fif\n",
      "  self._preprocessed_raw = mne.io.read_raw_fif(self.get_path(\"preprocessed_raw\"), verbose=self.verbose)\n"
     ]
    },
    {
     "name": "stdout",
     "output_type": "stream",
     "text": [
      "242 bad epochs dropped\n",
      "Overwriting existing file.\n",
      "Reading /home/christian/synchedout/eegip/eegip/tests/test_artifacts/derivatives/eegip_london_preprocessed/sub-s711/ses-m06/mod/sub-s711_ses-m06_epo.fif ...\n",
      "    Found the data of interest:\n",
      "        t =    -200.00 ...     798.00 ms\n",
      "        0 CTF compensation matrices available\n",
      "177 matching events found\n",
      "No baseline correction applied\n",
      "Not setting metadata\n",
      "0 projection items activated\n",
      "Reading /home/christian/synchedout/eegip/eegip/tests/test_artifacts/derivatives/eegip_london_preprocessed/sub-s711/ses-m06/mod/sub-s711_ses-m06_epo.fif ...\n",
      "    Found the data of interest:\n",
      "        t =    -200.00 ...     798.00 ms\n",
      "        0 CTF compensation matrices available\n",
      "177 matching events found\n",
      "No baseline correction applied\n",
      "Not setting metadata\n",
      "0 projection items activated\n",
      "Reading /home/christian/synchedout/eegip/eegip/tests/test_artifacts/derivatives/eegip_london_preprocessed/sub-s711/ses-m06/mod/sub-s711_ses-m06_epo.fif ...\n",
      "    Found the data of interest:\n",
      "        t =    -200.00 ...     798.00 ms\n",
      "        0 CTF compensation matrices available\n",
      "177 matching events found\n",
      "No baseline correction applied\n",
      "Not setting metadata\n",
      "0 projection items activated\n",
      "Opening raw data file /home/christian/synchedout/eegip/eegip/tests/test_artifacts/derivatives/eegip_london_preprocessed/sub-s712/ses-m06/eeg/sub-s712_ses-m06_eeg.fif...\n",
      "    Range : 0 ... 446999 =      0.000 ...   893.998 secs\n",
      "Ready.\n",
      "770 matching events found\n",
      "No baseline correction applied\n",
      "Not setting metadata\n",
      "0 projection items activated\n",
      "Loading data for 770 events and 500 original time points ...\n"
     ]
    },
    {
     "name": "stderr",
     "output_type": "stream",
     "text": [
      "/home/christian/synchedout/eegip/eegip/recording.py:209: RuntimeWarning: This filename (/home/christian/synchedout/eegip/eegip/tests/test_artifacts/derivatives/eegip_london_preprocessed/sub-s712/ses-m06/eeg/sub-s712_ses-m06_eeg.fif) does not conform to MNE naming conventions. All raw files should end with raw.fif, raw_sss.fif, raw_tsss.fif, raw.fif.gz, raw_sss.fif.gz, raw_tsss.fif.gz or _meg.fif\n",
      "  self._preprocessed_raw = mne.io.read_raw_fif(self.get_path(\"preprocessed_raw\"), verbose=self.verbose)\n"
     ]
    },
    {
     "name": "stdout",
     "output_type": "stream",
     "text": [
      "135 bad epochs dropped\n",
      "Overwriting existing file.\n",
      "Reading /home/christian/synchedout/eegip/eegip/tests/test_artifacts/derivatives/eegip_london_preprocessed/sub-s712/ses-m06/mod/sub-s712_ses-m06_epo.fif ...\n",
      "    Found the data of interest:\n",
      "        t =    -200.00 ...     798.00 ms\n",
      "        0 CTF compensation matrices available\n",
      "635 matching events found\n",
      "No baseline correction applied\n",
      "Not setting metadata\n",
      "0 projection items activated\n",
      "Reading /home/christian/synchedout/eegip/eegip/tests/test_artifacts/derivatives/eegip_london_preprocessed/sub-s712/ses-m06/mod/sub-s712_ses-m06_epo.fif ...\n",
      "    Found the data of interest:\n",
      "        t =    -200.00 ...     798.00 ms\n",
      "        0 CTF compensation matrices available\n",
      "635 matching events found\n",
      "No baseline correction applied\n",
      "Not setting metadata\n",
      "0 projection items activated\n",
      "Reading /home/christian/synchedout/eegip/eegip/tests/test_artifacts/derivatives/eegip_london_preprocessed/sub-s712/ses-m06/mod/sub-s712_ses-m06_epo.fif ...\n",
      "    Found the data of interest:\n",
      "        t =    -200.00 ...     798.00 ms\n",
      "        0 CTF compensation matrices available\n",
      "635 matching events found\n",
      "No baseline correction applied\n",
      "Not setting metadata\n",
      "0 projection items activated\n",
      "Opening raw data file /home/christian/synchedout/eegip/eegip/tests/test_artifacts/derivatives/eegip_london_preprocessed/sub-s713/ses-m06/eeg/sub-s713_ses-m06_eeg.fif...\n"
     ]
    },
    {
     "name": "stderr",
     "output_type": "stream",
     "text": [
      "/home/christian/synchedout/eegip/eegip/recording.py:209: RuntimeWarning: This filename (/home/christian/synchedout/eegip/eegip/tests/test_artifacts/derivatives/eegip_london_preprocessed/sub-s713/ses-m06/eeg/sub-s713_ses-m06_eeg.fif) does not conform to MNE naming conventions. All raw files should end with raw.fif, raw_sss.fif, raw_tsss.fif, raw.fif.gz, raw_sss.fif.gz, raw_tsss.fif.gz or _meg.fif\n",
      "  self._preprocessed_raw = mne.io.read_raw_fif(self.get_path(\"preprocessed_raw\"), verbose=self.verbose)\n"
     ]
    },
    {
     "name": "stdout",
     "output_type": "stream",
     "text": [
      "    Range : 0 ... 205999 =      0.000 ...   411.998 secs\n",
      "Ready.\n",
      "334 matching events found\n",
      "No baseline correction applied\n",
      "Not setting metadata\n",
      "0 projection items activated\n",
      "Loading data for 334 events and 500 original time points ...\n",
      "56 bad epochs dropped\n",
      "Overwriting existing file.\n",
      "Reading /home/christian/synchedout/eegip/eegip/tests/test_artifacts/derivatives/eegip_london_preprocessed/sub-s713/ses-m06/mod/sub-s713_ses-m06_epo.fif ...\n",
      "    Found the data of interest:\n",
      "        t =    -200.00 ...     798.00 ms\n",
      "        0 CTF compensation matrices available\n",
      "278 matching events found\n",
      "No baseline correction applied\n",
      "Not setting metadata\n",
      "0 projection items activated\n",
      "Reading /home/christian/synchedout/eegip/eegip/tests/test_artifacts/derivatives/eegip_london_preprocessed/sub-s713/ses-m06/mod/sub-s713_ses-m06_epo.fif ...\n",
      "    Found the data of interest:\n",
      "        t =    -200.00 ...     798.00 ms\n",
      "        0 CTF compensation matrices available\n",
      "278 matching events found\n",
      "No baseline correction applied\n",
      "Not setting metadata\n",
      "0 projection items activated\n",
      "Reading /home/christian/synchedout/eegip/eegip/tests/test_artifacts/derivatives/eegip_london_preprocessed/sub-s713/ses-m06/mod/sub-s713_ses-m06_epo.fif ...\n",
      "    Found the data of interest:\n",
      "        t =    -200.00 ...     798.00 ms\n",
      "        0 CTF compensation matrices available\n"
     ]
    },
    {
     "name": "stderr",
     "output_type": "stream",
     "text": [
      "/home/christian/anaconda3/lib/python3.7/site-packages/sklearn/decomposition/_fastica.py:119: ConvergenceWarning: FastICA did not converge. Consider increasing tolerance or the maximum number of iterations.\n",
      "  ConvergenceWarning)\n"
     ]
    },
    {
     "name": "stdout",
     "output_type": "stream",
     "text": [
      "278 matching events found\n",
      "No baseline correction applied\n",
      "Not setting metadata\n",
      "0 projection items activated\n",
      "Opening raw data file /home/christian/synchedout/eegip/eegip/tests/test_artifacts/derivatives/eegip_london_preprocessed/sub-s714/ses-m06/eeg/sub-s714_ses-m06_eeg.fif...\n"
     ]
    },
    {
     "name": "stderr",
     "output_type": "stream",
     "text": [
      "/home/christian/synchedout/eegip/eegip/recording.py:209: RuntimeWarning: This filename (/home/christian/synchedout/eegip/eegip/tests/test_artifacts/derivatives/eegip_london_preprocessed/sub-s714/ses-m06/eeg/sub-s714_ses-m06_eeg.fif) does not conform to MNE naming conventions. All raw files should end with raw.fif, raw_sss.fif, raw_tsss.fif, raw.fif.gz, raw_sss.fif.gz, raw_tsss.fif.gz or _meg.fif\n",
      "  self._preprocessed_raw = mne.io.read_raw_fif(self.get_path(\"preprocessed_raw\"), verbose=self.verbose)\n"
     ]
    },
    {
     "name": "stdout",
     "output_type": "stream",
     "text": [
      "    Range : 0 ... 63499 =      0.000 ...   126.998 secs\n",
      "Ready.\n",
      "71 matching events found\n",
      "No baseline correction applied\n",
      "Not setting metadata\n",
      "0 projection items activated\n",
      "Loading data for 71 events and 500 original time points ...\n",
      "38 bad epochs dropped\n",
      "Overwriting existing file.\n",
      "Reading /home/christian/synchedout/eegip/eegip/tests/test_artifacts/derivatives/eegip_london_preprocessed/sub-s714/ses-m06/mod/sub-s714_ses-m06_epo.fif ...\n",
      "    Found the data of interest:\n",
      "        t =    -200.00 ...     798.00 ms\n",
      "        0 CTF compensation matrices available\n",
      "33 matching events found\n",
      "No baseline correction applied\n",
      "Not setting metadata\n",
      "0 projection items activated\n",
      "Reading /home/christian/synchedout/eegip/eegip/tests/test_artifacts/derivatives/eegip_london_preprocessed/sub-s714/ses-m06/mod/sub-s714_ses-m06_epo.fif ...\n",
      "    Found the data of interest:\n",
      "        t =    -200.00 ...     798.00 ms\n",
      "        0 CTF compensation matrices available\n",
      "33 matching events found\n",
      "No baseline correction applied\n",
      "Not setting metadata\n",
      "0 projection items activated\n",
      "Reading /home/christian/synchedout/eegip/eegip/tests/test_artifacts/derivatives/eegip_london_preprocessed/sub-s714/ses-m06/mod/sub-s714_ses-m06_epo.fif ...\n",
      "    Found the data of interest:\n",
      "        t =    -200.00 ...     798.00 ms\n",
      "        0 CTF compensation matrices available\n",
      "33 matching events found\n",
      "No baseline correction applied\n",
      "Not setting metadata\n",
      "0 projection items activated\n",
      "Opening raw data file /home/christian/synchedout/eegip/eegip/tests/test_artifacts/derivatives/eegip_london_preprocessed/sub-s715/ses-m06/eeg/sub-s715_ses-m06_eeg.fif...\n"
     ]
    },
    {
     "name": "stderr",
     "output_type": "stream",
     "text": [
      "/home/christian/synchedout/eegip/eegip/recording.py:209: RuntimeWarning: This filename (/home/christian/synchedout/eegip/eegip/tests/test_artifacts/derivatives/eegip_london_preprocessed/sub-s715/ses-m06/eeg/sub-s715_ses-m06_eeg.fif) does not conform to MNE naming conventions. All raw files should end with raw.fif, raw_sss.fif, raw_tsss.fif, raw.fif.gz, raw_sss.fif.gz, raw_tsss.fif.gz or _meg.fif\n",
      "  self._preprocessed_raw = mne.io.read_raw_fif(self.get_path(\"preprocessed_raw\"), verbose=self.verbose)\n"
     ]
    },
    {
     "name": "stdout",
     "output_type": "stream",
     "text": [
      "    Range : 0 ... 209999 =      0.000 ...   419.998 secs\n",
      "Ready.\n",
      "343 matching events found\n",
      "No baseline correction applied\n",
      "Not setting metadata\n",
      "0 projection items activated\n",
      "Loading data for 343 events and 500 original time points ...\n",
      "147 bad epochs dropped\n",
      "Overwriting existing file.\n",
      "Reading /home/christian/synchedout/eegip/eegip/tests/test_artifacts/derivatives/eegip_london_preprocessed/sub-s715/ses-m06/mod/sub-s715_ses-m06_epo.fif ...\n",
      "    Found the data of interest:\n",
      "        t =    -200.00 ...     798.00 ms\n",
      "        0 CTF compensation matrices available\n",
      "196 matching events found\n",
      "No baseline correction applied\n",
      "Not setting metadata\n",
      "0 projection items activated\n",
      "Reading /home/christian/synchedout/eegip/eegip/tests/test_artifacts/derivatives/eegip_london_preprocessed/sub-s715/ses-m06/mod/sub-s715_ses-m06_epo.fif ...\n",
      "    Found the data of interest:\n",
      "        t =    -200.00 ...     798.00 ms\n",
      "        0 CTF compensation matrices available\n",
      "196 matching events found\n",
      "No baseline correction applied\n",
      "Not setting metadata\n",
      "0 projection items activated\n",
      "Reading /home/christian/synchedout/eegip/eegip/tests/test_artifacts/derivatives/eegip_london_preprocessed/sub-s715/ses-m06/mod/sub-s715_ses-m06_epo.fif ...\n",
      "    Found the data of interest:\n",
      "        t =    -200.00 ...     798.00 ms\n",
      "        0 CTF compensation matrices available\n"
     ]
    },
    {
     "name": "stderr",
     "output_type": "stream",
     "text": [
      "/home/christian/anaconda3/lib/python3.7/site-packages/sklearn/decomposition/_fastica.py:119: ConvergenceWarning: FastICA did not converge. Consider increasing tolerance or the maximum number of iterations.\n",
      "  ConvergenceWarning)\n"
     ]
    },
    {
     "name": "stdout",
     "output_type": "stream",
     "text": [
      "196 matching events found\n",
      "No baseline correction applied\n",
      "Not setting metadata\n",
      "0 projection items activated\n",
      "Opening raw data file /home/christian/synchedout/eegip/eegip/tests/test_artifacts/derivatives/eegip_london_preprocessed/sub-s716/ses-m06/eeg/sub-s716_ses-m06_eeg.fif...\n"
     ]
    },
    {
     "name": "stderr",
     "output_type": "stream",
     "text": [
      "/home/christian/synchedout/eegip/eegip/recording.py:209: RuntimeWarning: This filename (/home/christian/synchedout/eegip/eegip/tests/test_artifacts/derivatives/eegip_london_preprocessed/sub-s716/ses-m06/eeg/sub-s716_ses-m06_eeg.fif) does not conform to MNE naming conventions. All raw files should end with raw.fif, raw_sss.fif, raw_tsss.fif, raw.fif.gz, raw_sss.fif.gz, raw_tsss.fif.gz or _meg.fif\n",
      "  self._preprocessed_raw = mne.io.read_raw_fif(self.get_path(\"preprocessed_raw\"), verbose=self.verbose)\n"
     ]
    },
    {
     "name": "stdout",
     "output_type": "stream",
     "text": [
      "    Range : 0 ... 256999 =      0.000 ...   513.998 secs\n",
      "Ready.\n",
      "374 matching events found\n",
      "No baseline correction applied\n",
      "Not setting metadata\n",
      "0 projection items activated\n",
      "Loading data for 374 events and 500 original time points ...\n",
      "137 bad epochs dropped\n",
      "Overwriting existing file.\n",
      "Reading /home/christian/synchedout/eegip/eegip/tests/test_artifacts/derivatives/eegip_london_preprocessed/sub-s716/ses-m06/mod/sub-s716_ses-m06_epo.fif ...\n",
      "    Found the data of interest:\n",
      "        t =    -200.00 ...     798.00 ms\n",
      "        0 CTF compensation matrices available\n",
      "237 matching events found\n",
      "No baseline correction applied\n",
      "Not setting metadata\n",
      "0 projection items activated\n",
      "Reading /home/christian/synchedout/eegip/eegip/tests/test_artifacts/derivatives/eegip_london_preprocessed/sub-s716/ses-m06/mod/sub-s716_ses-m06_epo.fif ...\n",
      "    Found the data of interest:\n",
      "        t =    -200.00 ...     798.00 ms\n",
      "        0 CTF compensation matrices available\n",
      "237 matching events found\n",
      "No baseline correction applied\n",
      "Not setting metadata\n",
      "0 projection items activated\n",
      "Reading /home/christian/synchedout/eegip/eegip/tests/test_artifacts/derivatives/eegip_london_preprocessed/sub-s716/ses-m06/mod/sub-s716_ses-m06_epo.fif ...\n",
      "    Found the data of interest:\n",
      "        t =    -200.00 ...     798.00 ms\n",
      "        0 CTF compensation matrices available\n",
      "237 matching events found\n",
      "No baseline correction applied\n",
      "Not setting metadata\n",
      "0 projection items activated\n",
      "Opening raw data file /home/christian/synchedout/eegip/eegip/tests/test_artifacts/derivatives/eegip_london_preprocessed/sub-s717/ses-m06/eeg/sub-s717_ses-m06_eeg.fif...\n"
     ]
    },
    {
     "name": "stderr",
     "output_type": "stream",
     "text": [
      "/home/christian/synchedout/eegip/eegip/recording.py:209: RuntimeWarning: This filename (/home/christian/synchedout/eegip/eegip/tests/test_artifacts/derivatives/eegip_london_preprocessed/sub-s717/ses-m06/eeg/sub-s717_ses-m06_eeg.fif) does not conform to MNE naming conventions. All raw files should end with raw.fif, raw_sss.fif, raw_tsss.fif, raw.fif.gz, raw_sss.fif.gz, raw_tsss.fif.gz or _meg.fif\n",
      "  self._preprocessed_raw = mne.io.read_raw_fif(self.get_path(\"preprocessed_raw\"), verbose=self.verbose)\n"
     ]
    },
    {
     "name": "stdout",
     "output_type": "stream",
     "text": [
      "    Range : 0 ... 213999 =      0.000 ...   427.998 secs\n",
      "Ready.\n",
      "305 matching events found\n",
      "No baseline correction applied\n",
      "Not setting metadata\n",
      "0 projection items activated\n",
      "Loading data for 305 events and 500 original time points ...\n",
      "168 bad epochs dropped\n",
      "Overwriting existing file.\n",
      "Reading /home/christian/synchedout/eegip/eegip/tests/test_artifacts/derivatives/eegip_london_preprocessed/sub-s717/ses-m06/mod/sub-s717_ses-m06_epo.fif ...\n",
      "    Found the data of interest:\n",
      "        t =    -200.00 ...     798.00 ms\n",
      "        0 CTF compensation matrices available\n",
      "137 matching events found\n",
      "No baseline correction applied\n",
      "Not setting metadata\n",
      "0 projection items activated\n",
      "Reading /home/christian/synchedout/eegip/eegip/tests/test_artifacts/derivatives/eegip_london_preprocessed/sub-s717/ses-m06/mod/sub-s717_ses-m06_epo.fif ...\n",
      "    Found the data of interest:\n",
      "        t =    -200.00 ...     798.00 ms\n",
      "        0 CTF compensation matrices available\n",
      "137 matching events found\n",
      "No baseline correction applied\n",
      "Not setting metadata\n",
      "0 projection items activated\n",
      "Reading /home/christian/synchedout/eegip/eegip/tests/test_artifacts/derivatives/eegip_london_preprocessed/sub-s717/ses-m06/mod/sub-s717_ses-m06_epo.fif ...\n",
      "    Found the data of interest:\n",
      "        t =    -200.00 ...     798.00 ms\n",
      "        0 CTF compensation matrices available\n",
      "137 matching events found\n",
      "No baseline correction applied\n",
      "Not setting metadata\n",
      "0 projection items activated\n",
      "Opening raw data file /home/christian/synchedout/eegip/eegip/tests/test_artifacts/derivatives/eegip_london_preprocessed/sub-s719/ses-m06/eeg/sub-s719_ses-m06_eeg.fif...\n"
     ]
    },
    {
     "name": "stderr",
     "output_type": "stream",
     "text": [
      "/home/christian/synchedout/eegip/eegip/recording.py:209: RuntimeWarning: This filename (/home/christian/synchedout/eegip/eegip/tests/test_artifacts/derivatives/eegip_london_preprocessed/sub-s719/ses-m06/eeg/sub-s719_ses-m06_eeg.fif) does not conform to MNE naming conventions. All raw files should end with raw.fif, raw_sss.fif, raw_tsss.fif, raw.fif.gz, raw_sss.fif.gz, raw_tsss.fif.gz or _meg.fif\n",
      "  self._preprocessed_raw = mne.io.read_raw_fif(self.get_path(\"preprocessed_raw\"), verbose=self.verbose)\n"
     ]
    },
    {
     "name": "stdout",
     "output_type": "stream",
     "text": [
      "    Range : 0 ... 194499 =      0.000 ...   388.998 secs\n",
      "Ready.\n",
      "266 matching events found\n",
      "No baseline correction applied\n",
      "Not setting metadata\n",
      "0 projection items activated\n",
      "Loading data for 266 events and 500 original time points ...\n",
      "127 bad epochs dropped\n",
      "Overwriting existing file.\n",
      "Reading /home/christian/synchedout/eegip/eegip/tests/test_artifacts/derivatives/eegip_london_preprocessed/sub-s719/ses-m06/mod/sub-s719_ses-m06_epo.fif ...\n",
      "    Found the data of interest:\n",
      "        t =    -200.00 ...     798.00 ms\n",
      "        0 CTF compensation matrices available\n",
      "139 matching events found\n",
      "No baseline correction applied\n",
      "Not setting metadata\n",
      "0 projection items activated\n",
      "Reading /home/christian/synchedout/eegip/eegip/tests/test_artifacts/derivatives/eegip_london_preprocessed/sub-s719/ses-m06/mod/sub-s719_ses-m06_epo.fif ...\n",
      "    Found the data of interest:\n",
      "        t =    -200.00 ...     798.00 ms\n",
      "        0 CTF compensation matrices available\n",
      "139 matching events found\n",
      "No baseline correction applied\n",
      "Not setting metadata\n",
      "0 projection items activated\n",
      "Reading /home/christian/synchedout/eegip/eegip/tests/test_artifacts/derivatives/eegip_london_preprocessed/sub-s719/ses-m06/mod/sub-s719_ses-m06_epo.fif ...\n",
      "    Found the data of interest:\n",
      "        t =    -200.00 ...     798.00 ms\n",
      "        0 CTF compensation matrices available\n",
      "139 matching events found\n",
      "No baseline correction applied\n",
      "Not setting metadata\n",
      "0 projection items activated\n",
      "Opening raw data file /home/christian/synchedout/eegip/eegip/tests/test_artifacts/derivatives/eegip_london_preprocessed/sub-s720/ses-m06/eeg/sub-s720_ses-m06_eeg.fif...\n",
      "    Range : 0 ... 241999 =      0.000 ...   483.998 secs\n",
      "Ready.\n",
      "391 matching events found\n",
      "No baseline correction applied\n"
     ]
    },
    {
     "name": "stderr",
     "output_type": "stream",
     "text": [
      "/home/christian/synchedout/eegip/eegip/recording.py:209: RuntimeWarning: This filename (/home/christian/synchedout/eegip/eegip/tests/test_artifacts/derivatives/eegip_london_preprocessed/sub-s720/ses-m06/eeg/sub-s720_ses-m06_eeg.fif) does not conform to MNE naming conventions. All raw files should end with raw.fif, raw_sss.fif, raw_tsss.fif, raw.fif.gz, raw_sss.fif.gz, raw_tsss.fif.gz or _meg.fif\n",
      "  self._preprocessed_raw = mne.io.read_raw_fif(self.get_path(\"preprocessed_raw\"), verbose=self.verbose)\n"
     ]
    },
    {
     "name": "stdout",
     "output_type": "stream",
     "text": [
      "Not setting metadata\n",
      "0 projection items activated\n",
      "Loading data for 391 events and 500 original time points ...\n",
      "195 bad epochs dropped\n",
      "Overwriting existing file.\n",
      "Reading /home/christian/synchedout/eegip/eegip/tests/test_artifacts/derivatives/eegip_london_preprocessed/sub-s720/ses-m06/mod/sub-s720_ses-m06_epo.fif ...\n",
      "    Found the data of interest:\n",
      "        t =    -200.00 ...     798.00 ms\n",
      "        0 CTF compensation matrices available\n",
      "196 matching events found\n",
      "No baseline correction applied\n",
      "Not setting metadata\n",
      "0 projection items activated\n",
      "Reading /home/christian/synchedout/eegip/eegip/tests/test_artifacts/derivatives/eegip_london_preprocessed/sub-s720/ses-m06/mod/sub-s720_ses-m06_epo.fif ...\n",
      "    Found the data of interest:\n",
      "        t =    -200.00 ...     798.00 ms\n",
      "        0 CTF compensation matrices available\n",
      "196 matching events found\n",
      "No baseline correction applied\n",
      "Not setting metadata\n",
      "0 projection items activated\n",
      "Reading /home/christian/synchedout/eegip/eegip/tests/test_artifacts/derivatives/eegip_london_preprocessed/sub-s720/ses-m06/mod/sub-s720_ses-m06_epo.fif ...\n",
      "    Found the data of interest:\n",
      "        t =    -200.00 ...     798.00 ms\n",
      "        0 CTF compensation matrices available\n",
      "196 matching events found\n",
      "No baseline correction applied\n",
      "Not setting metadata\n",
      "0 projection items activated\n",
      "Opening raw data file /home/christian/synchedout/eegip/eegip/tests/test_artifacts/derivatives/eegip_london_preprocessed/sub-s721/ses-m06/eeg/sub-s721_ses-m06_eeg.fif...\n"
     ]
    },
    {
     "name": "stderr",
     "output_type": "stream",
     "text": [
      "/home/christian/synchedout/eegip/eegip/recording.py:209: RuntimeWarning: This filename (/home/christian/synchedout/eegip/eegip/tests/test_artifacts/derivatives/eegip_london_preprocessed/sub-s721/ses-m06/eeg/sub-s721_ses-m06_eeg.fif) does not conform to MNE naming conventions. All raw files should end with raw.fif, raw_sss.fif, raw_tsss.fif, raw.fif.gz, raw_sss.fif.gz, raw_tsss.fif.gz or _meg.fif\n",
      "  self._preprocessed_raw = mne.io.read_raw_fif(self.get_path(\"preprocessed_raw\"), verbose=self.verbose)\n"
     ]
    },
    {
     "name": "stdout",
     "output_type": "stream",
     "text": [
      "    Range : 0 ... 253499 =      0.000 ...   506.998 secs\n",
      "Ready.\n",
      "388 matching events found\n",
      "No baseline correction applied\n",
      "Not setting metadata\n",
      "0 projection items activated\n",
      "Loading data for 388 events and 500 original time points ...\n",
      "166 bad epochs dropped\n",
      "Overwriting existing file.\n",
      "Reading /home/christian/synchedout/eegip/eegip/tests/test_artifacts/derivatives/eegip_london_preprocessed/sub-s721/ses-m06/mod/sub-s721_ses-m06_epo.fif ...\n",
      "    Found the data of interest:\n",
      "        t =    -200.00 ...     798.00 ms\n",
      "        0 CTF compensation matrices available\n",
      "222 matching events found\n",
      "No baseline correction applied\n",
      "Not setting metadata\n",
      "0 projection items activated\n",
      "Reading /home/christian/synchedout/eegip/eegip/tests/test_artifacts/derivatives/eegip_london_preprocessed/sub-s721/ses-m06/mod/sub-s721_ses-m06_epo.fif ...\n",
      "    Found the data of interest:\n",
      "        t =    -200.00 ...     798.00 ms\n",
      "        0 CTF compensation matrices available\n",
      "222 matching events found\n",
      "No baseline correction applied\n",
      "Not setting metadata\n",
      "0 projection items activated\n",
      "Reading /home/christian/synchedout/eegip/eegip/tests/test_artifacts/derivatives/eegip_london_preprocessed/sub-s721/ses-m06/mod/sub-s721_ses-m06_epo.fif ...\n",
      "    Found the data of interest:\n",
      "        t =    -200.00 ...     798.00 ms\n",
      "        0 CTF compensation matrices available\n",
      "222 matching events found\n",
      "No baseline correction applied\n",
      "Not setting metadata\n",
      "0 projection items activated\n",
      "Opening raw data file /home/christian/synchedout/eegip/eegip/tests/test_artifacts/derivatives/eegip_london_preprocessed/sub-s722/ses-m06/eeg/sub-s722_ses-m06_eeg.fif...\n"
     ]
    },
    {
     "name": "stderr",
     "output_type": "stream",
     "text": [
      "/home/christian/synchedout/eegip/eegip/recording.py:209: RuntimeWarning: This filename (/home/christian/synchedout/eegip/eegip/tests/test_artifacts/derivatives/eegip_london_preprocessed/sub-s722/ses-m06/eeg/sub-s722_ses-m06_eeg.fif) does not conform to MNE naming conventions. All raw files should end with raw.fif, raw_sss.fif, raw_tsss.fif, raw.fif.gz, raw_sss.fif.gz, raw_tsss.fif.gz or _meg.fif\n",
      "  self._preprocessed_raw = mne.io.read_raw_fif(self.get_path(\"preprocessed_raw\"), verbose=self.verbose)\n"
     ]
    },
    {
     "name": "stdout",
     "output_type": "stream",
     "text": [
      "    Range : 0 ... 338999 =      0.000 ...   677.998 secs\n",
      "Ready.\n",
      "569 matching events found\n",
      "No baseline correction applied\n",
      "Not setting metadata\n",
      "0 projection items activated\n",
      "Loading data for 569 events and 500 original time points ...\n",
      "203 bad epochs dropped\n",
      "Overwriting existing file.\n",
      "Reading /home/christian/synchedout/eegip/eegip/tests/test_artifacts/derivatives/eegip_london_preprocessed/sub-s722/ses-m06/mod/sub-s722_ses-m06_epo.fif ...\n",
      "    Found the data of interest:\n",
      "        t =    -200.00 ...     798.00 ms\n",
      "        0 CTF compensation matrices available\n",
      "366 matching events found\n",
      "No baseline correction applied\n",
      "Not setting metadata\n",
      "0 projection items activated\n",
      "Reading /home/christian/synchedout/eegip/eegip/tests/test_artifacts/derivatives/eegip_london_preprocessed/sub-s722/ses-m06/mod/sub-s722_ses-m06_epo.fif ...\n",
      "    Found the data of interest:\n",
      "        t =    -200.00 ...     798.00 ms\n",
      "        0 CTF compensation matrices available\n",
      "366 matching events found\n",
      "No baseline correction applied\n",
      "Not setting metadata\n",
      "0 projection items activated\n",
      "Reading /home/christian/synchedout/eegip/eegip/tests/test_artifacts/derivatives/eegip_london_preprocessed/sub-s722/ses-m06/mod/sub-s722_ses-m06_epo.fif ...\n",
      "    Found the data of interest:\n",
      "        t =    -200.00 ...     798.00 ms\n",
      "        0 CTF compensation matrices available\n",
      "366 matching events found\n",
      "No baseline correction applied\n",
      "Not setting metadata\n",
      "0 projection items activated\n",
      "Opening raw data file /home/christian/synchedout/eegip/eegip/tests/test_artifacts/derivatives/eegip_london_preprocessed/sub-s723/ses-m06/eeg/sub-s723_ses-m06_eeg.fif...\n"
     ]
    },
    {
     "name": "stderr",
     "output_type": "stream",
     "text": [
      "/home/christian/synchedout/eegip/eegip/recording.py:209: RuntimeWarning: This filename (/home/christian/synchedout/eegip/eegip/tests/test_artifacts/derivatives/eegip_london_preprocessed/sub-s723/ses-m06/eeg/sub-s723_ses-m06_eeg.fif) does not conform to MNE naming conventions. All raw files should end with raw.fif, raw_sss.fif, raw_tsss.fif, raw.fif.gz, raw_sss.fif.gz, raw_tsss.fif.gz or _meg.fif\n",
      "  self._preprocessed_raw = mne.io.read_raw_fif(self.get_path(\"preprocessed_raw\"), verbose=self.verbose)\n"
     ]
    },
    {
     "name": "stdout",
     "output_type": "stream",
     "text": [
      "    Range : 0 ... 269999 =      0.000 ...   539.998 secs\n",
      "Ready.\n",
      "393 matching events found\n",
      "No baseline correction applied\n",
      "Not setting metadata\n",
      "0 projection items activated\n",
      "Loading data for 393 events and 500 original time points ...\n",
      "254 bad epochs dropped\n",
      "Overwriting existing file.\n",
      "Reading /home/christian/synchedout/eegip/eegip/tests/test_artifacts/derivatives/eegip_london_preprocessed/sub-s723/ses-m06/mod/sub-s723_ses-m06_epo.fif ...\n",
      "    Found the data of interest:\n",
      "        t =    -200.00 ...     798.00 ms\n",
      "        0 CTF compensation matrices available\n",
      "139 matching events found\n",
      "No baseline correction applied\n",
      "Not setting metadata\n",
      "0 projection items activated\n",
      "Reading /home/christian/synchedout/eegip/eegip/tests/test_artifacts/derivatives/eegip_london_preprocessed/sub-s723/ses-m06/mod/sub-s723_ses-m06_epo.fif ...\n",
      "    Found the data of interest:\n",
      "        t =    -200.00 ...     798.00 ms\n",
      "        0 CTF compensation matrices available\n",
      "139 matching events found\n",
      "No baseline correction applied\n",
      "Not setting metadata\n",
      "0 projection items activated\n",
      "Reading /home/christian/synchedout/eegip/eegip/tests/test_artifacts/derivatives/eegip_london_preprocessed/sub-s723/ses-m06/mod/sub-s723_ses-m06_epo.fif ...\n",
      "    Found the data of interest:\n",
      "        t =    -200.00 ...     798.00 ms\n",
      "        0 CTF compensation matrices available\n",
      "139 matching events found\n",
      "No baseline correction applied\n",
      "Not setting metadata\n",
      "0 projection items activated\n",
      "Opening raw data file /home/christian/synchedout/eegip/eegip/tests/test_artifacts/derivatives/eegip_london_preprocessed/sub-s724/ses-m06/eeg/sub-s724_ses-m06_eeg.fif...\n"
     ]
    },
    {
     "name": "stderr",
     "output_type": "stream",
     "text": [
      "/home/christian/synchedout/eegip/eegip/recording.py:209: RuntimeWarning: This filename (/home/christian/synchedout/eegip/eegip/tests/test_artifacts/derivatives/eegip_london_preprocessed/sub-s724/ses-m06/eeg/sub-s724_ses-m06_eeg.fif) does not conform to MNE naming conventions. All raw files should end with raw.fif, raw_sss.fif, raw_tsss.fif, raw.fif.gz, raw_sss.fif.gz, raw_tsss.fif.gz or _meg.fif\n",
      "  self._preprocessed_raw = mne.io.read_raw_fif(self.get_path(\"preprocessed_raw\"), verbose=self.verbose)\n"
     ]
    },
    {
     "name": "stdout",
     "output_type": "stream",
     "text": [
      "    Range : 0 ... 176499 =      0.000 ...   352.998 secs\n",
      "Ready.\n",
      "317 matching events found\n",
      "No baseline correction applied\n",
      "Not setting metadata\n",
      "0 projection items activated\n",
      "Loading data for 317 events and 500 original time points ...\n",
      "135 bad epochs dropped\n",
      "Overwriting existing file.\n",
      "Reading /home/christian/synchedout/eegip/eegip/tests/test_artifacts/derivatives/eegip_london_preprocessed/sub-s724/ses-m06/mod/sub-s724_ses-m06_epo.fif ...\n",
      "    Found the data of interest:\n",
      "        t =    -200.00 ...     798.00 ms\n",
      "        0 CTF compensation matrices available\n",
      "182 matching events found\n",
      "No baseline correction applied\n",
      "Not setting metadata\n",
      "0 projection items activated\n",
      "Reading /home/christian/synchedout/eegip/eegip/tests/test_artifacts/derivatives/eegip_london_preprocessed/sub-s724/ses-m06/mod/sub-s724_ses-m06_epo.fif ...\n",
      "    Found the data of interest:\n",
      "        t =    -200.00 ...     798.00 ms\n",
      "        0 CTF compensation matrices available\n",
      "182 matching events found\n",
      "No baseline correction applied\n",
      "Not setting metadata\n",
      "0 projection items activated\n",
      "Reading /home/christian/synchedout/eegip/eegip/tests/test_artifacts/derivatives/eegip_london_preprocessed/sub-s724/ses-m06/mod/sub-s724_ses-m06_epo.fif ...\n",
      "    Found the data of interest:\n",
      "        t =    -200.00 ...     798.00 ms\n",
      "        0 CTF compensation matrices available\n",
      "182 matching events found\n",
      "No baseline correction applied\n",
      "Not setting metadata\n",
      "0 projection items activated\n",
      "Opening raw data file /home/christian/synchedout/eegip/eegip/tests/test_artifacts/derivatives/eegip_london_preprocessed/sub-s725/ses-m06/eeg/sub-s725_ses-m06_eeg.fif...\n"
     ]
    },
    {
     "name": "stderr",
     "output_type": "stream",
     "text": [
      "/home/christian/synchedout/eegip/eegip/recording.py:209: RuntimeWarning: This filename (/home/christian/synchedout/eegip/eegip/tests/test_artifacts/derivatives/eegip_london_preprocessed/sub-s725/ses-m06/eeg/sub-s725_ses-m06_eeg.fif) does not conform to MNE naming conventions. All raw files should end with raw.fif, raw_sss.fif, raw_tsss.fif, raw.fif.gz, raw_sss.fif.gz, raw_tsss.fif.gz or _meg.fif\n",
      "  self._preprocessed_raw = mne.io.read_raw_fif(self.get_path(\"preprocessed_raw\"), verbose=self.verbose)\n"
     ]
    },
    {
     "name": "stdout",
     "output_type": "stream",
     "text": [
      "    Range : 0 ... 204999 =      0.000 ...   409.998 secs\n",
      "Ready.\n",
      "330 matching events found\n",
      "No baseline correction applied\n",
      "Not setting metadata\n",
      "0 projection items activated\n",
      "Loading data for 330 events and 500 original time points ...\n",
      "86 bad epochs dropped\n",
      "Overwriting existing file.\n",
      "Reading /home/christian/synchedout/eegip/eegip/tests/test_artifacts/derivatives/eegip_london_preprocessed/sub-s725/ses-m06/mod/sub-s725_ses-m06_epo.fif ...\n",
      "    Found the data of interest:\n",
      "        t =    -200.00 ...     798.00 ms\n",
      "        0 CTF compensation matrices available\n",
      "244 matching events found\n",
      "No baseline correction applied\n",
      "Not setting metadata\n",
      "0 projection items activated\n",
      "Reading /home/christian/synchedout/eegip/eegip/tests/test_artifacts/derivatives/eegip_london_preprocessed/sub-s725/ses-m06/mod/sub-s725_ses-m06_epo.fif ...\n",
      "    Found the data of interest:\n",
      "        t =    -200.00 ...     798.00 ms\n",
      "        0 CTF compensation matrices available\n",
      "244 matching events found\n",
      "No baseline correction applied\n",
      "Not setting metadata\n",
      "0 projection items activated\n",
      "Reading /home/christian/synchedout/eegip/eegip/tests/test_artifacts/derivatives/eegip_london_preprocessed/sub-s725/ses-m06/mod/sub-s725_ses-m06_epo.fif ...\n",
      "    Found the data of interest:\n",
      "        t =    -200.00 ...     798.00 ms\n",
      "        0 CTF compensation matrices available\n",
      "244 matching events found\n",
      "No baseline correction applied\n",
      "Not setting metadata\n",
      "0 projection items activated\n",
      "Opening raw data file /home/christian/synchedout/eegip/eegip/tests/test_artifacts/derivatives/eegip_london_preprocessed/sub-s726/ses-m06/eeg/sub-s726_ses-m06_eeg.fif...\n",
      "    Range : 0 ... 254499 =      0.000 ...   508.998 secs\n",
      "Ready.\n",
      "379 matching events found\n",
      "No baseline correction applied\n",
      "Not setting metadata\n",
      "0 projection items activated\n",
      "Loading data for 379 events and 500 original time points ...\n"
     ]
    },
    {
     "name": "stderr",
     "output_type": "stream",
     "text": [
      "/home/christian/synchedout/eegip/eegip/recording.py:209: RuntimeWarning: This filename (/home/christian/synchedout/eegip/eegip/tests/test_artifacts/derivatives/eegip_london_preprocessed/sub-s726/ses-m06/eeg/sub-s726_ses-m06_eeg.fif) does not conform to MNE naming conventions. All raw files should end with raw.fif, raw_sss.fif, raw_tsss.fif, raw.fif.gz, raw_sss.fif.gz, raw_tsss.fif.gz or _meg.fif\n",
      "  self._preprocessed_raw = mne.io.read_raw_fif(self.get_path(\"preprocessed_raw\"), verbose=self.verbose)\n"
     ]
    },
    {
     "name": "stdout",
     "output_type": "stream",
     "text": [
      "229 bad epochs dropped\n",
      "Overwriting existing file.\n",
      "Reading /home/christian/synchedout/eegip/eegip/tests/test_artifacts/derivatives/eegip_london_preprocessed/sub-s726/ses-m06/mod/sub-s726_ses-m06_epo.fif ...\n",
      "    Found the data of interest:\n",
      "        t =    -200.00 ...     798.00 ms\n",
      "        0 CTF compensation matrices available\n",
      "150 matching events found\n",
      "No baseline correction applied\n",
      "Not setting metadata\n",
      "0 projection items activated\n",
      "Reading /home/christian/synchedout/eegip/eegip/tests/test_artifacts/derivatives/eegip_london_preprocessed/sub-s726/ses-m06/mod/sub-s726_ses-m06_epo.fif ...\n",
      "    Found the data of interest:\n",
      "        t =    -200.00 ...     798.00 ms\n",
      "        0 CTF compensation matrices available\n",
      "150 matching events found\n",
      "No baseline correction applied\n",
      "Not setting metadata\n",
      "0 projection items activated\n",
      "Reading /home/christian/synchedout/eegip/eegip/tests/test_artifacts/derivatives/eegip_london_preprocessed/sub-s726/ses-m06/mod/sub-s726_ses-m06_epo.fif ...\n",
      "    Found the data of interest:\n",
      "        t =    -200.00 ...     798.00 ms\n",
      "        0 CTF compensation matrices available\n",
      "150 matching events found\n",
      "No baseline correction applied\n",
      "Not setting metadata\n",
      "0 projection items activated\n",
      "Opening raw data file /home/christian/synchedout/eegip/eegip/tests/test_artifacts/derivatives/eegip_london_preprocessed/sub-s727/ses-m06/eeg/sub-s727_ses-m06_eeg.fif...\n",
      "    Range : 0 ... 67999 =      0.000 ...   135.998 secs\n",
      "Ready.\n",
      "78 matching events found\n",
      "No baseline correction applied\n",
      "Not setting metadata\n",
      "0 projection items activated\n",
      "Loading data for 78 events and 500 original time points ...\n",
      "48 bad epochs dropped\n",
      "Overwriting existing file.\n"
     ]
    },
    {
     "name": "stderr",
     "output_type": "stream",
     "text": [
      "/home/christian/synchedout/eegip/eegip/recording.py:209: RuntimeWarning: This filename (/home/christian/synchedout/eegip/eegip/tests/test_artifacts/derivatives/eegip_london_preprocessed/sub-s727/ses-m06/eeg/sub-s727_ses-m06_eeg.fif) does not conform to MNE naming conventions. All raw files should end with raw.fif, raw_sss.fif, raw_tsss.fif, raw.fif.gz, raw_sss.fif.gz, raw_tsss.fif.gz or _meg.fif\n",
      "  self._preprocessed_raw = mne.io.read_raw_fif(self.get_path(\"preprocessed_raw\"), verbose=self.verbose)\n"
     ]
    },
    {
     "name": "stdout",
     "output_type": "stream",
     "text": [
      "Reading /home/christian/synchedout/eegip/eegip/tests/test_artifacts/derivatives/eegip_london_preprocessed/sub-s727/ses-m06/mod/sub-s727_ses-m06_epo.fif ...\n",
      "    Found the data of interest:\n",
      "        t =    -200.00 ...     798.00 ms\n",
      "        0 CTF compensation matrices available\n",
      "30 matching events found\n",
      "No baseline correction applied\n",
      "Not setting metadata\n",
      "0 projection items activated\n",
      "Reading /home/christian/synchedout/eegip/eegip/tests/test_artifacts/derivatives/eegip_london_preprocessed/sub-s727/ses-m06/mod/sub-s727_ses-m06_epo.fif ...\n",
      "    Found the data of interest:\n",
      "        t =    -200.00 ...     798.00 ms\n",
      "        0 CTF compensation matrices available\n",
      "30 matching events found\n",
      "No baseline correction applied\n",
      "Not setting metadata\n",
      "0 projection items activated\n",
      "Reading /home/christian/synchedout/eegip/eegip/tests/test_artifacts/derivatives/eegip_london_preprocessed/sub-s727/ses-m06/mod/sub-s727_ses-m06_epo.fif ...\n",
      "    Found the data of interest:\n",
      "        t =    -200.00 ...     798.00 ms\n",
      "        0 CTF compensation matrices available\n",
      "30 matching events found\n",
      "No baseline correction applied\n",
      "Not setting metadata\n",
      "0 projection items activated\n",
      "Opening raw data file /home/christian/synchedout/eegip/eegip/tests/test_artifacts/derivatives/eegip_london_preprocessed/sub-s728/ses-m06/eeg/sub-s728_ses-m06_eeg.fif...\n",
      "    Range : 0 ... 232999 =      0.000 ...   465.998 secs\n",
      "Ready.\n",
      "373 matching events found\n",
      "No baseline correction applied\n",
      "Not setting metadata\n",
      "0 projection items activated\n",
      "Loading data for 373 events and 500 original time points ...\n"
     ]
    },
    {
     "name": "stderr",
     "output_type": "stream",
     "text": [
      "/home/christian/synchedout/eegip/eegip/recording.py:209: RuntimeWarning: This filename (/home/christian/synchedout/eegip/eegip/tests/test_artifacts/derivatives/eegip_london_preprocessed/sub-s728/ses-m06/eeg/sub-s728_ses-m06_eeg.fif) does not conform to MNE naming conventions. All raw files should end with raw.fif, raw_sss.fif, raw_tsss.fif, raw.fif.gz, raw_sss.fif.gz, raw_tsss.fif.gz or _meg.fif\n",
      "  self._preprocessed_raw = mne.io.read_raw_fif(self.get_path(\"preprocessed_raw\"), verbose=self.verbose)\n"
     ]
    },
    {
     "name": "stdout",
     "output_type": "stream",
     "text": [
      "120 bad epochs dropped\n",
      "Overwriting existing file.\n",
      "Reading /home/christian/synchedout/eegip/eegip/tests/test_artifacts/derivatives/eegip_london_preprocessed/sub-s728/ses-m06/mod/sub-s728_ses-m06_epo.fif ...\n",
      "    Found the data of interest:\n",
      "        t =    -200.00 ...     798.00 ms\n",
      "        0 CTF compensation matrices available\n",
      "253 matching events found\n",
      "No baseline correction applied\n",
      "Not setting metadata\n",
      "0 projection items activated\n",
      "Reading /home/christian/synchedout/eegip/eegip/tests/test_artifacts/derivatives/eegip_london_preprocessed/sub-s728/ses-m06/mod/sub-s728_ses-m06_epo.fif ...\n",
      "    Found the data of interest:\n",
      "        t =    -200.00 ...     798.00 ms\n",
      "        0 CTF compensation matrices available\n",
      "253 matching events found\n",
      "No baseline correction applied\n",
      "Not setting metadata\n",
      "0 projection items activated\n",
      "Reading /home/christian/synchedout/eegip/eegip/tests/test_artifacts/derivatives/eegip_london_preprocessed/sub-s728/ses-m06/mod/sub-s728_ses-m06_epo.fif ...\n",
      "    Found the data of interest:\n",
      "        t =    -200.00 ...     798.00 ms\n",
      "        0 CTF compensation matrices available\n",
      "253 matching events found\n",
      "No baseline correction applied\n",
      "Not setting metadata\n",
      "0 projection items activated\n",
      "Opening raw data file /home/christian/synchedout/eegip/eegip/tests/test_artifacts/derivatives/eegip_london_preprocessed/sub-s729/ses-m06/eeg/sub-s729_ses-m06_eeg.fif...\n",
      "    Range : 0 ... 197499 =      0.000 ...   394.998 secs\n",
      "Ready.\n",
      "276 matching events found\n",
      "No baseline correction applied\n",
      "Not setting metadata\n",
      "0 projection items activated\n",
      "Loading data for 276 events and 500 original time points ...\n"
     ]
    },
    {
     "name": "stderr",
     "output_type": "stream",
     "text": [
      "/home/christian/synchedout/eegip/eegip/recording.py:209: RuntimeWarning: This filename (/home/christian/synchedout/eegip/eegip/tests/test_artifacts/derivatives/eegip_london_preprocessed/sub-s729/ses-m06/eeg/sub-s729_ses-m06_eeg.fif) does not conform to MNE naming conventions. All raw files should end with raw.fif, raw_sss.fif, raw_tsss.fif, raw.fif.gz, raw_sss.fif.gz, raw_tsss.fif.gz or _meg.fif\n",
      "  self._preprocessed_raw = mne.io.read_raw_fif(self.get_path(\"preprocessed_raw\"), verbose=self.verbose)\n"
     ]
    },
    {
     "name": "stdout",
     "output_type": "stream",
     "text": [
      "212 bad epochs dropped\n",
      "Overwriting existing file.\n",
      "Reading /home/christian/synchedout/eegip/eegip/tests/test_artifacts/derivatives/eegip_london_preprocessed/sub-s729/ses-m06/mod/sub-s729_ses-m06_epo.fif ...\n",
      "    Found the data of interest:\n",
      "        t =    -200.00 ...     798.00 ms\n",
      "        0 CTF compensation matrices available\n",
      "64 matching events found\n",
      "No baseline correction applied\n",
      "Not setting metadata\n",
      "0 projection items activated\n",
      "Reading /home/christian/synchedout/eegip/eegip/tests/test_artifacts/derivatives/eegip_london_preprocessed/sub-s729/ses-m06/mod/sub-s729_ses-m06_epo.fif ...\n",
      "    Found the data of interest:\n",
      "        t =    -200.00 ...     798.00 ms\n",
      "        0 CTF compensation matrices available\n",
      "64 matching events found\n",
      "No baseline correction applied\n",
      "Not setting metadata\n",
      "0 projection items activated\n",
      "Reading /home/christian/synchedout/eegip/eegip/tests/test_artifacts/derivatives/eegip_london_preprocessed/sub-s729/ses-m06/mod/sub-s729_ses-m06_epo.fif ...\n",
      "    Found the data of interest:\n",
      "        t =    -200.00 ...     798.00 ms\n",
      "        0 CTF compensation matrices available\n",
      "64 matching events found\n",
      "No baseline correction applied\n",
      "Not setting metadata\n",
      "0 projection items activated\n",
      "Opening raw data file /home/christian/synchedout/eegip/eegip/tests/test_artifacts/derivatives/eegip_london_preprocessed/sub-s730/ses-m06/eeg/sub-s730_ses-m06_eeg.fif...\n",
      "    Range : 0 ... 142499 =      0.000 ...   284.998 secs\n",
      "Ready.\n",
      "178 matching events found\n",
      "No baseline correction applied\n",
      "Not setting metadata\n",
      "0 projection items activated\n",
      "Loading data for 178 events and 500 original time points ...\n"
     ]
    },
    {
     "name": "stderr",
     "output_type": "stream",
     "text": [
      "/home/christian/synchedout/eegip/eegip/recording.py:209: RuntimeWarning: This filename (/home/christian/synchedout/eegip/eegip/tests/test_artifacts/derivatives/eegip_london_preprocessed/sub-s730/ses-m06/eeg/sub-s730_ses-m06_eeg.fif) does not conform to MNE naming conventions. All raw files should end with raw.fif, raw_sss.fif, raw_tsss.fif, raw.fif.gz, raw_sss.fif.gz, raw_tsss.fif.gz or _meg.fif\n",
      "  self._preprocessed_raw = mne.io.read_raw_fif(self.get_path(\"preprocessed_raw\"), verbose=self.verbose)\n"
     ]
    },
    {
     "name": "stdout",
     "output_type": "stream",
     "text": [
      "74 bad epochs dropped\n",
      "Overwriting existing file.\n",
      "Reading /home/christian/synchedout/eegip/eegip/tests/test_artifacts/derivatives/eegip_london_preprocessed/sub-s730/ses-m06/mod/sub-s730_ses-m06_epo.fif ...\n",
      "    Found the data of interest:\n",
      "        t =    -200.00 ...     798.00 ms\n",
      "        0 CTF compensation matrices available\n",
      "104 matching events found\n",
      "No baseline correction applied\n",
      "Not setting metadata\n",
      "0 projection items activated\n",
      "Reading /home/christian/synchedout/eegip/eegip/tests/test_artifacts/derivatives/eegip_london_preprocessed/sub-s730/ses-m06/mod/sub-s730_ses-m06_epo.fif ...\n",
      "    Found the data of interest:\n",
      "        t =    -200.00 ...     798.00 ms\n",
      "        0 CTF compensation matrices available\n",
      "104 matching events found\n",
      "No baseline correction applied\n",
      "Not setting metadata\n",
      "0 projection items activated\n",
      "Reading /home/christian/synchedout/eegip/eegip/tests/test_artifacts/derivatives/eegip_london_preprocessed/sub-s730/ses-m06/mod/sub-s730_ses-m06_epo.fif ...\n",
      "    Found the data of interest:\n",
      "        t =    -200.00 ...     798.00 ms\n",
      "        0 CTF compensation matrices available\n",
      "104 matching events found\n",
      "No baseline correction applied\n",
      "Not setting metadata\n",
      "0 projection items activated\n",
      "Opening raw data file /home/christian/synchedout/eegip/eegip/tests/test_artifacts/derivatives/eegip_london_preprocessed/sub-s731/ses-m06/eeg/sub-s731_ses-m06_eeg.fif...\n"
     ]
    },
    {
     "name": "stderr",
     "output_type": "stream",
     "text": [
      "/home/christian/synchedout/eegip/eegip/recording.py:209: RuntimeWarning: This filename (/home/christian/synchedout/eegip/eegip/tests/test_artifacts/derivatives/eegip_london_preprocessed/sub-s731/ses-m06/eeg/sub-s731_ses-m06_eeg.fif) does not conform to MNE naming conventions. All raw files should end with raw.fif, raw_sss.fif, raw_tsss.fif, raw.fif.gz, raw_sss.fif.gz, raw_tsss.fif.gz or _meg.fif\n",
      "  self._preprocessed_raw = mne.io.read_raw_fif(self.get_path(\"preprocessed_raw\"), verbose=self.verbose)\n"
     ]
    },
    {
     "name": "stdout",
     "output_type": "stream",
     "text": [
      "    Range : 0 ... 141999 =      0.000 ...   283.998 secs\n",
      "Ready.\n",
      "180 matching events found\n",
      "No baseline correction applied\n",
      "Not setting metadata\n",
      "0 projection items activated\n",
      "Loading data for 180 events and 500 original time points ...\n",
      "120 bad epochs dropped\n",
      "Overwriting existing file.\n",
      "Reading /home/christian/synchedout/eegip/eegip/tests/test_artifacts/derivatives/eegip_london_preprocessed/sub-s731/ses-m06/mod/sub-s731_ses-m06_epo.fif ...\n",
      "    Found the data of interest:\n",
      "        t =    -200.00 ...     798.00 ms\n",
      "        0 CTF compensation matrices available\n",
      "60 matching events found\n",
      "No baseline correction applied\n",
      "Not setting metadata\n",
      "0 projection items activated\n",
      "Reading /home/christian/synchedout/eegip/eegip/tests/test_artifacts/derivatives/eegip_london_preprocessed/sub-s731/ses-m06/mod/sub-s731_ses-m06_epo.fif ...\n",
      "    Found the data of interest:\n",
      "        t =    -200.00 ...     798.00 ms\n",
      "        0 CTF compensation matrices available\n",
      "60 matching events found\n",
      "No baseline correction applied\n",
      "Not setting metadata\n",
      "0 projection items activated\n",
      "Reading /home/christian/synchedout/eegip/eegip/tests/test_artifacts/derivatives/eegip_london_preprocessed/sub-s731/ses-m06/mod/sub-s731_ses-m06_epo.fif ...\n",
      "    Found the data of interest:\n",
      "        t =    -200.00 ...     798.00 ms\n",
      "        0 CTF compensation matrices available\n",
      "60 matching events found\n",
      "No baseline correction applied\n",
      "Not setting metadata\n",
      "0 projection items activated\n",
      "Opening raw data file /home/christian/synchedout/eegip/eegip/tests/test_artifacts/derivatives/eegip_london_preprocessed/sub-s732/ses-m06/eeg/sub-s732_ses-m06_eeg.fif...\n",
      "    Range : 0 ... 281499 =      0.000 ...   562.998 secs\n",
      "Ready.\n",
      "475 matching events found\n",
      "No baseline correction applied\n",
      "Not setting metadata\n",
      "0 projection items activated\n",
      "Loading data for 475 events and 500 original time points ...\n"
     ]
    },
    {
     "name": "stderr",
     "output_type": "stream",
     "text": [
      "/home/christian/anaconda3/lib/python3.7/site-packages/sklearn/decomposition/_fastica.py:119: ConvergenceWarning: FastICA did not converge. Consider increasing tolerance or the maximum number of iterations.\n",
      "  ConvergenceWarning)\n",
      "/home/christian/synchedout/eegip/eegip/recording.py:209: RuntimeWarning: This filename (/home/christian/synchedout/eegip/eegip/tests/test_artifacts/derivatives/eegip_london_preprocessed/sub-s732/ses-m06/eeg/sub-s732_ses-m06_eeg.fif) does not conform to MNE naming conventions. All raw files should end with raw.fif, raw_sss.fif, raw_tsss.fif, raw.fif.gz, raw_sss.fif.gz, raw_tsss.fif.gz or _meg.fif\n",
      "  self._preprocessed_raw = mne.io.read_raw_fif(self.get_path(\"preprocessed_raw\"), verbose=self.verbose)\n"
     ]
    },
    {
     "name": "stdout",
     "output_type": "stream",
     "text": [
      "321 bad epochs dropped\n",
      "Overwriting existing file.\n",
      "Reading /home/christian/synchedout/eegip/eegip/tests/test_artifacts/derivatives/eegip_london_preprocessed/sub-s732/ses-m06/mod/sub-s732_ses-m06_epo.fif ...\n",
      "    Found the data of interest:\n",
      "        t =    -200.00 ...     798.00 ms\n",
      "        0 CTF compensation matrices available\n",
      "154 matching events found\n",
      "No baseline correction applied\n",
      "Not setting metadata\n",
      "0 projection items activated\n",
      "Reading /home/christian/synchedout/eegip/eegip/tests/test_artifacts/derivatives/eegip_london_preprocessed/sub-s732/ses-m06/mod/sub-s732_ses-m06_epo.fif ...\n",
      "    Found the data of interest:\n",
      "        t =    -200.00 ...     798.00 ms\n",
      "        0 CTF compensation matrices available\n",
      "154 matching events found\n",
      "No baseline correction applied\n",
      "Not setting metadata\n",
      "0 projection items activated\n",
      "Reading /home/christian/synchedout/eegip/eegip/tests/test_artifacts/derivatives/eegip_london_preprocessed/sub-s732/ses-m06/mod/sub-s732_ses-m06_epo.fif ...\n",
      "    Found the data of interest:\n",
      "        t =    -200.00 ...     798.00 ms\n",
      "        0 CTF compensation matrices available\n",
      "154 matching events found\n",
      "No baseline correction applied\n",
      "Not setting metadata\n",
      "0 projection items activated\n",
      "Opening raw data file /home/christian/synchedout/eegip/eegip/tests/test_artifacts/derivatives/eegip_london_preprocessed/sub-s733/ses-m06/eeg/sub-s733_ses-m06_eeg.fif...\n",
      "    Range : 0 ... 262499 =      0.000 ...   524.998 secs\n",
      "Ready.\n",
      "399 matching events found\n",
      "No baseline correction applied\n",
      "Not setting metadata\n",
      "0 projection items activated\n",
      "Loading data for 399 events and 500 original time points ...\n"
     ]
    },
    {
     "name": "stderr",
     "output_type": "stream",
     "text": [
      "/home/christian/synchedout/eegip/eegip/recording.py:209: RuntimeWarning: This filename (/home/christian/synchedout/eegip/eegip/tests/test_artifacts/derivatives/eegip_london_preprocessed/sub-s733/ses-m06/eeg/sub-s733_ses-m06_eeg.fif) does not conform to MNE naming conventions. All raw files should end with raw.fif, raw_sss.fif, raw_tsss.fif, raw.fif.gz, raw_sss.fif.gz, raw_tsss.fif.gz or _meg.fif\n",
      "  self._preprocessed_raw = mne.io.read_raw_fif(self.get_path(\"preprocessed_raw\"), verbose=self.verbose)\n"
     ]
    },
    {
     "name": "stdout",
     "output_type": "stream",
     "text": [
      "83 bad epochs dropped\n",
      "Overwriting existing file.\n",
      "Reading /home/christian/synchedout/eegip/eegip/tests/test_artifacts/derivatives/eegip_london_preprocessed/sub-s733/ses-m06/mod/sub-s733_ses-m06_epo.fif ...\n",
      "    Found the data of interest:\n",
      "        t =    -200.00 ...     798.00 ms\n",
      "        0 CTF compensation matrices available\n",
      "316 matching events found\n",
      "No baseline correction applied\n",
      "Not setting metadata\n",
      "0 projection items activated\n",
      "Reading /home/christian/synchedout/eegip/eegip/tests/test_artifacts/derivatives/eegip_london_preprocessed/sub-s733/ses-m06/mod/sub-s733_ses-m06_epo.fif ...\n",
      "    Found the data of interest:\n",
      "        t =    -200.00 ...     798.00 ms\n",
      "        0 CTF compensation matrices available\n",
      "316 matching events found\n",
      "No baseline correction applied\n",
      "Not setting metadata\n",
      "0 projection items activated\n",
      "Reading /home/christian/synchedout/eegip/eegip/tests/test_artifacts/derivatives/eegip_london_preprocessed/sub-s733/ses-m06/mod/sub-s733_ses-m06_epo.fif ...\n",
      "    Found the data of interest:\n",
      "        t =    -200.00 ...     798.00 ms\n",
      "        0 CTF compensation matrices available\n",
      "316 matching events found\n",
      "No baseline correction applied\n",
      "Not setting metadata\n",
      "0 projection items activated\n",
      "Opening raw data file /home/christian/synchedout/eegip/eegip/tests/test_artifacts/derivatives/eegip_london_preprocessed/sub-s734/ses-m06/eeg/sub-s734_ses-m06_eeg.fif...\n",
      "    Range : 0 ... 157999 =      0.000 ...   315.998 secs\n",
      "Ready.\n",
      "245 matching events found\n",
      "No baseline correction applied\n",
      "Not setting metadata\n",
      "0 projection items activated\n",
      "Loading data for 245 events and 500 original time points ...\n"
     ]
    },
    {
     "name": "stderr",
     "output_type": "stream",
     "text": [
      "/home/christian/synchedout/eegip/eegip/recording.py:209: RuntimeWarning: This filename (/home/christian/synchedout/eegip/eegip/tests/test_artifacts/derivatives/eegip_london_preprocessed/sub-s734/ses-m06/eeg/sub-s734_ses-m06_eeg.fif) does not conform to MNE naming conventions. All raw files should end with raw.fif, raw_sss.fif, raw_tsss.fif, raw.fif.gz, raw_sss.fif.gz, raw_tsss.fif.gz or _meg.fif\n",
      "  self._preprocessed_raw = mne.io.read_raw_fif(self.get_path(\"preprocessed_raw\"), verbose=self.verbose)\n"
     ]
    },
    {
     "name": "stdout",
     "output_type": "stream",
     "text": [
      "123 bad epochs dropped\n",
      "Overwriting existing file.\n",
      "Reading /home/christian/synchedout/eegip/eegip/tests/test_artifacts/derivatives/eegip_london_preprocessed/sub-s734/ses-m06/mod/sub-s734_ses-m06_epo.fif ...\n",
      "    Found the data of interest:\n",
      "        t =    -200.00 ...     798.00 ms\n",
      "        0 CTF compensation matrices available\n",
      "122 matching events found\n",
      "No baseline correction applied\n",
      "Not setting metadata\n",
      "0 projection items activated\n",
      "Reading /home/christian/synchedout/eegip/eegip/tests/test_artifacts/derivatives/eegip_london_preprocessed/sub-s734/ses-m06/mod/sub-s734_ses-m06_epo.fif ...\n",
      "    Found the data of interest:\n",
      "        t =    -200.00 ...     798.00 ms\n",
      "        0 CTF compensation matrices available\n",
      "122 matching events found\n",
      "No baseline correction applied\n",
      "Not setting metadata\n",
      "0 projection items activated\n",
      "Reading /home/christian/synchedout/eegip/eegip/tests/test_artifacts/derivatives/eegip_london_preprocessed/sub-s734/ses-m06/mod/sub-s734_ses-m06_epo.fif ...\n",
      "    Found the data of interest:\n",
      "        t =    -200.00 ...     798.00 ms\n",
      "        0 CTF compensation matrices available\n",
      "122 matching events found\n",
      "No baseline correction applied\n",
      "Not setting metadata\n",
      "0 projection items activated\n",
      "Opening raw data file /home/christian/synchedout/eegip/eegip/tests/test_artifacts/derivatives/eegip_london_preprocessed/sub-s735/ses-m06/eeg/sub-s735_ses-m06_eeg.fif...\n",
      "    Range : 0 ... 136999 =      0.000 ...   273.998 secs\n",
      "Ready.\n",
      "207 matching events found\n",
      "No baseline correction applied\n",
      "Not setting metadata\n",
      "0 projection items activated\n",
      "Loading data for 207 events and 500 original time points ...\n",
      "143 bad epochs dropped\n",
      "Overwriting existing file.\n"
     ]
    },
    {
     "name": "stderr",
     "output_type": "stream",
     "text": [
      "/home/christian/synchedout/eegip/eegip/recording.py:209: RuntimeWarning: This filename (/home/christian/synchedout/eegip/eegip/tests/test_artifacts/derivatives/eegip_london_preprocessed/sub-s735/ses-m06/eeg/sub-s735_ses-m06_eeg.fif) does not conform to MNE naming conventions. All raw files should end with raw.fif, raw_sss.fif, raw_tsss.fif, raw.fif.gz, raw_sss.fif.gz, raw_tsss.fif.gz or _meg.fif\n",
      "  self._preprocessed_raw = mne.io.read_raw_fif(self.get_path(\"preprocessed_raw\"), verbose=self.verbose)\n"
     ]
    },
    {
     "name": "stdout",
     "output_type": "stream",
     "text": [
      "Reading /home/christian/synchedout/eegip/eegip/tests/test_artifacts/derivatives/eegip_london_preprocessed/sub-s735/ses-m06/mod/sub-s735_ses-m06_epo.fif ...\n",
      "    Found the data of interest:\n",
      "        t =    -200.00 ...     798.00 ms\n",
      "        0 CTF compensation matrices available\n",
      "64 matching events found\n",
      "No baseline correction applied\n",
      "Not setting metadata\n",
      "0 projection items activated\n",
      "Reading /home/christian/synchedout/eegip/eegip/tests/test_artifacts/derivatives/eegip_london_preprocessed/sub-s735/ses-m06/mod/sub-s735_ses-m06_epo.fif ...\n",
      "    Found the data of interest:\n",
      "        t =    -200.00 ...     798.00 ms\n",
      "        0 CTF compensation matrices available\n",
      "64 matching events found\n",
      "No baseline correction applied\n",
      "Not setting metadata\n",
      "0 projection items activated\n",
      "Reading /home/christian/synchedout/eegip/eegip/tests/test_artifacts/derivatives/eegip_london_preprocessed/sub-s735/ses-m06/mod/sub-s735_ses-m06_epo.fif ...\n",
      "    Found the data of interest:\n",
      "        t =    -200.00 ...     798.00 ms\n",
      "        0 CTF compensation matrices available\n",
      "64 matching events found\n",
      "No baseline correction applied\n",
      "Not setting metadata\n",
      "0 projection items activated\n",
      "Opening raw data file /home/christian/synchedout/eegip/eegip/tests/test_artifacts/derivatives/eegip_london_preprocessed/sub-s736/ses-m06/eeg/sub-s736_ses-m06_eeg.fif...\n",
      "    Range : 0 ... 207999 =      0.000 ...   415.998 secs\n",
      "Ready.\n",
      "336 matching events found\n",
      "No baseline correction applied\n",
      "Not setting metadata\n",
      "0 projection items activated\n",
      "Loading data for 336 events and 500 original time points ...\n"
     ]
    },
    {
     "name": "stderr",
     "output_type": "stream",
     "text": [
      "/home/christian/synchedout/eegip/eegip/recording.py:209: RuntimeWarning: This filename (/home/christian/synchedout/eegip/eegip/tests/test_artifacts/derivatives/eegip_london_preprocessed/sub-s736/ses-m06/eeg/sub-s736_ses-m06_eeg.fif) does not conform to MNE naming conventions. All raw files should end with raw.fif, raw_sss.fif, raw_tsss.fif, raw.fif.gz, raw_sss.fif.gz, raw_tsss.fif.gz or _meg.fif\n",
      "  self._preprocessed_raw = mne.io.read_raw_fif(self.get_path(\"preprocessed_raw\"), verbose=self.verbose)\n"
     ]
    },
    {
     "name": "stdout",
     "output_type": "stream",
     "text": [
      "113 bad epochs dropped\n",
      "Overwriting existing file.\n",
      "Reading /home/christian/synchedout/eegip/eegip/tests/test_artifacts/derivatives/eegip_london_preprocessed/sub-s736/ses-m06/mod/sub-s736_ses-m06_epo.fif ...\n",
      "    Found the data of interest:\n",
      "        t =    -200.00 ...     798.00 ms\n",
      "        0 CTF compensation matrices available\n",
      "223 matching events found\n",
      "No baseline correction applied\n",
      "Not setting metadata\n",
      "0 projection items activated\n",
      "Reading /home/christian/synchedout/eegip/eegip/tests/test_artifacts/derivatives/eegip_london_preprocessed/sub-s736/ses-m06/mod/sub-s736_ses-m06_epo.fif ...\n",
      "    Found the data of interest:\n",
      "        t =    -200.00 ...     798.00 ms\n",
      "        0 CTF compensation matrices available\n",
      "223 matching events found\n",
      "No baseline correction applied\n",
      "Not setting metadata\n",
      "0 projection items activated\n",
      "Reading /home/christian/synchedout/eegip/eegip/tests/test_artifacts/derivatives/eegip_london_preprocessed/sub-s736/ses-m06/mod/sub-s736_ses-m06_epo.fif ...\n",
      "    Found the data of interest:\n",
      "        t =    -200.00 ...     798.00 ms\n",
      "        0 CTF compensation matrices available\n",
      "223 matching events found\n",
      "No baseline correction applied\n",
      "Not setting metadata\n",
      "0 projection items activated\n",
      "Opening raw data file /home/christian/synchedout/eegip/eegip/tests/test_artifacts/derivatives/eegip_london_preprocessed/sub-s737/ses-m06/eeg/sub-s737_ses-m06_eeg.fif...\n",
      "    Range : 0 ... 201999 =      0.000 ...   403.998 secs\n",
      "Ready.\n",
      "324 matching events found\n",
      "No baseline correction applied\n",
      "Not setting metadata\n",
      "0 projection items activated\n",
      "Loading data for 324 events and 500 original time points ...\n"
     ]
    },
    {
     "name": "stderr",
     "output_type": "stream",
     "text": [
      "/home/christian/synchedout/eegip/eegip/recording.py:209: RuntimeWarning: This filename (/home/christian/synchedout/eegip/eegip/tests/test_artifacts/derivatives/eegip_london_preprocessed/sub-s737/ses-m06/eeg/sub-s737_ses-m06_eeg.fif) does not conform to MNE naming conventions. All raw files should end with raw.fif, raw_sss.fif, raw_tsss.fif, raw.fif.gz, raw_sss.fif.gz, raw_tsss.fif.gz or _meg.fif\n",
      "  self._preprocessed_raw = mne.io.read_raw_fif(self.get_path(\"preprocessed_raw\"), verbose=self.verbose)\n"
     ]
    },
    {
     "name": "stdout",
     "output_type": "stream",
     "text": [
      "200 bad epochs dropped\n",
      "Overwriting existing file.\n",
      "Reading /home/christian/synchedout/eegip/eegip/tests/test_artifacts/derivatives/eegip_london_preprocessed/sub-s737/ses-m06/mod/sub-s737_ses-m06_epo.fif ...\n",
      "    Found the data of interest:\n",
      "        t =    -200.00 ...     798.00 ms\n",
      "        0 CTF compensation matrices available\n",
      "124 matching events found\n",
      "No baseline correction applied\n",
      "Not setting metadata\n",
      "0 projection items activated\n",
      "Reading /home/christian/synchedout/eegip/eegip/tests/test_artifacts/derivatives/eegip_london_preprocessed/sub-s737/ses-m06/mod/sub-s737_ses-m06_epo.fif ...\n",
      "    Found the data of interest:\n",
      "        t =    -200.00 ...     798.00 ms\n",
      "        0 CTF compensation matrices available\n",
      "124 matching events found\n",
      "No baseline correction applied\n",
      "Not setting metadata\n",
      "0 projection items activated\n",
      "Reading /home/christian/synchedout/eegip/eegip/tests/test_artifacts/derivatives/eegip_london_preprocessed/sub-s737/ses-m06/mod/sub-s737_ses-m06_epo.fif ...\n",
      "    Found the data of interest:\n",
      "        t =    -200.00 ...     798.00 ms\n",
      "        0 CTF compensation matrices available\n",
      "124 matching events found\n",
      "No baseline correction applied\n",
      "Not setting metadata\n",
      "0 projection items activated\n",
      "Opening raw data file /home/christian/synchedout/eegip/eegip/tests/test_artifacts/derivatives/eegip_london_preprocessed/sub-s738/ses-m06/eeg/sub-s738_ses-m06_eeg.fif...\n",
      "    Range : 0 ... 196499 =      0.000 ...   392.998 secs\n",
      "Ready.\n",
      "315 matching events found\n",
      "No baseline correction applied\n",
      "Not setting metadata\n",
      "0 projection items activated\n",
      "Loading data for 315 events and 500 original time points ...\n"
     ]
    },
    {
     "name": "stderr",
     "output_type": "stream",
     "text": [
      "/home/christian/synchedout/eegip/eegip/recording.py:209: RuntimeWarning: This filename (/home/christian/synchedout/eegip/eegip/tests/test_artifacts/derivatives/eegip_london_preprocessed/sub-s738/ses-m06/eeg/sub-s738_ses-m06_eeg.fif) does not conform to MNE naming conventions. All raw files should end with raw.fif, raw_sss.fif, raw_tsss.fif, raw.fif.gz, raw_sss.fif.gz, raw_tsss.fif.gz or _meg.fif\n",
      "  self._preprocessed_raw = mne.io.read_raw_fif(self.get_path(\"preprocessed_raw\"), verbose=self.verbose)\n"
     ]
    },
    {
     "name": "stdout",
     "output_type": "stream",
     "text": [
      "162 bad epochs dropped\n",
      "Overwriting existing file.\n",
      "Reading /home/christian/synchedout/eegip/eegip/tests/test_artifacts/derivatives/eegip_london_preprocessed/sub-s738/ses-m06/mod/sub-s738_ses-m06_epo.fif ...\n",
      "    Found the data of interest:\n",
      "        t =    -200.00 ...     798.00 ms\n",
      "        0 CTF compensation matrices available\n",
      "153 matching events found\n",
      "No baseline correction applied\n",
      "Not setting metadata\n",
      "0 projection items activated\n",
      "Reading /home/christian/synchedout/eegip/eegip/tests/test_artifacts/derivatives/eegip_london_preprocessed/sub-s738/ses-m06/mod/sub-s738_ses-m06_epo.fif ...\n",
      "    Found the data of interest:\n",
      "        t =    -200.00 ...     798.00 ms\n",
      "        0 CTF compensation matrices available\n",
      "153 matching events found\n",
      "No baseline correction applied\n",
      "Not setting metadata\n",
      "0 projection items activated\n",
      "Reading /home/christian/synchedout/eegip/eegip/tests/test_artifacts/derivatives/eegip_london_preprocessed/sub-s738/ses-m06/mod/sub-s738_ses-m06_epo.fif ...\n",
      "    Found the data of interest:\n",
      "        t =    -200.00 ...     798.00 ms\n",
      "        0 CTF compensation matrices available\n",
      "153 matching events found\n",
      "No baseline correction applied\n",
      "Not setting metadata\n",
      "0 projection items activated\n",
      "Opening raw data file /home/christian/synchedout/eegip/eegip/tests/test_artifacts/derivatives/eegip_london_preprocessed/sub-s739/ses-m06/eeg/sub-s739_ses-m06_eeg.fif...\n",
      "    Range : 0 ... 226499 =      0.000 ...   452.998 secs\n",
      "Ready.\n",
      "326 matching events found\n",
      "No baseline correction applied\n",
      "Not setting metadata\n",
      "0 projection items activated\n",
      "Loading data for 326 events and 500 original time points ...\n"
     ]
    },
    {
     "name": "stderr",
     "output_type": "stream",
     "text": [
      "/home/christian/synchedout/eegip/eegip/recording.py:209: RuntimeWarning: This filename (/home/christian/synchedout/eegip/eegip/tests/test_artifacts/derivatives/eegip_london_preprocessed/sub-s739/ses-m06/eeg/sub-s739_ses-m06_eeg.fif) does not conform to MNE naming conventions. All raw files should end with raw.fif, raw_sss.fif, raw_tsss.fif, raw.fif.gz, raw_sss.fif.gz, raw_tsss.fif.gz or _meg.fif\n",
      "  self._preprocessed_raw = mne.io.read_raw_fif(self.get_path(\"preprocessed_raw\"), verbose=self.verbose)\n"
     ]
    },
    {
     "name": "stdout",
     "output_type": "stream",
     "text": [
      "167 bad epochs dropped\n",
      "Overwriting existing file.\n",
      "Reading /home/christian/synchedout/eegip/eegip/tests/test_artifacts/derivatives/eegip_london_preprocessed/sub-s739/ses-m06/mod/sub-s739_ses-m06_epo.fif ...\n",
      "    Found the data of interest:\n",
      "        t =    -200.00 ...     798.00 ms\n",
      "        0 CTF compensation matrices available\n",
      "159 matching events found\n",
      "No baseline correction applied\n",
      "Not setting metadata\n",
      "0 projection items activated\n",
      "Reading /home/christian/synchedout/eegip/eegip/tests/test_artifacts/derivatives/eegip_london_preprocessed/sub-s739/ses-m06/mod/sub-s739_ses-m06_epo.fif ...\n",
      "    Found the data of interest:\n",
      "        t =    -200.00 ...     798.00 ms\n",
      "        0 CTF compensation matrices available\n",
      "159 matching events found\n",
      "No baseline correction applied\n",
      "Not setting metadata\n",
      "0 projection items activated\n",
      "Reading /home/christian/synchedout/eegip/eegip/tests/test_artifacts/derivatives/eegip_london_preprocessed/sub-s739/ses-m06/mod/sub-s739_ses-m06_epo.fif ...\n",
      "    Found the data of interest:\n",
      "        t =    -200.00 ...     798.00 ms\n",
      "        0 CTF compensation matrices available\n",
      "159 matching events found\n",
      "No baseline correction applied\n",
      "Not setting metadata\n",
      "0 projection items activated\n",
      "Opening raw data file /home/christian/synchedout/eegip/eegip/tests/test_artifacts/derivatives/eegip_london_preprocessed/sub-s740/ses-m06/eeg/sub-s740_ses-m06_eeg.fif...\n",
      "    Range : 0 ... 257499 =      0.000 ...   514.998 secs\n",
      "Ready.\n",
      "387 matching events found\n",
      "No baseline correction applied\n",
      "Not setting metadata\n",
      "0 projection items activated\n",
      "Loading data for 387 events and 500 original time points ...\n"
     ]
    },
    {
     "name": "stderr",
     "output_type": "stream",
     "text": [
      "/home/christian/synchedout/eegip/eegip/recording.py:209: RuntimeWarning: This filename (/home/christian/synchedout/eegip/eegip/tests/test_artifacts/derivatives/eegip_london_preprocessed/sub-s740/ses-m06/eeg/sub-s740_ses-m06_eeg.fif) does not conform to MNE naming conventions. All raw files should end with raw.fif, raw_sss.fif, raw_tsss.fif, raw.fif.gz, raw_sss.fif.gz, raw_tsss.fif.gz or _meg.fif\n",
      "  self._preprocessed_raw = mne.io.read_raw_fif(self.get_path(\"preprocessed_raw\"), verbose=self.verbose)\n"
     ]
    },
    {
     "name": "stdout",
     "output_type": "stream",
     "text": [
      "123 bad epochs dropped\n",
      "Overwriting existing file.\n",
      "Reading /home/christian/synchedout/eegip/eegip/tests/test_artifacts/derivatives/eegip_london_preprocessed/sub-s740/ses-m06/mod/sub-s740_ses-m06_epo.fif ...\n",
      "    Found the data of interest:\n",
      "        t =    -200.00 ...     798.00 ms\n",
      "        0 CTF compensation matrices available\n",
      "264 matching events found\n",
      "No baseline correction applied\n",
      "Not setting metadata\n",
      "0 projection items activated\n",
      "Reading /home/christian/synchedout/eegip/eegip/tests/test_artifacts/derivatives/eegip_london_preprocessed/sub-s740/ses-m06/mod/sub-s740_ses-m06_epo.fif ...\n",
      "    Found the data of interest:\n",
      "        t =    -200.00 ...     798.00 ms\n",
      "        0 CTF compensation matrices available\n",
      "264 matching events found\n",
      "No baseline correction applied\n",
      "Not setting metadata\n",
      "0 projection items activated\n",
      "Reading /home/christian/synchedout/eegip/eegip/tests/test_artifacts/derivatives/eegip_london_preprocessed/sub-s740/ses-m06/mod/sub-s740_ses-m06_epo.fif ...\n",
      "    Found the data of interest:\n",
      "        t =    -200.00 ...     798.00 ms\n",
      "        0 CTF compensation matrices available\n",
      "264 matching events found\n",
      "No baseline correction applied\n",
      "Not setting metadata\n",
      "0 projection items activated\n",
      "Opening raw data file /home/christian/synchedout/eegip/eegip/tests/test_artifacts/derivatives/eegip_london_preprocessed/sub-s741/ses-m06/eeg/sub-s741_ses-m06_eeg.fif...\n",
      "    Range : 0 ... 232999 =      0.000 ...   465.998 secs\n",
      "Ready.\n",
      "262 matching events found\n",
      "No baseline correction applied\n",
      "Not setting metadata\n",
      "0 projection items activated\n",
      "Loading data for 262 events and 500 original time points ...\n"
     ]
    },
    {
     "name": "stderr",
     "output_type": "stream",
     "text": [
      "/home/christian/synchedout/eegip/eegip/recording.py:209: RuntimeWarning: This filename (/home/christian/synchedout/eegip/eegip/tests/test_artifacts/derivatives/eegip_london_preprocessed/sub-s741/ses-m06/eeg/sub-s741_ses-m06_eeg.fif) does not conform to MNE naming conventions. All raw files should end with raw.fif, raw_sss.fif, raw_tsss.fif, raw.fif.gz, raw_sss.fif.gz, raw_tsss.fif.gz or _meg.fif\n",
      "  self._preprocessed_raw = mne.io.read_raw_fif(self.get_path(\"preprocessed_raw\"), verbose=self.verbose)\n"
     ]
    },
    {
     "name": "stdout",
     "output_type": "stream",
     "text": [
      "101 bad epochs dropped\n",
      "Overwriting existing file.\n",
      "Reading /home/christian/synchedout/eegip/eegip/tests/test_artifacts/derivatives/eegip_london_preprocessed/sub-s741/ses-m06/mod/sub-s741_ses-m06_epo.fif ...\n",
      "    Found the data of interest:\n",
      "        t =    -200.00 ...     798.00 ms\n",
      "        0 CTF compensation matrices available\n",
      "161 matching events found\n",
      "No baseline correction applied\n",
      "Not setting metadata\n",
      "0 projection items activated\n",
      "Reading /home/christian/synchedout/eegip/eegip/tests/test_artifacts/derivatives/eegip_london_preprocessed/sub-s741/ses-m06/mod/sub-s741_ses-m06_epo.fif ...\n",
      "    Found the data of interest:\n",
      "        t =    -200.00 ...     798.00 ms\n",
      "        0 CTF compensation matrices available\n",
      "161 matching events found\n",
      "No baseline correction applied\n",
      "Not setting metadata\n",
      "0 projection items activated\n",
      "Reading /home/christian/synchedout/eegip/eegip/tests/test_artifacts/derivatives/eegip_london_preprocessed/sub-s741/ses-m06/mod/sub-s741_ses-m06_epo.fif ...\n",
      "    Found the data of interest:\n",
      "        t =    -200.00 ...     798.00 ms\n",
      "        0 CTF compensation matrices available\n",
      "161 matching events found\n",
      "No baseline correction applied\n",
      "Not setting metadata\n",
      "0 projection items activated\n",
      "Opening raw data file /home/christian/synchedout/eegip/eegip/tests/test_artifacts/derivatives/eegip_london_preprocessed/sub-s742/ses-m06/eeg/sub-s742_ses-m06_eeg.fif...\n",
      "    Range : 0 ... 252999 =      0.000 ...   505.998 secs\n",
      "Ready.\n",
      "419 matching events found\n",
      "No baseline correction applied\n",
      "Not setting metadata\n",
      "0 projection items activated\n",
      "Loading data for 419 events and 500 original time points ...\n"
     ]
    },
    {
     "name": "stderr",
     "output_type": "stream",
     "text": [
      "/home/christian/synchedout/eegip/eegip/recording.py:209: RuntimeWarning: This filename (/home/christian/synchedout/eegip/eegip/tests/test_artifacts/derivatives/eegip_london_preprocessed/sub-s742/ses-m06/eeg/sub-s742_ses-m06_eeg.fif) does not conform to MNE naming conventions. All raw files should end with raw.fif, raw_sss.fif, raw_tsss.fif, raw.fif.gz, raw_sss.fif.gz, raw_tsss.fif.gz or _meg.fif\n",
      "  self._preprocessed_raw = mne.io.read_raw_fif(self.get_path(\"preprocessed_raw\"), verbose=self.verbose)\n"
     ]
    },
    {
     "name": "stdout",
     "output_type": "stream",
     "text": [
      "202 bad epochs dropped\n",
      "Overwriting existing file.\n",
      "Reading /home/christian/synchedout/eegip/eegip/tests/test_artifacts/derivatives/eegip_london_preprocessed/sub-s742/ses-m06/mod/sub-s742_ses-m06_epo.fif ...\n",
      "    Found the data of interest:\n",
      "        t =    -200.00 ...     798.00 ms\n",
      "        0 CTF compensation matrices available\n",
      "217 matching events found\n",
      "No baseline correction applied\n",
      "Not setting metadata\n",
      "0 projection items activated\n",
      "Reading /home/christian/synchedout/eegip/eegip/tests/test_artifacts/derivatives/eegip_london_preprocessed/sub-s742/ses-m06/mod/sub-s742_ses-m06_epo.fif ...\n",
      "    Found the data of interest:\n",
      "        t =    -200.00 ...     798.00 ms\n",
      "        0 CTF compensation matrices available\n",
      "217 matching events found\n",
      "No baseline correction applied\n",
      "Not setting metadata\n",
      "0 projection items activated\n",
      "Reading /home/christian/synchedout/eegip/eegip/tests/test_artifacts/derivatives/eegip_london_preprocessed/sub-s742/ses-m06/mod/sub-s742_ses-m06_epo.fif ...\n",
      "    Found the data of interest:\n",
      "        t =    -200.00 ...     798.00 ms\n",
      "        0 CTF compensation matrices available\n",
      "217 matching events found\n",
      "No baseline correction applied\n",
      "Not setting metadata\n",
      "0 projection items activated\n",
      "Opening raw data file /home/christian/synchedout/eegip/eegip/tests/test_artifacts/derivatives/eegip_london_preprocessed/sub-s743/ses-m06/eeg/sub-s743_ses-m06_eeg.fif...\n",
      "    Range : 0 ... 217999 =      0.000 ...   435.998 secs\n",
      "Ready.\n",
      "350 matching events found\n",
      "No baseline correction applied\n",
      "Not setting metadata\n",
      "0 projection items activated\n",
      "Loading data for 350 events and 500 original time points ...\n"
     ]
    },
    {
     "name": "stderr",
     "output_type": "stream",
     "text": [
      "/home/christian/synchedout/eegip/eegip/recording.py:209: RuntimeWarning: This filename (/home/christian/synchedout/eegip/eegip/tests/test_artifacts/derivatives/eegip_london_preprocessed/sub-s743/ses-m06/eeg/sub-s743_ses-m06_eeg.fif) does not conform to MNE naming conventions. All raw files should end with raw.fif, raw_sss.fif, raw_tsss.fif, raw.fif.gz, raw_sss.fif.gz, raw_tsss.fif.gz or _meg.fif\n",
      "  self._preprocessed_raw = mne.io.read_raw_fif(self.get_path(\"preprocessed_raw\"), verbose=self.verbose)\n"
     ]
    },
    {
     "name": "stdout",
     "output_type": "stream",
     "text": [
      "155 bad epochs dropped\n",
      "Overwriting existing file.\n",
      "Reading /home/christian/synchedout/eegip/eegip/tests/test_artifacts/derivatives/eegip_london_preprocessed/sub-s743/ses-m06/mod/sub-s743_ses-m06_epo.fif ...\n",
      "    Found the data of interest:\n",
      "        t =    -200.00 ...     798.00 ms\n",
      "        0 CTF compensation matrices available\n",
      "195 matching events found\n",
      "No baseline correction applied\n",
      "Not setting metadata\n",
      "0 projection items activated\n",
      "Reading /home/christian/synchedout/eegip/eegip/tests/test_artifacts/derivatives/eegip_london_preprocessed/sub-s743/ses-m06/mod/sub-s743_ses-m06_epo.fif ...\n",
      "    Found the data of interest:\n",
      "        t =    -200.00 ...     798.00 ms\n",
      "        0 CTF compensation matrices available\n",
      "195 matching events found\n",
      "No baseline correction applied\n",
      "Not setting metadata\n",
      "0 projection items activated\n",
      "Reading /home/christian/synchedout/eegip/eegip/tests/test_artifacts/derivatives/eegip_london_preprocessed/sub-s743/ses-m06/mod/sub-s743_ses-m06_epo.fif ...\n",
      "    Found the data of interest:\n",
      "        t =    -200.00 ...     798.00 ms\n",
      "        0 CTF compensation matrices available\n",
      "195 matching events found\n",
      "No baseline correction applied\n",
      "Not setting metadata\n",
      "0 projection items activated\n",
      "Opening raw data file /home/christian/synchedout/eegip/eegip/tests/test_artifacts/derivatives/eegip_london_preprocessed/sub-s745/ses-m06/eeg/sub-s745_ses-m06_eeg.fif...\n",
      "    Range : 0 ... 208999 =      0.000 ...   417.998 secs\n",
      "Ready.\n",
      "337 matching events found\n",
      "No baseline correction applied\n",
      "Not setting metadata\n",
      "0 projection items activated\n",
      "Loading data for 337 events and 500 original time points ...\n"
     ]
    },
    {
     "name": "stderr",
     "output_type": "stream",
     "text": [
      "/home/christian/synchedout/eegip/eegip/recording.py:209: RuntimeWarning: This filename (/home/christian/synchedout/eegip/eegip/tests/test_artifacts/derivatives/eegip_london_preprocessed/sub-s745/ses-m06/eeg/sub-s745_ses-m06_eeg.fif) does not conform to MNE naming conventions. All raw files should end with raw.fif, raw_sss.fif, raw_tsss.fif, raw.fif.gz, raw_sss.fif.gz, raw_tsss.fif.gz or _meg.fif\n",
      "  self._preprocessed_raw = mne.io.read_raw_fif(self.get_path(\"preprocessed_raw\"), verbose=self.verbose)\n"
     ]
    },
    {
     "name": "stdout",
     "output_type": "stream",
     "text": [
      "139 bad epochs dropped\n",
      "Overwriting existing file.\n",
      "Reading /home/christian/synchedout/eegip/eegip/tests/test_artifacts/derivatives/eegip_london_preprocessed/sub-s745/ses-m06/mod/sub-s745_ses-m06_epo.fif ...\n",
      "    Found the data of interest:\n",
      "        t =    -200.00 ...     798.00 ms\n",
      "        0 CTF compensation matrices available\n",
      "198 matching events found\n",
      "No baseline correction applied\n",
      "Not setting metadata\n",
      "0 projection items activated\n",
      "Reading /home/christian/synchedout/eegip/eegip/tests/test_artifacts/derivatives/eegip_london_preprocessed/sub-s745/ses-m06/mod/sub-s745_ses-m06_epo.fif ...\n",
      "    Found the data of interest:\n",
      "        t =    -200.00 ...     798.00 ms\n",
      "        0 CTF compensation matrices available\n",
      "198 matching events found\n",
      "No baseline correction applied\n",
      "Not setting metadata\n",
      "0 projection items activated\n",
      "Reading /home/christian/synchedout/eegip/eegip/tests/test_artifacts/derivatives/eegip_london_preprocessed/sub-s745/ses-m06/mod/sub-s745_ses-m06_epo.fif ...\n",
      "    Found the data of interest:\n",
      "        t =    -200.00 ...     798.00 ms\n",
      "        0 CTF compensation matrices available\n",
      "198 matching events found\n",
      "No baseline correction applied\n",
      "Not setting metadata\n",
      "0 projection items activated\n",
      "Opening raw data file /home/christian/synchedout/eegip/eegip/tests/test_artifacts/derivatives/eegip_london_preprocessed/sub-s746/ses-m06/eeg/sub-s746_ses-m06_eeg.fif...\n",
      "    Range : 0 ... 264499 =      0.000 ...   528.998 secs\n",
      "Ready.\n",
      "402 matching events found\n",
      "No baseline correction applied\n",
      "Not setting metadata\n",
      "0 projection items activated\n",
      "Loading data for 402 events and 500 original time points ...\n"
     ]
    },
    {
     "name": "stderr",
     "output_type": "stream",
     "text": [
      "/home/christian/synchedout/eegip/eegip/recording.py:209: RuntimeWarning: This filename (/home/christian/synchedout/eegip/eegip/tests/test_artifacts/derivatives/eegip_london_preprocessed/sub-s746/ses-m06/eeg/sub-s746_ses-m06_eeg.fif) does not conform to MNE naming conventions. All raw files should end with raw.fif, raw_sss.fif, raw_tsss.fif, raw.fif.gz, raw_sss.fif.gz, raw_tsss.fif.gz or _meg.fif\n",
      "  self._preprocessed_raw = mne.io.read_raw_fif(self.get_path(\"preprocessed_raw\"), verbose=self.verbose)\n"
     ]
    },
    {
     "name": "stdout",
     "output_type": "stream",
     "text": [
      "190 bad epochs dropped\n",
      "Overwriting existing file.\n",
      "Reading /home/christian/synchedout/eegip/eegip/tests/test_artifacts/derivatives/eegip_london_preprocessed/sub-s746/ses-m06/mod/sub-s746_ses-m06_epo.fif ...\n",
      "    Found the data of interest:\n",
      "        t =    -200.00 ...     798.00 ms\n",
      "        0 CTF compensation matrices available\n",
      "212 matching events found\n",
      "No baseline correction applied\n",
      "Not setting metadata\n",
      "0 projection items activated\n",
      "Reading /home/christian/synchedout/eegip/eegip/tests/test_artifacts/derivatives/eegip_london_preprocessed/sub-s746/ses-m06/mod/sub-s746_ses-m06_epo.fif ...\n",
      "    Found the data of interest:\n",
      "        t =    -200.00 ...     798.00 ms\n",
      "        0 CTF compensation matrices available\n",
      "212 matching events found\n",
      "No baseline correction applied\n",
      "Not setting metadata\n",
      "0 projection items activated\n",
      "Reading /home/christian/synchedout/eegip/eegip/tests/test_artifacts/derivatives/eegip_london_preprocessed/sub-s746/ses-m06/mod/sub-s746_ses-m06_epo.fif ...\n",
      "    Found the data of interest:\n",
      "        t =    -200.00 ...     798.00 ms\n",
      "        0 CTF compensation matrices available\n",
      "212 matching events found\n",
      "No baseline correction applied\n",
      "Not setting metadata\n",
      "0 projection items activated\n",
      "Opening raw data file /home/christian/synchedout/eegip/eegip/tests/test_artifacts/derivatives/eegip_london_preprocessed/sub-s747/ses-m06/eeg/sub-s747_ses-m06_eeg.fif...\n",
      "    Range : 0 ... 236499 =      0.000 ...   472.998 secs\n",
      "Ready.\n",
      "348 matching events found\n",
      "No baseline correction applied\n",
      "Not setting metadata\n",
      "0 projection items activated\n",
      "Loading data for 348 events and 500 original time points ...\n"
     ]
    },
    {
     "name": "stderr",
     "output_type": "stream",
     "text": [
      "/home/christian/synchedout/eegip/eegip/recording.py:209: RuntimeWarning: This filename (/home/christian/synchedout/eegip/eegip/tests/test_artifacts/derivatives/eegip_london_preprocessed/sub-s747/ses-m06/eeg/sub-s747_ses-m06_eeg.fif) does not conform to MNE naming conventions. All raw files should end with raw.fif, raw_sss.fif, raw_tsss.fif, raw.fif.gz, raw_sss.fif.gz, raw_tsss.fif.gz or _meg.fif\n",
      "  self._preprocessed_raw = mne.io.read_raw_fif(self.get_path(\"preprocessed_raw\"), verbose=self.verbose)\n"
     ]
    },
    {
     "name": "stdout",
     "output_type": "stream",
     "text": [
      "159 bad epochs dropped\n",
      "Overwriting existing file.\n",
      "Reading /home/christian/synchedout/eegip/eegip/tests/test_artifacts/derivatives/eegip_london_preprocessed/sub-s747/ses-m06/mod/sub-s747_ses-m06_epo.fif ...\n",
      "    Found the data of interest:\n",
      "        t =    -200.00 ...     798.00 ms\n",
      "        0 CTF compensation matrices available\n",
      "189 matching events found\n",
      "No baseline correction applied\n",
      "Not setting metadata\n",
      "0 projection items activated\n",
      "Reading /home/christian/synchedout/eegip/eegip/tests/test_artifacts/derivatives/eegip_london_preprocessed/sub-s747/ses-m06/mod/sub-s747_ses-m06_epo.fif ...\n",
      "    Found the data of interest:\n",
      "        t =    -200.00 ...     798.00 ms\n",
      "        0 CTF compensation matrices available\n",
      "189 matching events found\n",
      "No baseline correction applied\n",
      "Not setting metadata\n",
      "0 projection items activated\n",
      "Reading /home/christian/synchedout/eegip/eegip/tests/test_artifacts/derivatives/eegip_london_preprocessed/sub-s747/ses-m06/mod/sub-s747_ses-m06_epo.fif ...\n",
      "    Found the data of interest:\n",
      "        t =    -200.00 ...     798.00 ms\n",
      "        0 CTF compensation matrices available\n",
      "189 matching events found\n",
      "No baseline correction applied\n",
      "Not setting metadata\n",
      "0 projection items activated\n",
      "Opening raw data file /home/christian/synchedout/eegip/eegip/tests/test_artifacts/derivatives/eegip_london_preprocessed/sub-s748/ses-m06/eeg/sub-s748_ses-m06_eeg.fif...\n",
      "    Range : 0 ... 287499 =      0.000 ...   574.998 secs\n",
      "Ready.\n",
      "440 matching events found\n",
      "No baseline correction applied\n",
      "Not setting metadata\n",
      "0 projection items activated\n",
      "Loading data for 440 events and 500 original time points ...\n"
     ]
    },
    {
     "name": "stderr",
     "output_type": "stream",
     "text": [
      "/home/christian/synchedout/eegip/eegip/recording.py:209: RuntimeWarning: This filename (/home/christian/synchedout/eegip/eegip/tests/test_artifacts/derivatives/eegip_london_preprocessed/sub-s748/ses-m06/eeg/sub-s748_ses-m06_eeg.fif) does not conform to MNE naming conventions. All raw files should end with raw.fif, raw_sss.fif, raw_tsss.fif, raw.fif.gz, raw_sss.fif.gz, raw_tsss.fif.gz or _meg.fif\n",
      "  self._preprocessed_raw = mne.io.read_raw_fif(self.get_path(\"preprocessed_raw\"), verbose=self.verbose)\n"
     ]
    },
    {
     "name": "stdout",
     "output_type": "stream",
     "text": [
      "159 bad epochs dropped\n",
      "Overwriting existing file.\n",
      "Reading /home/christian/synchedout/eegip/eegip/tests/test_artifacts/derivatives/eegip_london_preprocessed/sub-s748/ses-m06/mod/sub-s748_ses-m06_epo.fif ...\n",
      "    Found the data of interest:\n",
      "        t =    -200.00 ...     798.00 ms\n",
      "        0 CTF compensation matrices available\n",
      "281 matching events found\n",
      "No baseline correction applied\n",
      "Not setting metadata\n",
      "0 projection items activated\n",
      "Reading /home/christian/synchedout/eegip/eegip/tests/test_artifacts/derivatives/eegip_london_preprocessed/sub-s748/ses-m06/mod/sub-s748_ses-m06_epo.fif ...\n",
      "    Found the data of interest:\n",
      "        t =    -200.00 ...     798.00 ms\n",
      "        0 CTF compensation matrices available\n",
      "281 matching events found\n",
      "No baseline correction applied\n",
      "Not setting metadata\n",
      "0 projection items activated\n",
      "Reading /home/christian/synchedout/eegip/eegip/tests/test_artifacts/derivatives/eegip_london_preprocessed/sub-s748/ses-m06/mod/sub-s748_ses-m06_epo.fif ...\n",
      "    Found the data of interest:\n",
      "        t =    -200.00 ...     798.00 ms\n",
      "        0 CTF compensation matrices available\n",
      "281 matching events found\n",
      "No baseline correction applied\n",
      "Not setting metadata\n",
      "0 projection items activated\n",
      "Opening raw data file /home/christian/synchedout/eegip/eegip/tests/test_artifacts/derivatives/eegip_london_preprocessed/sub-s749/ses-m06/eeg/sub-s749_ses-m06_eeg.fif...\n",
      "    Range : 0 ... 254499 =      0.000 ...   508.998 secs\n",
      "Ready.\n",
      "419 matching events found\n",
      "No baseline correction applied\n",
      "Not setting metadata\n",
      "0 projection items activated\n",
      "Loading data for 419 events and 500 original time points ...\n"
     ]
    },
    {
     "name": "stderr",
     "output_type": "stream",
     "text": [
      "/home/christian/synchedout/eegip/eegip/recording.py:209: RuntimeWarning: This filename (/home/christian/synchedout/eegip/eegip/tests/test_artifacts/derivatives/eegip_london_preprocessed/sub-s749/ses-m06/eeg/sub-s749_ses-m06_eeg.fif) does not conform to MNE naming conventions. All raw files should end with raw.fif, raw_sss.fif, raw_tsss.fif, raw.fif.gz, raw_sss.fif.gz, raw_tsss.fif.gz or _meg.fif\n",
      "  self._preprocessed_raw = mne.io.read_raw_fif(self.get_path(\"preprocessed_raw\"), verbose=self.verbose)\n"
     ]
    },
    {
     "name": "stdout",
     "output_type": "stream",
     "text": [
      "138 bad epochs dropped\n",
      "Overwriting existing file.\n",
      "Reading /home/christian/synchedout/eegip/eegip/tests/test_artifacts/derivatives/eegip_london_preprocessed/sub-s749/ses-m06/mod/sub-s749_ses-m06_epo.fif ...\n",
      "    Found the data of interest:\n",
      "        t =    -200.00 ...     798.00 ms\n",
      "        0 CTF compensation matrices available\n",
      "281 matching events found\n",
      "No baseline correction applied\n",
      "Not setting metadata\n",
      "0 projection items activated\n",
      "Reading /home/christian/synchedout/eegip/eegip/tests/test_artifacts/derivatives/eegip_london_preprocessed/sub-s749/ses-m06/mod/sub-s749_ses-m06_epo.fif ...\n",
      "    Found the data of interest:\n",
      "        t =    -200.00 ...     798.00 ms\n",
      "        0 CTF compensation matrices available\n",
      "281 matching events found\n",
      "No baseline correction applied\n",
      "Not setting metadata\n",
      "0 projection items activated\n",
      "Reading /home/christian/synchedout/eegip/eegip/tests/test_artifacts/derivatives/eegip_london_preprocessed/sub-s749/ses-m06/mod/sub-s749_ses-m06_epo.fif ...\n",
      "    Found the data of interest:\n",
      "        t =    -200.00 ...     798.00 ms\n",
      "        0 CTF compensation matrices available\n",
      "281 matching events found\n",
      "No baseline correction applied\n",
      "Not setting metadata\n",
      "0 projection items activated\n",
      "Opening raw data file /home/christian/synchedout/eegip/eegip/tests/test_artifacts/derivatives/eegip_london_preprocessed/sub-s750/ses-m06/eeg/sub-s750_ses-m06_eeg.fif...\n",
      "    Range : 0 ... 228499 =      0.000 ...   456.998 secs\n",
      "Ready.\n",
      "374 matching events found\n",
      "No baseline correction applied\n",
      "Not setting metadata\n",
      "0 projection items activated\n",
      "Loading data for 374 events and 500 original time points ...\n"
     ]
    },
    {
     "name": "stderr",
     "output_type": "stream",
     "text": [
      "/home/christian/synchedout/eegip/eegip/recording.py:209: RuntimeWarning: This filename (/home/christian/synchedout/eegip/eegip/tests/test_artifacts/derivatives/eegip_london_preprocessed/sub-s750/ses-m06/eeg/sub-s750_ses-m06_eeg.fif) does not conform to MNE naming conventions. All raw files should end with raw.fif, raw_sss.fif, raw_tsss.fif, raw.fif.gz, raw_sss.fif.gz, raw_tsss.fif.gz or _meg.fif\n",
      "  self._preprocessed_raw = mne.io.read_raw_fif(self.get_path(\"preprocessed_raw\"), verbose=self.verbose)\n"
     ]
    },
    {
     "name": "stdout",
     "output_type": "stream",
     "text": [
      "95 bad epochs dropped\n",
      "Overwriting existing file.\n",
      "Reading /home/christian/synchedout/eegip/eegip/tests/test_artifacts/derivatives/eegip_london_preprocessed/sub-s750/ses-m06/mod/sub-s750_ses-m06_epo.fif ...\n",
      "    Found the data of interest:\n",
      "        t =    -200.00 ...     798.00 ms\n",
      "        0 CTF compensation matrices available\n",
      "279 matching events found\n",
      "No baseline correction applied\n",
      "Not setting metadata\n",
      "0 projection items activated\n",
      "Reading /home/christian/synchedout/eegip/eegip/tests/test_artifacts/derivatives/eegip_london_preprocessed/sub-s750/ses-m06/mod/sub-s750_ses-m06_epo.fif ...\n",
      "    Found the data of interest:\n",
      "        t =    -200.00 ...     798.00 ms\n",
      "        0 CTF compensation matrices available\n",
      "279 matching events found\n",
      "No baseline correction applied\n",
      "Not setting metadata\n",
      "0 projection items activated\n",
      "Reading /home/christian/synchedout/eegip/eegip/tests/test_artifacts/derivatives/eegip_london_preprocessed/sub-s750/ses-m06/mod/sub-s750_ses-m06_epo.fif ...\n",
      "    Found the data of interest:\n",
      "        t =    -200.00 ...     798.00 ms\n",
      "        0 CTF compensation matrices available\n",
      "279 matching events found\n",
      "No baseline correction applied\n",
      "Not setting metadata\n",
      "0 projection items activated\n",
      "\n"
     ]
    }
   ],
   "source": [
    "template = \"ica\"\n",
    "for recording_name in tqdm(recording_names):            \n",
    "    recording = dataset_mng.dataset.recordings[recording_name]\n",
    "\n",
    "    try:\n",
    "        recording.get_artifact(\"events\", recompute=True)                \n",
    "        recording.get_artifact(\"epochs\", recompute=True)\n",
    "    except FileNotFoundError as e:\n",
    "        continue\n",
    "\n",
    "    recording.montage = mne.channels.make_standard_montage(\"GSN-HydroCel-129\")\n",
    "\n",
    "    inv_event_id = {val:key for key, val in recording.epochs.event_id.items()}\n",
    "    event_strs = np.array([inv_event_id[id_] for id_ in recording.epochs.events[:, 2]])\n",
    "\n",
    "    for event_str in np.unique(event_strs):\n",
    "        ica = ICA(method='fastica', random_state=324234)\n",
    "        ica = ica.fit(recording.epochs[event_str], verbose=False)\n",
    "        ica_comp = ica.get_components()\n",
    "\n",
    "        data = recording.epochs[event_str].get_data(picks=\"eeg\").transpose([0, 2, 1]) @ ica_comp \n",
    "        recording.flush()        \n",
    "        \n",
    "        data = xr.DataArray(data, dims=('epochs', 'times', 'components'),\n",
    "                         coords={'epochs': np.arange(data.shape[0]), \n",
    "                                 'components': np.arange(data.shape[2]),\n",
    "                                 'times': recording.epochs.times})\n",
    "\n",
    "        data -= data.mean(\"times\")  # De-meaning time series\n",
    "\n",
    "        file_path = template_check_path / \"{}_{}_{}_mean.netcdf\".format(recording_name, event_str, template)\n",
    "        data.mean(\"epochs\").to_netcdf(file_path, mode= 'w')\n",
    "\n",
    "        file_path = template_check_path / \"{}_{}_{}_std.netcdf\".format(recording_name, event_str, template)\n",
    "        data.std(\"epochs\").to_netcdf(file_path, mode= 'w')\n",
    "\n",
    "    recording.flush()"
   ]
  },
  {
   "cell_type": "markdown",
   "metadata": {},
   "source": [
    "# Compute fsaverage stats"
   ]
  },
  {
   "cell_type": "code",
   "execution_count": 4,
   "metadata": {},
   "outputs": [
    {
     "data": {
      "application/vnd.jupyter.widget-view+json": {
       "model_id": "813c9b67a058498cb46c26eb7d6136bc",
       "version_major": 2,
       "version_minor": 0
      },
      "text/plain": [
       "HBox(children=(FloatProgress(value=0.0, max=105.0), HTML(value='')))"
      ]
     },
     "metadata": {},
     "output_type": "display_data"
    },
    {
     "name": "stdout",
     "output_type": "stream",
     "text": [
      "Opening raw data file /home/christian/synchedout/eegip/eegip/tests/test_artifacts/derivatives/eegip_london_preprocessed/sub-s601/ses-m06/eeg/sub-s601_ses-m06_eeg.fif...\n",
      "    Range : 0 ... 81499 =      0.000 ...   162.998 secs\n",
      "Ready.\n",
      "116 matching events found\n",
      "No baseline correction applied\n",
      "Not setting metadata\n",
      "0 projection items activated\n",
      "Loading data for 116 events and 500 original time points ...\n",
      "61 bad epochs dropped\n",
      "Overwriting existing file.\n"
     ]
    },
    {
     "name": "stderr",
     "output_type": "stream",
     "text": [
      "/home/christian/synchedout/eegip/eegip/recording.py:209: RuntimeWarning: This filename (/home/christian/synchedout/eegip/eegip/tests/test_artifacts/derivatives/eegip_london_preprocessed/sub-s601/ses-m06/eeg/sub-s601_ses-m06_eeg.fif) does not conform to MNE naming conventions. All raw files should end with raw.fif, raw_sss.fif, raw_tsss.fif, raw.fif.gz, raw_sss.fif.gz, raw_tsss.fif.gz or _meg.fif\n",
      "  self._preprocessed_raw = mne.io.read_raw_fif(self.get_path(\"preprocessed_raw\"), verbose=self.verbose)\n"
     ]
    },
    {
     "name": "stdout",
     "output_type": "stream",
     "text": [
      "fsaverage\n",
      "Opening raw data file /home/christian/synchedout/eegip/eegip/tests/test_artifacts/derivatives/eegip_london_preprocessed/sub-s602/ses-m06/eeg/sub-s602_ses-m06_eeg.fif...\n"
     ]
    },
    {
     "name": "stderr",
     "output_type": "stream",
     "text": [
      "/home/christian/synchedout/eegip/eegip/recording.py:209: RuntimeWarning: This filename (/home/christian/synchedout/eegip/eegip/tests/test_artifacts/derivatives/eegip_london_preprocessed/sub-s602/ses-m06/eeg/sub-s602_ses-m06_eeg.fif) does not conform to MNE naming conventions. All raw files should end with raw.fif, raw_sss.fif, raw_tsss.fif, raw.fif.gz, raw_sss.fif.gz, raw_tsss.fif.gz or _meg.fif\n",
      "  self._preprocessed_raw = mne.io.read_raw_fif(self.get_path(\"preprocessed_raw\"), verbose=self.verbose)\n"
     ]
    },
    {
     "name": "stdout",
     "output_type": "stream",
     "text": [
      "    Range : 0 ... 240999 =      0.000 ...   481.998 secs\n",
      "Ready.\n",
      "374 matching events found\n",
      "No baseline correction applied\n",
      "Not setting metadata\n",
      "0 projection items activated\n",
      "Loading data for 374 events and 500 original time points ...\n",
      "146 bad epochs dropped\n",
      "Overwriting existing file.\n",
      "fsaverage\n",
      "Opening raw data file /home/christian/synchedout/eegip/eegip/tests/test_artifacts/derivatives/eegip_london_preprocessed/sub-s603/ses-m06/eeg/sub-s603_ses-m06_eeg.fif...\n"
     ]
    },
    {
     "name": "stderr",
     "output_type": "stream",
     "text": [
      "/home/christian/synchedout/eegip/eegip/recording.py:209: RuntimeWarning: This filename (/home/christian/synchedout/eegip/eegip/tests/test_artifacts/derivatives/eegip_london_preprocessed/sub-s603/ses-m06/eeg/sub-s603_ses-m06_eeg.fif) does not conform to MNE naming conventions. All raw files should end with raw.fif, raw_sss.fif, raw_tsss.fif, raw.fif.gz, raw_sss.fif.gz, raw_tsss.fif.gz or _meg.fif\n",
      "  self._preprocessed_raw = mne.io.read_raw_fif(self.get_path(\"preprocessed_raw\"), verbose=self.verbose)\n"
     ]
    },
    {
     "name": "stdout",
     "output_type": "stream",
     "text": [
      "    Range : 0 ... 390999 =      0.000 ...   781.998 secs\n",
      "Ready.\n",
      "581 matching events found\n",
      "No baseline correction applied\n",
      "Not setting metadata\n",
      "0 projection items activated\n",
      "Loading data for 581 events and 500 original time points ...\n",
      "338 bad epochs dropped\n",
      "Overwriting existing file.\n",
      "fsaverage\n",
      "Opening raw data file /home/christian/synchedout/eegip/eegip/tests/test_artifacts/derivatives/eegip_london_preprocessed/sub-s604/ses-m06/eeg/sub-s604_ses-m06_eeg.fif...\n"
     ]
    },
    {
     "name": "stderr",
     "output_type": "stream",
     "text": [
      "/home/christian/synchedout/eegip/eegip/recording.py:209: RuntimeWarning: This filename (/home/christian/synchedout/eegip/eegip/tests/test_artifacts/derivatives/eegip_london_preprocessed/sub-s604/ses-m06/eeg/sub-s604_ses-m06_eeg.fif) does not conform to MNE naming conventions. All raw files should end with raw.fif, raw_sss.fif, raw_tsss.fif, raw.fif.gz, raw_sss.fif.gz, raw_tsss.fif.gz or _meg.fif\n",
      "  self._preprocessed_raw = mne.io.read_raw_fif(self.get_path(\"preprocessed_raw\"), verbose=self.verbose)\n"
     ]
    },
    {
     "name": "stdout",
     "output_type": "stream",
     "text": [
      "    Range : 0 ... 194999 =      0.000 ...   389.998 secs\n",
      "Ready.\n",
      "292 matching events found\n",
      "No baseline correction applied\n",
      "Not setting metadata\n",
      "0 projection items activated\n",
      "Loading data for 292 events and 500 original time points ...\n",
      "188 bad epochs dropped\n",
      "Overwriting existing file.\n",
      "fsaverage\n",
      "Opening raw data file /home/christian/synchedout/eegip/eegip/tests/test_artifacts/derivatives/eegip_london_preprocessed/sub-s605/ses-m06/eeg/sub-s605_ses-m06_eeg.fif...\n"
     ]
    },
    {
     "name": "stderr",
     "output_type": "stream",
     "text": [
      "/home/christian/synchedout/eegip/eegip/recording.py:209: RuntimeWarning: This filename (/home/christian/synchedout/eegip/eegip/tests/test_artifacts/derivatives/eegip_london_preprocessed/sub-s605/ses-m06/eeg/sub-s605_ses-m06_eeg.fif) does not conform to MNE naming conventions. All raw files should end with raw.fif, raw_sss.fif, raw_tsss.fif, raw.fif.gz, raw_sss.fif.gz, raw_tsss.fif.gz or _meg.fif\n",
      "  self._preprocessed_raw = mne.io.read_raw_fif(self.get_path(\"preprocessed_raw\"), verbose=self.verbose)\n"
     ]
    },
    {
     "name": "stdout",
     "output_type": "stream",
     "text": [
      "    Range : 0 ... 136499 =      0.000 ...   272.998 secs\n",
      "Ready.\n",
      "200 matching events found\n",
      "No baseline correction applied\n",
      "Not setting metadata\n",
      "0 projection items activated\n",
      "Loading data for 200 events and 500 original time points ...\n",
      "93 bad epochs dropped\n",
      "Overwriting existing file.\n",
      "fsaverage\n",
      "Opening raw data file /home/christian/synchedout/eegip/eegip/tests/test_artifacts/derivatives/eegip_london_preprocessed/sub-s606/ses-m06/eeg/sub-s606_ses-m06_eeg.fif...\n"
     ]
    },
    {
     "name": "stderr",
     "output_type": "stream",
     "text": [
      "/home/christian/synchedout/eegip/eegip/recording.py:209: RuntimeWarning: This filename (/home/christian/synchedout/eegip/eegip/tests/test_artifacts/derivatives/eegip_london_preprocessed/sub-s606/ses-m06/eeg/sub-s606_ses-m06_eeg.fif) does not conform to MNE naming conventions. All raw files should end with raw.fif, raw_sss.fif, raw_tsss.fif, raw.fif.gz, raw_sss.fif.gz, raw_tsss.fif.gz or _meg.fif\n",
      "  self._preprocessed_raw = mne.io.read_raw_fif(self.get_path(\"preprocessed_raw\"), verbose=self.verbose)\n"
     ]
    },
    {
     "name": "stdout",
     "output_type": "stream",
     "text": [
      "    Range : 0 ... 164499 =      0.000 ...   328.998 secs\n",
      "Ready.\n",
      "217 matching events found\n",
      "No baseline correction applied\n",
      "Not setting metadata\n",
      "0 projection items activated\n",
      "Loading data for 217 events and 500 original time points ...\n",
      "136 bad epochs dropped\n",
      "Overwriting existing file.\n",
      "fsaverage\n",
      "Opening raw data file /home/christian/synchedout/eegip/eegip/tests/test_artifacts/derivatives/eegip_london_preprocessed/sub-s607/ses-m06/eeg/sub-s607_ses-m06_eeg.fif...\n"
     ]
    },
    {
     "name": "stderr",
     "output_type": "stream",
     "text": [
      "/home/christian/synchedout/eegip/eegip/recording.py:209: RuntimeWarning: This filename (/home/christian/synchedout/eegip/eegip/tests/test_artifacts/derivatives/eegip_london_preprocessed/sub-s607/ses-m06/eeg/sub-s607_ses-m06_eeg.fif) does not conform to MNE naming conventions. All raw files should end with raw.fif, raw_sss.fif, raw_tsss.fif, raw.fif.gz, raw_sss.fif.gz, raw_tsss.fif.gz or _meg.fif\n",
      "  self._preprocessed_raw = mne.io.read_raw_fif(self.get_path(\"preprocessed_raw\"), verbose=self.verbose)\n"
     ]
    },
    {
     "name": "stdout",
     "output_type": "stream",
     "text": [
      "    Range : 0 ... 231499 =      0.000 ...   462.998 secs\n",
      "Ready.\n",
      "362 matching events found\n",
      "No baseline correction applied\n",
      "Not setting metadata\n",
      "0 projection items activated\n",
      "Loading data for 362 events and 500 original time points ...\n",
      "185 bad epochs dropped\n",
      "Overwriting existing file.\n",
      "fsaverage\n",
      "Opening raw data file /home/christian/synchedout/eegip/eegip/tests/test_artifacts/derivatives/eegip_london_preprocessed/sub-s608/ses-m06/eeg/sub-s608_ses-m06_eeg.fif...\n"
     ]
    },
    {
     "name": "stderr",
     "output_type": "stream",
     "text": [
      "/home/christian/synchedout/eegip/eegip/recording.py:209: RuntimeWarning: This filename (/home/christian/synchedout/eegip/eegip/tests/test_artifacts/derivatives/eegip_london_preprocessed/sub-s608/ses-m06/eeg/sub-s608_ses-m06_eeg.fif) does not conform to MNE naming conventions. All raw files should end with raw.fif, raw_sss.fif, raw_tsss.fif, raw.fif.gz, raw_sss.fif.gz, raw_tsss.fif.gz or _meg.fif\n",
      "  self._preprocessed_raw = mne.io.read_raw_fif(self.get_path(\"preprocessed_raw\"), verbose=self.verbose)\n"
     ]
    },
    {
     "name": "stdout",
     "output_type": "stream",
     "text": [
      "    Range : 0 ... 245499 =      0.000 ...   490.998 secs\n",
      "Ready.\n",
      "382 matching events found\n",
      "No baseline correction applied\n",
      "Not setting metadata\n",
      "0 projection items activated\n",
      "Loading data for 382 events and 500 original time points ...\n",
      "172 bad epochs dropped\n",
      "Overwriting existing file.\n",
      "fsaverage\n",
      "Opening raw data file /home/christian/synchedout/eegip/eegip/tests/test_artifacts/derivatives/eegip_london_preprocessed/sub-s609/ses-m06/eeg/sub-s609_ses-m06_eeg.fif...\n"
     ]
    },
    {
     "name": "stderr",
     "output_type": "stream",
     "text": [
      "/home/christian/synchedout/eegip/eegip/recording.py:209: RuntimeWarning: This filename (/home/christian/synchedout/eegip/eegip/tests/test_artifacts/derivatives/eegip_london_preprocessed/sub-s609/ses-m06/eeg/sub-s609_ses-m06_eeg.fif) does not conform to MNE naming conventions. All raw files should end with raw.fif, raw_sss.fif, raw_tsss.fif, raw.fif.gz, raw_sss.fif.gz, raw_tsss.fif.gz or _meg.fif\n",
      "  self._preprocessed_raw = mne.io.read_raw_fif(self.get_path(\"preprocessed_raw\"), verbose=self.verbose)\n"
     ]
    },
    {
     "name": "stdout",
     "output_type": "stream",
     "text": [
      "    Range : 0 ... 226999 =      0.000 ...   453.998 secs\n",
      "Ready.\n",
      "343 matching events found\n",
      "No baseline correction applied\n",
      "Not setting metadata\n",
      "0 projection items activated\n",
      "Loading data for 343 events and 500 original time points ...\n",
      "134 bad epochs dropped\n",
      "Overwriting existing file.\n",
      "fsaverage\n",
      "Opening raw data file /home/christian/synchedout/eegip/eegip/tests/test_artifacts/derivatives/eegip_london_preprocessed/sub-s610/ses-m06/eeg/sub-s610_ses-m06_eeg.fif...\n"
     ]
    },
    {
     "name": "stderr",
     "output_type": "stream",
     "text": [
      "/home/christian/synchedout/eegip/eegip/recording.py:209: RuntimeWarning: This filename (/home/christian/synchedout/eegip/eegip/tests/test_artifacts/derivatives/eegip_london_preprocessed/sub-s610/ses-m06/eeg/sub-s610_ses-m06_eeg.fif) does not conform to MNE naming conventions. All raw files should end with raw.fif, raw_sss.fif, raw_tsss.fif, raw.fif.gz, raw_sss.fif.gz, raw_tsss.fif.gz or _meg.fif\n",
      "  self._preprocessed_raw = mne.io.read_raw_fif(self.get_path(\"preprocessed_raw\"), verbose=self.verbose)\n"
     ]
    },
    {
     "name": "stdout",
     "output_type": "stream",
     "text": [
      "    Range : 0 ... 244499 =      0.000 ...   488.998 secs\n",
      "Ready.\n",
      "370 matching events found\n",
      "No baseline correction applied\n",
      "Not setting metadata\n",
      "0 projection items activated\n",
      "Loading data for 370 events and 500 original time points ...\n",
      "195 bad epochs dropped\n",
      "Overwriting existing file.\n",
      "fsaverage\n",
      "Opening raw data file /home/christian/synchedout/eegip/eegip/tests/test_artifacts/derivatives/eegip_london_preprocessed/sub-s611/ses-m06/eeg/sub-s611_ses-m06_eeg.fif...\n"
     ]
    },
    {
     "name": "stderr",
     "output_type": "stream",
     "text": [
      "/home/christian/synchedout/eegip/eegip/recording.py:209: RuntimeWarning: This filename (/home/christian/synchedout/eegip/eegip/tests/test_artifacts/derivatives/eegip_london_preprocessed/sub-s611/ses-m06/eeg/sub-s611_ses-m06_eeg.fif) does not conform to MNE naming conventions. All raw files should end with raw.fif, raw_sss.fif, raw_tsss.fif, raw.fif.gz, raw_sss.fif.gz, raw_tsss.fif.gz or _meg.fif\n",
      "  self._preprocessed_raw = mne.io.read_raw_fif(self.get_path(\"preprocessed_raw\"), verbose=self.verbose)\n"
     ]
    },
    {
     "name": "stdout",
     "output_type": "stream",
     "text": [
      "    Range : 0 ... 163999 =      0.000 ...   327.998 secs\n",
      "Ready.\n",
      "239 matching events found\n",
      "No baseline correction applied\n",
      "Not setting metadata\n",
      "0 projection items activated\n",
      "Loading data for 239 events and 500 original time points ...\n",
      "70 bad epochs dropped\n",
      "Overwriting existing file.\n",
      "fsaverage\n",
      "Opening raw data file /home/christian/synchedout/eegip/eegip/tests/test_artifacts/derivatives/eegip_london_preprocessed/sub-s612/ses-m06/eeg/sub-s612_ses-m06_eeg.fif...\n"
     ]
    },
    {
     "name": "stderr",
     "output_type": "stream",
     "text": [
      "/home/christian/synchedout/eegip/eegip/recording.py:209: RuntimeWarning: This filename (/home/christian/synchedout/eegip/eegip/tests/test_artifacts/derivatives/eegip_london_preprocessed/sub-s612/ses-m06/eeg/sub-s612_ses-m06_eeg.fif) does not conform to MNE naming conventions. All raw files should end with raw.fif, raw_sss.fif, raw_tsss.fif, raw.fif.gz, raw_sss.fif.gz, raw_tsss.fif.gz or _meg.fif\n",
      "  self._preprocessed_raw = mne.io.read_raw_fif(self.get_path(\"preprocessed_raw\"), verbose=self.verbose)\n"
     ]
    },
    {
     "name": "stdout",
     "output_type": "stream",
     "text": [
      "    Range : 0 ... 225999 =      0.000 ...   451.998 secs\n",
      "Ready.\n",
      "379 matching events found\n",
      "No baseline correction applied\n",
      "Not setting metadata\n",
      "0 projection items activated\n",
      "Loading data for 379 events and 500 original time points ...\n",
      "171 bad epochs dropped\n",
      "Overwriting existing file.\n",
      "fsaverage\n",
      "Opening raw data file /home/christian/synchedout/eegip/eegip/tests/test_artifacts/derivatives/eegip_london_preprocessed/sub-s613/ses-m06/eeg/sub-s613_ses-m06_eeg.fif...\n"
     ]
    },
    {
     "name": "stderr",
     "output_type": "stream",
     "text": [
      "/home/christian/synchedout/eegip/eegip/recording.py:209: RuntimeWarning: This filename (/home/christian/synchedout/eegip/eegip/tests/test_artifacts/derivatives/eegip_london_preprocessed/sub-s613/ses-m06/eeg/sub-s613_ses-m06_eeg.fif) does not conform to MNE naming conventions. All raw files should end with raw.fif, raw_sss.fif, raw_tsss.fif, raw.fif.gz, raw_sss.fif.gz, raw_tsss.fif.gz or _meg.fif\n",
      "  self._preprocessed_raw = mne.io.read_raw_fif(self.get_path(\"preprocessed_raw\"), verbose=self.verbose)\n"
     ]
    },
    {
     "name": "stdout",
     "output_type": "stream",
     "text": [
      "    Range : 0 ... 276999 =      0.000 ...   553.998 secs\n",
      "Ready.\n",
      "474 matching events found\n",
      "No baseline correction applied\n",
      "Not setting metadata\n",
      "0 projection items activated\n",
      "Loading data for 474 events and 500 original time points ...\n",
      "154 bad epochs dropped\n",
      "Overwriting existing file.\n",
      "fsaverage\n",
      "Opening raw data file /home/christian/synchedout/eegip/eegip/tests/test_artifacts/derivatives/eegip_london_preprocessed/sub-s614/ses-m06/eeg/sub-s614_ses-m06_eeg.fif...\n"
     ]
    },
    {
     "name": "stderr",
     "output_type": "stream",
     "text": [
      "/home/christian/synchedout/eegip/eegip/recording.py:209: RuntimeWarning: This filename (/home/christian/synchedout/eegip/eegip/tests/test_artifacts/derivatives/eegip_london_preprocessed/sub-s614/ses-m06/eeg/sub-s614_ses-m06_eeg.fif) does not conform to MNE naming conventions. All raw files should end with raw.fif, raw_sss.fif, raw_tsss.fif, raw.fif.gz, raw_sss.fif.gz, raw_tsss.fif.gz or _meg.fif\n",
      "  self._preprocessed_raw = mne.io.read_raw_fif(self.get_path(\"preprocessed_raw\"), verbose=self.verbose)\n"
     ]
    },
    {
     "name": "stdout",
     "output_type": "stream",
     "text": [
      "    Range : 0 ... 73999 =      0.000 ...   147.998 secs\n",
      "Ready.\n",
      "98 matching events found\n",
      "No baseline correction applied\n",
      "Not setting metadata\n",
      "0 projection items activated\n",
      "Loading data for 98 events and 500 original time points ...\n",
      "88 bad epochs dropped\n",
      "Overwriting existing file.\n",
      "fsaverage\n",
      "Opening raw data file /home/christian/synchedout/eegip/eegip/tests/test_artifacts/derivatives/eegip_london_preprocessed/sub-s615/ses-m06/eeg/sub-s615_ses-m06_eeg.fif...\n"
     ]
    },
    {
     "name": "stderr",
     "output_type": "stream",
     "text": [
      "/home/christian/synchedout/eegip/eegip/recording.py:209: RuntimeWarning: This filename (/home/christian/synchedout/eegip/eegip/tests/test_artifacts/derivatives/eegip_london_preprocessed/sub-s615/ses-m06/eeg/sub-s615_ses-m06_eeg.fif) does not conform to MNE naming conventions. All raw files should end with raw.fif, raw_sss.fif, raw_tsss.fif, raw.fif.gz, raw_sss.fif.gz, raw_tsss.fif.gz or _meg.fif\n",
      "  self._preprocessed_raw = mne.io.read_raw_fif(self.get_path(\"preprocessed_raw\"), verbose=self.verbose)\n"
     ]
    },
    {
     "name": "stdout",
     "output_type": "stream",
     "text": [
      "    Range : 0 ... 256999 =      0.000 ...   513.998 secs\n",
      "Ready.\n",
      "421 matching events found\n",
      "No baseline correction applied\n",
      "Not setting metadata\n",
      "0 projection items activated\n",
      "Loading data for 421 events and 500 original time points ...\n",
      "215 bad epochs dropped\n",
      "Overwriting existing file.\n",
      "fsaverage\n",
      "Opening raw data file /home/christian/synchedout/eegip/eegip/tests/test_artifacts/derivatives/eegip_london_preprocessed/sub-s616/ses-m06/eeg/sub-s616_ses-m06_eeg.fif...\n"
     ]
    },
    {
     "name": "stderr",
     "output_type": "stream",
     "text": [
      "/home/christian/synchedout/eegip/eegip/recording.py:209: RuntimeWarning: This filename (/home/christian/synchedout/eegip/eegip/tests/test_artifacts/derivatives/eegip_london_preprocessed/sub-s616/ses-m06/eeg/sub-s616_ses-m06_eeg.fif) does not conform to MNE naming conventions. All raw files should end with raw.fif, raw_sss.fif, raw_tsss.fif, raw.fif.gz, raw_sss.fif.gz, raw_tsss.fif.gz or _meg.fif\n",
      "  self._preprocessed_raw = mne.io.read_raw_fif(self.get_path(\"preprocessed_raw\"), verbose=self.verbose)\n"
     ]
    },
    {
     "name": "stdout",
     "output_type": "stream",
     "text": [
      "    Range : 0 ... 287499 =      0.000 ...   574.998 secs\n",
      "Ready.\n",
      "444 matching events found\n",
      "No baseline correction applied\n",
      "Not setting metadata\n",
      "0 projection items activated\n",
      "Loading data for 444 events and 500 original time points ...\n",
      "80 bad epochs dropped\n",
      "Overwriting existing file.\n",
      "fsaverage\n",
      "Opening raw data file /home/christian/synchedout/eegip/eegip/tests/test_artifacts/derivatives/eegip_london_preprocessed/sub-s617/ses-m06/eeg/sub-s617_ses-m06_eeg.fif...\n"
     ]
    },
    {
     "name": "stderr",
     "output_type": "stream",
     "text": [
      "/home/christian/synchedout/eegip/eegip/recording.py:209: RuntimeWarning: This filename (/home/christian/synchedout/eegip/eegip/tests/test_artifacts/derivatives/eegip_london_preprocessed/sub-s617/ses-m06/eeg/sub-s617_ses-m06_eeg.fif) does not conform to MNE naming conventions. All raw files should end with raw.fif, raw_sss.fif, raw_tsss.fif, raw.fif.gz, raw_sss.fif.gz, raw_tsss.fif.gz or _meg.fif\n",
      "  self._preprocessed_raw = mne.io.read_raw_fif(self.get_path(\"preprocessed_raw\"), verbose=self.verbose)\n"
     ]
    },
    {
     "name": "stdout",
     "output_type": "stream",
     "text": [
      "    Range : 0 ... 284499 =      0.000 ...   568.998 secs\n",
      "Ready.\n",
      "389 matching events found\n",
      "No baseline correction applied\n",
      "Not setting metadata\n",
      "0 projection items activated\n",
      "Loading data for 389 events and 500 original time points ...\n",
      "102 bad epochs dropped\n",
      "Overwriting existing file.\n",
      "fsaverage\n",
      "Opening raw data file /home/christian/synchedout/eegip/eegip/tests/test_artifacts/derivatives/eegip_london_preprocessed/sub-s618/ses-m06/eeg/sub-s618_ses-m06_eeg.fif...\n"
     ]
    },
    {
     "name": "stderr",
     "output_type": "stream",
     "text": [
      "/home/christian/synchedout/eegip/eegip/recording.py:209: RuntimeWarning: This filename (/home/christian/synchedout/eegip/eegip/tests/test_artifacts/derivatives/eegip_london_preprocessed/sub-s618/ses-m06/eeg/sub-s618_ses-m06_eeg.fif) does not conform to MNE naming conventions. All raw files should end with raw.fif, raw_sss.fif, raw_tsss.fif, raw.fif.gz, raw_sss.fif.gz, raw_tsss.fif.gz or _meg.fif\n",
      "  self._preprocessed_raw = mne.io.read_raw_fif(self.get_path(\"preprocessed_raw\"), verbose=self.verbose)\n"
     ]
    },
    {
     "name": "stdout",
     "output_type": "stream",
     "text": [
      "    Range : 0 ... 196499 =      0.000 ...   392.998 secs\n",
      "Ready.\n",
      "313 matching events found\n",
      "No baseline correction applied\n",
      "Not setting metadata\n",
      "0 projection items activated\n",
      "Loading data for 313 events and 500 original time points ...\n",
      "223 bad epochs dropped\n",
      "Overwriting existing file.\n",
      "fsaverage\n",
      "Opening raw data file /home/christian/synchedout/eegip/eegip/tests/test_artifacts/derivatives/eegip_london_preprocessed/sub-s619/ses-m06/eeg/sub-s619_ses-m06_eeg.fif...\n"
     ]
    },
    {
     "name": "stderr",
     "output_type": "stream",
     "text": [
      "/home/christian/synchedout/eegip/eegip/recording.py:209: RuntimeWarning: This filename (/home/christian/synchedout/eegip/eegip/tests/test_artifacts/derivatives/eegip_london_preprocessed/sub-s619/ses-m06/eeg/sub-s619_ses-m06_eeg.fif) does not conform to MNE naming conventions. All raw files should end with raw.fif, raw_sss.fif, raw_tsss.fif, raw.fif.gz, raw_sss.fif.gz, raw_tsss.fif.gz or _meg.fif\n",
      "  self._preprocessed_raw = mne.io.read_raw_fif(self.get_path(\"preprocessed_raw\"), verbose=self.verbose)\n"
     ]
    },
    {
     "name": "stdout",
     "output_type": "stream",
     "text": [
      "    Range : 0 ... 192499 =      0.000 ...   384.998 secs\n",
      "Ready.\n",
      "303 matching events found\n",
      "No baseline correction applied\n",
      "Not setting metadata\n",
      "0 projection items activated\n",
      "Loading data for 303 events and 500 original time points ...\n",
      "183 bad epochs dropped\n",
      "Overwriting existing file.\n",
      "fsaverage\n",
      "Opening raw data file /home/christian/synchedout/eegip/eegip/tests/test_artifacts/derivatives/eegip_london_preprocessed/sub-s620/ses-m06/eeg/sub-s620_ses-m06_eeg.fif...\n"
     ]
    },
    {
     "name": "stderr",
     "output_type": "stream",
     "text": [
      "/home/christian/synchedout/eegip/eegip/recording.py:209: RuntimeWarning: This filename (/home/christian/synchedout/eegip/eegip/tests/test_artifacts/derivatives/eegip_london_preprocessed/sub-s620/ses-m06/eeg/sub-s620_ses-m06_eeg.fif) does not conform to MNE naming conventions. All raw files should end with raw.fif, raw_sss.fif, raw_tsss.fif, raw.fif.gz, raw_sss.fif.gz, raw_tsss.fif.gz or _meg.fif\n",
      "  self._preprocessed_raw = mne.io.read_raw_fif(self.get_path(\"preprocessed_raw\"), verbose=self.verbose)\n"
     ]
    },
    {
     "name": "stdout",
     "output_type": "stream",
     "text": [
      "    Range : 0 ... 242999 =      0.000 ...   485.998 secs\n",
      "Ready.\n",
      "399 matching events found\n",
      "No baseline correction applied\n",
      "Not setting metadata\n",
      "0 projection items activated\n",
      "Loading data for 399 events and 500 original time points ...\n",
      "167 bad epochs dropped\n",
      "Overwriting existing file.\n",
      "fsaverage\n",
      "Opening raw data file /home/christian/synchedout/eegip/eegip/tests/test_artifacts/derivatives/eegip_london_preprocessed/sub-s621/ses-m06/eeg/sub-s621_ses-m06_eeg.fif...\n"
     ]
    },
    {
     "name": "stderr",
     "output_type": "stream",
     "text": [
      "/home/christian/synchedout/eegip/eegip/recording.py:209: RuntimeWarning: This filename (/home/christian/synchedout/eegip/eegip/tests/test_artifacts/derivatives/eegip_london_preprocessed/sub-s621/ses-m06/eeg/sub-s621_ses-m06_eeg.fif) does not conform to MNE naming conventions. All raw files should end with raw.fif, raw_sss.fif, raw_tsss.fif, raw.fif.gz, raw_sss.fif.gz, raw_tsss.fif.gz or _meg.fif\n",
      "  self._preprocessed_raw = mne.io.read_raw_fif(self.get_path(\"preprocessed_raw\"), verbose=self.verbose)\n"
     ]
    },
    {
     "name": "stdout",
     "output_type": "stream",
     "text": [
      "    Range : 0 ... 277999 =      0.000 ...   555.998 secs\n",
      "Ready.\n",
      "437 matching events found\n",
      "No baseline correction applied\n",
      "Not setting metadata\n",
      "0 projection items activated\n",
      "Loading data for 437 events and 500 original time points ...\n",
      "251 bad epochs dropped\n",
      "Overwriting existing file.\n",
      "fsaverage\n",
      "Opening raw data file /home/christian/synchedout/eegip/eegip/tests/test_artifacts/derivatives/eegip_london_preprocessed/sub-s622/ses-m06/eeg/sub-s622_ses-m06_eeg.fif...\n"
     ]
    },
    {
     "name": "stderr",
     "output_type": "stream",
     "text": [
      "/home/christian/synchedout/eegip/eegip/recording.py:209: RuntimeWarning: This filename (/home/christian/synchedout/eegip/eegip/tests/test_artifacts/derivatives/eegip_london_preprocessed/sub-s622/ses-m06/eeg/sub-s622_ses-m06_eeg.fif) does not conform to MNE naming conventions. All raw files should end with raw.fif, raw_sss.fif, raw_tsss.fif, raw.fif.gz, raw_sss.fif.gz, raw_tsss.fif.gz or _meg.fif\n",
      "  self._preprocessed_raw = mne.io.read_raw_fif(self.get_path(\"preprocessed_raw\"), verbose=self.verbose)\n"
     ]
    },
    {
     "name": "stdout",
     "output_type": "stream",
     "text": [
      "    Range : 0 ... 188499 =      0.000 ...   376.998 secs\n",
      "Ready.\n",
      "300 matching events found\n",
      "No baseline correction applied\n",
      "Not setting metadata\n",
      "0 projection items activated\n",
      "Loading data for 300 events and 500 original time points ...\n",
      "151 bad epochs dropped\n",
      "Overwriting existing file.\n",
      "fsaverage\n",
      "Opening raw data file /home/christian/synchedout/eegip/eegip/tests/test_artifacts/derivatives/eegip_london_preprocessed/sub-s623/ses-m06/eeg/sub-s623_ses-m06_eeg.fif...\n"
     ]
    },
    {
     "name": "stderr",
     "output_type": "stream",
     "text": [
      "/home/christian/synchedout/eegip/eegip/recording.py:209: RuntimeWarning: This filename (/home/christian/synchedout/eegip/eegip/tests/test_artifacts/derivatives/eegip_london_preprocessed/sub-s623/ses-m06/eeg/sub-s623_ses-m06_eeg.fif) does not conform to MNE naming conventions. All raw files should end with raw.fif, raw_sss.fif, raw_tsss.fif, raw.fif.gz, raw_sss.fif.gz, raw_tsss.fif.gz or _meg.fif\n",
      "  self._preprocessed_raw = mne.io.read_raw_fif(self.get_path(\"preprocessed_raw\"), verbose=self.verbose)\n"
     ]
    },
    {
     "name": "stdout",
     "output_type": "stream",
     "text": [
      "    Range : 0 ... 362499 =      0.000 ...   724.998 secs\n",
      "Ready.\n",
      "582 matching events found\n",
      "No baseline correction applied\n",
      "Not setting metadata\n",
      "0 projection items activated\n",
      "Loading data for 582 events and 500 original time points ...\n",
      "185 bad epochs dropped\n",
      "Overwriting existing file.\n",
      "fsaverage\n",
      "Opening raw data file /home/christian/synchedout/eegip/eegip/tests/test_artifacts/derivatives/eegip_london_preprocessed/sub-s624/ses-m06/eeg/sub-s624_ses-m06_eeg.fif...\n"
     ]
    },
    {
     "name": "stderr",
     "output_type": "stream",
     "text": [
      "/home/christian/synchedout/eegip/eegip/recording.py:209: RuntimeWarning: This filename (/home/christian/synchedout/eegip/eegip/tests/test_artifacts/derivatives/eegip_london_preprocessed/sub-s624/ses-m06/eeg/sub-s624_ses-m06_eeg.fif) does not conform to MNE naming conventions. All raw files should end with raw.fif, raw_sss.fif, raw_tsss.fif, raw.fif.gz, raw_sss.fif.gz, raw_tsss.fif.gz or _meg.fif\n",
      "  self._preprocessed_raw = mne.io.read_raw_fif(self.get_path(\"preprocessed_raw\"), verbose=self.verbose)\n"
     ]
    },
    {
     "name": "stdout",
     "output_type": "stream",
     "text": [
      "    Range : 0 ... 252499 =      0.000 ...   504.998 secs\n",
      "Ready.\n",
      "369 matching events found\n",
      "No baseline correction applied\n",
      "Not setting metadata\n",
      "0 projection items activated\n",
      "Loading data for 369 events and 500 original time points ...\n",
      "205 bad epochs dropped\n",
      "Overwriting existing file.\n",
      "fsaverage\n",
      "Opening raw data file /home/christian/synchedout/eegip/eegip/tests/test_artifacts/derivatives/eegip_london_preprocessed/sub-s625/ses-m06/eeg/sub-s625_ses-m06_eeg.fif...\n"
     ]
    },
    {
     "name": "stderr",
     "output_type": "stream",
     "text": [
      "/home/christian/synchedout/eegip/eegip/recording.py:209: RuntimeWarning: This filename (/home/christian/synchedout/eegip/eegip/tests/test_artifacts/derivatives/eegip_london_preprocessed/sub-s625/ses-m06/eeg/sub-s625_ses-m06_eeg.fif) does not conform to MNE naming conventions. All raw files should end with raw.fif, raw_sss.fif, raw_tsss.fif, raw.fif.gz, raw_sss.fif.gz, raw_tsss.fif.gz or _meg.fif\n",
      "  self._preprocessed_raw = mne.io.read_raw_fif(self.get_path(\"preprocessed_raw\"), verbose=self.verbose)\n"
     ]
    },
    {
     "name": "stdout",
     "output_type": "stream",
     "text": [
      "    Range : 0 ... 203999 =      0.000 ...   407.998 secs\n",
      "Ready.\n",
      "320 matching events found\n",
      "No baseline correction applied\n",
      "Not setting metadata\n",
      "0 projection items activated\n",
      "Loading data for 320 events and 500 original time points ...\n",
      "129 bad epochs dropped\n",
      "Overwriting existing file.\n",
      "fsaverage\n",
      "Opening raw data file /home/christian/synchedout/eegip/eegip/tests/test_artifacts/derivatives/eegip_london_preprocessed/sub-s626/ses-m06/eeg/sub-s626_ses-m06_eeg.fif...\n"
     ]
    },
    {
     "name": "stderr",
     "output_type": "stream",
     "text": [
      "/home/christian/synchedout/eegip/eegip/recording.py:209: RuntimeWarning: This filename (/home/christian/synchedout/eegip/eegip/tests/test_artifacts/derivatives/eegip_london_preprocessed/sub-s626/ses-m06/eeg/sub-s626_ses-m06_eeg.fif) does not conform to MNE naming conventions. All raw files should end with raw.fif, raw_sss.fif, raw_tsss.fif, raw.fif.gz, raw_sss.fif.gz, raw_tsss.fif.gz or _meg.fif\n",
      "  self._preprocessed_raw = mne.io.read_raw_fif(self.get_path(\"preprocessed_raw\"), verbose=self.verbose)\n"
     ]
    },
    {
     "name": "stdout",
     "output_type": "stream",
     "text": [
      "    Range : 0 ... 46499 =      0.000 ...    92.998 secs\n",
      "Ready.\n",
      "84 matching events found\n",
      "No baseline correction applied\n",
      "Not setting metadata\n",
      "0 projection items activated\n",
      "Loading data for 84 events and 500 original time points ...\n",
      "30 bad epochs dropped\n",
      "Overwriting existing file.\n",
      "fsaverage\n",
      "Opening raw data file /home/christian/synchedout/eegip/eegip/tests/test_artifacts/derivatives/eegip_london_preprocessed/sub-s627/ses-m06/eeg/sub-s627_ses-m06_eeg.fif...\n"
     ]
    },
    {
     "name": "stderr",
     "output_type": "stream",
     "text": [
      "/home/christian/synchedout/eegip/eegip/recording.py:209: RuntimeWarning: This filename (/home/christian/synchedout/eegip/eegip/tests/test_artifacts/derivatives/eegip_london_preprocessed/sub-s627/ses-m06/eeg/sub-s627_ses-m06_eeg.fif) does not conform to MNE naming conventions. All raw files should end with raw.fif, raw_sss.fif, raw_tsss.fif, raw.fif.gz, raw_sss.fif.gz, raw_tsss.fif.gz or _meg.fif\n",
      "  self._preprocessed_raw = mne.io.read_raw_fif(self.get_path(\"preprocessed_raw\"), verbose=self.verbose)\n"
     ]
    },
    {
     "name": "stdout",
     "output_type": "stream",
     "text": [
      "    Range : 0 ... 234999 =      0.000 ...   469.998 secs\n",
      "Ready.\n",
      "350 matching events found\n",
      "No baseline correction applied\n",
      "Not setting metadata\n",
      "0 projection items activated\n",
      "Loading data for 350 events and 500 original time points ...\n",
      "244 bad epochs dropped\n",
      "Overwriting existing file.\n",
      "fsaverage\n",
      "Opening raw data file /home/christian/synchedout/eegip/eegip/tests/test_artifacts/derivatives/eegip_london_preprocessed/sub-s628/ses-m06/eeg/sub-s628_ses-m06_eeg.fif...\n"
     ]
    },
    {
     "name": "stderr",
     "output_type": "stream",
     "text": [
      "/home/christian/synchedout/eegip/eegip/recording.py:209: RuntimeWarning: This filename (/home/christian/synchedout/eegip/eegip/tests/test_artifacts/derivatives/eegip_london_preprocessed/sub-s628/ses-m06/eeg/sub-s628_ses-m06_eeg.fif) does not conform to MNE naming conventions. All raw files should end with raw.fif, raw_sss.fif, raw_tsss.fif, raw.fif.gz, raw_sss.fif.gz, raw_tsss.fif.gz or _meg.fif\n",
      "  self._preprocessed_raw = mne.io.read_raw_fif(self.get_path(\"preprocessed_raw\"), verbose=self.verbose)\n"
     ]
    },
    {
     "name": "stdout",
     "output_type": "stream",
     "text": [
      "    Range : 0 ... 201499 =      0.000 ...   402.998 secs\n",
      "Ready.\n",
      "319 matching events found\n",
      "No baseline correction applied\n",
      "Not setting metadata\n",
      "0 projection items activated\n",
      "Loading data for 319 events and 500 original time points ...\n",
      "124 bad epochs dropped\n",
      "Overwriting existing file.\n",
      "fsaverage\n",
      "Opening raw data file /home/christian/synchedout/eegip/eegip/tests/test_artifacts/derivatives/eegip_london_preprocessed/sub-s629/ses-m06/eeg/sub-s629_ses-m06_eeg.fif...\n"
     ]
    },
    {
     "name": "stderr",
     "output_type": "stream",
     "text": [
      "/home/christian/synchedout/eegip/eegip/recording.py:209: RuntimeWarning: This filename (/home/christian/synchedout/eegip/eegip/tests/test_artifacts/derivatives/eegip_london_preprocessed/sub-s629/ses-m06/eeg/sub-s629_ses-m06_eeg.fif) does not conform to MNE naming conventions. All raw files should end with raw.fif, raw_sss.fif, raw_tsss.fif, raw.fif.gz, raw_sss.fif.gz, raw_tsss.fif.gz or _meg.fif\n",
      "  self._preprocessed_raw = mne.io.read_raw_fif(self.get_path(\"preprocessed_raw\"), verbose=self.verbose)\n"
     ]
    },
    {
     "name": "stdout",
     "output_type": "stream",
     "text": [
      "    Range : 0 ... 72499 =      0.000 ...   144.998 secs\n",
      "Ready.\n",
      "90 matching events found\n",
      "No baseline correction applied\n",
      "Not setting metadata\n",
      "0 projection items activated\n",
      "Loading data for 90 events and 500 original time points ...\n",
      "63 bad epochs dropped\n",
      "Overwriting existing file.\n",
      "fsaverage\n",
      "Opening raw data file /home/christian/synchedout/eegip/eegip/tests/test_artifacts/derivatives/eegip_london_preprocessed/sub-s630/ses-m06/eeg/sub-s630_ses-m06_eeg.fif...\n"
     ]
    },
    {
     "name": "stderr",
     "output_type": "stream",
     "text": [
      "/home/christian/synchedout/eegip/eegip/recording.py:209: RuntimeWarning: This filename (/home/christian/synchedout/eegip/eegip/tests/test_artifacts/derivatives/eegip_london_preprocessed/sub-s630/ses-m06/eeg/sub-s630_ses-m06_eeg.fif) does not conform to MNE naming conventions. All raw files should end with raw.fif, raw_sss.fif, raw_tsss.fif, raw.fif.gz, raw_sss.fif.gz, raw_tsss.fif.gz or _meg.fif\n",
      "  self._preprocessed_raw = mne.io.read_raw_fif(self.get_path(\"preprocessed_raw\"), verbose=self.verbose)\n"
     ]
    },
    {
     "name": "stdout",
     "output_type": "stream",
     "text": [
      "    Range : 0 ... 248999 =      0.000 ...   497.998 secs\n",
      "Ready.\n",
      "372 matching events found\n",
      "No baseline correction applied\n",
      "Not setting metadata\n",
      "0 projection items activated\n",
      "Loading data for 372 events and 500 original time points ...\n",
      "143 bad epochs dropped\n",
      "Overwriting existing file.\n",
      "fsaverage\n",
      "Opening raw data file /home/christian/synchedout/eegip/eegip/tests/test_artifacts/derivatives/eegip_london_preprocessed/sub-s631/ses-m06/eeg/sub-s631_ses-m06_eeg.fif...\n"
     ]
    },
    {
     "name": "stderr",
     "output_type": "stream",
     "text": [
      "/home/christian/synchedout/eegip/eegip/recording.py:209: RuntimeWarning: This filename (/home/christian/synchedout/eegip/eegip/tests/test_artifacts/derivatives/eegip_london_preprocessed/sub-s631/ses-m06/eeg/sub-s631_ses-m06_eeg.fif) does not conform to MNE naming conventions. All raw files should end with raw.fif, raw_sss.fif, raw_tsss.fif, raw.fif.gz, raw_sss.fif.gz, raw_tsss.fif.gz or _meg.fif\n",
      "  self._preprocessed_raw = mne.io.read_raw_fif(self.get_path(\"preprocessed_raw\"), verbose=self.verbose)\n"
     ]
    },
    {
     "name": "stdout",
     "output_type": "stream",
     "text": [
      "    Range : 0 ... 136499 =      0.000 ...   272.998 secs\n",
      "Ready.\n",
      "168 matching events found\n",
      "No baseline correction applied\n",
      "Not setting metadata\n",
      "0 projection items activated\n",
      "Loading data for 168 events and 500 original time points ...\n",
      "137 bad epochs dropped\n",
      "Overwriting existing file.\n",
      "fsaverage\n",
      "Opening raw data file /home/christian/synchedout/eegip/eegip/tests/test_artifacts/derivatives/eegip_london_preprocessed/sub-s632/ses-m06/eeg/sub-s632_ses-m06_eeg.fif...\n"
     ]
    },
    {
     "name": "stderr",
     "output_type": "stream",
     "text": [
      "/home/christian/synchedout/eegip/eegip/recording.py:209: RuntimeWarning: This filename (/home/christian/synchedout/eegip/eegip/tests/test_artifacts/derivatives/eegip_london_preprocessed/sub-s632/ses-m06/eeg/sub-s632_ses-m06_eeg.fif) does not conform to MNE naming conventions. All raw files should end with raw.fif, raw_sss.fif, raw_tsss.fif, raw.fif.gz, raw_sss.fif.gz, raw_tsss.fif.gz or _meg.fif\n",
      "  self._preprocessed_raw = mne.io.read_raw_fif(self.get_path(\"preprocessed_raw\"), verbose=self.verbose)\n"
     ]
    },
    {
     "name": "stdout",
     "output_type": "stream",
     "text": [
      "    Range : 0 ... 267499 =      0.000 ...   534.998 secs\n",
      "Ready.\n",
      "404 matching events found\n",
      "No baseline correction applied\n",
      "Not setting metadata\n",
      "0 projection items activated\n",
      "Loading data for 404 events and 500 original time points ...\n",
      "181 bad epochs dropped\n",
      "Overwriting existing file.\n",
      "fsaverage\n",
      "Opening raw data file /home/christian/synchedout/eegip/eegip/tests/test_artifacts/derivatives/eegip_london_preprocessed/sub-s633/ses-m06/eeg/sub-s633_ses-m06_eeg.fif...\n"
     ]
    },
    {
     "name": "stderr",
     "output_type": "stream",
     "text": [
      "/home/christian/synchedout/eegip/eegip/recording.py:209: RuntimeWarning: This filename (/home/christian/synchedout/eegip/eegip/tests/test_artifacts/derivatives/eegip_london_preprocessed/sub-s633/ses-m06/eeg/sub-s633_ses-m06_eeg.fif) does not conform to MNE naming conventions. All raw files should end with raw.fif, raw_sss.fif, raw_tsss.fif, raw.fif.gz, raw_sss.fif.gz, raw_tsss.fif.gz or _meg.fif\n",
      "  self._preprocessed_raw = mne.io.read_raw_fif(self.get_path(\"preprocessed_raw\"), verbose=self.verbose)\n"
     ]
    },
    {
     "name": "stdout",
     "output_type": "stream",
     "text": [
      "    Range : 0 ... 446499 =      0.000 ...   892.998 secs\n",
      "Ready.\n",
      "722 matching events found\n",
      "No baseline correction applied\n",
      "Not setting metadata\n",
      "0 projection items activated\n",
      "Loading data for 722 events and 500 original time points ...\n",
      "387 bad epochs dropped\n",
      "Overwriting existing file.\n",
      "fsaverage\n",
      "Opening raw data file /home/christian/synchedout/eegip/eegip/tests/test_artifacts/derivatives/eegip_london_preprocessed/sub-s634/ses-m06/eeg/sub-s634_ses-m06_eeg.fif...\n"
     ]
    },
    {
     "name": "stderr",
     "output_type": "stream",
     "text": [
      "/home/christian/synchedout/eegip/eegip/recording.py:209: RuntimeWarning: This filename (/home/christian/synchedout/eegip/eegip/tests/test_artifacts/derivatives/eegip_london_preprocessed/sub-s634/ses-m06/eeg/sub-s634_ses-m06_eeg.fif) does not conform to MNE naming conventions. All raw files should end with raw.fif, raw_sss.fif, raw_tsss.fif, raw.fif.gz, raw_sss.fif.gz, raw_tsss.fif.gz or _meg.fif\n",
      "  self._preprocessed_raw = mne.io.read_raw_fif(self.get_path(\"preprocessed_raw\"), verbose=self.verbose)\n"
     ]
    },
    {
     "name": "stdout",
     "output_type": "stream",
     "text": [
      "    Range : 0 ... 232999 =      0.000 ...   465.998 secs\n",
      "Ready.\n",
      "345 matching events found\n",
      "No baseline correction applied\n",
      "Not setting metadata\n",
      "0 projection items activated\n",
      "Loading data for 345 events and 500 original time points ...\n",
      "102 bad epochs dropped\n",
      "Overwriting existing file.\n",
      "fsaverage\n",
      "Opening raw data file /home/christian/synchedout/eegip/eegip/tests/test_artifacts/derivatives/eegip_london_preprocessed/sub-s636/ses-m06/eeg/sub-s636_ses-m06_eeg.fif...\n"
     ]
    },
    {
     "name": "stderr",
     "output_type": "stream",
     "text": [
      "/home/christian/synchedout/eegip/eegip/recording.py:209: RuntimeWarning: This filename (/home/christian/synchedout/eegip/eegip/tests/test_artifacts/derivatives/eegip_london_preprocessed/sub-s636/ses-m06/eeg/sub-s636_ses-m06_eeg.fif) does not conform to MNE naming conventions. All raw files should end with raw.fif, raw_sss.fif, raw_tsss.fif, raw.fif.gz, raw_sss.fif.gz, raw_tsss.fif.gz or _meg.fif\n",
      "  self._preprocessed_raw = mne.io.read_raw_fif(self.get_path(\"preprocessed_raw\"), verbose=self.verbose)\n"
     ]
    },
    {
     "name": "stdout",
     "output_type": "stream",
     "text": [
      "    Range : 0 ... 199999 =      0.000 ...   399.998 secs\n",
      "Ready.\n",
      "321 matching events found\n",
      "No baseline correction applied\n",
      "Not setting metadata\n",
      "0 projection items activated\n",
      "Loading data for 321 events and 500 original time points ...\n",
      "171 bad epochs dropped\n",
      "Overwriting existing file.\n",
      "fsaverage\n",
      "Opening raw data file /home/christian/synchedout/eegip/eegip/tests/test_artifacts/derivatives/eegip_london_preprocessed/sub-s637/ses-m06/eeg/sub-s637_ses-m06_eeg.fif...\n"
     ]
    },
    {
     "name": "stderr",
     "output_type": "stream",
     "text": [
      "/home/christian/synchedout/eegip/eegip/recording.py:209: RuntimeWarning: This filename (/home/christian/synchedout/eegip/eegip/tests/test_artifacts/derivatives/eegip_london_preprocessed/sub-s637/ses-m06/eeg/sub-s637_ses-m06_eeg.fif) does not conform to MNE naming conventions. All raw files should end with raw.fif, raw_sss.fif, raw_tsss.fif, raw.fif.gz, raw_sss.fif.gz, raw_tsss.fif.gz or _meg.fif\n",
      "  self._preprocessed_raw = mne.io.read_raw_fif(self.get_path(\"preprocessed_raw\"), verbose=self.verbose)\n"
     ]
    },
    {
     "name": "stdout",
     "output_type": "stream",
     "text": [
      "    Range : 0 ... 206999 =      0.000 ...   413.998 secs\n",
      "Ready.\n",
      "296 matching events found\n",
      "No baseline correction applied\n",
      "Not setting metadata\n",
      "0 projection items activated\n",
      "Loading data for 296 events and 500 original time points ...\n",
      "66 bad epochs dropped\n",
      "Overwriting existing file.\n",
      "fsaverage\n",
      "Opening raw data file /home/christian/synchedout/eegip/eegip/tests/test_artifacts/derivatives/eegip_london_preprocessed/sub-s638/ses-m06/eeg/sub-s638_ses-m06_eeg.fif...\n"
     ]
    },
    {
     "name": "stderr",
     "output_type": "stream",
     "text": [
      "/home/christian/synchedout/eegip/eegip/recording.py:209: RuntimeWarning: This filename (/home/christian/synchedout/eegip/eegip/tests/test_artifacts/derivatives/eegip_london_preprocessed/sub-s638/ses-m06/eeg/sub-s638_ses-m06_eeg.fif) does not conform to MNE naming conventions. All raw files should end with raw.fif, raw_sss.fif, raw_tsss.fif, raw.fif.gz, raw_sss.fif.gz, raw_tsss.fif.gz or _meg.fif\n",
      "  self._preprocessed_raw = mne.io.read_raw_fif(self.get_path(\"preprocessed_raw\"), verbose=self.verbose)\n"
     ]
    },
    {
     "name": "stdout",
     "output_type": "stream",
     "text": [
      "    Range : 0 ... 267499 =      0.000 ...   534.998 secs\n",
      "Ready.\n",
      "397 matching events found\n",
      "No baseline correction applied\n",
      "Not setting metadata\n",
      "0 projection items activated\n",
      "Loading data for 397 events and 500 original time points ...\n",
      "152 bad epochs dropped\n",
      "Overwriting existing file.\n",
      "fsaverage\n",
      "Opening raw data file /home/christian/synchedout/eegip/eegip/tests/test_artifacts/derivatives/eegip_london_preprocessed/sub-s639/ses-m06/eeg/sub-s639_ses-m06_eeg.fif...\n"
     ]
    },
    {
     "name": "stderr",
     "output_type": "stream",
     "text": [
      "/home/christian/synchedout/eegip/eegip/recording.py:209: RuntimeWarning: This filename (/home/christian/synchedout/eegip/eegip/tests/test_artifacts/derivatives/eegip_london_preprocessed/sub-s639/ses-m06/eeg/sub-s639_ses-m06_eeg.fif) does not conform to MNE naming conventions. All raw files should end with raw.fif, raw_sss.fif, raw_tsss.fif, raw.fif.gz, raw_sss.fif.gz, raw_tsss.fif.gz or _meg.fif\n",
      "  self._preprocessed_raw = mne.io.read_raw_fif(self.get_path(\"preprocessed_raw\"), verbose=self.verbose)\n"
     ]
    },
    {
     "name": "stdout",
     "output_type": "stream",
     "text": [
      "    Range : 0 ... 179499 =      0.000 ...   358.998 secs\n",
      "Ready.\n",
      "280 matching events found\n",
      "No baseline correction applied\n",
      "Not setting metadata\n",
      "0 projection items activated\n",
      "Loading data for 280 events and 500 original time points ...\n",
      "91 bad epochs dropped\n",
      "Overwriting existing file.\n",
      "fsaverage\n",
      "Opening raw data file /home/christian/synchedout/eegip/eegip/tests/test_artifacts/derivatives/eegip_london_preprocessed/sub-s640/ses-m06/eeg/sub-s640_ses-m06_eeg.fif...\n"
     ]
    },
    {
     "name": "stderr",
     "output_type": "stream",
     "text": [
      "/home/christian/synchedout/eegip/eegip/recording.py:209: RuntimeWarning: This filename (/home/christian/synchedout/eegip/eegip/tests/test_artifacts/derivatives/eegip_london_preprocessed/sub-s640/ses-m06/eeg/sub-s640_ses-m06_eeg.fif) does not conform to MNE naming conventions. All raw files should end with raw.fif, raw_sss.fif, raw_tsss.fif, raw.fif.gz, raw_sss.fif.gz, raw_tsss.fif.gz or _meg.fif\n",
      "  self._preprocessed_raw = mne.io.read_raw_fif(self.get_path(\"preprocessed_raw\"), verbose=self.verbose)\n"
     ]
    },
    {
     "name": "stdout",
     "output_type": "stream",
     "text": [
      "    Range : 0 ... 181499 =      0.000 ...   362.998 secs\n",
      "Ready.\n",
      "243 matching events found\n",
      "No baseline correction applied\n",
      "Not setting metadata\n",
      "0 projection items activated\n",
      "Loading data for 243 events and 500 original time points ...\n",
      "127 bad epochs dropped\n",
      "Overwriting existing file.\n",
      "fsaverage\n",
      "Opening raw data file /home/christian/synchedout/eegip/eegip/tests/test_artifacts/derivatives/eegip_london_preprocessed/sub-s641/ses-m06/eeg/sub-s641_ses-m06_eeg.fif...\n"
     ]
    },
    {
     "name": "stderr",
     "output_type": "stream",
     "text": [
      "/home/christian/synchedout/eegip/eegip/recording.py:209: RuntimeWarning: This filename (/home/christian/synchedout/eegip/eegip/tests/test_artifacts/derivatives/eegip_london_preprocessed/sub-s641/ses-m06/eeg/sub-s641_ses-m06_eeg.fif) does not conform to MNE naming conventions. All raw files should end with raw.fif, raw_sss.fif, raw_tsss.fif, raw.fif.gz, raw_sss.fif.gz, raw_tsss.fif.gz or _meg.fif\n",
      "  self._preprocessed_raw = mne.io.read_raw_fif(self.get_path(\"preprocessed_raw\"), verbose=self.verbose)\n"
     ]
    },
    {
     "name": "stdout",
     "output_type": "stream",
     "text": [
      "    Range : 0 ... 271999 =      0.000 ...   543.998 secs\n",
      "Ready.\n",
      "336 matching events found\n",
      "No baseline correction applied\n",
      "Not setting metadata\n",
      "0 projection items activated\n",
      "Loading data for 336 events and 500 original time points ...\n",
      "229 bad epochs dropped\n",
      "Overwriting existing file.\n",
      "fsaverage\n",
      "Opening raw data file /home/christian/synchedout/eegip/eegip/tests/test_artifacts/derivatives/eegip_london_preprocessed/sub-s642/ses-m06/eeg/sub-s642_ses-m06_eeg.fif...\n"
     ]
    },
    {
     "name": "stderr",
     "output_type": "stream",
     "text": [
      "/home/christian/synchedout/eegip/eegip/recording.py:209: RuntimeWarning: This filename (/home/christian/synchedout/eegip/eegip/tests/test_artifacts/derivatives/eegip_london_preprocessed/sub-s642/ses-m06/eeg/sub-s642_ses-m06_eeg.fif) does not conform to MNE naming conventions. All raw files should end with raw.fif, raw_sss.fif, raw_tsss.fif, raw.fif.gz, raw_sss.fif.gz, raw_tsss.fif.gz or _meg.fif\n",
      "  self._preprocessed_raw = mne.io.read_raw_fif(self.get_path(\"preprocessed_raw\"), verbose=self.verbose)\n"
     ]
    },
    {
     "name": "stdout",
     "output_type": "stream",
     "text": [
      "    Range : 0 ... 298999 =      0.000 ...   597.998 secs\n",
      "Ready.\n",
      "463 matching events found\n",
      "No baseline correction applied\n",
      "Not setting metadata\n",
      "0 projection items activated\n",
      "Loading data for 463 events and 500 original time points ...\n",
      "224 bad epochs dropped\n",
      "Overwriting existing file.\n",
      "fsaverage\n",
      "Opening raw data file /home/christian/synchedout/eegip/eegip/tests/test_artifacts/derivatives/eegip_london_preprocessed/sub-s643/ses-m06/eeg/sub-s643_ses-m06_eeg.fif...\n"
     ]
    },
    {
     "name": "stderr",
     "output_type": "stream",
     "text": [
      "/home/christian/synchedout/eegip/eegip/recording.py:209: RuntimeWarning: This filename (/home/christian/synchedout/eegip/eegip/tests/test_artifacts/derivatives/eegip_london_preprocessed/sub-s643/ses-m06/eeg/sub-s643_ses-m06_eeg.fif) does not conform to MNE naming conventions. All raw files should end with raw.fif, raw_sss.fif, raw_tsss.fif, raw.fif.gz, raw_sss.fif.gz, raw_tsss.fif.gz or _meg.fif\n",
      "  self._preprocessed_raw = mne.io.read_raw_fif(self.get_path(\"preprocessed_raw\"), verbose=self.verbose)\n"
     ]
    },
    {
     "name": "stdout",
     "output_type": "stream",
     "text": [
      "    Range : 0 ... 236999 =      0.000 ...   473.998 secs\n",
      "Ready.\n",
      "390 matching events found\n",
      "No baseline correction applied\n",
      "Not setting metadata\n",
      "0 projection items activated\n",
      "Loading data for 390 events and 500 original time points ...\n",
      "99 bad epochs dropped\n",
      "Overwriting existing file.\n",
      "fsaverage\n",
      "Opening raw data file /home/christian/synchedout/eegip/eegip/tests/test_artifacts/derivatives/eegip_london_preprocessed/sub-s645/ses-m06/eeg/sub-s645_ses-m06_eeg.fif...\n"
     ]
    },
    {
     "name": "stderr",
     "output_type": "stream",
     "text": [
      "/home/christian/synchedout/eegip/eegip/recording.py:209: RuntimeWarning: This filename (/home/christian/synchedout/eegip/eegip/tests/test_artifacts/derivatives/eegip_london_preprocessed/sub-s645/ses-m06/eeg/sub-s645_ses-m06_eeg.fif) does not conform to MNE naming conventions. All raw files should end with raw.fif, raw_sss.fif, raw_tsss.fif, raw.fif.gz, raw_sss.fif.gz, raw_tsss.fif.gz or _meg.fif\n",
      "  self._preprocessed_raw = mne.io.read_raw_fif(self.get_path(\"preprocessed_raw\"), verbose=self.verbose)\n"
     ]
    },
    {
     "name": "stdout",
     "output_type": "stream",
     "text": [
      "    Range : 0 ... 220499 =      0.000 ...   440.998 secs\n",
      "Ready.\n",
      "317 matching events found\n",
      "No baseline correction applied\n",
      "Not setting metadata\n",
      "0 projection items activated\n",
      "Loading data for 317 events and 500 original time points ...\n",
      "162 bad epochs dropped\n",
      "Overwriting existing file.\n",
      "fsaverage\n",
      "Opening raw data file /home/christian/synchedout/eegip/eegip/tests/test_artifacts/derivatives/eegip_london_preprocessed/sub-s646/ses-m06/eeg/sub-s646_ses-m06_eeg.fif...\n"
     ]
    },
    {
     "name": "stderr",
     "output_type": "stream",
     "text": [
      "/home/christian/synchedout/eegip/eegip/recording.py:209: RuntimeWarning: This filename (/home/christian/synchedout/eegip/eegip/tests/test_artifacts/derivatives/eegip_london_preprocessed/sub-s646/ses-m06/eeg/sub-s646_ses-m06_eeg.fif) does not conform to MNE naming conventions. All raw files should end with raw.fif, raw_sss.fif, raw_tsss.fif, raw.fif.gz, raw_sss.fif.gz, raw_tsss.fif.gz or _meg.fif\n",
      "  self._preprocessed_raw = mne.io.read_raw_fif(self.get_path(\"preprocessed_raw\"), verbose=self.verbose)\n"
     ]
    },
    {
     "name": "stdout",
     "output_type": "stream",
     "text": [
      "    Range : 0 ... 196999 =      0.000 ...   393.998 secs\n",
      "Ready.\n",
      "318 matching events found\n",
      "No baseline correction applied\n",
      "Not setting metadata\n",
      "0 projection items activated\n",
      "Loading data for 318 events and 500 original time points ...\n",
      "155 bad epochs dropped\n",
      "Overwriting existing file.\n",
      "fsaverage\n",
      "Opening raw data file /home/christian/synchedout/eegip/eegip/tests/test_artifacts/derivatives/eegip_london_preprocessed/sub-s647/ses-m06/eeg/sub-s647_ses-m06_eeg.fif...\n"
     ]
    },
    {
     "name": "stderr",
     "output_type": "stream",
     "text": [
      "/home/christian/synchedout/eegip/eegip/recording.py:209: RuntimeWarning: This filename (/home/christian/synchedout/eegip/eegip/tests/test_artifacts/derivatives/eegip_london_preprocessed/sub-s647/ses-m06/eeg/sub-s647_ses-m06_eeg.fif) does not conform to MNE naming conventions. All raw files should end with raw.fif, raw_sss.fif, raw_tsss.fif, raw.fif.gz, raw_sss.fif.gz, raw_tsss.fif.gz or _meg.fif\n",
      "  self._preprocessed_raw = mne.io.read_raw_fif(self.get_path(\"preprocessed_raw\"), verbose=self.verbose)\n"
     ]
    },
    {
     "name": "stdout",
     "output_type": "stream",
     "text": [
      "    Range : 0 ... 193499 =      0.000 ...   386.998 secs\n",
      "Ready.\n",
      "262 matching events found\n",
      "No baseline correction applied\n",
      "Not setting metadata\n",
      "0 projection items activated\n",
      "Loading data for 262 events and 500 original time points ...\n",
      "41 bad epochs dropped\n",
      "Overwriting existing file.\n",
      "fsaverage\n",
      "Opening raw data file /home/christian/synchedout/eegip/eegip/tests/test_artifacts/derivatives/eegip_london_preprocessed/sub-s648/ses-m06/eeg/sub-s648_ses-m06_eeg.fif...\n"
     ]
    },
    {
     "name": "stderr",
     "output_type": "stream",
     "text": [
      "/home/christian/synchedout/eegip/eegip/recording.py:209: RuntimeWarning: This filename (/home/christian/synchedout/eegip/eegip/tests/test_artifacts/derivatives/eegip_london_preprocessed/sub-s648/ses-m06/eeg/sub-s648_ses-m06_eeg.fif) does not conform to MNE naming conventions. All raw files should end with raw.fif, raw_sss.fif, raw_tsss.fif, raw.fif.gz, raw_sss.fif.gz, raw_tsss.fif.gz or _meg.fif\n",
      "  self._preprocessed_raw = mne.io.read_raw_fif(self.get_path(\"preprocessed_raw\"), verbose=self.verbose)\n"
     ]
    },
    {
     "name": "stdout",
     "output_type": "stream",
     "text": [
      "    Range : 0 ... 204999 =      0.000 ...   409.998 secs\n",
      "Ready.\n",
      "332 matching events found\n",
      "No baseline correction applied\n",
      "Not setting metadata\n",
      "0 projection items activated\n",
      "Loading data for 332 events and 500 original time points ...\n",
      "131 bad epochs dropped\n",
      "Overwriting existing file.\n",
      "fsaverage\n",
      "Opening raw data file /home/christian/synchedout/eegip/eegip/tests/test_artifacts/derivatives/eegip_london_preprocessed/sub-s649/ses-m06/eeg/sub-s649_ses-m06_eeg.fif...\n"
     ]
    },
    {
     "name": "stderr",
     "output_type": "stream",
     "text": [
      "/home/christian/synchedout/eegip/eegip/recording.py:209: RuntimeWarning: This filename (/home/christian/synchedout/eegip/eegip/tests/test_artifacts/derivatives/eegip_london_preprocessed/sub-s649/ses-m06/eeg/sub-s649_ses-m06_eeg.fif) does not conform to MNE naming conventions. All raw files should end with raw.fif, raw_sss.fif, raw_tsss.fif, raw.fif.gz, raw_sss.fif.gz, raw_tsss.fif.gz or _meg.fif\n",
      "  self._preprocessed_raw = mne.io.read_raw_fif(self.get_path(\"preprocessed_raw\"), verbose=self.verbose)\n"
     ]
    },
    {
     "name": "stdout",
     "output_type": "stream",
     "text": [
      "    Range : 0 ... 270999 =      0.000 ...   541.998 secs\n",
      "Ready.\n",
      "412 matching events found\n",
      "No baseline correction applied\n",
      "Not setting metadata\n",
      "0 projection items activated\n",
      "Loading data for 412 events and 500 original time points ...\n",
      "123 bad epochs dropped\n",
      "Overwriting existing file.\n",
      "fsaverage\n",
      "Opening raw data file /home/christian/synchedout/eegip/eegip/tests/test_artifacts/derivatives/eegip_london_preprocessed/sub-s650/ses-m06/eeg/sub-s650_ses-m06_eeg.fif...\n"
     ]
    },
    {
     "name": "stderr",
     "output_type": "stream",
     "text": [
      "/home/christian/synchedout/eegip/eegip/recording.py:209: RuntimeWarning: This filename (/home/christian/synchedout/eegip/eegip/tests/test_artifacts/derivatives/eegip_london_preprocessed/sub-s650/ses-m06/eeg/sub-s650_ses-m06_eeg.fif) does not conform to MNE naming conventions. All raw files should end with raw.fif, raw_sss.fif, raw_tsss.fif, raw.fif.gz, raw_sss.fif.gz, raw_tsss.fif.gz or _meg.fif\n",
      "  self._preprocessed_raw = mne.io.read_raw_fif(self.get_path(\"preprocessed_raw\"), verbose=self.verbose)\n"
     ]
    },
    {
     "name": "stdout",
     "output_type": "stream",
     "text": [
      "    Range : 0 ... 207499 =      0.000 ...   414.998 secs\n",
      "Ready.\n",
      "334 matching events found\n",
      "No baseline correction applied\n",
      "Not setting metadata\n",
      "0 projection items activated\n",
      "Loading data for 334 events and 500 original time points ...\n",
      "45 bad epochs dropped\n",
      "Overwriting existing file.\n",
      "fsaverage\n",
      "Opening raw data file /home/christian/synchedout/eegip/eegip/tests/test_artifacts/derivatives/eegip_london_preprocessed/sub-s651/ses-m06/eeg/sub-s651_ses-m06_eeg.fif...\n"
     ]
    },
    {
     "name": "stderr",
     "output_type": "stream",
     "text": [
      "/home/christian/synchedout/eegip/eegip/recording.py:209: RuntimeWarning: This filename (/home/christian/synchedout/eegip/eegip/tests/test_artifacts/derivatives/eegip_london_preprocessed/sub-s651/ses-m06/eeg/sub-s651_ses-m06_eeg.fif) does not conform to MNE naming conventions. All raw files should end with raw.fif, raw_sss.fif, raw_tsss.fif, raw.fif.gz, raw_sss.fif.gz, raw_tsss.fif.gz or _meg.fif\n",
      "  self._preprocessed_raw = mne.io.read_raw_fif(self.get_path(\"preprocessed_raw\"), verbose=self.verbose)\n"
     ]
    },
    {
     "name": "stdout",
     "output_type": "stream",
     "text": [
      "    Range : 0 ... 231499 =      0.000 ...   462.998 secs\n",
      "Ready.\n",
      "339 matching events found\n",
      "No baseline correction applied\n",
      "Not setting metadata\n",
      "0 projection items activated\n",
      "Loading data for 339 events and 500 original time points ...\n",
      "108 bad epochs dropped\n",
      "Overwriting existing file.\n",
      "fsaverage\n",
      "Opening raw data file /home/christian/synchedout/eegip/eegip/tests/test_artifacts/derivatives/eegip_london_preprocessed/sub-s652/ses-m06/eeg/sub-s652_ses-m06_eeg.fif...\n"
     ]
    },
    {
     "name": "stderr",
     "output_type": "stream",
     "text": [
      "/home/christian/synchedout/eegip/eegip/recording.py:209: RuntimeWarning: This filename (/home/christian/synchedout/eegip/eegip/tests/test_artifacts/derivatives/eegip_london_preprocessed/sub-s652/ses-m06/eeg/sub-s652_ses-m06_eeg.fif) does not conform to MNE naming conventions. All raw files should end with raw.fif, raw_sss.fif, raw_tsss.fif, raw.fif.gz, raw_sss.fif.gz, raw_tsss.fif.gz or _meg.fif\n",
      "  self._preprocessed_raw = mne.io.read_raw_fif(self.get_path(\"preprocessed_raw\"), verbose=self.verbose)\n"
     ]
    },
    {
     "name": "stdout",
     "output_type": "stream",
     "text": [
      "    Range : 0 ... 154999 =      0.000 ...   309.998 secs\n",
      "Ready.\n",
      "201 matching events found\n",
      "No baseline correction applied\n",
      "Not setting metadata\n",
      "0 projection items activated\n",
      "Loading data for 201 events and 500 original time points ...\n",
      "91 bad epochs dropped\n",
      "Overwriting existing file.\n",
      "fsaverage\n",
      "Opening raw data file /home/christian/synchedout/eegip/eegip/tests/test_artifacts/derivatives/eegip_london_preprocessed/sub-s653/ses-m06/eeg/sub-s653_ses-m06_eeg.fif...\n"
     ]
    },
    {
     "name": "stderr",
     "output_type": "stream",
     "text": [
      "/home/christian/synchedout/eegip/eegip/recording.py:209: RuntimeWarning: This filename (/home/christian/synchedout/eegip/eegip/tests/test_artifacts/derivatives/eegip_london_preprocessed/sub-s653/ses-m06/eeg/sub-s653_ses-m06_eeg.fif) does not conform to MNE naming conventions. All raw files should end with raw.fif, raw_sss.fif, raw_tsss.fif, raw.fif.gz, raw_sss.fif.gz, raw_tsss.fif.gz or _meg.fif\n",
      "  self._preprocessed_raw = mne.io.read_raw_fif(self.get_path(\"preprocessed_raw\"), verbose=self.verbose)\n"
     ]
    },
    {
     "name": "stdout",
     "output_type": "stream",
     "text": [
      "    Range : 0 ... 347499 =      0.000 ...   694.998 secs\n",
      "Ready.\n",
      "591 matching events found\n",
      "No baseline correction applied\n",
      "Not setting metadata\n",
      "0 projection items activated\n",
      "Loading data for 591 events and 500 original time points ...\n",
      "241 bad epochs dropped\n",
      "Overwriting existing file.\n",
      "fsaverage\n",
      "Opening raw data file /home/christian/synchedout/eegip/eegip/tests/test_artifacts/derivatives/eegip_london_preprocessed/sub-s654/ses-m06/eeg/sub-s654_ses-m06_eeg.fif...\n"
     ]
    },
    {
     "name": "stderr",
     "output_type": "stream",
     "text": [
      "/home/christian/synchedout/eegip/eegip/recording.py:209: RuntimeWarning: This filename (/home/christian/synchedout/eegip/eegip/tests/test_artifacts/derivatives/eegip_london_preprocessed/sub-s654/ses-m06/eeg/sub-s654_ses-m06_eeg.fif) does not conform to MNE naming conventions. All raw files should end with raw.fif, raw_sss.fif, raw_tsss.fif, raw.fif.gz, raw_sss.fif.gz, raw_tsss.fif.gz or _meg.fif\n",
      "  self._preprocessed_raw = mne.io.read_raw_fif(self.get_path(\"preprocessed_raw\"), verbose=self.verbose)\n"
     ]
    },
    {
     "name": "stdout",
     "output_type": "stream",
     "text": [
      "    Range : 0 ... 275999 =      0.000 ...   551.998 secs\n",
      "Ready.\n",
      "460 matching events found\n",
      "No baseline correction applied\n",
      "Not setting metadata\n",
      "0 projection items activated\n",
      "Loading data for 460 events and 500 original time points ...\n",
      "164 bad epochs dropped\n",
      "Overwriting existing file.\n",
      "fsaverage\n",
      "Opening raw data file /home/christian/synchedout/eegip/eegip/tests/test_artifacts/derivatives/eegip_london_preprocessed/sub-s655/ses-m06/eeg/sub-s655_ses-m06_eeg.fif...\n"
     ]
    },
    {
     "name": "stderr",
     "output_type": "stream",
     "text": [
      "/home/christian/synchedout/eegip/eegip/recording.py:209: RuntimeWarning: This filename (/home/christian/synchedout/eegip/eegip/tests/test_artifacts/derivatives/eegip_london_preprocessed/sub-s655/ses-m06/eeg/sub-s655_ses-m06_eeg.fif) does not conform to MNE naming conventions. All raw files should end with raw.fif, raw_sss.fif, raw_tsss.fif, raw.fif.gz, raw_sss.fif.gz, raw_tsss.fif.gz or _meg.fif\n",
      "  self._preprocessed_raw = mne.io.read_raw_fif(self.get_path(\"preprocessed_raw\"), verbose=self.verbose)\n"
     ]
    },
    {
     "name": "stdout",
     "output_type": "stream",
     "text": [
      "    Range : 0 ... 261999 =      0.000 ...   523.998 secs\n",
      "Ready.\n",
      "394 matching events found\n",
      "No baseline correction applied\n",
      "Not setting metadata\n",
      "0 projection items activated\n",
      "Loading data for 394 events and 500 original time points ...\n",
      "185 bad epochs dropped\n",
      "Overwriting existing file.\n",
      "fsaverage\n",
      "Opening raw data file /home/christian/synchedout/eegip/eegip/tests/test_artifacts/derivatives/eegip_london_preprocessed/sub-s656/ses-m06/eeg/sub-s656_ses-m06_eeg.fif...\n"
     ]
    },
    {
     "name": "stderr",
     "output_type": "stream",
     "text": [
      "/home/christian/synchedout/eegip/eegip/recording.py:209: RuntimeWarning: This filename (/home/christian/synchedout/eegip/eegip/tests/test_artifacts/derivatives/eegip_london_preprocessed/sub-s656/ses-m06/eeg/sub-s656_ses-m06_eeg.fif) does not conform to MNE naming conventions. All raw files should end with raw.fif, raw_sss.fif, raw_tsss.fif, raw.fif.gz, raw_sss.fif.gz, raw_tsss.fif.gz or _meg.fif\n",
      "  self._preprocessed_raw = mne.io.read_raw_fif(self.get_path(\"preprocessed_raw\"), verbose=self.verbose)\n"
     ]
    },
    {
     "name": "stdout",
     "output_type": "stream",
     "text": [
      "    Range : 0 ... 446499 =      0.000 ...   892.998 secs\n",
      "Ready.\n",
      "648 matching events found\n",
      "No baseline correction applied\n",
      "Not setting metadata\n",
      "0 projection items activated\n",
      "Loading data for 648 events and 500 original time points ...\n",
      "304 bad epochs dropped\n",
      "Overwriting existing file.\n",
      "fsaverage\n",
      "Opening raw data file /home/christian/synchedout/eegip/eegip/tests/test_artifacts/derivatives/eegip_london_preprocessed/sub-s702/ses-m06/eeg/sub-s702_ses-m06_eeg.fif...\n"
     ]
    },
    {
     "name": "stderr",
     "output_type": "stream",
     "text": [
      "/home/christian/synchedout/eegip/eegip/recording.py:209: RuntimeWarning: This filename (/home/christian/synchedout/eegip/eegip/tests/test_artifacts/derivatives/eegip_london_preprocessed/sub-s702/ses-m06/eeg/sub-s702_ses-m06_eeg.fif) does not conform to MNE naming conventions. All raw files should end with raw.fif, raw_sss.fif, raw_tsss.fif, raw.fif.gz, raw_sss.fif.gz, raw_tsss.fif.gz or _meg.fif\n",
      "  self._preprocessed_raw = mne.io.read_raw_fif(self.get_path(\"preprocessed_raw\"), verbose=self.verbose)\n"
     ]
    },
    {
     "name": "stdout",
     "output_type": "stream",
     "text": [
      "    Range : 0 ... 196999 =      0.000 ...   393.998 secs\n",
      "Ready.\n",
      "326 matching events found\n",
      "No baseline correction applied\n",
      "Not setting metadata\n",
      "0 projection items activated\n",
      "Loading data for 326 events and 500 original time points ...\n",
      "170 bad epochs dropped\n",
      "Overwriting existing file.\n",
      "fsaverage\n",
      "Opening raw data file /home/christian/synchedout/eegip/eegip/tests/test_artifacts/derivatives/eegip_london_preprocessed/sub-s703/ses-m06/eeg/sub-s703_ses-m06_eeg.fif...\n"
     ]
    },
    {
     "name": "stderr",
     "output_type": "stream",
     "text": [
      "/home/christian/synchedout/eegip/eegip/recording.py:209: RuntimeWarning: This filename (/home/christian/synchedout/eegip/eegip/tests/test_artifacts/derivatives/eegip_london_preprocessed/sub-s703/ses-m06/eeg/sub-s703_ses-m06_eeg.fif) does not conform to MNE naming conventions. All raw files should end with raw.fif, raw_sss.fif, raw_tsss.fif, raw.fif.gz, raw_sss.fif.gz, raw_tsss.fif.gz or _meg.fif\n",
      "  self._preprocessed_raw = mne.io.read_raw_fif(self.get_path(\"preprocessed_raw\"), verbose=self.verbose)\n"
     ]
    },
    {
     "name": "stdout",
     "output_type": "stream",
     "text": [
      "    Range : 0 ... 260499 =      0.000 ...   520.998 secs\n",
      "Ready.\n",
      "443 matching events found\n",
      "No baseline correction applied\n",
      "Not setting metadata\n",
      "0 projection items activated\n",
      "Loading data for 443 events and 500 original time points ...\n",
      "158 bad epochs dropped\n",
      "Overwriting existing file.\n",
      "fsaverage\n",
      "Opening raw data file /home/christian/synchedout/eegip/eegip/tests/test_artifacts/derivatives/eegip_london_preprocessed/sub-s704/ses-m06/eeg/sub-s704_ses-m06_eeg.fif...\n"
     ]
    },
    {
     "name": "stderr",
     "output_type": "stream",
     "text": [
      "/home/christian/synchedout/eegip/eegip/recording.py:209: RuntimeWarning: This filename (/home/christian/synchedout/eegip/eegip/tests/test_artifacts/derivatives/eegip_london_preprocessed/sub-s704/ses-m06/eeg/sub-s704_ses-m06_eeg.fif) does not conform to MNE naming conventions. All raw files should end with raw.fif, raw_sss.fif, raw_tsss.fif, raw.fif.gz, raw_sss.fif.gz, raw_tsss.fif.gz or _meg.fif\n",
      "  self._preprocessed_raw = mne.io.read_raw_fif(self.get_path(\"preprocessed_raw\"), verbose=self.verbose)\n"
     ]
    },
    {
     "name": "stdout",
     "output_type": "stream",
     "text": [
      "    Range : 0 ... 136499 =      0.000 ...   272.998 secs\n",
      "Ready.\n",
      "212 matching events found\n",
      "No baseline correction applied\n",
      "Not setting metadata\n",
      "0 projection items activated\n",
      "Loading data for 212 events and 500 original time points ...\n",
      "160 bad epochs dropped\n",
      "Overwriting existing file.\n",
      "fsaverage\n",
      "Opening raw data file /home/christian/synchedout/eegip/eegip/tests/test_artifacts/derivatives/eegip_london_preprocessed/sub-s705/ses-m06/eeg/sub-s705_ses-m06_eeg.fif...\n"
     ]
    },
    {
     "name": "stderr",
     "output_type": "stream",
     "text": [
      "/home/christian/synchedout/eegip/eegip/recording.py:209: RuntimeWarning: This filename (/home/christian/synchedout/eegip/eegip/tests/test_artifacts/derivatives/eegip_london_preprocessed/sub-s705/ses-m06/eeg/sub-s705_ses-m06_eeg.fif) does not conform to MNE naming conventions. All raw files should end with raw.fif, raw_sss.fif, raw_tsss.fif, raw.fif.gz, raw_sss.fif.gz, raw_tsss.fif.gz or _meg.fif\n",
      "  self._preprocessed_raw = mne.io.read_raw_fif(self.get_path(\"preprocessed_raw\"), verbose=self.verbose)\n"
     ]
    },
    {
     "name": "stdout",
     "output_type": "stream",
     "text": [
      "    Range : 0 ... 227499 =      0.000 ...   454.998 secs\n",
      "Ready.\n",
      "382 matching events found\n",
      "No baseline correction applied\n",
      "Not setting metadata\n",
      "0 projection items activated\n",
      "Loading data for 382 events and 500 original time points ...\n",
      "192 bad epochs dropped\n",
      "Overwriting existing file.\n",
      "fsaverage\n",
      "Opening raw data file /home/christian/synchedout/eegip/eegip/tests/test_artifacts/derivatives/eegip_london_preprocessed/sub-s706/ses-m06/eeg/sub-s706_ses-m06_eeg.fif...\n"
     ]
    },
    {
     "name": "stderr",
     "output_type": "stream",
     "text": [
      "/home/christian/synchedout/eegip/eegip/recording.py:209: RuntimeWarning: This filename (/home/christian/synchedout/eegip/eegip/tests/test_artifacts/derivatives/eegip_london_preprocessed/sub-s706/ses-m06/eeg/sub-s706_ses-m06_eeg.fif) does not conform to MNE naming conventions. All raw files should end with raw.fif, raw_sss.fif, raw_tsss.fif, raw.fif.gz, raw_sss.fif.gz, raw_tsss.fif.gz or _meg.fif\n",
      "  self._preprocessed_raw = mne.io.read_raw_fif(self.get_path(\"preprocessed_raw\"), verbose=self.verbose)\n"
     ]
    },
    {
     "name": "stdout",
     "output_type": "stream",
     "text": [
      "    Range : 0 ... 266999 =      0.000 ...   533.998 secs\n",
      "Ready.\n",
      "421 matching events found\n",
      "No baseline correction applied\n",
      "Not setting metadata\n",
      "0 projection items activated\n",
      "Loading data for 421 events and 500 original time points ...\n",
      "112 bad epochs dropped\n",
      "Overwriting existing file.\n",
      "fsaverage\n",
      "Opening raw data file /home/christian/synchedout/eegip/eegip/tests/test_artifacts/derivatives/eegip_london_preprocessed/sub-s707/ses-m06/eeg/sub-s707_ses-m06_eeg.fif...\n"
     ]
    },
    {
     "name": "stderr",
     "output_type": "stream",
     "text": [
      "/home/christian/synchedout/eegip/eegip/recording.py:209: RuntimeWarning: This filename (/home/christian/synchedout/eegip/eegip/tests/test_artifacts/derivatives/eegip_london_preprocessed/sub-s707/ses-m06/eeg/sub-s707_ses-m06_eeg.fif) does not conform to MNE naming conventions. All raw files should end with raw.fif, raw_sss.fif, raw_tsss.fif, raw.fif.gz, raw_sss.fif.gz, raw_tsss.fif.gz or _meg.fif\n",
      "  self._preprocessed_raw = mne.io.read_raw_fif(self.get_path(\"preprocessed_raw\"), verbose=self.verbose)\n"
     ]
    },
    {
     "name": "stdout",
     "output_type": "stream",
     "text": [
      "    Range : 0 ... 193999 =      0.000 ...   387.998 secs\n",
      "Ready.\n",
      "306 matching events found\n",
      "No baseline correction applied\n",
      "Not setting metadata\n",
      "0 projection items activated\n",
      "Loading data for 306 events and 500 original time points ...\n",
      "169 bad epochs dropped\n",
      "Overwriting existing file.\n",
      "fsaverage\n",
      "Opening raw data file /home/christian/synchedout/eegip/eegip/tests/test_artifacts/derivatives/eegip_london_preprocessed/sub-s709/ses-m06/eeg/sub-s709_ses-m06_eeg.fif...\n"
     ]
    },
    {
     "name": "stderr",
     "output_type": "stream",
     "text": [
      "/home/christian/synchedout/eegip/eegip/recording.py:209: RuntimeWarning: This filename (/home/christian/synchedout/eegip/eegip/tests/test_artifacts/derivatives/eegip_london_preprocessed/sub-s709/ses-m06/eeg/sub-s709_ses-m06_eeg.fif) does not conform to MNE naming conventions. All raw files should end with raw.fif, raw_sss.fif, raw_tsss.fif, raw.fif.gz, raw_sss.fif.gz, raw_tsss.fif.gz or _meg.fif\n",
      "  self._preprocessed_raw = mne.io.read_raw_fif(self.get_path(\"preprocessed_raw\"), verbose=self.verbose)\n"
     ]
    },
    {
     "name": "stdout",
     "output_type": "stream",
     "text": [
      "    Range : 0 ... 288499 =      0.000 ...   576.998 secs\n",
      "Ready.\n",
      "436 matching events found\n",
      "No baseline correction applied\n",
      "Not setting metadata\n",
      "0 projection items activated\n",
      "Loading data for 436 events and 500 original time points ...\n",
      "198 bad epochs dropped\n",
      "Overwriting existing file.\n",
      "fsaverage\n",
      "Opening raw data file /home/christian/synchedout/eegip/eegip/tests/test_artifacts/derivatives/eegip_london_preprocessed/sub-s710/ses-m06/eeg/sub-s710_ses-m06_eeg.fif...\n"
     ]
    },
    {
     "name": "stderr",
     "output_type": "stream",
     "text": [
      "/home/christian/synchedout/eegip/eegip/recording.py:209: RuntimeWarning: This filename (/home/christian/synchedout/eegip/eegip/tests/test_artifacts/derivatives/eegip_london_preprocessed/sub-s710/ses-m06/eeg/sub-s710_ses-m06_eeg.fif) does not conform to MNE naming conventions. All raw files should end with raw.fif, raw_sss.fif, raw_tsss.fif, raw.fif.gz, raw_sss.fif.gz, raw_tsss.fif.gz or _meg.fif\n",
      "  self._preprocessed_raw = mne.io.read_raw_fif(self.get_path(\"preprocessed_raw\"), verbose=self.verbose)\n"
     ]
    },
    {
     "name": "stdout",
     "output_type": "stream",
     "text": [
      "    Range : 0 ... 268999 =      0.000 ...   537.998 secs\n",
      "Ready.\n",
      "429 matching events found\n",
      "No baseline correction applied\n",
      "Not setting metadata\n",
      "0 projection items activated\n",
      "Loading data for 429 events and 500 original time points ...\n",
      "239 bad epochs dropped\n",
      "Overwriting existing file.\n",
      "fsaverage\n",
      "Opening raw data file /home/christian/synchedout/eegip/eegip/tests/test_artifacts/derivatives/eegip_london_preprocessed/sub-s711/ses-m06/eeg/sub-s711_ses-m06_eeg.fif...\n"
     ]
    },
    {
     "name": "stderr",
     "output_type": "stream",
     "text": [
      "/home/christian/synchedout/eegip/eegip/recording.py:209: RuntimeWarning: This filename (/home/christian/synchedout/eegip/eegip/tests/test_artifacts/derivatives/eegip_london_preprocessed/sub-s711/ses-m06/eeg/sub-s711_ses-m06_eeg.fif) does not conform to MNE naming conventions. All raw files should end with raw.fif, raw_sss.fif, raw_tsss.fif, raw.fif.gz, raw_sss.fif.gz, raw_tsss.fif.gz or _meg.fif\n",
      "  self._preprocessed_raw = mne.io.read_raw_fif(self.get_path(\"preprocessed_raw\"), verbose=self.verbose)\n"
     ]
    },
    {
     "name": "stdout",
     "output_type": "stream",
     "text": [
      "    Range : 0 ... 269499 =      0.000 ...   538.998 secs\n",
      "Ready.\n",
      "419 matching events found\n",
      "No baseline correction applied\n",
      "Not setting metadata\n",
      "0 projection items activated\n",
      "Loading data for 419 events and 500 original time points ...\n",
      "242 bad epochs dropped\n",
      "Overwriting existing file.\n",
      "fsaverage\n",
      "Opening raw data file /home/christian/synchedout/eegip/eegip/tests/test_artifacts/derivatives/eegip_london_preprocessed/sub-s712/ses-m06/eeg/sub-s712_ses-m06_eeg.fif...\n"
     ]
    },
    {
     "name": "stderr",
     "output_type": "stream",
     "text": [
      "/home/christian/synchedout/eegip/eegip/recording.py:209: RuntimeWarning: This filename (/home/christian/synchedout/eegip/eegip/tests/test_artifacts/derivatives/eegip_london_preprocessed/sub-s712/ses-m06/eeg/sub-s712_ses-m06_eeg.fif) does not conform to MNE naming conventions. All raw files should end with raw.fif, raw_sss.fif, raw_tsss.fif, raw.fif.gz, raw_sss.fif.gz, raw_tsss.fif.gz or _meg.fif\n",
      "  self._preprocessed_raw = mne.io.read_raw_fif(self.get_path(\"preprocessed_raw\"), verbose=self.verbose)\n"
     ]
    },
    {
     "name": "stdout",
     "output_type": "stream",
     "text": [
      "    Range : 0 ... 446999 =      0.000 ...   893.998 secs\n",
      "Ready.\n",
      "770 matching events found\n",
      "No baseline correction applied\n",
      "Not setting metadata\n",
      "0 projection items activated\n",
      "Loading data for 770 events and 500 original time points ...\n",
      "135 bad epochs dropped\n",
      "Overwriting existing file.\n",
      "fsaverage\n",
      "Opening raw data file /home/christian/synchedout/eegip/eegip/tests/test_artifacts/derivatives/eegip_london_preprocessed/sub-s713/ses-m06/eeg/sub-s713_ses-m06_eeg.fif...\n"
     ]
    },
    {
     "name": "stderr",
     "output_type": "stream",
     "text": [
      "/home/christian/synchedout/eegip/eegip/recording.py:209: RuntimeWarning: This filename (/home/christian/synchedout/eegip/eegip/tests/test_artifacts/derivatives/eegip_london_preprocessed/sub-s713/ses-m06/eeg/sub-s713_ses-m06_eeg.fif) does not conform to MNE naming conventions. All raw files should end with raw.fif, raw_sss.fif, raw_tsss.fif, raw.fif.gz, raw_sss.fif.gz, raw_tsss.fif.gz or _meg.fif\n",
      "  self._preprocessed_raw = mne.io.read_raw_fif(self.get_path(\"preprocessed_raw\"), verbose=self.verbose)\n"
     ]
    },
    {
     "name": "stdout",
     "output_type": "stream",
     "text": [
      "    Range : 0 ... 205999 =      0.000 ...   411.998 secs\n",
      "Ready.\n",
      "334 matching events found\n",
      "No baseline correction applied\n",
      "Not setting metadata\n",
      "0 projection items activated\n",
      "Loading data for 334 events and 500 original time points ...\n",
      "56 bad epochs dropped\n",
      "Overwriting existing file.\n",
      "fsaverage\n",
      "Opening raw data file /home/christian/synchedout/eegip/eegip/tests/test_artifacts/derivatives/eegip_london_preprocessed/sub-s714/ses-m06/eeg/sub-s714_ses-m06_eeg.fif...\n",
      "    Range : 0 ... 63499 =      0.000 ...   126.998 secs\n",
      "Ready.\n",
      "71 matching events found\n",
      "No baseline correction applied\n",
      "Not setting metadata\n",
      "0 projection items activated\n",
      "Loading data for 71 events and 500 original time points ...\n"
     ]
    },
    {
     "name": "stderr",
     "output_type": "stream",
     "text": [
      "/home/christian/synchedout/eegip/eegip/recording.py:209: RuntimeWarning: This filename (/home/christian/synchedout/eegip/eegip/tests/test_artifacts/derivatives/eegip_london_preprocessed/sub-s714/ses-m06/eeg/sub-s714_ses-m06_eeg.fif) does not conform to MNE naming conventions. All raw files should end with raw.fif, raw_sss.fif, raw_tsss.fif, raw.fif.gz, raw_sss.fif.gz, raw_tsss.fif.gz or _meg.fif\n",
      "  self._preprocessed_raw = mne.io.read_raw_fif(self.get_path(\"preprocessed_raw\"), verbose=self.verbose)\n"
     ]
    },
    {
     "name": "stdout",
     "output_type": "stream",
     "text": [
      "38 bad epochs dropped\n",
      "Overwriting existing file.\n",
      "fsaverage\n",
      "Opening raw data file /home/christian/synchedout/eegip/eegip/tests/test_artifacts/derivatives/eegip_london_preprocessed/sub-s715/ses-m06/eeg/sub-s715_ses-m06_eeg.fif...\n"
     ]
    },
    {
     "name": "stderr",
     "output_type": "stream",
     "text": [
      "/home/christian/synchedout/eegip/eegip/recording.py:209: RuntimeWarning: This filename (/home/christian/synchedout/eegip/eegip/tests/test_artifacts/derivatives/eegip_london_preprocessed/sub-s715/ses-m06/eeg/sub-s715_ses-m06_eeg.fif) does not conform to MNE naming conventions. All raw files should end with raw.fif, raw_sss.fif, raw_tsss.fif, raw.fif.gz, raw_sss.fif.gz, raw_tsss.fif.gz or _meg.fif\n",
      "  self._preprocessed_raw = mne.io.read_raw_fif(self.get_path(\"preprocessed_raw\"), verbose=self.verbose)\n"
     ]
    },
    {
     "name": "stdout",
     "output_type": "stream",
     "text": [
      "    Range : 0 ... 209999 =      0.000 ...   419.998 secs\n",
      "Ready.\n",
      "343 matching events found\n",
      "No baseline correction applied\n",
      "Not setting metadata\n",
      "0 projection items activated\n",
      "Loading data for 343 events and 500 original time points ...\n",
      "147 bad epochs dropped\n",
      "Overwriting existing file.\n",
      "fsaverage\n",
      "Opening raw data file /home/christian/synchedout/eegip/eegip/tests/test_artifacts/derivatives/eegip_london_preprocessed/sub-s716/ses-m06/eeg/sub-s716_ses-m06_eeg.fif...\n"
     ]
    },
    {
     "name": "stderr",
     "output_type": "stream",
     "text": [
      "/home/christian/synchedout/eegip/eegip/recording.py:209: RuntimeWarning: This filename (/home/christian/synchedout/eegip/eegip/tests/test_artifacts/derivatives/eegip_london_preprocessed/sub-s716/ses-m06/eeg/sub-s716_ses-m06_eeg.fif) does not conform to MNE naming conventions. All raw files should end with raw.fif, raw_sss.fif, raw_tsss.fif, raw.fif.gz, raw_sss.fif.gz, raw_tsss.fif.gz or _meg.fif\n",
      "  self._preprocessed_raw = mne.io.read_raw_fif(self.get_path(\"preprocessed_raw\"), verbose=self.verbose)\n"
     ]
    },
    {
     "name": "stdout",
     "output_type": "stream",
     "text": [
      "    Range : 0 ... 256999 =      0.000 ...   513.998 secs\n",
      "Ready.\n",
      "374 matching events found\n",
      "No baseline correction applied\n",
      "Not setting metadata\n",
      "0 projection items activated\n",
      "Loading data for 374 events and 500 original time points ...\n",
      "137 bad epochs dropped\n",
      "Overwriting existing file.\n",
      "fsaverage\n",
      "Opening raw data file /home/christian/synchedout/eegip/eegip/tests/test_artifacts/derivatives/eegip_london_preprocessed/sub-s717/ses-m06/eeg/sub-s717_ses-m06_eeg.fif...\n"
     ]
    },
    {
     "name": "stderr",
     "output_type": "stream",
     "text": [
      "/home/christian/synchedout/eegip/eegip/recording.py:209: RuntimeWarning: This filename (/home/christian/synchedout/eegip/eegip/tests/test_artifacts/derivatives/eegip_london_preprocessed/sub-s717/ses-m06/eeg/sub-s717_ses-m06_eeg.fif) does not conform to MNE naming conventions. All raw files should end with raw.fif, raw_sss.fif, raw_tsss.fif, raw.fif.gz, raw_sss.fif.gz, raw_tsss.fif.gz or _meg.fif\n",
      "  self._preprocessed_raw = mne.io.read_raw_fif(self.get_path(\"preprocessed_raw\"), verbose=self.verbose)\n"
     ]
    },
    {
     "name": "stdout",
     "output_type": "stream",
     "text": [
      "    Range : 0 ... 213999 =      0.000 ...   427.998 secs\n",
      "Ready.\n",
      "305 matching events found\n",
      "No baseline correction applied\n",
      "Not setting metadata\n",
      "0 projection items activated\n",
      "Loading data for 305 events and 500 original time points ...\n",
      "168 bad epochs dropped\n",
      "Overwriting existing file.\n",
      "fsaverage\n",
      "Opening raw data file /home/christian/synchedout/eegip/eegip/tests/test_artifacts/derivatives/eegip_london_preprocessed/sub-s719/ses-m06/eeg/sub-s719_ses-m06_eeg.fif...\n"
     ]
    },
    {
     "name": "stderr",
     "output_type": "stream",
     "text": [
      "/home/christian/synchedout/eegip/eegip/recording.py:209: RuntimeWarning: This filename (/home/christian/synchedout/eegip/eegip/tests/test_artifacts/derivatives/eegip_london_preprocessed/sub-s719/ses-m06/eeg/sub-s719_ses-m06_eeg.fif) does not conform to MNE naming conventions. All raw files should end with raw.fif, raw_sss.fif, raw_tsss.fif, raw.fif.gz, raw_sss.fif.gz, raw_tsss.fif.gz or _meg.fif\n",
      "  self._preprocessed_raw = mne.io.read_raw_fif(self.get_path(\"preprocessed_raw\"), verbose=self.verbose)\n"
     ]
    },
    {
     "name": "stdout",
     "output_type": "stream",
     "text": [
      "    Range : 0 ... 194499 =      0.000 ...   388.998 secs\n",
      "Ready.\n",
      "266 matching events found\n",
      "No baseline correction applied\n",
      "Not setting metadata\n",
      "0 projection items activated\n",
      "Loading data for 266 events and 500 original time points ...\n",
      "127 bad epochs dropped\n",
      "Overwriting existing file.\n",
      "fsaverage\n",
      "Opening raw data file /home/christian/synchedout/eegip/eegip/tests/test_artifacts/derivatives/eegip_london_preprocessed/sub-s720/ses-m06/eeg/sub-s720_ses-m06_eeg.fif...\n"
     ]
    },
    {
     "name": "stderr",
     "output_type": "stream",
     "text": [
      "/home/christian/synchedout/eegip/eegip/recording.py:209: RuntimeWarning: This filename (/home/christian/synchedout/eegip/eegip/tests/test_artifacts/derivatives/eegip_london_preprocessed/sub-s720/ses-m06/eeg/sub-s720_ses-m06_eeg.fif) does not conform to MNE naming conventions. All raw files should end with raw.fif, raw_sss.fif, raw_tsss.fif, raw.fif.gz, raw_sss.fif.gz, raw_tsss.fif.gz or _meg.fif\n",
      "  self._preprocessed_raw = mne.io.read_raw_fif(self.get_path(\"preprocessed_raw\"), verbose=self.verbose)\n"
     ]
    },
    {
     "name": "stdout",
     "output_type": "stream",
     "text": [
      "    Range : 0 ... 241999 =      0.000 ...   483.998 secs\n",
      "Ready.\n",
      "391 matching events found\n",
      "No baseline correction applied\n",
      "Not setting metadata\n",
      "0 projection items activated\n",
      "Loading data for 391 events and 500 original time points ...\n",
      "195 bad epochs dropped\n",
      "Overwriting existing file.\n",
      "fsaverage\n",
      "Opening raw data file /home/christian/synchedout/eegip/eegip/tests/test_artifacts/derivatives/eegip_london_preprocessed/sub-s721/ses-m06/eeg/sub-s721_ses-m06_eeg.fif...\n"
     ]
    },
    {
     "name": "stderr",
     "output_type": "stream",
     "text": [
      "/home/christian/synchedout/eegip/eegip/recording.py:209: RuntimeWarning: This filename (/home/christian/synchedout/eegip/eegip/tests/test_artifacts/derivatives/eegip_london_preprocessed/sub-s721/ses-m06/eeg/sub-s721_ses-m06_eeg.fif) does not conform to MNE naming conventions. All raw files should end with raw.fif, raw_sss.fif, raw_tsss.fif, raw.fif.gz, raw_sss.fif.gz, raw_tsss.fif.gz or _meg.fif\n",
      "  self._preprocessed_raw = mne.io.read_raw_fif(self.get_path(\"preprocessed_raw\"), verbose=self.verbose)\n"
     ]
    },
    {
     "name": "stdout",
     "output_type": "stream",
     "text": [
      "    Range : 0 ... 253499 =      0.000 ...   506.998 secs\n",
      "Ready.\n",
      "388 matching events found\n",
      "No baseline correction applied\n",
      "Not setting metadata\n",
      "0 projection items activated\n",
      "Loading data for 388 events and 500 original time points ...\n",
      "166 bad epochs dropped\n",
      "Overwriting existing file.\n",
      "fsaverage\n",
      "Opening raw data file /home/christian/synchedout/eegip/eegip/tests/test_artifacts/derivatives/eegip_london_preprocessed/sub-s722/ses-m06/eeg/sub-s722_ses-m06_eeg.fif...\n"
     ]
    },
    {
     "name": "stderr",
     "output_type": "stream",
     "text": [
      "/home/christian/synchedout/eegip/eegip/recording.py:209: RuntimeWarning: This filename (/home/christian/synchedout/eegip/eegip/tests/test_artifacts/derivatives/eegip_london_preprocessed/sub-s722/ses-m06/eeg/sub-s722_ses-m06_eeg.fif) does not conform to MNE naming conventions. All raw files should end with raw.fif, raw_sss.fif, raw_tsss.fif, raw.fif.gz, raw_sss.fif.gz, raw_tsss.fif.gz or _meg.fif\n",
      "  self._preprocessed_raw = mne.io.read_raw_fif(self.get_path(\"preprocessed_raw\"), verbose=self.verbose)\n"
     ]
    },
    {
     "name": "stdout",
     "output_type": "stream",
     "text": [
      "    Range : 0 ... 338999 =      0.000 ...   677.998 secs\n",
      "Ready.\n",
      "569 matching events found\n",
      "No baseline correction applied\n",
      "Not setting metadata\n",
      "0 projection items activated\n",
      "Loading data for 569 events and 500 original time points ...\n",
      "203 bad epochs dropped\n",
      "Overwriting existing file.\n",
      "fsaverage\n",
      "Opening raw data file /home/christian/synchedout/eegip/eegip/tests/test_artifacts/derivatives/eegip_london_preprocessed/sub-s723/ses-m06/eeg/sub-s723_ses-m06_eeg.fif...\n"
     ]
    },
    {
     "name": "stderr",
     "output_type": "stream",
     "text": [
      "/home/christian/synchedout/eegip/eegip/recording.py:209: RuntimeWarning: This filename (/home/christian/synchedout/eegip/eegip/tests/test_artifacts/derivatives/eegip_london_preprocessed/sub-s723/ses-m06/eeg/sub-s723_ses-m06_eeg.fif) does not conform to MNE naming conventions. All raw files should end with raw.fif, raw_sss.fif, raw_tsss.fif, raw.fif.gz, raw_sss.fif.gz, raw_tsss.fif.gz or _meg.fif\n",
      "  self._preprocessed_raw = mne.io.read_raw_fif(self.get_path(\"preprocessed_raw\"), verbose=self.verbose)\n"
     ]
    },
    {
     "name": "stdout",
     "output_type": "stream",
     "text": [
      "    Range : 0 ... 269999 =      0.000 ...   539.998 secs\n",
      "Ready.\n",
      "393 matching events found\n",
      "No baseline correction applied\n",
      "Not setting metadata\n",
      "0 projection items activated\n",
      "Loading data for 393 events and 500 original time points ...\n",
      "254 bad epochs dropped\n",
      "Overwriting existing file.\n",
      "fsaverage\n",
      "Opening raw data file /home/christian/synchedout/eegip/eegip/tests/test_artifacts/derivatives/eegip_london_preprocessed/sub-s724/ses-m06/eeg/sub-s724_ses-m06_eeg.fif...\n"
     ]
    },
    {
     "name": "stderr",
     "output_type": "stream",
     "text": [
      "/home/christian/synchedout/eegip/eegip/recording.py:209: RuntimeWarning: This filename (/home/christian/synchedout/eegip/eegip/tests/test_artifacts/derivatives/eegip_london_preprocessed/sub-s724/ses-m06/eeg/sub-s724_ses-m06_eeg.fif) does not conform to MNE naming conventions. All raw files should end with raw.fif, raw_sss.fif, raw_tsss.fif, raw.fif.gz, raw_sss.fif.gz, raw_tsss.fif.gz or _meg.fif\n",
      "  self._preprocessed_raw = mne.io.read_raw_fif(self.get_path(\"preprocessed_raw\"), verbose=self.verbose)\n"
     ]
    },
    {
     "name": "stdout",
     "output_type": "stream",
     "text": [
      "    Range : 0 ... 176499 =      0.000 ...   352.998 secs\n",
      "Ready.\n",
      "317 matching events found\n",
      "No baseline correction applied\n",
      "Not setting metadata\n",
      "0 projection items activated\n",
      "Loading data for 317 events and 500 original time points ...\n",
      "135 bad epochs dropped\n",
      "Overwriting existing file.\n",
      "fsaverage\n",
      "Opening raw data file /home/christian/synchedout/eegip/eegip/tests/test_artifacts/derivatives/eegip_london_preprocessed/sub-s725/ses-m06/eeg/sub-s725_ses-m06_eeg.fif...\n"
     ]
    },
    {
     "name": "stderr",
     "output_type": "stream",
     "text": [
      "/home/christian/synchedout/eegip/eegip/recording.py:209: RuntimeWarning: This filename (/home/christian/synchedout/eegip/eegip/tests/test_artifacts/derivatives/eegip_london_preprocessed/sub-s725/ses-m06/eeg/sub-s725_ses-m06_eeg.fif) does not conform to MNE naming conventions. All raw files should end with raw.fif, raw_sss.fif, raw_tsss.fif, raw.fif.gz, raw_sss.fif.gz, raw_tsss.fif.gz or _meg.fif\n",
      "  self._preprocessed_raw = mne.io.read_raw_fif(self.get_path(\"preprocessed_raw\"), verbose=self.verbose)\n"
     ]
    },
    {
     "name": "stdout",
     "output_type": "stream",
     "text": [
      "    Range : 0 ... 204999 =      0.000 ...   409.998 secs\n",
      "Ready.\n",
      "330 matching events found\n",
      "No baseline correction applied\n",
      "Not setting metadata\n",
      "0 projection items activated\n",
      "Loading data for 330 events and 500 original time points ...\n",
      "86 bad epochs dropped\n",
      "Overwriting existing file.\n",
      "fsaverage\n",
      "Opening raw data file /home/christian/synchedout/eegip/eegip/tests/test_artifacts/derivatives/eegip_london_preprocessed/sub-s726/ses-m06/eeg/sub-s726_ses-m06_eeg.fif...\n"
     ]
    },
    {
     "name": "stderr",
     "output_type": "stream",
     "text": [
      "/home/christian/synchedout/eegip/eegip/recording.py:209: RuntimeWarning: This filename (/home/christian/synchedout/eegip/eegip/tests/test_artifacts/derivatives/eegip_london_preprocessed/sub-s726/ses-m06/eeg/sub-s726_ses-m06_eeg.fif) does not conform to MNE naming conventions. All raw files should end with raw.fif, raw_sss.fif, raw_tsss.fif, raw.fif.gz, raw_sss.fif.gz, raw_tsss.fif.gz or _meg.fif\n",
      "  self._preprocessed_raw = mne.io.read_raw_fif(self.get_path(\"preprocessed_raw\"), verbose=self.verbose)\n"
     ]
    },
    {
     "name": "stdout",
     "output_type": "stream",
     "text": [
      "    Range : 0 ... 254499 =      0.000 ...   508.998 secs\n",
      "Ready.\n",
      "379 matching events found\n",
      "No baseline correction applied\n",
      "Not setting metadata\n",
      "0 projection items activated\n",
      "Loading data for 379 events and 500 original time points ...\n",
      "229 bad epochs dropped\n",
      "Overwriting existing file.\n",
      "fsaverage\n",
      "Opening raw data file /home/christian/synchedout/eegip/eegip/tests/test_artifacts/derivatives/eegip_london_preprocessed/sub-s727/ses-m06/eeg/sub-s727_ses-m06_eeg.fif...\n"
     ]
    },
    {
     "name": "stderr",
     "output_type": "stream",
     "text": [
      "/home/christian/synchedout/eegip/eegip/recording.py:209: RuntimeWarning: This filename (/home/christian/synchedout/eegip/eegip/tests/test_artifacts/derivatives/eegip_london_preprocessed/sub-s727/ses-m06/eeg/sub-s727_ses-m06_eeg.fif) does not conform to MNE naming conventions. All raw files should end with raw.fif, raw_sss.fif, raw_tsss.fif, raw.fif.gz, raw_sss.fif.gz, raw_tsss.fif.gz or _meg.fif\n",
      "  self._preprocessed_raw = mne.io.read_raw_fif(self.get_path(\"preprocessed_raw\"), verbose=self.verbose)\n"
     ]
    },
    {
     "name": "stdout",
     "output_type": "stream",
     "text": [
      "    Range : 0 ... 67999 =      0.000 ...   135.998 secs\n",
      "Ready.\n",
      "78 matching events found\n",
      "No baseline correction applied\n",
      "Not setting metadata\n",
      "0 projection items activated\n",
      "Loading data for 78 events and 500 original time points ...\n",
      "48 bad epochs dropped\n",
      "Overwriting existing file.\n",
      "fsaverage\n",
      "Opening raw data file /home/christian/synchedout/eegip/eegip/tests/test_artifacts/derivatives/eegip_london_preprocessed/sub-s728/ses-m06/eeg/sub-s728_ses-m06_eeg.fif...\n"
     ]
    },
    {
     "name": "stderr",
     "output_type": "stream",
     "text": [
      "/home/christian/synchedout/eegip/eegip/recording.py:209: RuntimeWarning: This filename (/home/christian/synchedout/eegip/eegip/tests/test_artifacts/derivatives/eegip_london_preprocessed/sub-s728/ses-m06/eeg/sub-s728_ses-m06_eeg.fif) does not conform to MNE naming conventions. All raw files should end with raw.fif, raw_sss.fif, raw_tsss.fif, raw.fif.gz, raw_sss.fif.gz, raw_tsss.fif.gz or _meg.fif\n",
      "  self._preprocessed_raw = mne.io.read_raw_fif(self.get_path(\"preprocessed_raw\"), verbose=self.verbose)\n"
     ]
    },
    {
     "name": "stdout",
     "output_type": "stream",
     "text": [
      "    Range : 0 ... 232999 =      0.000 ...   465.998 secs\n",
      "Ready.\n",
      "373 matching events found\n",
      "No baseline correction applied\n",
      "Not setting metadata\n",
      "0 projection items activated\n",
      "Loading data for 373 events and 500 original time points ...\n",
      "120 bad epochs dropped\n",
      "Overwriting existing file.\n",
      "fsaverage\n",
      "Opening raw data file /home/christian/synchedout/eegip/eegip/tests/test_artifacts/derivatives/eegip_london_preprocessed/sub-s729/ses-m06/eeg/sub-s729_ses-m06_eeg.fif...\n"
     ]
    },
    {
     "name": "stderr",
     "output_type": "stream",
     "text": [
      "/home/christian/synchedout/eegip/eegip/recording.py:209: RuntimeWarning: This filename (/home/christian/synchedout/eegip/eegip/tests/test_artifacts/derivatives/eegip_london_preprocessed/sub-s729/ses-m06/eeg/sub-s729_ses-m06_eeg.fif) does not conform to MNE naming conventions. All raw files should end with raw.fif, raw_sss.fif, raw_tsss.fif, raw.fif.gz, raw_sss.fif.gz, raw_tsss.fif.gz or _meg.fif\n",
      "  self._preprocessed_raw = mne.io.read_raw_fif(self.get_path(\"preprocessed_raw\"), verbose=self.verbose)\n"
     ]
    },
    {
     "name": "stdout",
     "output_type": "stream",
     "text": [
      "    Range : 0 ... 197499 =      0.000 ...   394.998 secs\n",
      "Ready.\n",
      "276 matching events found\n",
      "No baseline correction applied\n",
      "Not setting metadata\n",
      "0 projection items activated\n",
      "Loading data for 276 events and 500 original time points ...\n",
      "212 bad epochs dropped\n",
      "Overwriting existing file.\n",
      "fsaverage\n",
      "Opening raw data file /home/christian/synchedout/eegip/eegip/tests/test_artifacts/derivatives/eegip_london_preprocessed/sub-s730/ses-m06/eeg/sub-s730_ses-m06_eeg.fif...\n"
     ]
    },
    {
     "name": "stderr",
     "output_type": "stream",
     "text": [
      "/home/christian/synchedout/eegip/eegip/recording.py:209: RuntimeWarning: This filename (/home/christian/synchedout/eegip/eegip/tests/test_artifacts/derivatives/eegip_london_preprocessed/sub-s730/ses-m06/eeg/sub-s730_ses-m06_eeg.fif) does not conform to MNE naming conventions. All raw files should end with raw.fif, raw_sss.fif, raw_tsss.fif, raw.fif.gz, raw_sss.fif.gz, raw_tsss.fif.gz or _meg.fif\n",
      "  self._preprocessed_raw = mne.io.read_raw_fif(self.get_path(\"preprocessed_raw\"), verbose=self.verbose)\n"
     ]
    },
    {
     "name": "stdout",
     "output_type": "stream",
     "text": [
      "    Range : 0 ... 142499 =      0.000 ...   284.998 secs\n",
      "Ready.\n",
      "178 matching events found\n",
      "No baseline correction applied\n",
      "Not setting metadata\n",
      "0 projection items activated\n",
      "Loading data for 178 events and 500 original time points ...\n",
      "74 bad epochs dropped\n",
      "Overwriting existing file.\n",
      "fsaverage\n",
      "Opening raw data file /home/christian/synchedout/eegip/eegip/tests/test_artifacts/derivatives/eegip_london_preprocessed/sub-s731/ses-m06/eeg/sub-s731_ses-m06_eeg.fif...\n"
     ]
    },
    {
     "name": "stderr",
     "output_type": "stream",
     "text": [
      "/home/christian/synchedout/eegip/eegip/recording.py:209: RuntimeWarning: This filename (/home/christian/synchedout/eegip/eegip/tests/test_artifacts/derivatives/eegip_london_preprocessed/sub-s731/ses-m06/eeg/sub-s731_ses-m06_eeg.fif) does not conform to MNE naming conventions. All raw files should end with raw.fif, raw_sss.fif, raw_tsss.fif, raw.fif.gz, raw_sss.fif.gz, raw_tsss.fif.gz or _meg.fif\n",
      "  self._preprocessed_raw = mne.io.read_raw_fif(self.get_path(\"preprocessed_raw\"), verbose=self.verbose)\n"
     ]
    },
    {
     "name": "stdout",
     "output_type": "stream",
     "text": [
      "    Range : 0 ... 141999 =      0.000 ...   283.998 secs\n",
      "Ready.\n",
      "180 matching events found\n",
      "No baseline correction applied\n",
      "Not setting metadata\n",
      "0 projection items activated\n",
      "Loading data for 180 events and 500 original time points ...\n",
      "120 bad epochs dropped\n",
      "Overwriting existing file.\n",
      "fsaverage\n",
      "Opening raw data file /home/christian/synchedout/eegip/eegip/tests/test_artifacts/derivatives/eegip_london_preprocessed/sub-s732/ses-m06/eeg/sub-s732_ses-m06_eeg.fif...\n"
     ]
    },
    {
     "name": "stderr",
     "output_type": "stream",
     "text": [
      "/home/christian/synchedout/eegip/eegip/recording.py:209: RuntimeWarning: This filename (/home/christian/synchedout/eegip/eegip/tests/test_artifacts/derivatives/eegip_london_preprocessed/sub-s732/ses-m06/eeg/sub-s732_ses-m06_eeg.fif) does not conform to MNE naming conventions. All raw files should end with raw.fif, raw_sss.fif, raw_tsss.fif, raw.fif.gz, raw_sss.fif.gz, raw_tsss.fif.gz or _meg.fif\n",
      "  self._preprocessed_raw = mne.io.read_raw_fif(self.get_path(\"preprocessed_raw\"), verbose=self.verbose)\n"
     ]
    },
    {
     "name": "stdout",
     "output_type": "stream",
     "text": [
      "    Range : 0 ... 281499 =      0.000 ...   562.998 secs\n",
      "Ready.\n",
      "475 matching events found\n",
      "No baseline correction applied\n",
      "Not setting metadata\n",
      "0 projection items activated\n",
      "Loading data for 475 events and 500 original time points ...\n",
      "321 bad epochs dropped\n",
      "Overwriting existing file.\n",
      "fsaverage\n",
      "Opening raw data file /home/christian/synchedout/eegip/eegip/tests/test_artifacts/derivatives/eegip_london_preprocessed/sub-s733/ses-m06/eeg/sub-s733_ses-m06_eeg.fif...\n"
     ]
    },
    {
     "name": "stderr",
     "output_type": "stream",
     "text": [
      "/home/christian/synchedout/eegip/eegip/recording.py:209: RuntimeWarning: This filename (/home/christian/synchedout/eegip/eegip/tests/test_artifacts/derivatives/eegip_london_preprocessed/sub-s733/ses-m06/eeg/sub-s733_ses-m06_eeg.fif) does not conform to MNE naming conventions. All raw files should end with raw.fif, raw_sss.fif, raw_tsss.fif, raw.fif.gz, raw_sss.fif.gz, raw_tsss.fif.gz or _meg.fif\n",
      "  self._preprocessed_raw = mne.io.read_raw_fif(self.get_path(\"preprocessed_raw\"), verbose=self.verbose)\n"
     ]
    },
    {
     "name": "stdout",
     "output_type": "stream",
     "text": [
      "    Range : 0 ... 262499 =      0.000 ...   524.998 secs\n",
      "Ready.\n",
      "399 matching events found\n",
      "No baseline correction applied\n",
      "Not setting metadata\n",
      "0 projection items activated\n",
      "Loading data for 399 events and 500 original time points ...\n",
      "83 bad epochs dropped\n",
      "Overwriting existing file.\n",
      "fsaverage\n",
      "Opening raw data file /home/christian/synchedout/eegip/eegip/tests/test_artifacts/derivatives/eegip_london_preprocessed/sub-s734/ses-m06/eeg/sub-s734_ses-m06_eeg.fif...\n"
     ]
    },
    {
     "name": "stderr",
     "output_type": "stream",
     "text": [
      "/home/christian/synchedout/eegip/eegip/recording.py:209: RuntimeWarning: This filename (/home/christian/synchedout/eegip/eegip/tests/test_artifacts/derivatives/eegip_london_preprocessed/sub-s734/ses-m06/eeg/sub-s734_ses-m06_eeg.fif) does not conform to MNE naming conventions. All raw files should end with raw.fif, raw_sss.fif, raw_tsss.fif, raw.fif.gz, raw_sss.fif.gz, raw_tsss.fif.gz or _meg.fif\n",
      "  self._preprocessed_raw = mne.io.read_raw_fif(self.get_path(\"preprocessed_raw\"), verbose=self.verbose)\n"
     ]
    },
    {
     "name": "stdout",
     "output_type": "stream",
     "text": [
      "    Range : 0 ... 157999 =      0.000 ...   315.998 secs\n",
      "Ready.\n",
      "245 matching events found\n",
      "No baseline correction applied\n",
      "Not setting metadata\n",
      "0 projection items activated\n",
      "Loading data for 245 events and 500 original time points ...\n",
      "123 bad epochs dropped\n",
      "Overwriting existing file.\n",
      "fsaverage\n",
      "Opening raw data file /home/christian/synchedout/eegip/eegip/tests/test_artifacts/derivatives/eegip_london_preprocessed/sub-s735/ses-m06/eeg/sub-s735_ses-m06_eeg.fif...\n"
     ]
    },
    {
     "name": "stderr",
     "output_type": "stream",
     "text": [
      "/home/christian/synchedout/eegip/eegip/recording.py:209: RuntimeWarning: This filename (/home/christian/synchedout/eegip/eegip/tests/test_artifacts/derivatives/eegip_london_preprocessed/sub-s735/ses-m06/eeg/sub-s735_ses-m06_eeg.fif) does not conform to MNE naming conventions. All raw files should end with raw.fif, raw_sss.fif, raw_tsss.fif, raw.fif.gz, raw_sss.fif.gz, raw_tsss.fif.gz or _meg.fif\n",
      "  self._preprocessed_raw = mne.io.read_raw_fif(self.get_path(\"preprocessed_raw\"), verbose=self.verbose)\n"
     ]
    },
    {
     "name": "stdout",
     "output_type": "stream",
     "text": [
      "    Range : 0 ... 136999 =      0.000 ...   273.998 secs\n",
      "Ready.\n",
      "207 matching events found\n",
      "No baseline correction applied\n",
      "Not setting metadata\n",
      "0 projection items activated\n",
      "Loading data for 207 events and 500 original time points ...\n",
      "143 bad epochs dropped\n",
      "Overwriting existing file.\n",
      "fsaverage\n",
      "Opening raw data file /home/christian/synchedout/eegip/eegip/tests/test_artifacts/derivatives/eegip_london_preprocessed/sub-s736/ses-m06/eeg/sub-s736_ses-m06_eeg.fif...\n"
     ]
    },
    {
     "name": "stderr",
     "output_type": "stream",
     "text": [
      "/home/christian/synchedout/eegip/eegip/recording.py:209: RuntimeWarning: This filename (/home/christian/synchedout/eegip/eegip/tests/test_artifacts/derivatives/eegip_london_preprocessed/sub-s736/ses-m06/eeg/sub-s736_ses-m06_eeg.fif) does not conform to MNE naming conventions. All raw files should end with raw.fif, raw_sss.fif, raw_tsss.fif, raw.fif.gz, raw_sss.fif.gz, raw_tsss.fif.gz or _meg.fif\n",
      "  self._preprocessed_raw = mne.io.read_raw_fif(self.get_path(\"preprocessed_raw\"), verbose=self.verbose)\n"
     ]
    },
    {
     "name": "stdout",
     "output_type": "stream",
     "text": [
      "    Range : 0 ... 207999 =      0.000 ...   415.998 secs\n",
      "Ready.\n",
      "336 matching events found\n",
      "No baseline correction applied\n",
      "Not setting metadata\n",
      "0 projection items activated\n",
      "Loading data for 336 events and 500 original time points ...\n",
      "113 bad epochs dropped\n",
      "Overwriting existing file.\n",
      "fsaverage\n",
      "Opening raw data file /home/christian/synchedout/eegip/eegip/tests/test_artifacts/derivatives/eegip_london_preprocessed/sub-s737/ses-m06/eeg/sub-s737_ses-m06_eeg.fif...\n"
     ]
    },
    {
     "name": "stderr",
     "output_type": "stream",
     "text": [
      "/home/christian/synchedout/eegip/eegip/recording.py:209: RuntimeWarning: This filename (/home/christian/synchedout/eegip/eegip/tests/test_artifacts/derivatives/eegip_london_preprocessed/sub-s737/ses-m06/eeg/sub-s737_ses-m06_eeg.fif) does not conform to MNE naming conventions. All raw files should end with raw.fif, raw_sss.fif, raw_tsss.fif, raw.fif.gz, raw_sss.fif.gz, raw_tsss.fif.gz or _meg.fif\n",
      "  self._preprocessed_raw = mne.io.read_raw_fif(self.get_path(\"preprocessed_raw\"), verbose=self.verbose)\n"
     ]
    },
    {
     "name": "stdout",
     "output_type": "stream",
     "text": [
      "    Range : 0 ... 201999 =      0.000 ...   403.998 secs\n",
      "Ready.\n",
      "324 matching events found\n",
      "No baseline correction applied\n",
      "Not setting metadata\n",
      "0 projection items activated\n",
      "Loading data for 324 events and 500 original time points ...\n",
      "200 bad epochs dropped\n",
      "Overwriting existing file.\n",
      "fsaverage\n",
      "Opening raw data file /home/christian/synchedout/eegip/eegip/tests/test_artifacts/derivatives/eegip_london_preprocessed/sub-s738/ses-m06/eeg/sub-s738_ses-m06_eeg.fif...\n"
     ]
    },
    {
     "name": "stderr",
     "output_type": "stream",
     "text": [
      "/home/christian/synchedout/eegip/eegip/recording.py:209: RuntimeWarning: This filename (/home/christian/synchedout/eegip/eegip/tests/test_artifacts/derivatives/eegip_london_preprocessed/sub-s738/ses-m06/eeg/sub-s738_ses-m06_eeg.fif) does not conform to MNE naming conventions. All raw files should end with raw.fif, raw_sss.fif, raw_tsss.fif, raw.fif.gz, raw_sss.fif.gz, raw_tsss.fif.gz or _meg.fif\n",
      "  self._preprocessed_raw = mne.io.read_raw_fif(self.get_path(\"preprocessed_raw\"), verbose=self.verbose)\n"
     ]
    },
    {
     "name": "stdout",
     "output_type": "stream",
     "text": [
      "    Range : 0 ... 196499 =      0.000 ...   392.998 secs\n",
      "Ready.\n",
      "315 matching events found\n",
      "No baseline correction applied\n",
      "Not setting metadata\n",
      "0 projection items activated\n",
      "Loading data for 315 events and 500 original time points ...\n",
      "162 bad epochs dropped\n",
      "Overwriting existing file.\n",
      "fsaverage\n",
      "Opening raw data file /home/christian/synchedout/eegip/eegip/tests/test_artifacts/derivatives/eegip_london_preprocessed/sub-s739/ses-m06/eeg/sub-s739_ses-m06_eeg.fif...\n"
     ]
    },
    {
     "name": "stderr",
     "output_type": "stream",
     "text": [
      "/home/christian/synchedout/eegip/eegip/recording.py:209: RuntimeWarning: This filename (/home/christian/synchedout/eegip/eegip/tests/test_artifacts/derivatives/eegip_london_preprocessed/sub-s739/ses-m06/eeg/sub-s739_ses-m06_eeg.fif) does not conform to MNE naming conventions. All raw files should end with raw.fif, raw_sss.fif, raw_tsss.fif, raw.fif.gz, raw_sss.fif.gz, raw_tsss.fif.gz or _meg.fif\n",
      "  self._preprocessed_raw = mne.io.read_raw_fif(self.get_path(\"preprocessed_raw\"), verbose=self.verbose)\n"
     ]
    },
    {
     "name": "stdout",
     "output_type": "stream",
     "text": [
      "    Range : 0 ... 226499 =      0.000 ...   452.998 secs\n",
      "Ready.\n",
      "326 matching events found\n",
      "No baseline correction applied\n",
      "Not setting metadata\n",
      "0 projection items activated\n",
      "Loading data for 326 events and 500 original time points ...\n",
      "167 bad epochs dropped\n",
      "Overwriting existing file.\n",
      "fsaverage\n",
      "Opening raw data file /home/christian/synchedout/eegip/eegip/tests/test_artifacts/derivatives/eegip_london_preprocessed/sub-s740/ses-m06/eeg/sub-s740_ses-m06_eeg.fif...\n"
     ]
    },
    {
     "name": "stderr",
     "output_type": "stream",
     "text": [
      "/home/christian/synchedout/eegip/eegip/recording.py:209: RuntimeWarning: This filename (/home/christian/synchedout/eegip/eegip/tests/test_artifacts/derivatives/eegip_london_preprocessed/sub-s740/ses-m06/eeg/sub-s740_ses-m06_eeg.fif) does not conform to MNE naming conventions. All raw files should end with raw.fif, raw_sss.fif, raw_tsss.fif, raw.fif.gz, raw_sss.fif.gz, raw_tsss.fif.gz or _meg.fif\n",
      "  self._preprocessed_raw = mne.io.read_raw_fif(self.get_path(\"preprocessed_raw\"), verbose=self.verbose)\n"
     ]
    },
    {
     "name": "stdout",
     "output_type": "stream",
     "text": [
      "    Range : 0 ... 257499 =      0.000 ...   514.998 secs\n",
      "Ready.\n",
      "387 matching events found\n",
      "No baseline correction applied\n",
      "Not setting metadata\n",
      "0 projection items activated\n",
      "Loading data for 387 events and 500 original time points ...\n",
      "123 bad epochs dropped\n",
      "Overwriting existing file.\n",
      "fsaverage\n",
      "Opening raw data file /home/christian/synchedout/eegip/eegip/tests/test_artifacts/derivatives/eegip_london_preprocessed/sub-s741/ses-m06/eeg/sub-s741_ses-m06_eeg.fif...\n"
     ]
    },
    {
     "name": "stderr",
     "output_type": "stream",
     "text": [
      "/home/christian/synchedout/eegip/eegip/recording.py:209: RuntimeWarning: This filename (/home/christian/synchedout/eegip/eegip/tests/test_artifacts/derivatives/eegip_london_preprocessed/sub-s741/ses-m06/eeg/sub-s741_ses-m06_eeg.fif) does not conform to MNE naming conventions. All raw files should end with raw.fif, raw_sss.fif, raw_tsss.fif, raw.fif.gz, raw_sss.fif.gz, raw_tsss.fif.gz or _meg.fif\n",
      "  self._preprocessed_raw = mne.io.read_raw_fif(self.get_path(\"preprocessed_raw\"), verbose=self.verbose)\n"
     ]
    },
    {
     "name": "stdout",
     "output_type": "stream",
     "text": [
      "    Range : 0 ... 232999 =      0.000 ...   465.998 secs\n",
      "Ready.\n",
      "262 matching events found\n",
      "No baseline correction applied\n",
      "Not setting metadata\n",
      "0 projection items activated\n",
      "Loading data for 262 events and 500 original time points ...\n",
      "101 bad epochs dropped\n",
      "Overwriting existing file.\n",
      "fsaverage\n",
      "Opening raw data file /home/christian/synchedout/eegip/eegip/tests/test_artifacts/derivatives/eegip_london_preprocessed/sub-s742/ses-m06/eeg/sub-s742_ses-m06_eeg.fif...\n"
     ]
    },
    {
     "name": "stderr",
     "output_type": "stream",
     "text": [
      "/home/christian/synchedout/eegip/eegip/recording.py:209: RuntimeWarning: This filename (/home/christian/synchedout/eegip/eegip/tests/test_artifacts/derivatives/eegip_london_preprocessed/sub-s742/ses-m06/eeg/sub-s742_ses-m06_eeg.fif) does not conform to MNE naming conventions. All raw files should end with raw.fif, raw_sss.fif, raw_tsss.fif, raw.fif.gz, raw_sss.fif.gz, raw_tsss.fif.gz or _meg.fif\n",
      "  self._preprocessed_raw = mne.io.read_raw_fif(self.get_path(\"preprocessed_raw\"), verbose=self.verbose)\n"
     ]
    },
    {
     "name": "stdout",
     "output_type": "stream",
     "text": [
      "    Range : 0 ... 252999 =      0.000 ...   505.998 secs\n",
      "Ready.\n",
      "419 matching events found\n",
      "No baseline correction applied\n",
      "Not setting metadata\n",
      "0 projection items activated\n",
      "Loading data for 419 events and 500 original time points ...\n",
      "202 bad epochs dropped\n",
      "Overwriting existing file.\n",
      "fsaverage\n",
      "Opening raw data file /home/christian/synchedout/eegip/eegip/tests/test_artifacts/derivatives/eegip_london_preprocessed/sub-s743/ses-m06/eeg/sub-s743_ses-m06_eeg.fif...\n"
     ]
    },
    {
     "name": "stderr",
     "output_type": "stream",
     "text": [
      "/home/christian/synchedout/eegip/eegip/recording.py:209: RuntimeWarning: This filename (/home/christian/synchedout/eegip/eegip/tests/test_artifacts/derivatives/eegip_london_preprocessed/sub-s743/ses-m06/eeg/sub-s743_ses-m06_eeg.fif) does not conform to MNE naming conventions. All raw files should end with raw.fif, raw_sss.fif, raw_tsss.fif, raw.fif.gz, raw_sss.fif.gz, raw_tsss.fif.gz or _meg.fif\n",
      "  self._preprocessed_raw = mne.io.read_raw_fif(self.get_path(\"preprocessed_raw\"), verbose=self.verbose)\n"
     ]
    },
    {
     "name": "stdout",
     "output_type": "stream",
     "text": [
      "    Range : 0 ... 217999 =      0.000 ...   435.998 secs\n",
      "Ready.\n",
      "350 matching events found\n",
      "No baseline correction applied\n",
      "Not setting metadata\n",
      "0 projection items activated\n",
      "Loading data for 350 events and 500 original time points ...\n",
      "155 bad epochs dropped\n",
      "Overwriting existing file.\n",
      "fsaverage\n",
      "Opening raw data file /home/christian/synchedout/eegip/eegip/tests/test_artifacts/derivatives/eegip_london_preprocessed/sub-s745/ses-m06/eeg/sub-s745_ses-m06_eeg.fif...\n",
      "    Range : 0 ... 208999 =      0.000 ...   417.998 secs\n",
      "Ready.\n",
      "337 matching events found\n",
      "No baseline correction applied\n",
      "Not setting metadata\n",
      "0 projection items activated\n",
      "Loading data for 337 events and 500 original time points ...\n"
     ]
    },
    {
     "name": "stderr",
     "output_type": "stream",
     "text": [
      "/home/christian/synchedout/eegip/eegip/recording.py:209: RuntimeWarning: This filename (/home/christian/synchedout/eegip/eegip/tests/test_artifacts/derivatives/eegip_london_preprocessed/sub-s745/ses-m06/eeg/sub-s745_ses-m06_eeg.fif) does not conform to MNE naming conventions. All raw files should end with raw.fif, raw_sss.fif, raw_tsss.fif, raw.fif.gz, raw_sss.fif.gz, raw_tsss.fif.gz or _meg.fif\n",
      "  self._preprocessed_raw = mne.io.read_raw_fif(self.get_path(\"preprocessed_raw\"), verbose=self.verbose)\n"
     ]
    },
    {
     "name": "stdout",
     "output_type": "stream",
     "text": [
      "139 bad epochs dropped\n",
      "Overwriting existing file.\n",
      "fsaverage\n",
      "Opening raw data file /home/christian/synchedout/eegip/eegip/tests/test_artifacts/derivatives/eegip_london_preprocessed/sub-s746/ses-m06/eeg/sub-s746_ses-m06_eeg.fif...\n",
      "    Range : 0 ... 264499 =      0.000 ...   528.998 secs\n",
      "Ready.\n",
      "402 matching events found\n",
      "No baseline correction applied\n",
      "Not setting metadata\n",
      "0 projection items activated\n",
      "Loading data for 402 events and 500 original time points ...\n"
     ]
    },
    {
     "name": "stderr",
     "output_type": "stream",
     "text": [
      "/home/christian/synchedout/eegip/eegip/recording.py:209: RuntimeWarning: This filename (/home/christian/synchedout/eegip/eegip/tests/test_artifacts/derivatives/eegip_london_preprocessed/sub-s746/ses-m06/eeg/sub-s746_ses-m06_eeg.fif) does not conform to MNE naming conventions. All raw files should end with raw.fif, raw_sss.fif, raw_tsss.fif, raw.fif.gz, raw_sss.fif.gz, raw_tsss.fif.gz or _meg.fif\n",
      "  self._preprocessed_raw = mne.io.read_raw_fif(self.get_path(\"preprocessed_raw\"), verbose=self.verbose)\n"
     ]
    },
    {
     "name": "stdout",
     "output_type": "stream",
     "text": [
      "190 bad epochs dropped\n",
      "Overwriting existing file.\n",
      "fsaverage\n",
      "Opening raw data file /home/christian/synchedout/eegip/eegip/tests/test_artifacts/derivatives/eegip_london_preprocessed/sub-s747/ses-m06/eeg/sub-s747_ses-m06_eeg.fif...\n",
      "    Range : 0 ... 236499 =      0.000 ...   472.998 secs\n",
      "Ready.\n",
      "348 matching events found\n",
      "No baseline correction applied\n",
      "Not setting metadata\n",
      "0 projection items activated\n",
      "Loading data for 348 events and 500 original time points ...\n"
     ]
    },
    {
     "name": "stderr",
     "output_type": "stream",
     "text": [
      "/home/christian/synchedout/eegip/eegip/recording.py:209: RuntimeWarning: This filename (/home/christian/synchedout/eegip/eegip/tests/test_artifacts/derivatives/eegip_london_preprocessed/sub-s747/ses-m06/eeg/sub-s747_ses-m06_eeg.fif) does not conform to MNE naming conventions. All raw files should end with raw.fif, raw_sss.fif, raw_tsss.fif, raw.fif.gz, raw_sss.fif.gz, raw_tsss.fif.gz or _meg.fif\n",
      "  self._preprocessed_raw = mne.io.read_raw_fif(self.get_path(\"preprocessed_raw\"), verbose=self.verbose)\n"
     ]
    },
    {
     "name": "stdout",
     "output_type": "stream",
     "text": [
      "159 bad epochs dropped\n",
      "Overwriting existing file.\n",
      "fsaverage\n",
      "Opening raw data file /home/christian/synchedout/eegip/eegip/tests/test_artifacts/derivatives/eegip_london_preprocessed/sub-s748/ses-m06/eeg/sub-s748_ses-m06_eeg.fif...\n",
      "    Range : 0 ... 287499 =      0.000 ...   574.998 secs\n",
      "Ready.\n",
      "440 matching events found\n",
      "No baseline correction applied\n",
      "Not setting metadata\n",
      "0 projection items activated\n",
      "Loading data for 440 events and 500 original time points ...\n"
     ]
    },
    {
     "name": "stderr",
     "output_type": "stream",
     "text": [
      "/home/christian/synchedout/eegip/eegip/recording.py:209: RuntimeWarning: This filename (/home/christian/synchedout/eegip/eegip/tests/test_artifacts/derivatives/eegip_london_preprocessed/sub-s748/ses-m06/eeg/sub-s748_ses-m06_eeg.fif) does not conform to MNE naming conventions. All raw files should end with raw.fif, raw_sss.fif, raw_tsss.fif, raw.fif.gz, raw_sss.fif.gz, raw_tsss.fif.gz or _meg.fif\n",
      "  self._preprocessed_raw = mne.io.read_raw_fif(self.get_path(\"preprocessed_raw\"), verbose=self.verbose)\n"
     ]
    },
    {
     "name": "stdout",
     "output_type": "stream",
     "text": [
      "159 bad epochs dropped\n",
      "Overwriting existing file.\n",
      "fsaverage\n",
      "Opening raw data file /home/christian/synchedout/eegip/eegip/tests/test_artifacts/derivatives/eegip_london_preprocessed/sub-s749/ses-m06/eeg/sub-s749_ses-m06_eeg.fif...\n",
      "    Range : 0 ... 254499 =      0.000 ...   508.998 secs\n",
      "Ready.\n",
      "419 matching events found\n",
      "No baseline correction applied\n",
      "Not setting metadata\n",
      "0 projection items activated\n",
      "Loading data for 419 events and 500 original time points ...\n"
     ]
    },
    {
     "name": "stderr",
     "output_type": "stream",
     "text": [
      "/home/christian/synchedout/eegip/eegip/recording.py:209: RuntimeWarning: This filename (/home/christian/synchedout/eegip/eegip/tests/test_artifacts/derivatives/eegip_london_preprocessed/sub-s749/ses-m06/eeg/sub-s749_ses-m06_eeg.fif) does not conform to MNE naming conventions. All raw files should end with raw.fif, raw_sss.fif, raw_tsss.fif, raw.fif.gz, raw_sss.fif.gz, raw_tsss.fif.gz or _meg.fif\n",
      "  self._preprocessed_raw = mne.io.read_raw_fif(self.get_path(\"preprocessed_raw\"), verbose=self.verbose)\n"
     ]
    },
    {
     "name": "stdout",
     "output_type": "stream",
     "text": [
      "138 bad epochs dropped\n",
      "Overwriting existing file.\n",
      "fsaverage\n",
      "Opening raw data file /home/christian/synchedout/eegip/eegip/tests/test_artifacts/derivatives/eegip_london_preprocessed/sub-s750/ses-m06/eeg/sub-s750_ses-m06_eeg.fif...\n",
      "    Range : 0 ... 228499 =      0.000 ...   456.998 secs\n",
      "Ready.\n",
      "374 matching events found\n",
      "No baseline correction applied\n",
      "Not setting metadata\n",
      "0 projection items activated\n",
      "Loading data for 374 events and 500 original time points ...\n"
     ]
    },
    {
     "name": "stderr",
     "output_type": "stream",
     "text": [
      "/home/christian/synchedout/eegip/eegip/recording.py:209: RuntimeWarning: This filename (/home/christian/synchedout/eegip/eegip/tests/test_artifacts/derivatives/eegip_london_preprocessed/sub-s750/ses-m06/eeg/sub-s750_ses-m06_eeg.fif) does not conform to MNE naming conventions. All raw files should end with raw.fif, raw_sss.fif, raw_tsss.fif, raw.fif.gz, raw_sss.fif.gz, raw_tsss.fif.gz or _meg.fif\n",
      "  self._preprocessed_raw = mne.io.read_raw_fif(self.get_path(\"preprocessed_raw\"), verbose=self.verbose)\n"
     ]
    },
    {
     "name": "stdout",
     "output_type": "stream",
     "text": [
      "95 bad epochs dropped\n",
      "Overwriting existing file.\n",
      "fsaverage\n",
      "Computing rank from data with rank=None\n",
      "    Using tolerance 2.6e-10 (2.2e-16 eps * 118 dim * 1e+04  max singular value)\n",
      "    Estimated rank (eeg): 118\n",
      "    EEG: rank 118 computed from 118 data channels with 0 projectors\n",
      "Reducing data rank from 118 -> 118\n",
      "Estimating covariance using SHRUNK\n",
      "Done.\n",
      "Estimating covariance using DIAGONAL_FIXED\n",
      "    EEG regularization : 0.1\n",
      "Done.\n",
      "Estimating covariance using EMPIRICAL\n",
      "Done.\n",
      "Using cross-validation to select the best estimator.\n",
      "    EEG regularization : 0.1\n",
      "    EEG regularization : 0.1\n",
      "    EEG regularization : 0.1\n",
      "Number of samples used : 28179\n",
      "log-likelihood on unseen data (descending order):\n",
      "   shrunk: 2.380\n",
      "   diagonal_fixed: -298.016\n",
      "   empirical: -1667.748\n",
      "selecting best estimator: shrunk\n",
      "[done]\n",
      "    Reading a source space...\n",
      "    Computing patch statistics...\n",
      "    Patch information added...\n"
     ]
    },
    {
     "name": "stderr",
     "output_type": "stream",
     "text": [
      "/home/christian/synchedout/eegip/eegip/functionalmodel.py:102: UserWarning: Using no transform to align the sensors to the head. This is not recommended.\n",
      "  warnings.warn(\"Using no transform to align the sensors to the head. This is not recommended.\")\n"
     ]
    },
    {
     "name": "stdout",
     "output_type": "stream",
     "text": [
      "    Distance information added...\n",
      "    [done]\n",
      "    Reading a source space...\n",
      "    Computing patch statistics...\n",
      "    Patch information added...\n",
      "    Distance information added...\n",
      "    [done]\n",
      "    2 source spaces read\n",
      "    3 BEM surfaces found\n",
      "    Reading a surface...\n",
      "[done]\n",
      "    Reading a surface...\n",
      "[done]\n",
      "    Reading a surface...\n",
      "[done]\n",
      "    3 BEM surfaces read\n",
      "Loading surfaces...\n",
      "Three-layer model surfaces loaded.\n",
      "\n",
      "Loading the solution matrix...\n",
      "\n",
      "Loaded linear_collocation BEM solution from /media/christian/seagate/eegip/london/derivatives/smodel_fsaverage/fsaverage_bem\n",
      "BEM              : <ConductorModel  |  BEM (3 layers)>\n",
      "grid                  : 5.0 mm\n",
      "mindist               : 5.0 mm\n",
      "MRI volume            : /usr/local/freesurfer/subjects/fsaverage/mri/aseg.mgz\n",
      "\n",
      "Taking inner skull from <ConductorModel  |  BEM (3 layers)>\n",
      "\n",
      "Overwriting existing file.\n",
      "    0 source spaces written\n",
      "Source space          : <SourceSpaces: [<surface (lh), n_vertices=163842, n_used=4098>, <surface (rh), n_vertices=163842, n_used=4098>] MRI (surface RAS) coords, subject 'fsaverage'>\n",
      "MRI -> head transform : identity\n",
      "Measurement data      : instance of Info\n",
      "Conductor model   : instance of ConductorModel\n",
      "Accurate field computations\n",
      "Do computations in head coordinates\n",
      "Free source orientations\n",
      "\n",
      "Read 2 source spaces a total of 8196 active source locations\n",
      "\n",
      "Coordinate transformation: MRI (surface RAS) -> head\n",
      "     1.000000  0.000000  0.000000       0.00 mm\n",
      "     0.000000  1.000000  0.000000       0.00 mm\n",
      "     0.000000  0.000000  1.000000       0.00 mm\n",
      "     0.000000  0.000000  0.000000       1.00\n",
      "\n",
      "Read 118 EEG channels from info\n",
      "Head coordinate coil definitions created.\n",
      "Source spaces are now in head coordinates.\n",
      "\n",
      "Employing the head->MRI coordinate transform with the BEM model.\n",
      "BEM model instance of ConductorModel is now set up\n",
      "\n",
      "Source spaces are in head coordinates.\n",
      "Checking that the sources are inside the surface (will take a few...)\n",
      "    Skipping interior check for 999 sources that fit inside a sphere of radius   47.7 mm\n",
      "    Skipping solid angle check for 0 points using Qhull\n",
      "    Skipping interior check for 906 sources that fit inside a sphere of radius   47.7 mm\n",
      "    Skipping solid angle check for 0 points using Qhull\n",
      "\n",
      "Setting up for EEG...\n",
      "Computing EEG at 8196 source locations (free orientations)...\n",
      "\n",
      "Finished.\n",
      "    Write a source space...\n",
      "    [done]\n",
      "    Write a source space...\n",
      "    [done]\n",
      "    2 source spaces written\n",
      "Converting forward solution to surface orientation\n",
      "    Average patch normals will be employed in the rotation to the local surface coordinates....\n",
      "    Converting to surface-based source orientations...\n",
      "    [done]\n",
      "Computing inverse operator with 118 channels.\n",
      "    118 out of 118 channels remain after picking\n",
      "Selected 118 channels\n",
      "Creating the depth weighting matrix...\n",
      "    118 EEG channels\n",
      "    limit = 8197/8196 = 2.189112\n",
      "    scale = 167248 exp = 0.8\n",
      "Applying loose dipole orientations. Loose value of 0.2.\n",
      "Whitening the forward solution.\n",
      "Computing rank from covariance with rank=None\n",
      "    Using tolerance 9.3e-13 (2.2e-16 eps * 118 dim * 36  max singular value)\n",
      "    Estimated rank (eeg): 118\n",
      "    EEG: rank 118 computed from 118 data channels with 0 projectors\n",
      "    Setting small EEG eigenvalues to zero (without PCA)\n",
      "Creating the source covariance matrix\n",
      "Adjusting source covariance matrix.\n",
      "Computing SVD of whitened and weighted lead field matrix.\n"
     ]
    },
    {
     "name": "stderr",
     "output_type": "stream",
     "text": [
      "/home/christian/synchedout/eegip/eegip/functionalmodel.py:141: RuntimeWarning: No average EEG reference present in info[\"projs\"], covariance may be adversely affected. Consider recomputing covariance using with an average eeg reference projector added.\n",
      "  forward_solution, noise_cov)\n",
      "/home/christian/synchedout/eegip/eegip/functionalmodel.py:141: RuntimeWarning: No average EEG reference present in info[\"projs\"], covariance may be adversely affected. Consider recomputing covariance using with an average eeg reference projector added.\n",
      "  forward_solution, noise_cov)\n"
     ]
    },
    {
     "name": "stdout",
     "output_type": "stream",
     "text": [
      "    largest singular value = 9.28574\n",
      "    scaling factor to adjust the trace = 4.18296e+22\n",
      "Write inverse operator decomposition in /home/christian/synchedout/eegip/eegip/tests/test_artifacts/derivatives/eegip_london_preprocessed/derivatives/fmodel_fsaverage/sub-s750/ses-m06/mod/sub-s750_ses-m06_inv.fif...\n",
      "    Write a source space...\n",
      "    [done]\n",
      "    Write a source space...\n",
      "    [done]\n",
      "    2 source spaces written\n",
      "    Writing inverse operator info...\n",
      "    Writing noise covariance matrix.\n",
      "    Writing source covariance matrix.\n",
      "    Writing orientation priors.\n",
      "    [done]\n",
      "Reading labels from parcellation...\n",
      "   read 35 labels from /usr/local/freesurfer/subjects/fsaverage/label/lh.aparc.annot\n",
      "   read 34 labels from /usr/local/freesurfer/subjects/fsaverage/label/rh.aparc.annot\n"
     ]
    },
    {
     "name": "stderr",
     "output_type": "stream",
     "text": [
      "\r",
      "0it [00:00, ?it/s]"
     ]
    },
    {
     "name": "stdout",
     "output_type": "stream",
     "text": [
      "Preparing the inverse operator for use...\n",
      "    Scaled noise and source covariance from nave = 1 to nave = 1\n",
      "    Created the regularized inverter\n",
      "    The projection vectors do not apply to these channels.\n",
      "    Created the whitener using a noise covariance matrix with rank 118 (0 small eigenvalues omitted)\n",
      "    Computing noise-normalization factors (dSPM)...\n",
      "[done]\n",
      "Picked 118 channels from the data\n",
      "Computing inverse...\n",
      "    Eigenleads need to be weighted ...\n",
      "Processing epoch : 1 / 279\n",
      "combining the current components...\n"
     ]
    },
    {
     "name": "stderr",
     "output_type": "stream",
     "text": [
      "\r",
      "1it [00:00,  3.45it/s]"
     ]
    },
    {
     "name": "stdout",
     "output_type": "stream",
     "text": [
      "Processing epoch : 2 / 279\n",
      "combining the current components...\n"
     ]
    },
    {
     "name": "stderr",
     "output_type": "stream",
     "text": [
      "\r",
      "2it [00:00,  4.19it/s]"
     ]
    },
    {
     "name": "stdout",
     "output_type": "stream",
     "text": [
      "Processing epoch : 3 / 279\n",
      "combining the current components...\n"
     ]
    },
    {
     "name": "stderr",
     "output_type": "stream",
     "text": [
      "\r",
      "3it [00:00,  4.98it/s]"
     ]
    },
    {
     "name": "stdout",
     "output_type": "stream",
     "text": [
      "Processing epoch : 4 / 279\n",
      "combining the current components...\n"
     ]
    },
    {
     "name": "stderr",
     "output_type": "stream",
     "text": [
      "\r",
      "4it [00:00,  5.75it/s]"
     ]
    },
    {
     "name": "stdout",
     "output_type": "stream",
     "text": [
      "Processing epoch : 5 / 279\n",
      "combining the current components...\n",
      "Processing epoch : 6 / 279\n",
      "combining the current components...\n"
     ]
    },
    {
     "name": "stderr",
     "output_type": "stream",
     "text": [
      "\r",
      "6it [00:00,  6.65it/s]"
     ]
    },
    {
     "name": "stdout",
     "output_type": "stream",
     "text": [
      "Processing epoch : 7 / 279\n",
      "combining the current components...\n",
      "Processing epoch : 8 / 279\n",
      "combining the current components...\n"
     ]
    },
    {
     "name": "stderr",
     "output_type": "stream",
     "text": [
      "\r",
      "8it [00:01,  7.44it/s]"
     ]
    },
    {
     "name": "stdout",
     "output_type": "stream",
     "text": [
      "Processing epoch : 9 / 279\n",
      "combining the current components...\n",
      "Processing epoch : 10 / 279\n",
      "combining the current components...\n"
     ]
    },
    {
     "name": "stderr",
     "output_type": "stream",
     "text": [
      "\r",
      "10it [00:01,  8.14it/s]"
     ]
    },
    {
     "name": "stdout",
     "output_type": "stream",
     "text": [
      "Processing epoch : 11 / 279\n",
      "combining the current components...\n"
     ]
    },
    {
     "name": "stderr",
     "output_type": "stream",
     "text": [
      "\r",
      "11it [00:01,  8.27it/s]"
     ]
    },
    {
     "name": "stdout",
     "output_type": "stream",
     "text": [
      "Processing epoch : 12 / 279\n",
      "combining the current components...\n"
     ]
    },
    {
     "name": "stderr",
     "output_type": "stream",
     "text": [
      "\r",
      "12it [00:01,  8.35it/s]"
     ]
    },
    {
     "name": "stdout",
     "output_type": "stream",
     "text": [
      "Processing epoch : 13 / 279\n",
      "combining the current components...\n"
     ]
    },
    {
     "name": "stderr",
     "output_type": "stream",
     "text": [
      "\r",
      "13it [00:01,  8.48it/s]"
     ]
    },
    {
     "name": "stdout",
     "output_type": "stream",
     "text": [
      "Processing epoch : 14 / 279\n",
      "combining the current components...\n"
     ]
    },
    {
     "name": "stderr",
     "output_type": "stream",
     "text": [
      "\r",
      "14it [00:01,  8.54it/s]"
     ]
    },
    {
     "name": "stdout",
     "output_type": "stream",
     "text": [
      "Processing epoch : 15 / 279\n",
      "combining the current components...\n"
     ]
    },
    {
     "name": "stderr",
     "output_type": "stream",
     "text": [
      "\r",
      "15it [00:01,  8.55it/s]"
     ]
    },
    {
     "name": "stdout",
     "output_type": "stream",
     "text": [
      "Processing epoch : 16 / 279\n",
      "combining the current components...\n"
     ]
    },
    {
     "name": "stderr",
     "output_type": "stream",
     "text": [
      "\r",
      "16it [00:01,  8.59it/s]"
     ]
    },
    {
     "name": "stdout",
     "output_type": "stream",
     "text": [
      "Processing epoch : 17 / 279\n",
      "combining the current components...\n"
     ]
    },
    {
     "name": "stderr",
     "output_type": "stream",
     "text": [
      "\r",
      "17it [00:02,  8.66it/s]"
     ]
    },
    {
     "name": "stdout",
     "output_type": "stream",
     "text": [
      "Processing epoch : 18 / 279\n",
      "combining the current components...\n"
     ]
    },
    {
     "name": "stderr",
     "output_type": "stream",
     "text": [
      "\r",
      "18it [00:02,  8.69it/s]"
     ]
    },
    {
     "name": "stdout",
     "output_type": "stream",
     "text": [
      "Processing epoch : 19 / 279\n",
      "combining the current components...\n"
     ]
    },
    {
     "name": "stderr",
     "output_type": "stream",
     "text": [
      "\r",
      "19it [00:02,  8.65it/s]"
     ]
    },
    {
     "name": "stdout",
     "output_type": "stream",
     "text": [
      "Processing epoch : 20 / 279\n",
      "combining the current components...\n"
     ]
    },
    {
     "name": "stderr",
     "output_type": "stream",
     "text": [
      "\r",
      "20it [00:02,  8.57it/s]"
     ]
    },
    {
     "name": "stdout",
     "output_type": "stream",
     "text": [
      "Processing epoch : 21 / 279\n",
      "combining the current components...\n",
      "Processing epoch : 22 / 279\n",
      "combining the current components...\n"
     ]
    },
    {
     "name": "stderr",
     "output_type": "stream",
     "text": [
      "\r",
      "22it [00:02,  9.08it/s]"
     ]
    },
    {
     "name": "stdout",
     "output_type": "stream",
     "text": [
      "Processing epoch : 23 / 279\n",
      "combining the current components...\n",
      "Processing epoch : 24 / 279\n",
      "combining the current components...\n"
     ]
    },
    {
     "name": "stderr",
     "output_type": "stream",
     "text": [
      "\r",
      "24it [00:02,  9.39it/s]"
     ]
    },
    {
     "name": "stdout",
     "output_type": "stream",
     "text": [
      "Processing epoch : 25 / 279\n",
      "combining the current components...\n"
     ]
    },
    {
     "name": "stderr",
     "output_type": "stream",
     "text": [
      "\r",
      "25it [00:02,  9.21it/s]"
     ]
    },
    {
     "name": "stdout",
     "output_type": "stream",
     "text": [
      "Processing epoch : 26 / 279\n",
      "combining the current components...\n"
     ]
    },
    {
     "name": "stderr",
     "output_type": "stream",
     "text": [
      "\r",
      "26it [00:02,  9.04it/s]"
     ]
    },
    {
     "name": "stdout",
     "output_type": "stream",
     "text": [
      "Processing epoch : 27 / 279\n",
      "combining the current components...\n"
     ]
    },
    {
     "name": "stderr",
     "output_type": "stream",
     "text": [
      "\r",
      "27it [00:03,  8.87it/s]"
     ]
    },
    {
     "name": "stdout",
     "output_type": "stream",
     "text": [
      "Processing epoch : 28 / 279\n",
      "combining the current components...\n"
     ]
    },
    {
     "name": "stderr",
     "output_type": "stream",
     "text": [
      "\r",
      "28it [00:03,  8.72it/s]"
     ]
    },
    {
     "name": "stdout",
     "output_type": "stream",
     "text": [
      "Processing epoch : 29 / 279\n",
      "combining the current components...\n"
     ]
    },
    {
     "name": "stderr",
     "output_type": "stream",
     "text": [
      "\r",
      "29it [00:03,  8.77it/s]"
     ]
    },
    {
     "name": "stdout",
     "output_type": "stream",
     "text": [
      "Processing epoch : 30 / 279\n",
      "combining the current components...\n"
     ]
    },
    {
     "name": "stderr",
     "output_type": "stream",
     "text": [
      "\r",
      "30it [00:03,  8.74it/s]"
     ]
    },
    {
     "name": "stdout",
     "output_type": "stream",
     "text": [
      "Processing epoch : 31 / 279\n",
      "combining the current components...\n"
     ]
    },
    {
     "name": "stderr",
     "output_type": "stream",
     "text": [
      "\r",
      "31it [00:03,  8.70it/s]"
     ]
    },
    {
     "name": "stdout",
     "output_type": "stream",
     "text": [
      "Processing epoch : 32 / 279\n",
      "combining the current components...\n"
     ]
    },
    {
     "name": "stderr",
     "output_type": "stream",
     "text": [
      "\r",
      "32it [00:03,  8.85it/s]"
     ]
    },
    {
     "name": "stdout",
     "output_type": "stream",
     "text": [
      "Processing epoch : 33 / 279\n",
      "combining the current components...\n",
      "Processing epoch : 34 / 279\n",
      "combining the current components...\n"
     ]
    },
    {
     "name": "stderr",
     "output_type": "stream",
     "text": [
      "\r",
      "34it [00:03,  9.31it/s]"
     ]
    },
    {
     "name": "stdout",
     "output_type": "stream",
     "text": [
      "Processing epoch : 35 / 279\n",
      "combining the current components...\n",
      "Processing epoch : 36 / 279\n",
      "combining the current components...\n"
     ]
    },
    {
     "name": "stderr",
     "output_type": "stream",
     "text": [
      "\r",
      "36it [00:04,  9.67it/s]"
     ]
    },
    {
     "name": "stdout",
     "output_type": "stream",
     "text": [
      "Processing epoch : 37 / 279\n",
      "combining the current components...\n",
      "Processing epoch : 38 / 279\n",
      "combining the current components...\n"
     ]
    },
    {
     "name": "stderr",
     "output_type": "stream",
     "text": [
      "\r",
      "38it [00:04,  9.95it/s]"
     ]
    },
    {
     "name": "stdout",
     "output_type": "stream",
     "text": [
      "Processing epoch : 39 / 279\n",
      "combining the current components...\n",
      "Processing epoch : 40 / 279\n",
      "combining the current components...\n"
     ]
    },
    {
     "name": "stderr",
     "output_type": "stream",
     "text": [
      "\r",
      "40it [00:04, 10.15it/s]"
     ]
    },
    {
     "name": "stdout",
     "output_type": "stream",
     "text": [
      "Processing epoch : 41 / 279\n",
      "combining the current components...\n",
      "Processing epoch : 42 / 279\n",
      "combining the current components...\n"
     ]
    },
    {
     "name": "stderr",
     "output_type": "stream",
     "text": [
      "\r",
      "42it [00:04, 10.19it/s]"
     ]
    },
    {
     "name": "stdout",
     "output_type": "stream",
     "text": [
      "Processing epoch : 43 / 279\n",
      "combining the current components...\n",
      "Processing epoch : 44 / 279\n",
      "combining the current components...\n"
     ]
    },
    {
     "name": "stderr",
     "output_type": "stream",
     "text": [
      "\r",
      "44it [00:04, 10.42it/s]"
     ]
    },
    {
     "name": "stdout",
     "output_type": "stream",
     "text": [
      "Processing epoch : 45 / 279\n",
      "combining the current components...\n",
      "Processing epoch : 46 / 279\n",
      "combining the current components...\n"
     ]
    },
    {
     "name": "stderr",
     "output_type": "stream",
     "text": [
      "\r",
      "46it [00:05, 10.17it/s]"
     ]
    },
    {
     "name": "stdout",
     "output_type": "stream",
     "text": [
      "Processing epoch : 47 / 279\n",
      "combining the current components...\n",
      "Processing epoch : 48 / 279\n",
      "combining the current components...\n"
     ]
    },
    {
     "name": "stderr",
     "output_type": "stream",
     "text": [
      "\r",
      "48it [00:05,  9.83it/s]"
     ]
    },
    {
     "name": "stdout",
     "output_type": "stream",
     "text": [
      "Processing epoch : 49 / 279\n",
      "combining the current components...\n",
      "Processing epoch : 50 / 279\n",
      "combining the current components...\n"
     ]
    },
    {
     "name": "stderr",
     "output_type": "stream",
     "text": [
      "\r",
      "50it [00:05, 10.09it/s]"
     ]
    },
    {
     "name": "stdout",
     "output_type": "stream",
     "text": [
      "Processing epoch : 51 / 279\n",
      "combining the current components...\n",
      "Processing epoch : 52 / 279\n",
      "combining the current components...\n"
     ]
    },
    {
     "name": "stderr",
     "output_type": "stream",
     "text": [
      "\r",
      "52it [00:05, 10.29it/s]"
     ]
    },
    {
     "name": "stdout",
     "output_type": "stream",
     "text": [
      "Processing epoch : 53 / 279\n",
      "combining the current components...\n",
      "Processing epoch : 54 / 279\n",
      "combining the current components...\n"
     ]
    },
    {
     "name": "stderr",
     "output_type": "stream",
     "text": [
      "\r",
      "54it [00:05, 10.43it/s]"
     ]
    },
    {
     "name": "stdout",
     "output_type": "stream",
     "text": [
      "Processing epoch : 55 / 279\n",
      "combining the current components...\n",
      "Processing epoch : 56 / 279\n",
      "combining the current components...\n"
     ]
    },
    {
     "name": "stderr",
     "output_type": "stream",
     "text": [
      "\r",
      "56it [00:05, 10.49it/s]"
     ]
    },
    {
     "name": "stdout",
     "output_type": "stream",
     "text": [
      "Processing epoch : 57 / 279\n",
      "combining the current components...\n",
      "Processing epoch : 58 / 279\n",
      "combining the current components...\n"
     ]
    },
    {
     "name": "stderr",
     "output_type": "stream",
     "text": [
      "\r",
      "58it [00:06, 10.50it/s]"
     ]
    },
    {
     "name": "stdout",
     "output_type": "stream",
     "text": [
      "Processing epoch : 59 / 279\n",
      "combining the current components...\n",
      "Processing epoch : 60 / 279\n",
      "combining the current components...\n"
     ]
    },
    {
     "name": "stderr",
     "output_type": "stream",
     "text": [
      "\r",
      "60it [00:06, 10.11it/s]"
     ]
    },
    {
     "name": "stdout",
     "output_type": "stream",
     "text": [
      "Processing epoch : 61 / 279\n",
      "combining the current components...\n",
      "Processing epoch : 62 / 279\n",
      "combining the current components...\n"
     ]
    },
    {
     "name": "stderr",
     "output_type": "stream",
     "text": [
      "\r",
      "62it [00:06,  9.68it/s]"
     ]
    },
    {
     "name": "stdout",
     "output_type": "stream",
     "text": [
      "Processing epoch : 63 / 279\n",
      "combining the current components...\n"
     ]
    },
    {
     "name": "stderr",
     "output_type": "stream",
     "text": [
      "\r",
      "63it [00:06,  9.35it/s]"
     ]
    },
    {
     "name": "stdout",
     "output_type": "stream",
     "text": [
      "Processing epoch : 64 / 279\n",
      "combining the current components...\n"
     ]
    },
    {
     "name": "stderr",
     "output_type": "stream",
     "text": [
      "\r",
      "64it [00:06,  9.15it/s]"
     ]
    },
    {
     "name": "stdout",
     "output_type": "stream",
     "text": [
      "Processing epoch : 65 / 279\n",
      "combining the current components...\n"
     ]
    },
    {
     "name": "stderr",
     "output_type": "stream",
     "text": [
      "\r",
      "65it [00:06,  9.08it/s]"
     ]
    },
    {
     "name": "stdout",
     "output_type": "stream",
     "text": [
      "Processing epoch : 66 / 279\n",
      "combining the current components...\n"
     ]
    },
    {
     "name": "stderr",
     "output_type": "stream",
     "text": [
      "\r",
      "66it [00:07,  9.06it/s]"
     ]
    },
    {
     "name": "stdout",
     "output_type": "stream",
     "text": [
      "Processing epoch : 67 / 279\n",
      "combining the current components...\n"
     ]
    },
    {
     "name": "stderr",
     "output_type": "stream",
     "text": [
      "\r",
      "67it [00:07,  8.92it/s]"
     ]
    },
    {
     "name": "stdout",
     "output_type": "stream",
     "text": [
      "Processing epoch : 68 / 279\n",
      "combining the current components...\n"
     ]
    },
    {
     "name": "stderr",
     "output_type": "stream",
     "text": [
      "\r",
      "68it [00:07,  8.84it/s]"
     ]
    },
    {
     "name": "stdout",
     "output_type": "stream",
     "text": [
      "Processing epoch : 69 / 279\n",
      "combining the current components...\n"
     ]
    },
    {
     "name": "stderr",
     "output_type": "stream",
     "text": [
      "\r",
      "69it [00:07,  8.85it/s]"
     ]
    },
    {
     "name": "stdout",
     "output_type": "stream",
     "text": [
      "Processing epoch : 70 / 279\n",
      "combining the current components...\n"
     ]
    },
    {
     "name": "stderr",
     "output_type": "stream",
     "text": [
      "\r",
      "70it [00:07,  8.81it/s]"
     ]
    },
    {
     "name": "stdout",
     "output_type": "stream",
     "text": [
      "Processing epoch : 71 / 279\n",
      "combining the current components...\n"
     ]
    },
    {
     "name": "stderr",
     "output_type": "stream",
     "text": [
      "\r",
      "71it [00:07,  8.77it/s]"
     ]
    },
    {
     "name": "stdout",
     "output_type": "stream",
     "text": [
      "Processing epoch : 72 / 279\n",
      "combining the current components...\n"
     ]
    },
    {
     "name": "stderr",
     "output_type": "stream",
     "text": [
      "\r",
      "72it [00:07,  8.75it/s]"
     ]
    },
    {
     "name": "stdout",
     "output_type": "stream",
     "text": [
      "Processing epoch : 73 / 279\n",
      "combining the current components...\n"
     ]
    },
    {
     "name": "stderr",
     "output_type": "stream",
     "text": [
      "\r",
      "73it [00:07,  8.80it/s]"
     ]
    },
    {
     "name": "stdout",
     "output_type": "stream",
     "text": [
      "Processing epoch : 74 / 279\n",
      "combining the current components...\n"
     ]
    },
    {
     "name": "stderr",
     "output_type": "stream",
     "text": [
      "\r",
      "74it [00:07,  8.78it/s]"
     ]
    },
    {
     "name": "stdout",
     "output_type": "stream",
     "text": [
      "Processing epoch : 75 / 279\n",
      "combining the current components...\n",
      "Processing epoch : 76 / 279\n",
      "combining the current components...\n"
     ]
    },
    {
     "name": "stderr",
     "output_type": "stream",
     "text": [
      "\r",
      "76it [00:08,  7.96it/s]"
     ]
    },
    {
     "name": "stdout",
     "output_type": "stream",
     "text": [
      "Processing epoch : 77 / 279\n",
      "combining the current components...\n",
      "Processing epoch : 78 / 279\n",
      "combining the current components...\n"
     ]
    },
    {
     "name": "stderr",
     "output_type": "stream",
     "text": [
      "\r",
      "78it [00:08,  8.63it/s]"
     ]
    },
    {
     "name": "stdout",
     "output_type": "stream",
     "text": [
      "Processing epoch : 79 / 279\n",
      "combining the current components...\n",
      "Processing epoch : 80 / 279\n",
      "combining the current components...\n"
     ]
    },
    {
     "name": "stderr",
     "output_type": "stream",
     "text": [
      "\r",
      "80it [00:08,  9.14it/s]"
     ]
    },
    {
     "name": "stdout",
     "output_type": "stream",
     "text": [
      "Processing epoch : 81 / 279\n",
      "combining the current components...\n",
      "Processing epoch : 82 / 279\n",
      "combining the current components...\n"
     ]
    },
    {
     "name": "stderr",
     "output_type": "stream",
     "text": [
      "\r",
      "82it [00:08,  9.54it/s]"
     ]
    },
    {
     "name": "stdout",
     "output_type": "stream",
     "text": [
      "Processing epoch : 83 / 279\n",
      "combining the current components...\n"
     ]
    },
    {
     "name": "stderr",
     "output_type": "stream",
     "text": [
      "\r",
      "83it [00:08,  9.26it/s]"
     ]
    },
    {
     "name": "stdout",
     "output_type": "stream",
     "text": [
      "Processing epoch : 84 / 279\n",
      "combining the current components...\n"
     ]
    },
    {
     "name": "stderr",
     "output_type": "stream",
     "text": [
      "\r",
      "84it [00:09,  9.05it/s]"
     ]
    },
    {
     "name": "stdout",
     "output_type": "stream",
     "text": [
      "Processing epoch : 85 / 279\n",
      "combining the current components...\n"
     ]
    },
    {
     "name": "stderr",
     "output_type": "stream",
     "text": [
      "\r",
      "85it [00:09,  8.99it/s]"
     ]
    },
    {
     "name": "stdout",
     "output_type": "stream",
     "text": [
      "Processing epoch : 86 / 279\n",
      "combining the current components...\n"
     ]
    },
    {
     "name": "stderr",
     "output_type": "stream",
     "text": [
      "\r",
      "86it [00:09,  8.89it/s]"
     ]
    },
    {
     "name": "stdout",
     "output_type": "stream",
     "text": [
      "Processing epoch : 87 / 279\n",
      "combining the current components...\n"
     ]
    },
    {
     "name": "stderr",
     "output_type": "stream",
     "text": [
      "\r",
      "87it [00:09,  9.06it/s]"
     ]
    },
    {
     "name": "stdout",
     "output_type": "stream",
     "text": [
      "Processing epoch : 88 / 279\n",
      "combining the current components...\n",
      "Processing epoch : 89 / 279\n",
      "combining the current components...\n"
     ]
    },
    {
     "name": "stderr",
     "output_type": "stream",
     "text": [
      "\r",
      "89it [00:09,  9.45it/s]"
     ]
    },
    {
     "name": "stdout",
     "output_type": "stream",
     "text": [
      "Processing epoch : 90 / 279\n",
      "combining the current components...\n"
     ]
    },
    {
     "name": "stderr",
     "output_type": "stream",
     "text": [
      "\r",
      "90it [00:09,  9.15it/s]"
     ]
    },
    {
     "name": "stdout",
     "output_type": "stream",
     "text": [
      "Processing epoch : 91 / 279\n",
      "combining the current components...\n",
      "Processing epoch : 92 / 279\n",
      "combining the current components...\n"
     ]
    },
    {
     "name": "stderr",
     "output_type": "stream",
     "text": [
      "\r",
      "92it [00:09,  9.22it/s]"
     ]
    },
    {
     "name": "stdout",
     "output_type": "stream",
     "text": [
      "Processing epoch : 93 / 279\n",
      "combining the current components...\n"
     ]
    },
    {
     "name": "stderr",
     "output_type": "stream",
     "text": [
      "\r",
      "93it [00:10,  9.07it/s]"
     ]
    },
    {
     "name": "stdout",
     "output_type": "stream",
     "text": [
      "Processing epoch : 94 / 279\n",
      "combining the current components...\n"
     ]
    },
    {
     "name": "stderr",
     "output_type": "stream",
     "text": [
      "\r",
      "94it [00:10,  8.90it/s]"
     ]
    },
    {
     "name": "stdout",
     "output_type": "stream",
     "text": [
      "Processing epoch : 95 / 279\n",
      "combining the current components...\n"
     ]
    },
    {
     "name": "stderr",
     "output_type": "stream",
     "text": [
      "\r",
      "95it [00:10,  8.95it/s]"
     ]
    },
    {
     "name": "stdout",
     "output_type": "stream",
     "text": [
      "Processing epoch : 96 / 279\n",
      "combining the current components...\n"
     ]
    },
    {
     "name": "stderr",
     "output_type": "stream",
     "text": [
      "\r",
      "96it [00:10,  8.79it/s]"
     ]
    },
    {
     "name": "stdout",
     "output_type": "stream",
     "text": [
      "Processing epoch : 97 / 279\n",
      "combining the current components...\n"
     ]
    },
    {
     "name": "stderr",
     "output_type": "stream",
     "text": [
      "\r",
      "97it [00:10,  8.75it/s]"
     ]
    },
    {
     "name": "stdout",
     "output_type": "stream",
     "text": [
      "Processing epoch : 98 / 279\n",
      "combining the current components...\n"
     ]
    },
    {
     "name": "stderr",
     "output_type": "stream",
     "text": [
      "\r",
      "98it [00:10,  8.68it/s]"
     ]
    },
    {
     "name": "stdout",
     "output_type": "stream",
     "text": [
      "Processing epoch : 99 / 279\n",
      "combining the current components...\n"
     ]
    },
    {
     "name": "stderr",
     "output_type": "stream",
     "text": [
      "\r",
      "99it [00:10,  8.64it/s]"
     ]
    },
    {
     "name": "stdout",
     "output_type": "stream",
     "text": [
      "Processing epoch : 100 / 279\n",
      "combining the current components...\n"
     ]
    },
    {
     "name": "stderr",
     "output_type": "stream",
     "text": [
      "\r",
      "100it [00:10,  8.83it/s]"
     ]
    },
    {
     "name": "stdout",
     "output_type": "stream",
     "text": [
      "Processing epoch : 101 / 279\n",
      "combining the current components...\n"
     ]
    },
    {
     "name": "stderr",
     "output_type": "stream",
     "text": [
      "\r",
      "101it [00:10,  8.79it/s]"
     ]
    },
    {
     "name": "stdout",
     "output_type": "stream",
     "text": [
      "Processing epoch : 102 / 279\n",
      "combining the current components...\n"
     ]
    },
    {
     "name": "stderr",
     "output_type": "stream",
     "text": [
      "\r",
      "102it [00:11,  8.71it/s]"
     ]
    },
    {
     "name": "stdout",
     "output_type": "stream",
     "text": [
      "Processing epoch : 103 / 279\n",
      "combining the current components...\n",
      "Processing epoch : 104 / 279\n",
      "combining the current components...\n"
     ]
    },
    {
     "name": "stderr",
     "output_type": "stream",
     "text": [
      "\r",
      "104it [00:11,  9.19it/s]"
     ]
    },
    {
     "name": "stdout",
     "output_type": "stream",
     "text": [
      "Processing epoch : 105 / 279\n",
      "combining the current components...\n"
     ]
    },
    {
     "name": "stderr",
     "output_type": "stream",
     "text": [
      "\r",
      "105it [00:11,  9.21it/s]"
     ]
    },
    {
     "name": "stdout",
     "output_type": "stream",
     "text": [
      "Processing epoch : 106 / 279\n",
      "combining the current components...\n"
     ]
    },
    {
     "name": "stderr",
     "output_type": "stream",
     "text": [
      "\r",
      "106it [00:11,  9.15it/s]"
     ]
    },
    {
     "name": "stdout",
     "output_type": "stream",
     "text": [
      "Processing epoch : 107 / 279\n",
      "combining the current components...\n"
     ]
    },
    {
     "name": "stderr",
     "output_type": "stream",
     "text": [
      "\r",
      "107it [00:11,  9.08it/s]"
     ]
    },
    {
     "name": "stdout",
     "output_type": "stream",
     "text": [
      "Processing epoch : 108 / 279\n",
      "combining the current components...\n"
     ]
    },
    {
     "name": "stderr",
     "output_type": "stream",
     "text": [
      "\r",
      "108it [00:11,  8.95it/s]"
     ]
    },
    {
     "name": "stdout",
     "output_type": "stream",
     "text": [
      "Processing epoch : 109 / 279\n",
      "combining the current components...\n",
      "Processing epoch : 110 / 279\n",
      "combining the current components...\n"
     ]
    },
    {
     "name": "stderr",
     "output_type": "stream",
     "text": [
      "\r",
      "110it [00:11,  9.39it/s]"
     ]
    },
    {
     "name": "stdout",
     "output_type": "stream",
     "text": [
      "Processing epoch : 111 / 279\n",
      "combining the current components...\n",
      "Processing epoch : 112 / 279\n",
      "combining the current components...\n"
     ]
    },
    {
     "name": "stderr",
     "output_type": "stream",
     "text": [
      "\r",
      "112it [00:12,  9.67it/s]"
     ]
    },
    {
     "name": "stdout",
     "output_type": "stream",
     "text": [
      "Processing epoch : 113 / 279\n",
      "combining the current components...\n",
      "Processing epoch : 114 / 279\n",
      "combining the current components...\n"
     ]
    },
    {
     "name": "stderr",
     "output_type": "stream",
     "text": [
      "\r",
      "114it [00:12,  9.89it/s]"
     ]
    },
    {
     "name": "stdout",
     "output_type": "stream",
     "text": [
      "Processing epoch : 115 / 279\n",
      "combining the current components...\n",
      "Processing epoch : 116 / 279\n",
      "combining the current components...\n"
     ]
    },
    {
     "name": "stderr",
     "output_type": "stream",
     "text": [
      "\r",
      "116it [00:12, 10.09it/s]"
     ]
    },
    {
     "name": "stdout",
     "output_type": "stream",
     "text": [
      "Processing epoch : 117 / 279\n",
      "combining the current components...\n",
      "Processing epoch : 118 / 279\n",
      "combining the current components...\n"
     ]
    },
    {
     "name": "stderr",
     "output_type": "stream",
     "text": [
      "\r",
      "118it [00:12, 10.07it/s]"
     ]
    },
    {
     "name": "stdout",
     "output_type": "stream",
     "text": [
      "Processing epoch : 119 / 279\n",
      "combining the current components...\n",
      "Processing epoch : 120 / 279\n",
      "combining the current components...\n"
     ]
    },
    {
     "name": "stderr",
     "output_type": "stream",
     "text": [
      "\r",
      "120it [00:12,  9.61it/s]"
     ]
    },
    {
     "name": "stdout",
     "output_type": "stream",
     "text": [
      "Processing epoch : 121 / 279\n",
      "combining the current components...\n",
      "Processing epoch : 122 / 279\n",
      "combining the current components...\n"
     ]
    },
    {
     "name": "stderr",
     "output_type": "stream",
     "text": [
      "\r",
      "122it [00:13,  9.21it/s]"
     ]
    },
    {
     "name": "stdout",
     "output_type": "stream",
     "text": [
      "Processing epoch : 123 / 279\n",
      "combining the current components...\n",
      "Processing epoch : 124 / 279\n",
      "combining the current components...\n"
     ]
    },
    {
     "name": "stderr",
     "output_type": "stream",
     "text": [
      "\r",
      "124it [00:13,  9.52it/s]"
     ]
    },
    {
     "name": "stdout",
     "output_type": "stream",
     "text": [
      "Processing epoch : 125 / 279\n",
      "combining the current components...\n",
      "Processing epoch : 126 / 279\n",
      "combining the current components...\n"
     ]
    },
    {
     "name": "stderr",
     "output_type": "stream",
     "text": [
      "\r",
      "126it [00:13,  9.45it/s]"
     ]
    },
    {
     "name": "stdout",
     "output_type": "stream",
     "text": [
      "Processing epoch : 127 / 279\n",
      "combining the current components...\n",
      "Processing epoch : 128 / 279\n",
      "combining the current components...\n"
     ]
    },
    {
     "name": "stderr",
     "output_type": "stream",
     "text": [
      "\r",
      "128it [00:13,  9.73it/s]"
     ]
    },
    {
     "name": "stdout",
     "output_type": "stream",
     "text": [
      "Processing epoch : 129 / 279\n",
      "combining the current components...\n",
      "Processing epoch : 130 / 279\n",
      "combining the current components...\n"
     ]
    },
    {
     "name": "stderr",
     "output_type": "stream",
     "text": [
      "\r",
      "130it [00:13, 10.01it/s]"
     ]
    },
    {
     "name": "stdout",
     "output_type": "stream",
     "text": [
      "Processing epoch : 131 / 279\n",
      "combining the current components...\n",
      "Processing epoch : 132 / 279\n",
      "combining the current components...\n"
     ]
    },
    {
     "name": "stderr",
     "output_type": "stream",
     "text": [
      "\r",
      "132it [00:14, 10.19it/s]"
     ]
    },
    {
     "name": "stdout",
     "output_type": "stream",
     "text": [
      "Processing epoch : 133 / 279\n",
      "combining the current components...\n",
      "Processing epoch : 134 / 279\n",
      "combining the current components...\n"
     ]
    },
    {
     "name": "stderr",
     "output_type": "stream",
     "text": [
      "\r",
      "134it [00:14, 10.35it/s]"
     ]
    },
    {
     "name": "stdout",
     "output_type": "stream",
     "text": [
      "Processing epoch : 135 / 279\n",
      "combining the current components...\n",
      "Processing epoch : 136 / 279\n",
      "combining the current components...\n"
     ]
    },
    {
     "name": "stderr",
     "output_type": "stream",
     "text": [
      "\r",
      "136it [00:14,  9.53it/s]"
     ]
    },
    {
     "name": "stdout",
     "output_type": "stream",
     "text": [
      "Processing epoch : 137 / 279\n",
      "combining the current components...\n"
     ]
    },
    {
     "name": "stderr",
     "output_type": "stream",
     "text": [
      "\r",
      "137it [00:14,  8.58it/s]"
     ]
    },
    {
     "name": "stdout",
     "output_type": "stream",
     "text": [
      "Processing epoch : 138 / 279\n",
      "combining the current components...\n"
     ]
    },
    {
     "name": "stderr",
     "output_type": "stream",
     "text": [
      "\r",
      "138it [00:14,  8.03it/s]"
     ]
    },
    {
     "name": "stdout",
     "output_type": "stream",
     "text": [
      "Processing epoch : 139 / 279\n",
      "combining the current components...\n"
     ]
    },
    {
     "name": "stderr",
     "output_type": "stream",
     "text": [
      "\r",
      "139it [00:14,  7.68it/s]"
     ]
    },
    {
     "name": "stdout",
     "output_type": "stream",
     "text": [
      "Processing epoch : 140 / 279\n",
      "combining the current components...\n"
     ]
    },
    {
     "name": "stderr",
     "output_type": "stream",
     "text": [
      "\r",
      "140it [00:15,  7.45it/s]"
     ]
    },
    {
     "name": "stdout",
     "output_type": "stream",
     "text": [
      "Processing epoch : 141 / 279\n",
      "combining the current components...\n"
     ]
    },
    {
     "name": "stderr",
     "output_type": "stream",
     "text": [
      "\r",
      "141it [00:15,  7.51it/s]"
     ]
    },
    {
     "name": "stdout",
     "output_type": "stream",
     "text": [
      "Processing epoch : 142 / 279\n",
      "combining the current components...\n"
     ]
    },
    {
     "name": "stderr",
     "output_type": "stream",
     "text": [
      "\r",
      "142it [00:15,  7.33it/s]"
     ]
    },
    {
     "name": "stdout",
     "output_type": "stream",
     "text": [
      "Processing epoch : 143 / 279\n",
      "combining the current components...\n"
     ]
    },
    {
     "name": "stderr",
     "output_type": "stream",
     "text": [
      "\r",
      "143it [00:15,  7.11it/s]"
     ]
    },
    {
     "name": "stdout",
     "output_type": "stream",
     "text": [
      "Processing epoch : 144 / 279\n",
      "combining the current components...\n"
     ]
    },
    {
     "name": "stderr",
     "output_type": "stream",
     "text": [
      "\r",
      "144it [00:15,  7.06it/s]"
     ]
    },
    {
     "name": "stdout",
     "output_type": "stream",
     "text": [
      "Processing epoch : 145 / 279\n",
      "combining the current components...\n"
     ]
    },
    {
     "name": "stderr",
     "output_type": "stream",
     "text": [
      "\r",
      "145it [00:15,  7.04it/s]"
     ]
    },
    {
     "name": "stdout",
     "output_type": "stream",
     "text": [
      "Processing epoch : 146 / 279\n",
      "combining the current components...\n"
     ]
    },
    {
     "name": "stderr",
     "output_type": "stream",
     "text": [
      "\r",
      "146it [00:15,  7.21it/s]"
     ]
    },
    {
     "name": "stdout",
     "output_type": "stream",
     "text": [
      "Processing epoch : 147 / 279\n",
      "combining the current components...\n"
     ]
    },
    {
     "name": "stderr",
     "output_type": "stream",
     "text": [
      "\r",
      "147it [00:16,  7.12it/s]"
     ]
    },
    {
     "name": "stdout",
     "output_type": "stream",
     "text": [
      "Processing epoch : 148 / 279\n",
      "combining the current components...\n"
     ]
    },
    {
     "name": "stderr",
     "output_type": "stream",
     "text": [
      "\r",
      "148it [00:16,  6.99it/s]"
     ]
    },
    {
     "name": "stdout",
     "output_type": "stream",
     "text": [
      "Processing epoch : 149 / 279\n",
      "combining the current components...\n"
     ]
    },
    {
     "name": "stderr",
     "output_type": "stream",
     "text": [
      "\r",
      "149it [00:16,  6.98it/s]"
     ]
    },
    {
     "name": "stdout",
     "output_type": "stream",
     "text": [
      "Processing epoch : 150 / 279\n",
      "combining the current components...\n"
     ]
    },
    {
     "name": "stderr",
     "output_type": "stream",
     "text": [
      "\r",
      "150it [00:16,  7.08it/s]"
     ]
    },
    {
     "name": "stdout",
     "output_type": "stream",
     "text": [
      "Processing epoch : 151 / 279\n",
      "combining the current components...\n"
     ]
    },
    {
     "name": "stderr",
     "output_type": "stream",
     "text": [
      "\r",
      "151it [00:16,  7.03it/s]"
     ]
    },
    {
     "name": "stdout",
     "output_type": "stream",
     "text": [
      "Processing epoch : 152 / 279\n",
      "combining the current components...\n"
     ]
    },
    {
     "name": "stderr",
     "output_type": "stream",
     "text": [
      "\r",
      "152it [00:16,  6.57it/s]"
     ]
    },
    {
     "name": "stdout",
     "output_type": "stream",
     "text": [
      "Processing epoch : 153 / 279\n",
      "combining the current components...\n"
     ]
    },
    {
     "name": "stderr",
     "output_type": "stream",
     "text": [
      "\r",
      "153it [00:17,  6.26it/s]"
     ]
    },
    {
     "name": "stdout",
     "output_type": "stream",
     "text": [
      "Processing epoch : 154 / 279\n",
      "combining the current components...\n"
     ]
    },
    {
     "name": "stderr",
     "output_type": "stream",
     "text": [
      "\r",
      "154it [00:17,  5.64it/s]"
     ]
    },
    {
     "name": "stdout",
     "output_type": "stream",
     "text": [
      "Processing epoch : 155 / 279\n",
      "combining the current components...\n"
     ]
    },
    {
     "name": "stderr",
     "output_type": "stream",
     "text": [
      "\r",
      "155it [00:17,  5.67it/s]"
     ]
    },
    {
     "name": "stdout",
     "output_type": "stream",
     "text": [
      "Processing epoch : 156 / 279\n",
      "combining the current components...\n"
     ]
    },
    {
     "name": "stderr",
     "output_type": "stream",
     "text": [
      "\r",
      "156it [00:17,  5.37it/s]"
     ]
    },
    {
     "name": "stdout",
     "output_type": "stream",
     "text": [
      "Processing epoch : 157 / 279\n",
      "combining the current components...\n"
     ]
    },
    {
     "name": "stderr",
     "output_type": "stream",
     "text": [
      "\r",
      "157it [00:17,  5.61it/s]"
     ]
    },
    {
     "name": "stdout",
     "output_type": "stream",
     "text": [
      "Processing epoch : 158 / 279\n",
      "combining the current components...\n"
     ]
    },
    {
     "name": "stderr",
     "output_type": "stream",
     "text": [
      "\r",
      "158it [00:18,  5.43it/s]"
     ]
    },
    {
     "name": "stdout",
     "output_type": "stream",
     "text": [
      "Processing epoch : 159 / 279\n",
      "combining the current components...\n"
     ]
    },
    {
     "name": "stderr",
     "output_type": "stream",
     "text": [
      "\r",
      "159it [00:18,  5.29it/s]"
     ]
    },
    {
     "name": "stdout",
     "output_type": "stream",
     "text": [
      "Processing epoch : 160 / 279\n",
      "combining the current components...\n"
     ]
    },
    {
     "name": "stderr",
     "output_type": "stream",
     "text": [
      "\r",
      "160it [00:18,  5.08it/s]"
     ]
    },
    {
     "name": "stdout",
     "output_type": "stream",
     "text": [
      "Processing epoch : 161 / 279\n",
      "combining the current components...\n"
     ]
    },
    {
     "name": "stderr",
     "output_type": "stream",
     "text": [
      "\r",
      "161it [00:18,  5.11it/s]"
     ]
    },
    {
     "name": "stdout",
     "output_type": "stream",
     "text": [
      "Processing epoch : 162 / 279\n",
      "combining the current components...\n"
     ]
    },
    {
     "name": "stderr",
     "output_type": "stream",
     "text": [
      "\r",
      "162it [00:18,  5.05it/s]"
     ]
    },
    {
     "name": "stdout",
     "output_type": "stream",
     "text": [
      "Processing epoch : 163 / 279\n",
      "combining the current components...\n"
     ]
    },
    {
     "name": "stderr",
     "output_type": "stream",
     "text": [
      "\r",
      "163it [00:19,  5.00it/s]"
     ]
    },
    {
     "name": "stdout",
     "output_type": "stream",
     "text": [
      "Processing epoch : 164 / 279\n",
      "combining the current components...\n"
     ]
    },
    {
     "name": "stderr",
     "output_type": "stream",
     "text": [
      "\r",
      "164it [00:19,  4.95it/s]"
     ]
    },
    {
     "name": "stdout",
     "output_type": "stream",
     "text": [
      "Processing epoch : 165 / 279\n",
      "combining the current components...\n"
     ]
    },
    {
     "name": "stderr",
     "output_type": "stream",
     "text": [
      "\r",
      "165it [00:19,  5.18it/s]"
     ]
    },
    {
     "name": "stdout",
     "output_type": "stream",
     "text": [
      "Processing epoch : 166 / 279\n",
      "combining the current components...\n"
     ]
    },
    {
     "name": "stderr",
     "output_type": "stream",
     "text": [
      "\r",
      "166it [00:19,  5.18it/s]"
     ]
    },
    {
     "name": "stdout",
     "output_type": "stream",
     "text": [
      "Processing epoch : 167 / 279\n",
      "combining the current components...\n"
     ]
    },
    {
     "name": "stderr",
     "output_type": "stream",
     "text": [
      "\r",
      "167it [00:19,  5.02it/s]"
     ]
    },
    {
     "name": "stdout",
     "output_type": "stream",
     "text": [
      "Processing epoch : 168 / 279\n",
      "combining the current components...\n"
     ]
    },
    {
     "name": "stderr",
     "output_type": "stream",
     "text": [
      "\r",
      "168it [00:19,  5.06it/s]"
     ]
    },
    {
     "name": "stdout",
     "output_type": "stream",
     "text": [
      "Processing epoch : 169 / 279\n",
      "combining the current components...\n"
     ]
    },
    {
     "name": "stderr",
     "output_type": "stream",
     "text": [
      "\r",
      "169it [00:20,  5.10it/s]"
     ]
    },
    {
     "name": "stdout",
     "output_type": "stream",
     "text": [
      "Processing epoch : 170 / 279\n",
      "combining the current components...\n"
     ]
    },
    {
     "name": "stderr",
     "output_type": "stream",
     "text": [
      "\r",
      "170it [00:20,  5.12it/s]"
     ]
    },
    {
     "name": "stdout",
     "output_type": "stream",
     "text": [
      "Processing epoch : 171 / 279\n",
      "combining the current components...\n"
     ]
    },
    {
     "name": "stderr",
     "output_type": "stream",
     "text": [
      "\r",
      "171it [00:20,  5.06it/s]"
     ]
    },
    {
     "name": "stdout",
     "output_type": "stream",
     "text": [
      "Processing epoch : 172 / 279\n",
      "combining the current components...\n"
     ]
    },
    {
     "name": "stderr",
     "output_type": "stream",
     "text": [
      "\r",
      "172it [00:20,  5.02it/s]"
     ]
    },
    {
     "name": "stdout",
     "output_type": "stream",
     "text": [
      "Processing epoch : 173 / 279\n",
      "combining the current components...\n"
     ]
    },
    {
     "name": "stderr",
     "output_type": "stream",
     "text": [
      "\r",
      "173it [00:20,  5.16it/s]"
     ]
    },
    {
     "name": "stdout",
     "output_type": "stream",
     "text": [
      "Processing epoch : 174 / 279\n",
      "combining the current components...\n"
     ]
    },
    {
     "name": "stderr",
     "output_type": "stream",
     "text": [
      "\r",
      "174it [00:21,  5.16it/s]"
     ]
    },
    {
     "name": "stdout",
     "output_type": "stream",
     "text": [
      "Processing epoch : 175 / 279\n",
      "combining the current components...\n"
     ]
    },
    {
     "name": "stderr",
     "output_type": "stream",
     "text": [
      "\r",
      "175it [00:21,  5.20it/s]"
     ]
    },
    {
     "name": "stdout",
     "output_type": "stream",
     "text": [
      "Processing epoch : 176 / 279\n",
      "combining the current components...\n"
     ]
    },
    {
     "name": "stderr",
     "output_type": "stream",
     "text": [
      "\r",
      "176it [00:21,  5.22it/s]"
     ]
    },
    {
     "name": "stdout",
     "output_type": "stream",
     "text": [
      "Processing epoch : 177 / 279\n",
      "combining the current components...\n"
     ]
    },
    {
     "name": "stderr",
     "output_type": "stream",
     "text": [
      "\r",
      "177it [00:21,  5.22it/s]"
     ]
    },
    {
     "name": "stdout",
     "output_type": "stream",
     "text": [
      "Processing epoch : 178 / 279\n",
      "combining the current components...\n"
     ]
    },
    {
     "name": "stderr",
     "output_type": "stream",
     "text": [
      "\r",
      "178it [00:21,  5.21it/s]"
     ]
    },
    {
     "name": "stdout",
     "output_type": "stream",
     "text": [
      "Processing epoch : 179 / 279\n",
      "combining the current components...\n"
     ]
    },
    {
     "name": "stderr",
     "output_type": "stream",
     "text": [
      "\r",
      "179it [00:22,  5.21it/s]"
     ]
    },
    {
     "name": "stdout",
     "output_type": "stream",
     "text": [
      "Processing epoch : 180 / 279\n",
      "combining the current components...\n"
     ]
    },
    {
     "name": "stderr",
     "output_type": "stream",
     "text": [
      "\r",
      "180it [00:22,  5.18it/s]"
     ]
    },
    {
     "name": "stdout",
     "output_type": "stream",
     "text": [
      "Processing epoch : 181 / 279\n",
      "combining the current components...\n"
     ]
    },
    {
     "name": "stderr",
     "output_type": "stream",
     "text": [
      "\r",
      "181it [00:22,  5.14it/s]"
     ]
    },
    {
     "name": "stdout",
     "output_type": "stream",
     "text": [
      "Processing epoch : 182 / 279\n",
      "combining the current components...\n"
     ]
    },
    {
     "name": "stderr",
     "output_type": "stream",
     "text": [
      "\r",
      "182it [00:22,  5.16it/s]"
     ]
    },
    {
     "name": "stdout",
     "output_type": "stream",
     "text": [
      "Processing epoch : 183 / 279\n",
      "combining the current components...\n"
     ]
    },
    {
     "name": "stderr",
     "output_type": "stream",
     "text": [
      "\r",
      "183it [00:22,  5.35it/s]"
     ]
    },
    {
     "name": "stdout",
     "output_type": "stream",
     "text": [
      "Processing epoch : 184 / 279\n",
      "combining the current components...\n"
     ]
    },
    {
     "name": "stderr",
     "output_type": "stream",
     "text": [
      "\r",
      "184it [00:23,  5.22it/s]"
     ]
    },
    {
     "name": "stdout",
     "output_type": "stream",
     "text": [
      "Processing epoch : 185 / 279\n",
      "combining the current components...\n"
     ]
    },
    {
     "name": "stderr",
     "output_type": "stream",
     "text": [
      "\r",
      "185it [00:23,  5.31it/s]"
     ]
    },
    {
     "name": "stdout",
     "output_type": "stream",
     "text": [
      "Processing epoch : 186 / 279\n",
      "combining the current components...\n"
     ]
    },
    {
     "name": "stderr",
     "output_type": "stream",
     "text": [
      "\r",
      "186it [00:23,  5.28it/s]"
     ]
    },
    {
     "name": "stdout",
     "output_type": "stream",
     "text": [
      "Processing epoch : 187 / 279\n",
      "combining the current components...\n"
     ]
    },
    {
     "name": "stderr",
     "output_type": "stream",
     "text": [
      "\r",
      "187it [00:23,  5.35it/s]"
     ]
    },
    {
     "name": "stdout",
     "output_type": "stream",
     "text": [
      "Processing epoch : 188 / 279\n",
      "combining the current components...\n"
     ]
    },
    {
     "name": "stderr",
     "output_type": "stream",
     "text": [
      "\r",
      "188it [00:23,  5.44it/s]"
     ]
    },
    {
     "name": "stdout",
     "output_type": "stream",
     "text": [
      "Processing epoch : 189 / 279\n",
      "combining the current components...\n"
     ]
    },
    {
     "name": "stderr",
     "output_type": "stream",
     "text": [
      "\r",
      "189it [00:23,  6.11it/s]"
     ]
    },
    {
     "name": "stdout",
     "output_type": "stream",
     "text": [
      "Processing epoch : 190 / 279\n",
      "combining the current components...\n"
     ]
    },
    {
     "name": "stderr",
     "output_type": "stream",
     "text": [
      "\r",
      "190it [00:24,  6.57it/s]"
     ]
    },
    {
     "name": "stdout",
     "output_type": "stream",
     "text": [
      "Processing epoch : 191 / 279\n",
      "combining the current components...\n"
     ]
    },
    {
     "name": "stderr",
     "output_type": "stream",
     "text": [
      "\r",
      "191it [00:24,  6.81it/s]"
     ]
    },
    {
     "name": "stdout",
     "output_type": "stream",
     "text": [
      "Processing epoch : 192 / 279\n",
      "combining the current components...\n"
     ]
    },
    {
     "name": "stderr",
     "output_type": "stream",
     "text": [
      "\r",
      "192it [00:24,  7.25it/s]"
     ]
    },
    {
     "name": "stdout",
     "output_type": "stream",
     "text": [
      "Processing epoch : 193 / 279\n",
      "combining the current components...\n"
     ]
    },
    {
     "name": "stderr",
     "output_type": "stream",
     "text": [
      "\r",
      "193it [00:24,  7.46it/s]"
     ]
    },
    {
     "name": "stdout",
     "output_type": "stream",
     "text": [
      "Processing epoch : 194 / 279\n",
      "combining the current components...\n"
     ]
    },
    {
     "name": "stderr",
     "output_type": "stream",
     "text": [
      "\r",
      "194it [00:24,  7.52it/s]"
     ]
    },
    {
     "name": "stdout",
     "output_type": "stream",
     "text": [
      "Processing epoch : 195 / 279\n",
      "combining the current components...\n"
     ]
    },
    {
     "name": "stderr",
     "output_type": "stream",
     "text": [
      "\r",
      "195it [00:24,  7.61it/s]"
     ]
    },
    {
     "name": "stdout",
     "output_type": "stream",
     "text": [
      "Processing epoch : 196 / 279\n",
      "combining the current components...\n"
     ]
    },
    {
     "name": "stderr",
     "output_type": "stream",
     "text": [
      "\r",
      "196it [00:24,  7.85it/s]"
     ]
    },
    {
     "name": "stdout",
     "output_type": "stream",
     "text": [
      "Processing epoch : 197 / 279\n",
      "combining the current components...\n"
     ]
    },
    {
     "name": "stderr",
     "output_type": "stream",
     "text": [
      "\r",
      "197it [00:24,  7.85it/s]"
     ]
    },
    {
     "name": "stdout",
     "output_type": "stream",
     "text": [
      "Processing epoch : 198 / 279\n",
      "combining the current components...\n"
     ]
    },
    {
     "name": "stderr",
     "output_type": "stream",
     "text": [
      "\r",
      "198it [00:25,  7.79it/s]"
     ]
    },
    {
     "name": "stdout",
     "output_type": "stream",
     "text": [
      "Processing epoch : 199 / 279\n",
      "combining the current components...\n"
     ]
    },
    {
     "name": "stderr",
     "output_type": "stream",
     "text": [
      "\r",
      "199it [00:25,  7.87it/s]"
     ]
    },
    {
     "name": "stdout",
     "output_type": "stream",
     "text": [
      "Processing epoch : 200 / 279\n",
      "combining the current components...\n"
     ]
    },
    {
     "name": "stderr",
     "output_type": "stream",
     "text": [
      "\r",
      "200it [00:25,  7.91it/s]"
     ]
    },
    {
     "name": "stdout",
     "output_type": "stream",
     "text": [
      "Processing epoch : 201 / 279\n",
      "combining the current components...\n"
     ]
    },
    {
     "name": "stderr",
     "output_type": "stream",
     "text": [
      "\r",
      "201it [00:25,  8.03it/s]"
     ]
    },
    {
     "name": "stdout",
     "output_type": "stream",
     "text": [
      "Processing epoch : 202 / 279\n",
      "combining the current components...\n"
     ]
    },
    {
     "name": "stderr",
     "output_type": "stream",
     "text": [
      "\r",
      "202it [00:25,  7.84it/s]"
     ]
    },
    {
     "name": "stdout",
     "output_type": "stream",
     "text": [
      "Processing epoch : 203 / 279\n",
      "combining the current components...\n"
     ]
    },
    {
     "name": "stderr",
     "output_type": "stream",
     "text": [
      "\r",
      "203it [00:25,  8.02it/s]"
     ]
    },
    {
     "name": "stdout",
     "output_type": "stream",
     "text": [
      "Processing epoch : 204 / 279\n",
      "combining the current components...\n"
     ]
    },
    {
     "name": "stderr",
     "output_type": "stream",
     "text": [
      "\r",
      "204it [00:25,  7.97it/s]"
     ]
    },
    {
     "name": "stdout",
     "output_type": "stream",
     "text": [
      "Processing epoch : 205 / 279\n",
      "combining the current components...\n"
     ]
    },
    {
     "name": "stderr",
     "output_type": "stream",
     "text": [
      "\r",
      "205it [00:25,  7.94it/s]"
     ]
    },
    {
     "name": "stdout",
     "output_type": "stream",
     "text": [
      "Processing epoch : 206 / 279\n",
      "combining the current components...\n"
     ]
    },
    {
     "name": "stderr",
     "output_type": "stream",
     "text": [
      "\r",
      "206it [00:26,  7.97it/s]"
     ]
    },
    {
     "name": "stdout",
     "output_type": "stream",
     "text": [
      "Processing epoch : 207 / 279\n",
      "combining the current components...\n"
     ]
    },
    {
     "name": "stderr",
     "output_type": "stream",
     "text": [
      "\r",
      "207it [00:26,  7.21it/s]"
     ]
    },
    {
     "name": "stdout",
     "output_type": "stream",
     "text": [
      "Processing epoch : 208 / 279\n",
      "combining the current components...\n"
     ]
    },
    {
     "name": "stderr",
     "output_type": "stream",
     "text": [
      "\r",
      "208it [00:26,  6.16it/s]"
     ]
    },
    {
     "name": "stdout",
     "output_type": "stream",
     "text": [
      "Processing epoch : 209 / 279\n",
      "combining the current components...\n"
     ]
    },
    {
     "name": "stderr",
     "output_type": "stream",
     "text": [
      "\r",
      "209it [00:26,  6.63it/s]"
     ]
    },
    {
     "name": "stdout",
     "output_type": "stream",
     "text": [
      "Processing epoch : 210 / 279\n",
      "combining the current components...\n"
     ]
    },
    {
     "name": "stderr",
     "output_type": "stream",
     "text": [
      "\r",
      "210it [00:26,  6.24it/s]"
     ]
    },
    {
     "name": "stdout",
     "output_type": "stream",
     "text": [
      "Processing epoch : 211 / 279\n",
      "combining the current components...\n"
     ]
    },
    {
     "name": "stderr",
     "output_type": "stream",
     "text": [
      "\r",
      "211it [00:26,  6.21it/s]"
     ]
    },
    {
     "name": "stdout",
     "output_type": "stream",
     "text": [
      "Processing epoch : 212 / 279\n",
      "combining the current components...\n"
     ]
    },
    {
     "name": "stderr",
     "output_type": "stream",
     "text": [
      "\r",
      "212it [00:27,  5.31it/s]"
     ]
    },
    {
     "name": "stdout",
     "output_type": "stream",
     "text": [
      "Processing epoch : 213 / 279\n",
      "combining the current components...\n"
     ]
    },
    {
     "name": "stderr",
     "output_type": "stream",
     "text": [
      "\r",
      "213it [00:27,  5.78it/s]"
     ]
    },
    {
     "name": "stdout",
     "output_type": "stream",
     "text": [
      "Processing epoch : 214 / 279\n",
      "combining the current components...\n"
     ]
    },
    {
     "name": "stderr",
     "output_type": "stream",
     "text": [
      "\r",
      "214it [00:27,  5.72it/s]"
     ]
    },
    {
     "name": "stdout",
     "output_type": "stream",
     "text": [
      "Processing epoch : 215 / 279\n",
      "combining the current components...\n"
     ]
    },
    {
     "name": "stderr",
     "output_type": "stream",
     "text": [
      "\r",
      "215it [00:27,  5.41it/s]"
     ]
    },
    {
     "name": "stdout",
     "output_type": "stream",
     "text": [
      "Processing epoch : 216 / 279\n",
      "combining the current components...\n"
     ]
    },
    {
     "name": "stderr",
     "output_type": "stream",
     "text": [
      "\r",
      "216it [00:27,  4.93it/s]"
     ]
    },
    {
     "name": "stdout",
     "output_type": "stream",
     "text": [
      "Processing epoch : 217 / 279\n",
      "combining the current components...\n"
     ]
    },
    {
     "name": "stderr",
     "output_type": "stream",
     "text": [
      "\r",
      "217it [00:28,  4.55it/s]"
     ]
    },
    {
     "name": "stdout",
     "output_type": "stream",
     "text": [
      "Processing epoch : 218 / 279\n",
      "combining the current components...\n"
     ]
    },
    {
     "name": "stderr",
     "output_type": "stream",
     "text": [
      "\r",
      "218it [00:28,  4.71it/s]"
     ]
    },
    {
     "name": "stdout",
     "output_type": "stream",
     "text": [
      "Processing epoch : 219 / 279\n",
      "combining the current components...\n"
     ]
    },
    {
     "name": "stderr",
     "output_type": "stream",
     "text": [
      "\r",
      "219it [00:28,  4.52it/s]"
     ]
    },
    {
     "name": "stdout",
     "output_type": "stream",
     "text": [
      "Processing epoch : 220 / 279\n",
      "combining the current components...\n"
     ]
    },
    {
     "name": "stderr",
     "output_type": "stream",
     "text": [
      "\r",
      "220it [00:28,  4.97it/s]"
     ]
    },
    {
     "name": "stdout",
     "output_type": "stream",
     "text": [
      "Processing epoch : 221 / 279\n",
      "combining the current components...\n"
     ]
    },
    {
     "name": "stderr",
     "output_type": "stream",
     "text": [
      "\r",
      "221it [00:28,  5.23it/s]"
     ]
    },
    {
     "name": "stdout",
     "output_type": "stream",
     "text": [
      "Processing epoch : 222 / 279\n",
      "combining the current components...\n"
     ]
    },
    {
     "name": "stderr",
     "output_type": "stream",
     "text": [
      "\r",
      "222it [00:29,  5.29it/s]"
     ]
    },
    {
     "name": "stdout",
     "output_type": "stream",
     "text": [
      "Processing epoch : 223 / 279\n",
      "combining the current components...\n"
     ]
    },
    {
     "name": "stderr",
     "output_type": "stream",
     "text": [
      "\r",
      "223it [00:29,  4.81it/s]"
     ]
    },
    {
     "name": "stdout",
     "output_type": "stream",
     "text": [
      "Processing epoch : 224 / 279\n",
      "combining the current components...\n"
     ]
    },
    {
     "name": "stderr",
     "output_type": "stream",
     "text": [
      "\r",
      "224it [00:29,  4.57it/s]"
     ]
    },
    {
     "name": "stdout",
     "output_type": "stream",
     "text": [
      "Processing epoch : 225 / 279\n",
      "combining the current components...\n"
     ]
    },
    {
     "name": "stderr",
     "output_type": "stream",
     "text": [
      "\r",
      "225it [00:29,  4.40it/s]"
     ]
    },
    {
     "name": "stdout",
     "output_type": "stream",
     "text": [
      "Processing epoch : 226 / 279\n",
      "combining the current components...\n"
     ]
    },
    {
     "name": "stderr",
     "output_type": "stream",
     "text": [
      "\r",
      "226it [00:30,  4.24it/s]"
     ]
    },
    {
     "name": "stdout",
     "output_type": "stream",
     "text": [
      "Processing epoch : 227 / 279\n",
      "combining the current components...\n"
     ]
    },
    {
     "name": "stderr",
     "output_type": "stream",
     "text": [
      "\r",
      "227it [00:30,  4.30it/s]"
     ]
    },
    {
     "name": "stdout",
     "output_type": "stream",
     "text": [
      "Processing epoch : 228 / 279\n",
      "combining the current components...\n"
     ]
    },
    {
     "name": "stderr",
     "output_type": "stream",
     "text": [
      "\r",
      "228it [00:30,  4.61it/s]"
     ]
    },
    {
     "name": "stdout",
     "output_type": "stream",
     "text": [
      "Processing epoch : 229 / 279\n",
      "combining the current components...\n"
     ]
    },
    {
     "name": "stderr",
     "output_type": "stream",
     "text": [
      "\r",
      "229it [00:30,  4.81it/s]"
     ]
    },
    {
     "name": "stdout",
     "output_type": "stream",
     "text": [
      "Processing epoch : 230 / 279\n",
      "combining the current components...\n"
     ]
    },
    {
     "name": "stderr",
     "output_type": "stream",
     "text": [
      "\r",
      "230it [00:30,  5.14it/s]"
     ]
    },
    {
     "name": "stdout",
     "output_type": "stream",
     "text": [
      "Processing epoch : 231 / 279\n",
      "combining the current components...\n"
     ]
    },
    {
     "name": "stderr",
     "output_type": "stream",
     "text": [
      "\r",
      "231it [00:31,  4.97it/s]"
     ]
    },
    {
     "name": "stdout",
     "output_type": "stream",
     "text": [
      "Processing epoch : 232 / 279\n",
      "combining the current components...\n"
     ]
    },
    {
     "name": "stderr",
     "output_type": "stream",
     "text": [
      "\r",
      "232it [00:31,  5.09it/s]"
     ]
    },
    {
     "name": "stdout",
     "output_type": "stream",
     "text": [
      "Processing epoch : 233 / 279\n",
      "combining the current components...\n"
     ]
    },
    {
     "name": "stderr",
     "output_type": "stream",
     "text": [
      "\r",
      "233it [00:31,  4.71it/s]"
     ]
    },
    {
     "name": "stdout",
     "output_type": "stream",
     "text": [
      "Processing epoch : 234 / 279\n",
      "combining the current components...\n"
     ]
    },
    {
     "name": "stderr",
     "output_type": "stream",
     "text": [
      "\r",
      "234it [00:31,  4.42it/s]"
     ]
    },
    {
     "name": "stdout",
     "output_type": "stream",
     "text": [
      "Processing epoch : 235 / 279\n",
      "combining the current components...\n"
     ]
    },
    {
     "name": "stderr",
     "output_type": "stream",
     "text": [
      "\r",
      "235it [00:32,  4.27it/s]"
     ]
    },
    {
     "name": "stdout",
     "output_type": "stream",
     "text": [
      "Processing epoch : 236 / 279\n",
      "combining the current components...\n"
     ]
    },
    {
     "name": "stderr",
     "output_type": "stream",
     "text": [
      "\r",
      "236it [00:32,  4.70it/s]"
     ]
    },
    {
     "name": "stdout",
     "output_type": "stream",
     "text": [
      "Processing epoch : 237 / 279\n",
      "combining the current components...\n"
     ]
    },
    {
     "name": "stderr",
     "output_type": "stream",
     "text": [
      "\r",
      "237it [00:32,  4.92it/s]"
     ]
    },
    {
     "name": "stdout",
     "output_type": "stream",
     "text": [
      "Processing epoch : 238 / 279\n",
      "combining the current components...\n"
     ]
    },
    {
     "name": "stderr",
     "output_type": "stream",
     "text": [
      "\r",
      "238it [00:32,  4.67it/s]"
     ]
    },
    {
     "name": "stdout",
     "output_type": "stream",
     "text": [
      "Processing epoch : 239 / 279\n",
      "combining the current components...\n"
     ]
    },
    {
     "name": "stderr",
     "output_type": "stream",
     "text": [
      "\r",
      "239it [00:32,  4.80it/s]"
     ]
    },
    {
     "name": "stdout",
     "output_type": "stream",
     "text": [
      "Processing epoch : 240 / 279\n",
      "combining the current components...\n"
     ]
    },
    {
     "name": "stderr",
     "output_type": "stream",
     "text": [
      "\r",
      "240it [00:32,  5.32it/s]"
     ]
    },
    {
     "name": "stdout",
     "output_type": "stream",
     "text": [
      "Processing epoch : 241 / 279\n",
      "combining the current components...\n"
     ]
    },
    {
     "name": "stderr",
     "output_type": "stream",
     "text": [
      "\r",
      "241it [00:33,  5.25it/s]"
     ]
    },
    {
     "name": "stdout",
     "output_type": "stream",
     "text": [
      "Processing epoch : 242 / 279\n",
      "combining the current components...\n"
     ]
    },
    {
     "name": "stderr",
     "output_type": "stream",
     "text": [
      "\r",
      "242it [00:33,  5.24it/s]"
     ]
    },
    {
     "name": "stdout",
     "output_type": "stream",
     "text": [
      "Processing epoch : 243 / 279\n",
      "combining the current components...\n"
     ]
    },
    {
     "name": "stderr",
     "output_type": "stream",
     "text": [
      "\r",
      "243it [00:33,  5.19it/s]"
     ]
    },
    {
     "name": "stdout",
     "output_type": "stream",
     "text": [
      "Processing epoch : 244 / 279\n",
      "combining the current components...\n"
     ]
    },
    {
     "name": "stderr",
     "output_type": "stream",
     "text": [
      "\r",
      "244it [00:33,  4.71it/s]"
     ]
    },
    {
     "name": "stdout",
     "output_type": "stream",
     "text": [
      "Processing epoch : 245 / 279\n",
      "combining the current components...\n"
     ]
    },
    {
     "name": "stderr",
     "output_type": "stream",
     "text": [
      "\r",
      "245it [00:34,  4.48it/s]"
     ]
    },
    {
     "name": "stdout",
     "output_type": "stream",
     "text": [
      "Processing epoch : 246 / 279\n",
      "combining the current components...\n"
     ]
    },
    {
     "name": "stderr",
     "output_type": "stream",
     "text": [
      "\r",
      "246it [00:34,  4.33it/s]"
     ]
    },
    {
     "name": "stdout",
     "output_type": "stream",
     "text": [
      "Processing epoch : 247 / 279\n",
      "combining the current components...\n"
     ]
    },
    {
     "name": "stderr",
     "output_type": "stream",
     "text": [
      "\r",
      "247it [00:34,  4.22it/s]"
     ]
    },
    {
     "name": "stdout",
     "output_type": "stream",
     "text": [
      "Processing epoch : 248 / 279\n",
      "combining the current components...\n"
     ]
    },
    {
     "name": "stderr",
     "output_type": "stream",
     "text": [
      "\r",
      "248it [00:34,  4.20it/s]"
     ]
    },
    {
     "name": "stdout",
     "output_type": "stream",
     "text": [
      "Processing epoch : 249 / 279\n",
      "combining the current components...\n"
     ]
    },
    {
     "name": "stderr",
     "output_type": "stream",
     "text": [
      "\r",
      "249it [00:35,  4.11it/s]"
     ]
    },
    {
     "name": "stdout",
     "output_type": "stream",
     "text": [
      "Processing epoch : 250 / 279\n",
      "combining the current components...\n"
     ]
    },
    {
     "name": "stderr",
     "output_type": "stream",
     "text": [
      "\r",
      "250it [00:35,  4.07it/s]"
     ]
    },
    {
     "name": "stdout",
     "output_type": "stream",
     "text": [
      "Processing epoch : 251 / 279\n",
      "combining the current components...\n"
     ]
    },
    {
     "name": "stderr",
     "output_type": "stream",
     "text": [
      "\r",
      "251it [00:35,  4.26it/s]"
     ]
    },
    {
     "name": "stdout",
     "output_type": "stream",
     "text": [
      "Processing epoch : 252 / 279\n",
      "combining the current components...\n"
     ]
    },
    {
     "name": "stderr",
     "output_type": "stream",
     "text": [
      "\r",
      "252it [00:35,  4.26it/s]"
     ]
    },
    {
     "name": "stdout",
     "output_type": "stream",
     "text": [
      "Processing epoch : 253 / 279\n",
      "combining the current components...\n"
     ]
    },
    {
     "name": "stderr",
     "output_type": "stream",
     "text": [
      "\r",
      "253it [00:36,  4.19it/s]"
     ]
    },
    {
     "name": "stdout",
     "output_type": "stream",
     "text": [
      "Processing epoch : 254 / 279\n",
      "combining the current components...\n"
     ]
    },
    {
     "name": "stderr",
     "output_type": "stream",
     "text": [
      "\r",
      "254it [00:36,  4.86it/s]"
     ]
    },
    {
     "name": "stdout",
     "output_type": "stream",
     "text": [
      "Processing epoch : 255 / 279\n",
      "combining the current components...\n"
     ]
    },
    {
     "name": "stderr",
     "output_type": "stream",
     "text": [
      "\r",
      "255it [00:36,  4.95it/s]"
     ]
    },
    {
     "name": "stdout",
     "output_type": "stream",
     "text": [
      "Processing epoch : 256 / 279\n",
      "combining the current components...\n"
     ]
    },
    {
     "name": "stderr",
     "output_type": "stream",
     "text": [
      "\r",
      "256it [00:36,  5.25it/s]"
     ]
    },
    {
     "name": "stdout",
     "output_type": "stream",
     "text": [
      "Processing epoch : 257 / 279\n",
      "combining the current components...\n"
     ]
    },
    {
     "name": "stderr",
     "output_type": "stream",
     "text": [
      "\r",
      "257it [00:36,  4.90it/s]"
     ]
    },
    {
     "name": "stdout",
     "output_type": "stream",
     "text": [
      "Processing epoch : 258 / 279\n",
      "combining the current components...\n"
     ]
    },
    {
     "name": "stderr",
     "output_type": "stream",
     "text": [
      "\r",
      "258it [00:36,  4.66it/s]"
     ]
    },
    {
     "name": "stdout",
     "output_type": "stream",
     "text": [
      "Processing epoch : 259 / 279\n",
      "combining the current components...\n"
     ]
    },
    {
     "name": "stderr",
     "output_type": "stream",
     "text": [
      "\r",
      "259it [00:37,  5.00it/s]"
     ]
    },
    {
     "name": "stdout",
     "output_type": "stream",
     "text": [
      "Processing epoch : 260 / 279\n",
      "combining the current components...\n"
     ]
    },
    {
     "name": "stderr",
     "output_type": "stream",
     "text": [
      "\r",
      "260it [00:37,  5.07it/s]"
     ]
    },
    {
     "name": "stdout",
     "output_type": "stream",
     "text": [
      "Processing epoch : 261 / 279\n",
      "combining the current components...\n"
     ]
    },
    {
     "name": "stderr",
     "output_type": "stream",
     "text": [
      "\r",
      "261it [00:37,  5.22it/s]"
     ]
    },
    {
     "name": "stdout",
     "output_type": "stream",
     "text": [
      "Processing epoch : 262 / 279\n",
      "combining the current components...\n"
     ]
    },
    {
     "name": "stderr",
     "output_type": "stream",
     "text": [
      "\r",
      "262it [00:37,  5.52it/s]"
     ]
    },
    {
     "name": "stdout",
     "output_type": "stream",
     "text": [
      "Processing epoch : 263 / 279\n",
      "combining the current components...\n"
     ]
    },
    {
     "name": "stderr",
     "output_type": "stream",
     "text": [
      "\r",
      "263it [00:37,  5.29it/s]"
     ]
    },
    {
     "name": "stdout",
     "output_type": "stream",
     "text": [
      "Processing epoch : 264 / 279\n",
      "combining the current components...\n"
     ]
    },
    {
     "name": "stderr",
     "output_type": "stream",
     "text": [
      "\r",
      "264it [00:38,  5.46it/s]"
     ]
    },
    {
     "name": "stdout",
     "output_type": "stream",
     "text": [
      "Processing epoch : 265 / 279\n",
      "combining the current components...\n"
     ]
    },
    {
     "name": "stderr",
     "output_type": "stream",
     "text": [
      "\r",
      "265it [00:38,  5.45it/s]"
     ]
    },
    {
     "name": "stdout",
     "output_type": "stream",
     "text": [
      "Processing epoch : 266 / 279\n",
      "combining the current components...\n"
     ]
    },
    {
     "name": "stderr",
     "output_type": "stream",
     "text": [
      "\r",
      "266it [00:38,  5.31it/s]"
     ]
    },
    {
     "name": "stdout",
     "output_type": "stream",
     "text": [
      "Processing epoch : 267 / 279\n",
      "combining the current components...\n"
     ]
    },
    {
     "name": "stderr",
     "output_type": "stream",
     "text": [
      "\r",
      "267it [00:38,  5.56it/s]"
     ]
    },
    {
     "name": "stdout",
     "output_type": "stream",
     "text": [
      "Processing epoch : 268 / 279\n",
      "combining the current components...\n"
     ]
    },
    {
     "name": "stderr",
     "output_type": "stream",
     "text": [
      "\r",
      "268it [00:38,  5.38it/s]"
     ]
    },
    {
     "name": "stdout",
     "output_type": "stream",
     "text": [
      "Processing epoch : 269 / 279\n",
      "combining the current components...\n"
     ]
    },
    {
     "name": "stderr",
     "output_type": "stream",
     "text": [
      "\r",
      "269it [00:38,  5.34it/s]"
     ]
    },
    {
     "name": "stdout",
     "output_type": "stream",
     "text": [
      "Processing epoch : 270 / 279\n",
      "combining the current components...\n"
     ]
    },
    {
     "name": "stderr",
     "output_type": "stream",
     "text": [
      "\r",
      "270it [00:39,  5.32it/s]"
     ]
    },
    {
     "name": "stdout",
     "output_type": "stream",
     "text": [
      "Processing epoch : 271 / 279\n",
      "combining the current components...\n"
     ]
    },
    {
     "name": "stderr",
     "output_type": "stream",
     "text": [
      "\r",
      "271it [00:39,  5.08it/s]"
     ]
    },
    {
     "name": "stdout",
     "output_type": "stream",
     "text": [
      "Processing epoch : 272 / 279\n",
      "combining the current components...\n"
     ]
    },
    {
     "name": "stderr",
     "output_type": "stream",
     "text": [
      "\r",
      "272it [00:39,  5.04it/s]"
     ]
    },
    {
     "name": "stdout",
     "output_type": "stream",
     "text": [
      "Processing epoch : 273 / 279\n",
      "combining the current components...\n"
     ]
    },
    {
     "name": "stderr",
     "output_type": "stream",
     "text": [
      "\r",
      "273it [00:39,  4.71it/s]"
     ]
    },
    {
     "name": "stdout",
     "output_type": "stream",
     "text": [
      "Processing epoch : 274 / 279\n",
      "combining the current components...\n"
     ]
    },
    {
     "name": "stderr",
     "output_type": "stream",
     "text": [
      "\r",
      "274it [00:39,  5.08it/s]"
     ]
    },
    {
     "name": "stdout",
     "output_type": "stream",
     "text": [
      "Processing epoch : 275 / 279\n",
      "combining the current components...\n"
     ]
    },
    {
     "name": "stderr",
     "output_type": "stream",
     "text": [
      "\r",
      "275it [00:40,  5.00it/s]"
     ]
    },
    {
     "name": "stdout",
     "output_type": "stream",
     "text": [
      "Processing epoch : 276 / 279\n",
      "combining the current components...\n"
     ]
    },
    {
     "name": "stderr",
     "output_type": "stream",
     "text": [
      "\r",
      "276it [00:40,  5.12it/s]"
     ]
    },
    {
     "name": "stdout",
     "output_type": "stream",
     "text": [
      "Processing epoch : 277 / 279\n",
      "combining the current components...\n"
     ]
    },
    {
     "name": "stderr",
     "output_type": "stream",
     "text": [
      "\r",
      "277it [00:40,  5.31it/s]"
     ]
    },
    {
     "name": "stdout",
     "output_type": "stream",
     "text": [
      "Processing epoch : 278 / 279\n",
      "combining the current components...\n"
     ]
    },
    {
     "name": "stderr",
     "output_type": "stream",
     "text": [
      "\r",
      "278it [00:40,  5.48it/s]"
     ]
    },
    {
     "name": "stdout",
     "output_type": "stream",
     "text": [
      "Processing epoch : 279 / 279\n",
      "combining the current components...\n"
     ]
    },
    {
     "name": "stderr",
     "output_type": "stream",
     "text": [
      "279it [00:40,  6.82it/s]\n"
     ]
    },
    {
     "name": "stdout",
     "output_type": "stream",
     "text": [
      "Applying sign flip for label grouping.\n",
      "\n"
     ]
    }
   ],
   "source": [
    "subject_dir = Path(os.environ[\"SUBJECTS_DIR\"])\n",
    "\n",
    "recompute_smodel = False\n",
    "recompute_fmodel = False\n",
    "recompute_sources = False\n",
    "model_type=\"average\"\n",
    "inv_method=\"dSPM\"\n",
    "snr=1.0\n",
    "lambda2=None\n",
    "\n",
    "template = \"fsaverage\"\n",
    "fs_subject = template\n",
    "derivative_name=\"template_validation_\" + template\n",
    "for recording_name in tqdm(recording_names):    \n",
    "    recording = dataset_mng.dataset.recordings[recording_name]\n",
    "\n",
    "    try:\n",
    "        recording.get_artifact(\"events\", recompute=True)                \n",
    "        recording.get_artifact(\"epochs\", recompute=True)\n",
    "    except FileNotFoundError as e:\n",
    "        continue\n",
    "\n",
    "    recording.montage = mne.channels.make_standard_montage(\"GSN-HydroCel-129\")\n",
    "\n",
    "    smodel = recording.subject.add_smodel(name=fs_subject, fs_subject=fs_subject,\n",
    "                                          type_=model_type, exists=\"return\")\n",
    "    if recompute_smodel:\n",
    "        smodel.recompute()\n",
    "\n",
    "    print(fs_subject)\n",
    "    fmodel = recording.add_fmodel(smodel, name=fs_subject, exists=\"return\")\n",
    "    #if fname_trans is not None:\n",
    "    #    fmodel.fname_trans = fname_trans\n",
    "    if recompute_fmodel:\n",
    "        try:\n",
    "            fmodel.recompute()\n",
    "        except FileNotFoundError as e:\n",
    "            print(e)\n",
    "            print(\"Skipping {}. It seems not to be available in lossless qcr version.\".format(recording_name))\n",
    "            continue\n",
    "\n",
    "    if dataset_mng.dataset_config[\"is_bids\"]:\n",
    "        sources = SourcesBIDS(fmodel, snr=snr, lambda2=lambda2, method=inv_method,\n",
    "                              derivative_name=derivative_name)\n",
    "    else:\n",
    "        sources = Sources(fmodel, snr=snr, lambda2=lambda2, method=inv_method)\n",
    "\n",
    "    if recompute_sources:            \n",
    "        sources.get_data(recompute=True, type_=\"all\")\n",
    "\n",
    "\n",
    "    # Save label stats\n",
    "    sources.compute_labels(recompute=recompute_sources, no_epochs=None)\n",
    "\n",
    "    data = sources.get_data(type_=\"labels\")            \n",
    "\n",
    "\n",
    "    data -= data.mean(\"times\")  # De-meaning time series\n",
    "\n",
    "    inv_event_id = {val:key for key, val in recording.epochs.event_id.items()}\n",
    "    event_strs = np.array([inv_event_id[id_] for id_ in recording.epochs.events[:, 2]])    \n",
    "    \n",
    "    recording.flush()\n",
    "    fmodel.flush()\n",
    "    sources.flush()\n",
    "\n",
    "    for event_str in np.unique(event_strs):\n",
    "        epochs_no = np.where(event_strs == event_str)[0] \n",
    "\n",
    "        file_path = template_check_path / \"{}_{}_{}_mean.netcdf\".format(recording_name, event_str, template)\n",
    "        data.sel(epochs=epochs_no).mean(\"epochs\").to_netcdf(file_path, mode= 'w')\n",
    "\n",
    "        file_path = template_check_path / \"{}_{}_{}_std.netcdf\".format(recording_name, event_str, template)\n",
    "        data.sel(epochs=epochs_no).std(\"epochs\").to_netcdf(file_path, mode= 'w')\n",
    "\n",
    "    # Removing full source from the hard drive for space reasons \n",
    "    sources.delete_sources()\n",
    "    \n",
    "    # No need to recompute the smodel for every recordings since it does not depend on the \n",
    "    # recording\n",
    "    recompute_smodel = False         \n"
   ]
  },
  {
   "cell_type": "code",
   "execution_count": null,
   "metadata": {},
   "outputs": [],
   "source": []
  }
 ],
 "metadata": {
  "kernelspec": {
   "display_name": "Python 3",
   "language": "python",
   "name": "python3"
  },
  "language_info": {
   "codemirror_mode": {
    "name": "ipython",
    "version": 3
   },
   "file_extension": ".py",
   "mimetype": "text/x-python",
   "name": "python",
   "nbconvert_exporter": "python",
   "pygments_lexer": "ipython3",
   "version": "3.7.7"
  }
 },
 "nbformat": 4,
 "nbformat_minor": 2
}
